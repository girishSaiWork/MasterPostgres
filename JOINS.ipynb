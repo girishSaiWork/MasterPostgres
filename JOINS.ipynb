{
    "metadata": {
        "kernelspec": {
            "name": "SQL",
            "display_name": "SQL",
            "language": "sql"
        },
        "language_info": {
            "name": "sql",
            "version": ""
        }
    },
    "nbformat_minor": 2,
    "nbformat": 4,
    "cells": [
        {
            "cell_type": "markdown",
            "source": [
                "# **JOINS**\n",
                "\n",
                "In SQL, `JOIN` operations are used to combine rows from two or more tables based on a related column between them. Here’s an overview of the different types of joins and how they work:\n",
                "\n",
                "### 1\\. **INNER JOIN**\n",
                "\n",
                "- **Description**: Retrieves records that have matching values in both tables.\n",
                "- **Use Case**: When you want to get records where there is a relationship between the tables.\n",
                "- **Syntax**\n",
                "\n",
                "```\n",
                "SELECT columns\n",
                "FROM table1\n",
                "INNER JOIN table2 ON table1.column = table2.column;\n",
                "\n",
                "```\n",
                "\n",
                "### 2\\. **LEFT JOIN (or LEFT OUTER JOIN)**\n",
                "\n",
                "- **Description**: Retrieves all records from the left table and the matched records from the right table. Non-matching rows from the right table will contain `NULL`.\n",
                "- **Use Case**: When you want to include all rows from the left table, regardless of whether there is a match in the right table.\n",
                "- **Syntax**\n",
                "\n",
                "```\n",
                "SELECT columns\n",
                "FROM table1\n",
                "LEFT JOIN table2 ON table1.column = table2.column;\n",
                "\n",
                "```\n",
                "\n",
                "### 3\\. **RIGHT JOIN (or RIGHT OUTER JOIN)**\n",
                "\n",
                "- **Description**: Retrieves all records from the right table and the matched records from the left table. Non-matching rows from the left table will contain `NULL`.\n",
                "- **Use Case**: When you want to include all rows from the right table, regardless of whether there is a match in the left table.\n",
                "- **Syntax**\n",
                "\n",
                "```\n",
                "SELECT columns\n",
                "FROM table1\n",
                "RIGHT JOIN table2 ON table1.column = table2.column;\n",
                "\n",
                "```\n",
                "\n",
                "### 4\\. **FULL JOIN (or FULL OUTER JOIN)**\n",
                "\n",
                "- **Description**: Retrieves records when there is a match in either left or right table. Non-matching rows from both tables will contain `NULL`.\n",
                "- **Use Case**: When you want to include all rows from both tables, with `NULL` for non-matching rows.\n",
                "- **Syntax**\n",
                "\n",
                "```\n",
                "SELECT columns\n",
                "FROM table1\n",
                "FULL JOIN table2 ON table1.column = table2.column;\n",
                "\n",
                "```\n",
                "\n",
                "### 5\\. **CROSS JOIN**\n",
                "\n",
                "- **Description**: Retrieves the Cartesian product of the two tables, meaning it returns all possible combinations of rows.\n",
                "- **Use Case**: When you need to combine every row from the first table with every row from the second table.\n",
                "- **Syntax**\n",
                "\n",
                "```\n",
                "SELECT columns\n",
                "FROM table1\n",
                "CROSS JOIN table2;\n",
                "\n",
                "```\n",
                "\n",
                "### 6\\. **SELF JOIN**\n",
                "\n",
                "- **Description**: Joins a table with itself. This is useful for hierarchical data or when you need to compare rows within the same table.\n",
                "- **Use Case**: When you need to compare or relate rows within the same table.\n",
                "- **Syntax**\n",
                "\n",
                "```\n",
                "SELECT a.columns, b.columns\n",
                "FROM table a\n",
                "INNER JOIN table b ON a.column = b.column;\n",
                "\n",
                "```\n",
                "\n",
                "### Example Scenarios\n",
                "\n",
                "#### INNER JOIN Example:"
            ],
            "metadata": {
                "azdata_cell_guid": "4936b945-a75e-4983-bab7-2c90d3bcaa34"
            },
            "attachments": {}
        },
        {
            "cell_type": "code",
            "source": [
                "SELECT f.title, c.name\r\n",
                "FROM film f\r\n",
                "INNER JOIN film_category fc ON f.film_id = fc.film_id\r\n",
                "INNER JOIN category c ON fc.category_id = c.category_id;"
            ],
            "metadata": {
                "azdata_cell_guid": "ba2649cd-97c8-4343-aa4c-4b138df15961",
                "language": "sql"
            },
            "outputs": [],
            "execution_count": null
        },
        {
            "cell_type": "markdown",
            "source": [
                "- **Description**: Retrieves film titles and their categories where the film is in the category.\n",
                "\n",
                "#### LEFT JOIN Example:"
            ],
            "metadata": {
                "azdata_cell_guid": "a8a50d0f-8584-4a7f-86a7-339cfb22710a"
            },
            "attachments": {}
        },
        {
            "cell_type": "code",
            "source": [
                "SELECT f.title, c.name\r\n",
                "FROM film f\r\n",
                "LEFT JOIN film_category fc ON f.film_id = fc.film_id\r\n",
                "LEFT JOIN category c ON fc.category_id = c.category_id;\r\n",
                ""
            ],
            "metadata": {
                "azdata_cell_guid": "be1dbd18-b1c8-41ab-a2a3-3acf3444d339",
                "language": "sql"
            },
            "outputs": [],
            "execution_count": null
        },
        {
            "cell_type": "markdown",
            "source": [
                "- **Description**: Retrieves all film titles and their categories. Films without categories will show `NULL` for category names.\n",
                "\n",
                "#### FULL JOIN Example:"
            ],
            "metadata": {
                "language": "sql",
                "azdata_cell_guid": "3c5453b8-b539-4146-8657-a402fc67544e"
            },
            "attachments": {}
        },
        {
            "cell_type": "code",
            "source": [
                "SELECT a.title, b.name\r\n",
                "FROM film a\r\n",
                "FULL JOIN category b ON a.category_id = b.category_id;"
            ],
            "metadata": {
                "language": "sql",
                "azdata_cell_guid": "40661404-827d-41ad-84b9-8319aa2d3ae7"
            },
            "outputs": [],
            "execution_count": null
        },
        {
            "cell_type": "markdown",
            "source": [
                "- **Description**: Retrieves all films and categories, showing `NULL` where there is no match.\n",
                "\n",
                "### Summary\n",
                "\n",
                "- **INNER JOIN**: Matches records from both tables.\n",
                "- **LEFT JOIN**: Includes all records from the left table and matched records from the right table.\n",
                "- **RIGHT JOIN**: Includes all records from the right table and matched records from the left table.\n",
                "- **FULL JOIN**: Includes all records from both tables.\n",
                "- **CROSS JOIN**: Combines all rows from both tables.\n",
                "- **SELF JOIN**: Joins the table with itself for comparison or hierarchical data.\n",
                "\n",
                "Understanding and using the appropriate join type helps in efficiently retrieving and analyzing relational data from multiple tables.\n",
                "\n",
                "## **Assignment**\n",
                "\n",
                "- Join the `customer` and `rental` tables to find the top 5 customers by total rentals.\n",
                "\n",
                "- Join the `film`, `inventory`, and `rental` tables to determine the most rented film.\n",
                "- Find the total payments made by each customer.\n",
                "\n",
                "### 1\\. **Find the Top 5 Customers by Total Rentals**\n",
                "\n",
                "To find the top 5 customers by the total number of rentals, you need to join the `customer` and `rental` tables, count the rentals per customer, and then sort and limit the results."
            ],
            "metadata": {
                "language": "sql",
                "azdata_cell_guid": "c2a2d8c3-053c-4ad4-bfdb-a96cc0324f7a"
            },
            "attachments": {}
        },
        {
            "cell_type": "code",
            "source": [
                "SELECT c.first_name,\r\n",
                "    c.last_name,\r\n",
                "    COUNT(r.rental_id) AS total_rentals\r\n",
                "FROM \r\n",
                "    customer c\r\n",
                "    INNER JOIN rental r ON c.customer_id = r.customer_id\r\n",
                "GROUP BY \r\n",
                "    c.customer_id, c.first_name, c.last_name\r\n",
                "ORDER BY \r\n",
                "    total_rentals DESC\r\n",
                "LIMIT 5;\r\n",
                ""
            ],
            "metadata": {
                "language": "sql",
                "azdata_cell_guid": "b2a8d438-9536-463a-b42a-ecfa51456355"
            },
            "outputs": [],
            "execution_count": null
        },
        {
            "cell_type": "markdown",
            "source": [
                "Join the `film`, `inventory`, and `rental` tables to determine the most rented film.\n",
                "\n",
                "### 2\\. **Determine the Most Rented Film**\n",
                "\n",
                "To find the most rented film, you need to join the `film`, `inventory`, and `rental` tables, count the rentals per film, and then sort and limit the results."
            ],
            "metadata": {
                "language": "sql",
                "azdata_cell_guid": "abc5cd35-b988-4661-af19-319c4e17edcf"
            },
            "attachments": {}
        },
        {
            "cell_type": "code",
            "source": [
                "SELECT \r\n",
                "    f.title,\r\n",
                "    COUNT(r.rental_id) AS rental_count\r\n",
                "FROM \r\n",
                "    film f\r\n",
                "    INNER JOIN inventory i ON f.film_id = i.film_id\r\n",
                "    INNER JOIN rental r ON i.inventory_id = r.inventory_id\r\n",
                "GROUP BY \r\n",
                "    f.title\r\n",
                "ORDER BY \r\n",
                "    rental_count DESC\r\n",
                "LIMIT 1;\r\n",
                ""
            ],
            "metadata": {
                "language": "sql",
                "azdata_cell_guid": "c635ef91-9385-4140-8603-995d489abae8",
                "tags": []
            },
            "outputs": [],
            "execution_count": null
        },
        {
            "cell_type": "markdown",
            "source": [
                "### <span style=\"font-size: 14px; color: var(--vscode-foreground);\">3. </span> **Find the Total Payments Made by Each Customer**  \n",
                "\n",
                "To calculate the total payments made by each customer, you need to join the `customer` and `payment` tables, sum the payments per customer, and then list the results."
            ],
            "metadata": {
                "language": "sql",
                "azdata_cell_guid": "6e8d6c0d-5ab5-4f3a-bd15-e59d919ad56c"
            },
            "attachments": {}
        },
        {
            "cell_type": "code",
            "source": [
                "SELECT \r\n",
                "    c.customer_id,\r\n",
                "    c.first_name,\r\n",
                "    c.last_name,\r\n",
                "    SUM(p.amount) AS total_payments\r\n",
                "FROM \r\n",
                "    customer c\r\n",
                "    INNER JOIN payment p ON c.customer_id = p.customer_id\r\n",
                "GROUP BY \r\n",
                "    c.customer_id, c.first_name, c.last_name\r\n",
                "ORDER BY \r\n",
                "    total_payments DESC;"
            ],
            "metadata": {
                "language": "sql",
                "azdata_cell_guid": "8203e643-6b83-416f-854d-860ad3e875d6"
            },
            "outputs": [],
            "execution_count": null
        }
    ]
}