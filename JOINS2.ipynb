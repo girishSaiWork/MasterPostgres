{
    "metadata": {
        "kernelspec": {
            "name": "SQL",
            "display_name": "SQL",
            "language": "sql"
        },
        "language_info": {
            "name": "sql",
            "version": ""
        }
    },
    "nbformat_minor": 2,
    "nbformat": 4,
    "cells": [
        {
            "cell_type": "markdown",
            "source": [
                "## <span style=\"color: var(--vscode-foreground);\"><b>Find customers who have rented more than 30 films.</b></span>\n",
                "\n",
                "### <span style=\"color: var(--vscode-foreground);\"><b>Approach 1:</b></span>\n",
                "\n",
                "- **Count** the number of rentals for each customer.\n",
                "- **Filter** the results to include only those customers who have rented more than 30 films."
            ],
            "metadata": {
                "language": "sql",
                "azdata_cell_guid": "00018c9b-931b-4c5a-9660-e69490ad444c"
            },
            "attachments": {}
        },
        {
            "cell_type": "code",
            "source": [
                "SELECT customer_id,\r\n",
                "    COUNT(rental_id) AS rental_count\r\n",
                "FROM \r\n",
                "    rental \r\n",
                "GROUP BY 1\r\n",
                "HAVING \r\n",
                "    COUNT(rental_id) > 30\r\n",
                "ORDER BY 2 DESC"
            ],
            "metadata": {
                "azdata_cell_guid": "3d7da35d-99bd-4750-8d17-f57682ecee50",
                "language": "sql"
            },
            "outputs": [
                {
                    "output_type": "display_data",
                    "data": {
                        "text/html": "(134 row(s) affected)"
                    },
                    "metadata": {}
                },
                {
                    "output_type": "display_data",
                    "data": {
                        "text/html": "Total execution time: 00:00:00.008"
                    },
                    "metadata": {}
                },
                {
                    "output_type": "execute_result",
                    "metadata": {},
                    "execution_count": 16,
                    "data": {
                        "application/vnd.dataresource+json": {
                            "schema": {
                                "fields": [
                                    {
                                        "name": "customer_id"
                                    },
                                    {
                                        "name": "rental_count"
                                    }
                                ]
                            },
                            "data": [
                                {
                                    "customer_id": "148",
                                    "rental_count": "46"
                                },
                                {
                                    "customer_id": "526",
                                    "rental_count": "45"
                                },
                                {
                                    "customer_id": "236",
                                    "rental_count": "42"
                                },
                                {
                                    "customer_id": "144",
                                    "rental_count": "42"
                                },
                                {
                                    "customer_id": "75",
                                    "rental_count": "41"
                                },
                                {
                                    "customer_id": "197",
                                    "rental_count": "40"
                                },
                                {
                                    "customer_id": "469",
                                    "rental_count": "40"
                                },
                                {
                                    "customer_id": "468",
                                    "rental_count": "39"
                                },
                                {
                                    "customer_id": "178",
                                    "rental_count": "39"
                                },
                                {
                                    "customer_id": "137",
                                    "rental_count": "39"
                                },
                                {
                                    "customer_id": "295",
                                    "rental_count": "38"
                                },
                                {
                                    "customer_id": "410",
                                    "rental_count": "38"
                                },
                                {
                                    "customer_id": "5",
                                    "rental_count": "38"
                                },
                                {
                                    "customer_id": "459",
                                    "rental_count": "38"
                                },
                                {
                                    "customer_id": "198",
                                    "rental_count": "37"
                                },
                                {
                                    "customer_id": "366",
                                    "rental_count": "37"
                                },
                                {
                                    "customer_id": "257",
                                    "rental_count": "37"
                                },
                                {
                                    "customer_id": "176",
                                    "rental_count": "37"
                                },
                                {
                                    "customer_id": "354",
                                    "rental_count": "36"
                                },
                                {
                                    "customer_id": "380",
                                    "rental_count": "36"
                                },
                                {
                                    "customer_id": "348",
                                    "rental_count": "36"
                                },
                                {
                                    "customer_id": "267",
                                    "rental_count": "36"
                                },
                                {
                                    "customer_id": "29",
                                    "rental_count": "36"
                                },
                                {
                                    "customer_id": "439",
                                    "rental_count": "36"
                                },
                                {
                                    "customer_id": "371",
                                    "rental_count": "35"
                                },
                                {
                                    "customer_id": "403",
                                    "rental_count": "35"
                                },
                                {
                                    "customer_id": "50",
                                    "rental_count": "35"
                                },
                                {
                                    "customer_id": "91",
                                    "rental_count": "35"
                                },
                                {
                                    "customer_id": "368",
                                    "rental_count": "35"
                                },
                                {
                                    "customer_id": "274",
                                    "rental_count": "35"
                                },
                                {
                                    "customer_id": "381",
                                    "rental_count": "35"
                                },
                                {
                                    "customer_id": "273",
                                    "rental_count": "35"
                                },
                                {
                                    "customer_id": "506",
                                    "rental_count": "35"
                                },
                                {
                                    "customer_id": "21",
                                    "rental_count": "35"
                                },
                                {
                                    "customer_id": "373",
                                    "rental_count": "35"
                                },
                                {
                                    "customer_id": "204",
                                    "rental_count": "35"
                                },
                                {
                                    "customer_id": "196",
                                    "rental_count": "35"
                                },
                                {
                                    "customer_id": "473",
                                    "rental_count": "34"
                                },
                                {
                                    "customer_id": "502",
                                    "rental_count": "34"
                                },
                                {
                                    "customer_id": "119",
                                    "rental_count": "34"
                                },
                                {
                                    "customer_id": "66",
                                    "rental_count": "34"
                                },
                                {
                                    "customer_id": "241",
                                    "rental_count": "34"
                                },
                                {
                                    "customer_id": "566",
                                    "rental_count": "34"
                                },
                                {
                                    "customer_id": "46",
                                    "rental_count": "34"
                                },
                                {
                                    "customer_id": "129",
                                    "rental_count": "34"
                                },
                                {
                                    "customer_id": "211",
                                    "rental_count": "34"
                                },
                                {
                                    "customer_id": "30",
                                    "rental_count": "34"
                                },
                                {
                                    "customer_id": "360",
                                    "rental_count": "34"
                                },
                                {
                                    "customer_id": "372",
                                    "rental_count": "34"
                                },
                                {
                                    "customer_id": "138",
                                    "rental_count": "34"
                                },
                                {
                                    "customer_id": "576",
                                    "rental_count": "34"
                                },
                                {
                                    "customer_id": "239",
                                    "rental_count": "34"
                                },
                                {
                                    "customer_id": "168",
                                    "rental_count": "34"
                                },
                                {
                                    "customer_id": "38",
                                    "rental_count": "34"
                                },
                                {
                                    "customer_id": "207",
                                    "rental_count": "34"
                                },
                                {
                                    "customer_id": "26",
                                    "rental_count": "34"
                                },
                                {
                                    "customer_id": "181",
                                    "rental_count": "34"
                                },
                                {
                                    "customer_id": "147",
                                    "rental_count": "34"
                                },
                                {
                                    "customer_id": "237",
                                    "rental_count": "33"
                                },
                                {
                                    "customer_id": "86",
                                    "rental_count": "33"
                                },
                                {
                                    "customer_id": "438",
                                    "rental_count": "33"
                                },
                                {
                                    "customer_id": "84",
                                    "rental_count": "33"
                                },
                                {
                                    "customer_id": "522",
                                    "rental_count": "33"
                                },
                                {
                                    "customer_id": "172",
                                    "rental_count": "33"
                                },
                                {
                                    "customer_id": "390",
                                    "rental_count": "33"
                                },
                                {
                                    "customer_id": "314",
                                    "rental_count": "33"
                                },
                                {
                                    "customer_id": "462",
                                    "rental_count": "33"
                                },
                                {
                                    "customer_id": "454",
                                    "rental_count": "33"
                                },
                                {
                                    "customer_id": "64",
                                    "rental_count": "33"
                                },
                                {
                                    "customer_id": "297",
                                    "rental_count": "33"
                                },
                                {
                                    "customer_id": "230",
                                    "rental_count": "33"
                                },
                                {
                                    "customer_id": "7",
                                    "rental_count": "33"
                                },
                                {
                                    "customer_id": "451",
                                    "rental_count": "33"
                                },
                                {
                                    "customer_id": "114",
                                    "rental_count": "33"
                                },
                                {
                                    "customer_id": "102",
                                    "rental_count": "33"
                                },
                                {
                                    "customer_id": "533",
                                    "rental_count": "33"
                                },
                                {
                                    "customer_id": "51",
                                    "rental_count": "33"
                                },
                                {
                                    "customer_id": "245",
                                    "rental_count": "32"
                                },
                                {
                                    "customer_id": "405",
                                    "rental_count": "32"
                                },
                                {
                                    "customer_id": "535",
                                    "rental_count": "32"
                                },
                                {
                                    "customer_id": "15",
                                    "rental_count": "32"
                                },
                                {
                                    "customer_id": "28",
                                    "rental_count": "32"
                                },
                                {
                                    "customer_id": "209",
                                    "rental_count": "32"
                                },
                                {
                                    "customer_id": "520",
                                    "rental_count": "32"
                                },
                                {
                                    "customer_id": "362",
                                    "rental_count": "32"
                                },
                                {
                                    "customer_id": "120",
                                    "rental_count": "32"
                                },
                                {
                                    "customer_id": "158",
                                    "rental_count": "32"
                                },
                                {
                                    "customer_id": "442",
                                    "rental_count": "32"
                                },
                                {
                                    "customer_id": "242",
                                    "rental_count": "32"
                                },
                                {
                                    "customer_id": "141",
                                    "rental_count": "32"
                                },
                                {
                                    "customer_id": "254",
                                    "rental_count": "32"
                                },
                                {
                                    "customer_id": "342",
                                    "rental_count": "32"
                                },
                                {
                                    "customer_id": "503",
                                    "rental_count": "32"
                                },
                                {
                                    "customer_id": "35",
                                    "rental_count": "32"
                                },
                                {
                                    "customer_id": "550",
                                    "rental_count": "32"
                                },
                                {
                                    "customer_id": "125",
                                    "rental_count": "32"
                                },
                                {
                                    "customer_id": "1",
                                    "rental_count": "32"
                                },
                                {
                                    "customer_id": "128",
                                    "rental_count": "32"
                                },
                                {
                                    "customer_id": "470",
                                    "rental_count": "32"
                                },
                                {
                                    "customer_id": "406",
                                    "rental_count": "32"
                                },
                                {
                                    "customer_id": "259",
                                    "rental_count": "32"
                                },
                                {
                                    "customer_id": "346",
                                    "rental_count": "32"
                                },
                                {
                                    "customer_id": "532",
                                    "rental_count": "32"
                                },
                                {
                                    "customer_id": "277",
                                    "rental_count": "32"
                                },
                                {
                                    "customer_id": "122",
                                    "rental_count": "32"
                                },
                                {
                                    "customer_id": "244",
                                    "rental_count": "32"
                                },
                                {
                                    "customer_id": "167",
                                    "rental_count": "32"
                                },
                                {
                                    "customer_id": "89",
                                    "rental_count": "32"
                                },
                                {
                                    "customer_id": "569",
                                    "rental_count": "32"
                                },
                                {
                                    "customer_id": "452",
                                    "rental_count": "32"
                                },
                                {
                                    "customer_id": "329",
                                    "rental_count": "32"
                                },
                                {
                                    "customer_id": "306",
                                    "rental_count": "32"
                                },
                                {
                                    "customer_id": "513",
                                    "rental_count": "31"
                                },
                                {
                                    "customer_id": "210",
                                    "rental_count": "31"
                                },
                                {
                                    "customer_id": "393",
                                    "rental_count": "31"
                                },
                                {
                                    "customer_id": "251",
                                    "rental_count": "31"
                                },
                                {
                                    "customer_id": "340",
                                    "rental_count": "31"
                                },
                                {
                                    "customer_id": "157",
                                    "rental_count": "31"
                                },
                                {
                                    "customer_id": "361",
                                    "rental_count": "31"
                                },
                                {
                                    "customer_id": "416",
                                    "rental_count": "31"
                                },
                                {
                                    "customer_id": "78",
                                    "rental_count": "31"
                                },
                                {
                                    "customer_id": "214",
                                    "rental_count": "31"
                                },
                                {
                                    "customer_id": "323",
                                    "rental_count": "31"
                                },
                                {
                                    "customer_id": "279",
                                    "rental_count": "31"
                                },
                                {
                                    "customer_id": "446",
                                    "rental_count": "31"
                                },
                                {
                                    "customer_id": "103",
                                    "rental_count": "31"
                                },
                                {
                                    "customer_id": "27",
                                    "rental_count": "31"
                                },
                                {
                                    "customer_id": "186",
                                    "rental_count": "31"
                                },
                                {
                                    "customer_id": "260",
                                    "rental_count": "31"
                                },
                                {
                                    "customer_id": "479",
                                    "rental_count": "31"
                                },
                                {
                                    "customer_id": "293",
                                    "rental_count": "31"
                                },
                                {
                                    "customer_id": "300",
                                    "rental_count": "31"
                                },
                                {
                                    "customer_id": "309",
                                    "rental_count": "31"
                                },
                                {
                                    "customer_id": "494",
                                    "rental_count": "31"
                                }
                            ]
                        },
                        "text/html": [
                            "<table>",
                            "<tr><th>customer_id</th><th>rental_count</th></tr>",
                            "<tr><td>148</td><td>46</td></tr>",
                            "<tr><td>526</td><td>45</td></tr>",
                            "<tr><td>236</td><td>42</td></tr>",
                            "<tr><td>144</td><td>42</td></tr>",
                            "<tr><td>75</td><td>41</td></tr>",
                            "<tr><td>197</td><td>40</td></tr>",
                            "<tr><td>469</td><td>40</td></tr>",
                            "<tr><td>468</td><td>39</td></tr>",
                            "<tr><td>178</td><td>39</td></tr>",
                            "<tr><td>137</td><td>39</td></tr>",
                            "<tr><td>295</td><td>38</td></tr>",
                            "<tr><td>410</td><td>38</td></tr>",
                            "<tr><td>5</td><td>38</td></tr>",
                            "<tr><td>459</td><td>38</td></tr>",
                            "<tr><td>198</td><td>37</td></tr>",
                            "<tr><td>366</td><td>37</td></tr>",
                            "<tr><td>257</td><td>37</td></tr>",
                            "<tr><td>176</td><td>37</td></tr>",
                            "<tr><td>354</td><td>36</td></tr>",
                            "<tr><td>380</td><td>36</td></tr>",
                            "<tr><td>348</td><td>36</td></tr>",
                            "<tr><td>267</td><td>36</td></tr>",
                            "<tr><td>29</td><td>36</td></tr>",
                            "<tr><td>439</td><td>36</td></tr>",
                            "<tr><td>371</td><td>35</td></tr>",
                            "<tr><td>403</td><td>35</td></tr>",
                            "<tr><td>50</td><td>35</td></tr>",
                            "<tr><td>91</td><td>35</td></tr>",
                            "<tr><td>368</td><td>35</td></tr>",
                            "<tr><td>274</td><td>35</td></tr>",
                            "<tr><td>381</td><td>35</td></tr>",
                            "<tr><td>273</td><td>35</td></tr>",
                            "<tr><td>506</td><td>35</td></tr>",
                            "<tr><td>21</td><td>35</td></tr>",
                            "<tr><td>373</td><td>35</td></tr>",
                            "<tr><td>204</td><td>35</td></tr>",
                            "<tr><td>196</td><td>35</td></tr>",
                            "<tr><td>473</td><td>34</td></tr>",
                            "<tr><td>502</td><td>34</td></tr>",
                            "<tr><td>119</td><td>34</td></tr>",
                            "<tr><td>66</td><td>34</td></tr>",
                            "<tr><td>241</td><td>34</td></tr>",
                            "<tr><td>566</td><td>34</td></tr>",
                            "<tr><td>46</td><td>34</td></tr>",
                            "<tr><td>129</td><td>34</td></tr>",
                            "<tr><td>211</td><td>34</td></tr>",
                            "<tr><td>30</td><td>34</td></tr>",
                            "<tr><td>360</td><td>34</td></tr>",
                            "<tr><td>372</td><td>34</td></tr>",
                            "<tr><td>138</td><td>34</td></tr>",
                            "<tr><td>576</td><td>34</td></tr>",
                            "<tr><td>239</td><td>34</td></tr>",
                            "<tr><td>168</td><td>34</td></tr>",
                            "<tr><td>38</td><td>34</td></tr>",
                            "<tr><td>207</td><td>34</td></tr>",
                            "<tr><td>26</td><td>34</td></tr>",
                            "<tr><td>181</td><td>34</td></tr>",
                            "<tr><td>147</td><td>34</td></tr>",
                            "<tr><td>237</td><td>33</td></tr>",
                            "<tr><td>86</td><td>33</td></tr>",
                            "<tr><td>438</td><td>33</td></tr>",
                            "<tr><td>84</td><td>33</td></tr>",
                            "<tr><td>522</td><td>33</td></tr>",
                            "<tr><td>172</td><td>33</td></tr>",
                            "<tr><td>390</td><td>33</td></tr>",
                            "<tr><td>314</td><td>33</td></tr>",
                            "<tr><td>462</td><td>33</td></tr>",
                            "<tr><td>454</td><td>33</td></tr>",
                            "<tr><td>64</td><td>33</td></tr>",
                            "<tr><td>297</td><td>33</td></tr>",
                            "<tr><td>230</td><td>33</td></tr>",
                            "<tr><td>7</td><td>33</td></tr>",
                            "<tr><td>451</td><td>33</td></tr>",
                            "<tr><td>114</td><td>33</td></tr>",
                            "<tr><td>102</td><td>33</td></tr>",
                            "<tr><td>533</td><td>33</td></tr>",
                            "<tr><td>51</td><td>33</td></tr>",
                            "<tr><td>245</td><td>32</td></tr>",
                            "<tr><td>405</td><td>32</td></tr>",
                            "<tr><td>535</td><td>32</td></tr>",
                            "<tr><td>15</td><td>32</td></tr>",
                            "<tr><td>28</td><td>32</td></tr>",
                            "<tr><td>209</td><td>32</td></tr>",
                            "<tr><td>520</td><td>32</td></tr>",
                            "<tr><td>362</td><td>32</td></tr>",
                            "<tr><td>120</td><td>32</td></tr>",
                            "<tr><td>158</td><td>32</td></tr>",
                            "<tr><td>442</td><td>32</td></tr>",
                            "<tr><td>242</td><td>32</td></tr>",
                            "<tr><td>141</td><td>32</td></tr>",
                            "<tr><td>254</td><td>32</td></tr>",
                            "<tr><td>342</td><td>32</td></tr>",
                            "<tr><td>503</td><td>32</td></tr>",
                            "<tr><td>35</td><td>32</td></tr>",
                            "<tr><td>550</td><td>32</td></tr>",
                            "<tr><td>125</td><td>32</td></tr>",
                            "<tr><td>1</td><td>32</td></tr>",
                            "<tr><td>128</td><td>32</td></tr>",
                            "<tr><td>470</td><td>32</td></tr>",
                            "<tr><td>406</td><td>32</td></tr>",
                            "<tr><td>259</td><td>32</td></tr>",
                            "<tr><td>346</td><td>32</td></tr>",
                            "<tr><td>532</td><td>32</td></tr>",
                            "<tr><td>277</td><td>32</td></tr>",
                            "<tr><td>122</td><td>32</td></tr>",
                            "<tr><td>244</td><td>32</td></tr>",
                            "<tr><td>167</td><td>32</td></tr>",
                            "<tr><td>89</td><td>32</td></tr>",
                            "<tr><td>569</td><td>32</td></tr>",
                            "<tr><td>452</td><td>32</td></tr>",
                            "<tr><td>329</td><td>32</td></tr>",
                            "<tr><td>306</td><td>32</td></tr>",
                            "<tr><td>513</td><td>31</td></tr>",
                            "<tr><td>210</td><td>31</td></tr>",
                            "<tr><td>393</td><td>31</td></tr>",
                            "<tr><td>251</td><td>31</td></tr>",
                            "<tr><td>340</td><td>31</td></tr>",
                            "<tr><td>157</td><td>31</td></tr>",
                            "<tr><td>361</td><td>31</td></tr>",
                            "<tr><td>416</td><td>31</td></tr>",
                            "<tr><td>78</td><td>31</td></tr>",
                            "<tr><td>214</td><td>31</td></tr>",
                            "<tr><td>323</td><td>31</td></tr>",
                            "<tr><td>279</td><td>31</td></tr>",
                            "<tr><td>446</td><td>31</td></tr>",
                            "<tr><td>103</td><td>31</td></tr>",
                            "<tr><td>27</td><td>31</td></tr>",
                            "<tr><td>186</td><td>31</td></tr>",
                            "<tr><td>260</td><td>31</td></tr>",
                            "<tr><td>479</td><td>31</td></tr>",
                            "<tr><td>293</td><td>31</td></tr>",
                            "<tr><td>300</td><td>31</td></tr>",
                            "<tr><td>309</td><td>31</td></tr>",
                            "<tr><td>494</td><td>31</td></tr>",
                            "</table>"
                        ]
                    }
                }
            ],
            "execution_count": 16
        },
        {
            "cell_type": "markdown",
            "source": [
                "### **Approach 2**\n",
                "\n",
                "To find customers who have rented more than 30 films, you can follow these steps:\n",
                "\n",
                "1. **Join** the `customer` and `rental` tables.\n",
                "2. **Count** the number of rentals for each customer.\n",
                "3. **Filter** the results to include only those customers who have rented more than 30 films."
            ],
            "metadata": {
                "language": "sql",
                "azdata_cell_guid": "05f99599-dfe0-4648-9516-513dca7960de"
            },
            "attachments": {}
        },
        {
            "cell_type": "code",
            "source": [
                "SELECT \r\n",
                "    CONCAT(c.first_name,' ',c.last_name) AS customer_name,\r\n",
                "    COUNT(r.rental_id) AS rental_count\r\n",
                "FROM \r\n",
                "    customer c\r\n",
                "    INNER JOIN rental r ON c.customer_id = r.customer_id\r\n",
                "GROUP BY \r\n",
                "    c.customer_id, c.first_name, c.last_name\r\n",
                "HAVING \r\n",
                "    COUNT(r.rental_id) > 30\r\n",
                "ORDER BY \r\n",
                "    rental_count DESC;"
            ],
            "metadata": {
                "language": "sql",
                "azdata_cell_guid": "5087d9fd-cdf7-47ec-9b08-8ff344ea8cbd"
            },
            "outputs": [
                {
                    "output_type": "display_data",
                    "data": {
                        "text/html": "(134 row(s) affected)"
                    },
                    "metadata": {}
                },
                {
                    "output_type": "display_data",
                    "data": {
                        "text/html": "Total execution time: 00:00:00.007"
                    },
                    "metadata": {}
                },
                {
                    "output_type": "execute_result",
                    "metadata": {},
                    "execution_count": 37,
                    "data": {
                        "application/vnd.dataresource+json": {
                            "schema": {
                                "fields": [
                                    {
                                        "name": "customer_name"
                                    },
                                    {
                                        "name": "rental_count"
                                    }
                                ]
                            },
                            "data": [
                                {
                                    "customer_name": "Eleanor Hunt",
                                    "rental_count": "46"
                                },
                                {
                                    "customer_name": "Karl Seal",
                                    "rental_count": "45"
                                },
                                {
                                    "customer_name": "Marcia Dean",
                                    "rental_count": "42"
                                },
                                {
                                    "customer_name": "Clara Shaw",
                                    "rental_count": "42"
                                },
                                {
                                    "customer_name": "Tammy Sanders",
                                    "rental_count": "41"
                                },
                                {
                                    "customer_name": "Sue Peters",
                                    "rental_count": "40"
                                },
                                {
                                    "customer_name": "Wesley Bull",
                                    "rental_count": "40"
                                },
                                {
                                    "customer_name": "Tim Cary",
                                    "rental_count": "39"
                                },
                                {
                                    "customer_name": "Marion Snyder",
                                    "rental_count": "39"
                                },
                                {
                                    "customer_name": "Rhonda Kennedy",
                                    "rental_count": "39"
                                },
                                {
                                    "customer_name": "Daisy Bates",
                                    "rental_count": "38"
                                },
                                {
                                    "customer_name": "Curtis Irby",
                                    "rental_count": "38"
                                },
                                {
                                    "customer_name": "Elizabeth Brown",
                                    "rental_count": "38"
                                },
                                {
                                    "customer_name": "Tommy Collazo",
                                    "rental_count": "38"
                                },
                                {
                                    "customer_name": "Elsie Kelley",
                                    "rental_count": "37"
                                },
                                {
                                    "customer_name": "Brandon Huey",
                                    "rental_count": "37"
                                },
                                {
                                    "customer_name": "Marsha Douglas",
                                    "rental_count": "37"
                                },
                                {
                                    "customer_name": "June Carroll",
                                    "rental_count": "37"
                                },
                                {
                                    "customer_name": "Justin Ngo",
                                    "rental_count": "36"
                                },
                                {
                                    "customer_name": "Russell Brinson",
                                    "rental_count": "36"
                                },
                                {
                                    "customer_name": "Roger Quintanilla",
                                    "rental_count": "36"
                                },
                                {
                                    "customer_name": "Margie Wade",
                                    "rental_count": "36"
                                },
                                {
                                    "customer_name": "Angela Hernandez",
                                    "rental_count": "36"
                                },
                                {
                                    "customer_name": "Alexander Fennell",
                                    "rental_count": "36"
                                },
                                {
                                    "customer_name": "Billy Poulin",
                                    "rental_count": "35"
                                },
                                {
                                    "customer_name": "Mike Way",
                                    "rental_count": "35"
                                },
                                {
                                    "customer_name": "Diane Collins",
                                    "rental_count": "35"
                                },
                                {
                                    "customer_name": "Lois Butler",
                                    "rental_count": "35"
                                },
                                {
                                    "customer_name": "Harry Arce",
                                    "rental_count": "35"
                                },
                                {
                                    "customer_name": "Naomi Jennings",
                                    "rental_count": "35"
                                },
                                {
                                    "customer_name": "Bobby Boudreau",
                                    "rental_count": "35"
                                },
                                {
                                    "customer_name": "Priscilla Lowe",
                                    "rental_count": "35"
                                },
                                {
                                    "customer_name": "Leslie Seward",
                                    "rental_count": "35"
                                },
                                {
                                    "customer_name": "Michelle Clark",
                                    "rental_count": "35"
                                },
                                {
                                    "customer_name": "Louis Leone",
                                    "rental_count": "35"
                                },
                                {
                                    "customer_name": "Rosemary Schmidt",
                                    "rental_count": "35"
                                },
                                {
                                    "customer_name": "Alma Austin",
                                    "rental_count": "35"
                                },
                                {
                                    "customer_name": "Jorge Olivares",
                                    "rental_count": "34"
                                },
                                {
                                    "customer_name": "Brett Cornwell",
                                    "rental_count": "34"
                                },
                                {
                                    "customer_name": "Sherry Marshall",
                                    "rental_count": "34"
                                },
                                {
                                    "customer_name": "Janice Ward",
                                    "rental_count": "34"
                                },
                                {
                                    "customer_name": "Heidi Larson",
                                    "rental_count": "34"
                                },
                                {
                                    "customer_name": "Casey Mena",
                                    "rental_count": "34"
                                },
                                {
                                    "customer_name": "Catherine Campbell",
                                    "rental_count": "34"
                                },
                                {
                                    "customer_name": "Carrie Porter",
                                    "rental_count": "34"
                                },
                                {
                                    "customer_name": "Stacey Montgomery",
                                    "rental_count": "34"
                                },
                                {
                                    "customer_name": "Melissa King",
                                    "rental_count": "34"
                                },
                                {
                                    "customer_name": "Ralph Madrigal",
                                    "rental_count": "34"
                                },
                                {
                                    "customer_name": "Steve Mackenzie",
                                    "rental_count": "34"
                                },
                                {
                                    "customer_name": "Hazel Warren",
                                    "rental_count": "34"
                                },
                                {
                                    "customer_name": "Morris Mccarter",
                                    "rental_count": "34"
                                },
                                {
                                    "customer_name": "Minnie Romero",
                                    "rental_count": "34"
                                },
                                {
                                    "customer_name": "Regina Berry",
                                    "rental_count": "34"
                                },
                                {
                                    "customer_name": "Martha Gonzalez",
                                    "rental_count": "34"
                                },
                                {
                                    "customer_name": "Gertrude Castillo",
                                    "rental_count": "34"
                                },
                                {
                                    "customer_name": "Jessica Hall",
                                    "rental_count": "34"
                                },
                                {
                                    "customer_name": "Ana Bradley",
                                    "rental_count": "34"
                                },
                                {
                                    "customer_name": "Joanne Robertson",
                                    "rental_count": "34"
                                },
                                {
                                    "customer_name": "Tanya Gilbert",
                                    "rental_count": "33"
                                },
                                {
                                    "customer_name": "Jacqueline Long",
                                    "rental_count": "33"
                                },
                                {
                                    "customer_name": "Barry Lovelace",
                                    "rental_count": "33"
                                },
                                {
                                    "customer_name": "Sara Perry",
                                    "rental_count": "33"
                                },
                                {
                                    "customer_name": "Arnold Havens",
                                    "rental_count": "33"
                                },
                                {
                                    "customer_name": "Bernice Willis",
                                    "rental_count": "33"
                                },
                                {
                                    "customer_name": "Shawn Heaton",
                                    "rental_count": "33"
                                },
                                {
                                    "customer_name": "George Linton",
                                    "rental_count": "33"
                                },
                                {
                                    "customer_name": "Warren Sherrod",
                                    "rental_count": "33"
                                },
                                {
                                    "customer_name": "Alex Gresham",
                                    "rental_count": "33"
                                },
                                {
                                    "customer_name": "Judith Cox",
                                    "rental_count": "33"
                                },
                                {
                                    "customer_name": "Sherri Rhodes",
                                    "rental_count": "33"
                                },
                                {
                                    "customer_name": "Joy George",
                                    "rental_count": "33"
                                },
                                {
                                    "customer_name": "Maria Miller",
                                    "rental_count": "33"
                                },
                                {
                                    "customer_name": "Jim Rea",
                                    "rental_count": "33"
                                },
                                {
                                    "customer_name": "Grace Ellis",
                                    "rental_count": "33"
                                },
                                {
                                    "customer_name": "Crystal Ford",
                                    "rental_count": "33"
                                },
                                {
                                    "customer_name": "Jessie Milam",
                                    "rental_count": "33"
                                },
                                {
                                    "customer_name": "Alice Stewart",
                                    "rental_count": "33"
                                },
                                {
                                    "customer_name": "Courtney Day",
                                    "rental_count": "32"
                                },
                                {
                                    "customer_name": "Leonard Schofield",
                                    "rental_count": "32"
                                },
                                {
                                    "customer_name": "Javier Elrod",
                                    "rental_count": "32"
                                },
                                {
                                    "customer_name": "Helen Harris",
                                    "rental_count": "32"
                                },
                                {
                                    "customer_name": "Cynthia Young",
                                    "rental_count": "32"
                                },
                                {
                                    "customer_name": "Tonya Chapman",
                                    "rental_count": "32"
                                },
                                {
                                    "customer_name": "Mitchell Westmoreland",
                                    "rental_count": "32"
                                },
                                {
                                    "customer_name": "Nicholas Barfield",
                                    "rental_count": "32"
                                },
                                {
                                    "customer_name": "Sylvia Ortiz",
                                    "rental_count": "32"
                                },
                                {
                                    "customer_name": "Veronica Stone",
                                    "rental_count": "32"
                                },
                                {
                                    "customer_name": "Leroy Bustamante",
                                    "rental_count": "32"
                                },
                                {
                                    "customer_name": "Glenda Frazier",
                                    "rental_count": "32"
                                },
                                {
                                    "customer_name": "Debbie Reyes",
                                    "rental_count": "32"
                                },
                                {
                                    "customer_name": "Maxine Silva",
                                    "rental_count": "32"
                                },
                                {
                                    "customer_name": "Harold Martino",
                                    "rental_count": "32"
                                },
                                {
                                    "customer_name": "Angel Barclay",
                                    "rental_count": "32"
                                },
                                {
                                    "customer_name": "Virginia Green",
                                    "rental_count": "32"
                                },
                                {
                                    "customer_name": "Guy Brownlee",
                                    "rental_count": "32"
                                },
                                {
                                    "customer_name": "Ethel Webb",
                                    "rental_count": "32"
                                },
                                {
                                    "customer_name": "Mary Smith",
                                    "rental_count": "32"
                                },
                                {
                                    "customer_name": "Marjorie Tucker",
                                    "rental_count": "32"
                                },
                                {
                                    "customer_name": "Gordon Allard",
                                    "rental_count": "32"
                                },
                                {
                                    "customer_name": "Nathan Runyon",
                                    "rental_count": "32"
                                },
                                {
                                    "customer_name": "Lena Jensen",
                                    "rental_count": "32"
                                },
                                {
                                    "customer_name": "Arthur Simpkins",
                                    "rental_count": "32"
                                },
                                {
                                    "customer_name": "Neil Renner",
                                    "rental_count": "32"
                                },
                                {
                                    "customer_name": "Olga Jimenez",
                                    "rental_count": "32"
                                },
                                {
                                    "customer_name": "Thelma Murray",
                                    "rental_count": "32"
                                },
                                {
                                    "customer_name": "Viola Hanson",
                                    "rental_count": "32"
                                },
                                {
                                    "customer_name": "Sally Pierce",
                                    "rental_count": "32"
                                },
                                {
                                    "customer_name": "Julia Flores",
                                    "rental_count": "32"
                                },
                                {
                                    "customer_name": "Dave Gardiner",
                                    "rental_count": "32"
                                },
                                {
                                    "customer_name": "Tom Milner",
                                    "rental_count": "32"
                                },
                                {
                                    "customer_name": "Frank Waggoner",
                                    "rental_count": "32"
                                },
                                {
                                    "customer_name": "Charles Kowalski",
                                    "rental_count": "32"
                                },
                                {
                                    "customer_name": "Duane Tubbs",
                                    "rental_count": "31"
                                },
                                {
                                    "customer_name": "Ella Oliver",
                                    "rental_count": "31"
                                },
                                {
                                    "customer_name": "Philip Causey",
                                    "rental_count": "31"
                                },
                                {
                                    "customer_name": "Vickie Brewer",
                                    "rental_count": "31"
                                },
                                {
                                    "customer_name": "Patrick Newsom",
                                    "rental_count": "31"
                                },
                                {
                                    "customer_name": "Darlene Rose",
                                    "rental_count": "31"
                                },
                                {
                                    "customer_name": "Lawrence Lawton",
                                    "rental_count": "31"
                                },
                                {
                                    "customer_name": "Jeffery Pinson",
                                    "rental_count": "31"
                                },
                                {
                                    "customer_name": "Lori Wood",
                                    "rental_count": "31"
                                },
                                {
                                    "customer_name": "Kristin Johnston",
                                    "rental_count": "31"
                                },
                                {
                                    "customer_name": "Matthew Mahan",
                                    "rental_count": "31"
                                },
                                {
                                    "customer_name": "Dianne Shelton",
                                    "rental_count": "31"
                                },
                                {
                                    "customer_name": "Theodore Culp",
                                    "rental_count": "31"
                                },
                                {
                                    "customer_name": "Gladys Hamilton",
                                    "rental_count": "31"
                                },
                                {
                                    "customer_name": "Shirley Allen",
                                    "rental_count": "31"
                                },
                                {
                                    "customer_name": "Holly Fox",
                                    "rental_count": "31"
                                },
                                {
                                    "customer_name": "Christy Vargas",
                                    "rental_count": "31"
                                },
                                {
                                    "customer_name": "Zachary Hite",
                                    "rental_count": "31"
                                },
                                {
                                    "customer_name": "Mae Fletcher",
                                    "rental_count": "31"
                                },
                                {
                                    "customer_name": "John Farnsworth",
                                    "rental_count": "31"
                                },
                                {
                                    "customer_name": "Christopher Greco",
                                    "rental_count": "31"
                                },
                                {
                                    "customer_name": "Ramon Choate",
                                    "rental_count": "31"
                                }
                            ]
                        },
                        "text/html": [
                            "<table>",
                            "<tr><th>customer_name</th><th>rental_count</th></tr>",
                            "<tr><td>Eleanor Hunt</td><td>46</td></tr>",
                            "<tr><td>Karl Seal</td><td>45</td></tr>",
                            "<tr><td>Marcia Dean</td><td>42</td></tr>",
                            "<tr><td>Clara Shaw</td><td>42</td></tr>",
                            "<tr><td>Tammy Sanders</td><td>41</td></tr>",
                            "<tr><td>Sue Peters</td><td>40</td></tr>",
                            "<tr><td>Wesley Bull</td><td>40</td></tr>",
                            "<tr><td>Tim Cary</td><td>39</td></tr>",
                            "<tr><td>Marion Snyder</td><td>39</td></tr>",
                            "<tr><td>Rhonda Kennedy</td><td>39</td></tr>",
                            "<tr><td>Daisy Bates</td><td>38</td></tr>",
                            "<tr><td>Curtis Irby</td><td>38</td></tr>",
                            "<tr><td>Elizabeth Brown</td><td>38</td></tr>",
                            "<tr><td>Tommy Collazo</td><td>38</td></tr>",
                            "<tr><td>Elsie Kelley</td><td>37</td></tr>",
                            "<tr><td>Brandon Huey</td><td>37</td></tr>",
                            "<tr><td>Marsha Douglas</td><td>37</td></tr>",
                            "<tr><td>June Carroll</td><td>37</td></tr>",
                            "<tr><td>Justin Ngo</td><td>36</td></tr>",
                            "<tr><td>Russell Brinson</td><td>36</td></tr>",
                            "<tr><td>Roger Quintanilla</td><td>36</td></tr>",
                            "<tr><td>Margie Wade</td><td>36</td></tr>",
                            "<tr><td>Angela Hernandez</td><td>36</td></tr>",
                            "<tr><td>Alexander Fennell</td><td>36</td></tr>",
                            "<tr><td>Billy Poulin</td><td>35</td></tr>",
                            "<tr><td>Mike Way</td><td>35</td></tr>",
                            "<tr><td>Diane Collins</td><td>35</td></tr>",
                            "<tr><td>Lois Butler</td><td>35</td></tr>",
                            "<tr><td>Harry Arce</td><td>35</td></tr>",
                            "<tr><td>Naomi Jennings</td><td>35</td></tr>",
                            "<tr><td>Bobby Boudreau</td><td>35</td></tr>",
                            "<tr><td>Priscilla Lowe</td><td>35</td></tr>",
                            "<tr><td>Leslie Seward</td><td>35</td></tr>",
                            "<tr><td>Michelle Clark</td><td>35</td></tr>",
                            "<tr><td>Louis Leone</td><td>35</td></tr>",
                            "<tr><td>Rosemary Schmidt</td><td>35</td></tr>",
                            "<tr><td>Alma Austin</td><td>35</td></tr>",
                            "<tr><td>Jorge Olivares</td><td>34</td></tr>",
                            "<tr><td>Brett Cornwell</td><td>34</td></tr>",
                            "<tr><td>Sherry Marshall</td><td>34</td></tr>",
                            "<tr><td>Janice Ward</td><td>34</td></tr>",
                            "<tr><td>Heidi Larson</td><td>34</td></tr>",
                            "<tr><td>Casey Mena</td><td>34</td></tr>",
                            "<tr><td>Catherine Campbell</td><td>34</td></tr>",
                            "<tr><td>Carrie Porter</td><td>34</td></tr>",
                            "<tr><td>Stacey Montgomery</td><td>34</td></tr>",
                            "<tr><td>Melissa King</td><td>34</td></tr>",
                            "<tr><td>Ralph Madrigal</td><td>34</td></tr>",
                            "<tr><td>Steve Mackenzie</td><td>34</td></tr>",
                            "<tr><td>Hazel Warren</td><td>34</td></tr>",
                            "<tr><td>Morris Mccarter</td><td>34</td></tr>",
                            "<tr><td>Minnie Romero</td><td>34</td></tr>",
                            "<tr><td>Regina Berry</td><td>34</td></tr>",
                            "<tr><td>Martha Gonzalez</td><td>34</td></tr>",
                            "<tr><td>Gertrude Castillo</td><td>34</td></tr>",
                            "<tr><td>Jessica Hall</td><td>34</td></tr>",
                            "<tr><td>Ana Bradley</td><td>34</td></tr>",
                            "<tr><td>Joanne Robertson</td><td>34</td></tr>",
                            "<tr><td>Tanya Gilbert</td><td>33</td></tr>",
                            "<tr><td>Jacqueline Long</td><td>33</td></tr>",
                            "<tr><td>Barry Lovelace</td><td>33</td></tr>",
                            "<tr><td>Sara Perry</td><td>33</td></tr>",
                            "<tr><td>Arnold Havens</td><td>33</td></tr>",
                            "<tr><td>Bernice Willis</td><td>33</td></tr>",
                            "<tr><td>Shawn Heaton</td><td>33</td></tr>",
                            "<tr><td>George Linton</td><td>33</td></tr>",
                            "<tr><td>Warren Sherrod</td><td>33</td></tr>",
                            "<tr><td>Alex Gresham</td><td>33</td></tr>",
                            "<tr><td>Judith Cox</td><td>33</td></tr>",
                            "<tr><td>Sherri Rhodes</td><td>33</td></tr>",
                            "<tr><td>Joy George</td><td>33</td></tr>",
                            "<tr><td>Maria Miller</td><td>33</td></tr>",
                            "<tr><td>Jim Rea</td><td>33</td></tr>",
                            "<tr><td>Grace Ellis</td><td>33</td></tr>",
                            "<tr><td>Crystal Ford</td><td>33</td></tr>",
                            "<tr><td>Jessie Milam</td><td>33</td></tr>",
                            "<tr><td>Alice Stewart</td><td>33</td></tr>",
                            "<tr><td>Courtney Day</td><td>32</td></tr>",
                            "<tr><td>Leonard Schofield</td><td>32</td></tr>",
                            "<tr><td>Javier Elrod</td><td>32</td></tr>",
                            "<tr><td>Helen Harris</td><td>32</td></tr>",
                            "<tr><td>Cynthia Young</td><td>32</td></tr>",
                            "<tr><td>Tonya Chapman</td><td>32</td></tr>",
                            "<tr><td>Mitchell Westmoreland</td><td>32</td></tr>",
                            "<tr><td>Nicholas Barfield</td><td>32</td></tr>",
                            "<tr><td>Sylvia Ortiz</td><td>32</td></tr>",
                            "<tr><td>Veronica Stone</td><td>32</td></tr>",
                            "<tr><td>Leroy Bustamante</td><td>32</td></tr>",
                            "<tr><td>Glenda Frazier</td><td>32</td></tr>",
                            "<tr><td>Debbie Reyes</td><td>32</td></tr>",
                            "<tr><td>Maxine Silva</td><td>32</td></tr>",
                            "<tr><td>Harold Martino</td><td>32</td></tr>",
                            "<tr><td>Angel Barclay</td><td>32</td></tr>",
                            "<tr><td>Virginia Green</td><td>32</td></tr>",
                            "<tr><td>Guy Brownlee</td><td>32</td></tr>",
                            "<tr><td>Ethel Webb</td><td>32</td></tr>",
                            "<tr><td>Mary Smith</td><td>32</td></tr>",
                            "<tr><td>Marjorie Tucker</td><td>32</td></tr>",
                            "<tr><td>Gordon Allard</td><td>32</td></tr>",
                            "<tr><td>Nathan Runyon</td><td>32</td></tr>",
                            "<tr><td>Lena Jensen</td><td>32</td></tr>",
                            "<tr><td>Arthur Simpkins</td><td>32</td></tr>",
                            "<tr><td>Neil Renner</td><td>32</td></tr>",
                            "<tr><td>Olga Jimenez</td><td>32</td></tr>",
                            "<tr><td>Thelma Murray</td><td>32</td></tr>",
                            "<tr><td>Viola Hanson</td><td>32</td></tr>",
                            "<tr><td>Sally Pierce</td><td>32</td></tr>",
                            "<tr><td>Julia Flores</td><td>32</td></tr>",
                            "<tr><td>Dave Gardiner</td><td>32</td></tr>",
                            "<tr><td>Tom Milner</td><td>32</td></tr>",
                            "<tr><td>Frank Waggoner</td><td>32</td></tr>",
                            "<tr><td>Charles Kowalski</td><td>32</td></tr>",
                            "<tr><td>Duane Tubbs</td><td>31</td></tr>",
                            "<tr><td>Ella Oliver</td><td>31</td></tr>",
                            "<tr><td>Philip Causey</td><td>31</td></tr>",
                            "<tr><td>Vickie Brewer</td><td>31</td></tr>",
                            "<tr><td>Patrick Newsom</td><td>31</td></tr>",
                            "<tr><td>Darlene Rose</td><td>31</td></tr>",
                            "<tr><td>Lawrence Lawton</td><td>31</td></tr>",
                            "<tr><td>Jeffery Pinson</td><td>31</td></tr>",
                            "<tr><td>Lori Wood</td><td>31</td></tr>",
                            "<tr><td>Kristin Johnston</td><td>31</td></tr>",
                            "<tr><td>Matthew Mahan</td><td>31</td></tr>",
                            "<tr><td>Dianne Shelton</td><td>31</td></tr>",
                            "<tr><td>Theodore Culp</td><td>31</td></tr>",
                            "<tr><td>Gladys Hamilton</td><td>31</td></tr>",
                            "<tr><td>Shirley Allen</td><td>31</td></tr>",
                            "<tr><td>Holly Fox</td><td>31</td></tr>",
                            "<tr><td>Christy Vargas</td><td>31</td></tr>",
                            "<tr><td>Zachary Hite</td><td>31</td></tr>",
                            "<tr><td>Mae Fletcher</td><td>31</td></tr>",
                            "<tr><td>John Farnsworth</td><td>31</td></tr>",
                            "<tr><td>Christopher Greco</td><td>31</td></tr>",
                            "<tr><td>Ramon Choate</td><td>31</td></tr>",
                            "</table>"
                        ]
                    }
                }
            ],
            "execution_count": 37
        },
        {
            "cell_type": "markdown",
            "source": [
                "## **Determine the average rental duration for customers in a specific city.**\n",
                "\n",
                "To determine the average rental duration for customers in a specific city, you need to:\n",
                "\n",
                "1. **Join** the relevant tables: `customer`, `rental`, and `city`.\n",
                "2. **Calculate** the rental duration.\n",
                "3. **Filter** the results for the specific city.\n",
                "4. **Calculate** the average rental duration."
            ],
            "metadata": {
                "language": "sql",
                "azdata_cell_guid": "3eda1642-1812-4448-9d13-0685e37b0bb8"
            },
            "attachments": {}
        },
        {
            "cell_type": "code",
            "source": [
                "WITH rental_durations AS (\r\n",
                "    SELECT \r\n",
                "        r.rental_id,\r\n",
                "        (r.return_date - r.rental_date) AS rental_duration,\r\n",
                "        ci.city\r\n",
                "\r\n",
                "    FROM \r\n",
                "        rental r\r\n",
                "        INNER JOIN customer c ON r.customer_id = c.customer_id\r\n",
                "        INNER JOIN address a ON c.address_id = a.address_id\r\n",
                "        INNER JOIN city ci ON a.city_id = ci.city_id\r\n",
                ")\r\n",
                "SELECT AVG(rental_duration) AS avg_rental_duration\r\n",
                "FROM rental_durations\r\n",
                "WHERE city = 'Sumy';"
            ],
            "metadata": {
                "azdata_cell_guid": "327da705-2ec1-497f-84a8-c8a372633942",
                "language": "sql",
                "tags": []
            },
            "outputs": [
                {
                    "output_type": "display_data",
                    "data": {
                        "text/html": "(1 row(s) affected)"
                    },
                    "metadata": {}
                },
                {
                    "output_type": "display_data",
                    "data": {
                        "text/html": "Total execution time: 00:00:00.019"
                    },
                    "metadata": {}
                },
                {
                    "output_type": "execute_result",
                    "metadata": {},
                    "execution_count": 23,
                    "data": {
                        "application/vnd.dataresource+json": {
                            "schema": {
                                "fields": [
                                    {
                                        "name": "avg_rental_duration"
                                    }
                                ]
                            },
                            "data": [
                                {
                                    "avg_rental_duration": "5 days 34:58:38.571428"
                                }
                            ]
                        },
                        "text/html": [
                            "<table>",
                            "<tr><th>avg_rental_duration</th></tr>",
                            "<tr><td>5 days 34:58:38.571428</td></tr>",
                            "</table>"
                        ]
                    }
                }
            ],
            "execution_count": 23
        },
        {
            "cell_type": "markdown",
            "source": [
                "## Find films that have never been rented.\n",
                "\n",
                "To find films that have never been rented, you need to identify films that do not have any corresponding entries in the `rental` table. This can be achieved by performing a `LEFT JOIN` between the `film` and `rental` tables and then filtering out films with no rentals."
            ],
            "metadata": {
                "language": "sql",
                "azdata_cell_guid": "94db7107-c08c-4edd-ba5a-ae2b67c38ae8"
            },
            "attachments": {}
        },
        {
            "cell_type": "code",
            "source": [
                "SELECT f.title\r\n",
                "FROM \r\n",
                "    film f \r\n",
                "    LEFT JOIN inventory i ON i.film_id = f.film_id\r\n",
                "    LEFT JOIN rental r ON i.inventory_id = r.inventory_id\r\n",
                "WHERE \r\n",
                "    r.rental_id IS NULL;"
            ],
            "metadata": {
                "language": "sql",
                "azdata_cell_guid": "87554651-3a75-4b0d-a060-7728aa611ca6"
            },
            "outputs": [
                {
                    "output_type": "display_data",
                    "data": {
                        "text/html": "(43 row(s) affected)"
                    },
                    "metadata": {}
                },
                {
                    "output_type": "display_data",
                    "data": {
                        "text/html": "Total execution time: 00:00:00.007"
                    },
                    "metadata": {}
                },
                {
                    "output_type": "execute_result",
                    "metadata": {},
                    "execution_count": 32,
                    "data": {
                        "application/vnd.dataresource+json": {
                            "schema": {
                                "fields": [
                                    {
                                        "name": "title"
                                    }
                                ]
                            },
                            "data": [
                                {
                                    "title": "Academy Dinosaur"
                                },
                                {
                                    "title": "Sky Miracle"
                                },
                                {
                                    "title": "Kill Brotherhood"
                                },
                                {
                                    "title": "Sister Freddy"
                                },
                                {
                                    "title": "Gladiator Westward"
                                },
                                {
                                    "title": "Floats Garden"
                                },
                                {
                                    "title": "Apollo Teen"
                                },
                                {
                                    "title": "Crystal Breaking"
                                },
                                {
                                    "title": "Hocus Frida"
                                },
                                {
                                    "title": "Frankenstein Stranger"
                                },
                                {
                                    "title": "Raiders Antitrust"
                                },
                                {
                                    "title": "Hate Handicap"
                                },
                                {
                                    "title": "Order Betrayed"
                                },
                                {
                                    "title": "Wake Jaws"
                                },
                                {
                                    "title": "Deliverance Mulholland"
                                },
                                {
                                    "title": "Butch Panther"
                                },
                                {
                                    "title": "Psycho Shrunk"
                                },
                                {
                                    "title": "Catch Amistad"
                                },
                                {
                                    "title": "Ark Ridgemont"
                                },
                                {
                                    "title": "Crowds Telemark"
                                },
                                {
                                    "title": "Firehouse Vietnam"
                                },
                                {
                                    "title": "Pearl Destiny"
                                },
                                {
                                    "title": "Volume House"
                                },
                                {
                                    "title": "Gump Date"
                                },
                                {
                                    "title": "Roof Champion"
                                },
                                {
                                    "title": "Walls Artist"
                                },
                                {
                                    "title": "Crossing Divorce"
                                },
                                {
                                    "title": "Muppet Mile"
                                },
                                {
                                    "title": "Arsenic Independence"
                                },
                                {
                                    "title": "Rainbow Shock"
                                },
                                {
                                    "title": "Commandments Express"
                                },
                                {
                                    "title": "Chocolate Duck"
                                },
                                {
                                    "title": "Argonauts Town"
                                },
                                {
                                    "title": "Suicides Silence"
                                },
                                {
                                    "title": "Kentuckian Giant"
                                },
                                {
                                    "title": "Perdition Fargo"
                                },
                                {
                                    "title": "Treasure Command"
                                },
                                {
                                    "title": "Boondock Ballroom"
                                },
                                {
                                    "title": "Alice Fantasia"
                                },
                                {
                                    "title": "Villain Desperate"
                                },
                                {
                                    "title": "Tadpole Park"
                                },
                                {
                                    "title": "Dazed Punk"
                                },
                                {
                                    "title": "Chinatown Gladiator"
                                }
                            ]
                        },
                        "text/html": [
                            "<table>",
                            "<tr><th>title</th></tr>",
                            "<tr><td>Academy Dinosaur</td></tr>",
                            "<tr><td>Sky Miracle</td></tr>",
                            "<tr><td>Kill Brotherhood</td></tr>",
                            "<tr><td>Sister Freddy</td></tr>",
                            "<tr><td>Gladiator Westward</td></tr>",
                            "<tr><td>Floats Garden</td></tr>",
                            "<tr><td>Apollo Teen</td></tr>",
                            "<tr><td>Crystal Breaking</td></tr>",
                            "<tr><td>Hocus Frida</td></tr>",
                            "<tr><td>Frankenstein Stranger</td></tr>",
                            "<tr><td>Raiders Antitrust</td></tr>",
                            "<tr><td>Hate Handicap</td></tr>",
                            "<tr><td>Order Betrayed</td></tr>",
                            "<tr><td>Wake Jaws</td></tr>",
                            "<tr><td>Deliverance Mulholland</td></tr>",
                            "<tr><td>Butch Panther</td></tr>",
                            "<tr><td>Psycho Shrunk</td></tr>",
                            "<tr><td>Catch Amistad</td></tr>",
                            "<tr><td>Ark Ridgemont</td></tr>",
                            "<tr><td>Crowds Telemark</td></tr>",
                            "<tr><td>Firehouse Vietnam</td></tr>",
                            "<tr><td>Pearl Destiny</td></tr>",
                            "<tr><td>Volume House</td></tr>",
                            "<tr><td>Gump Date</td></tr>",
                            "<tr><td>Roof Champion</td></tr>",
                            "<tr><td>Walls Artist</td></tr>",
                            "<tr><td>Crossing Divorce</td></tr>",
                            "<tr><td>Muppet Mile</td></tr>",
                            "<tr><td>Arsenic Independence</td></tr>",
                            "<tr><td>Rainbow Shock</td></tr>",
                            "<tr><td>Commandments Express</td></tr>",
                            "<tr><td>Chocolate Duck</td></tr>",
                            "<tr><td>Argonauts Town</td></tr>",
                            "<tr><td>Suicides Silence</td></tr>",
                            "<tr><td>Kentuckian Giant</td></tr>",
                            "<tr><td>Perdition Fargo</td></tr>",
                            "<tr><td>Treasure Command</td></tr>",
                            "<tr><td>Boondock Ballroom</td></tr>",
                            "<tr><td>Alice Fantasia</td></tr>",
                            "<tr><td>Villain Desperate</td></tr>",
                            "<tr><td>Tadpole Park</td></tr>",
                            "<tr><td>Dazed Punk</td></tr>",
                            "<tr><td>Chinatown Gladiator</td></tr>",
                            "</table>"
                        ]
                    }
                }
            ],
            "execution_count": 32
        },
        {
            "cell_type": "markdown",
            "source": [
                "### **Explanation:**\n",
                "\n",
                "1. **LEFT JOIN**:\n",
                "    \n",
                "    - **LEFT JOIN inventory i ON f.film\\_id = i.film\\_id**: Joins the `film` table with the `inventory` table to link each film with its inventory items.\n",
                "    - **LEFT JOIN rental r ON i.inventory\\_id = r.inventory\\_id**: Joins the `inventory` table with the `rental` table to find out if any of these inventory items have been rented.\n",
                "2. **WHERE r.rental\\_id IS NULL**:\n",
                "    \n",
                "    - Filters the results to include only films for which there is no corresponding rental record, meaning the films have never been rented.\n",
                "\n",
                "### **Full Query:**\n",
                "\n",
                "```\n",
                "SELECT \n",
                "    f.film_id,\n",
                "    f.title\n",
                "FROM \n",
                "    film f\n",
                "    LEFT JOIN inventory i ON f.film_id = i.film_id\n",
                "    LEFT JOIN rental r ON i.inventory_id = r.inventory_id\n",
                "WHERE \n",
                "    r.rental_id IS NULL;\n",
                "\n",
                "```\n",
                "\n",
                "### Explanation of Join Types:\n",
                "\n",
                "- **LEFT JOIN** ensures that all films are included, even if they do not have a corresponding record in the `rental` table.\n",
                "- **r.rental\\_id IS NULL** identifies films that have no associated rentals.\n",
                "\n",
                "This query will return a list of films that have never been rented, showing their IDs and titles."
            ],
            "metadata": {
                "language": "sql",
                "azdata_cell_guid": "5fd21e29-68e3-412f-a080-5c6711fe20df"
            },
            "attachments": {}
        }
    ]
}