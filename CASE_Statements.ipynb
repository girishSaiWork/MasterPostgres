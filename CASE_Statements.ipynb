{
    "metadata": {
        "kernelspec": {
            "name": "SQL",
            "display_name": "SQL",
            "language": "sql"
        },
        "language_info": {
            "name": "sql",
            "version": ""
        }
    },
    "nbformat_minor": 2,
    "nbformat": 4,
    "cells": [
        {
            "cell_type": "markdown",
            "source": [
                "# **CASE Statements in PostgresSQL**\n",
                "\n",
                "## **What is a `CASE` Statement?**\n",
                "\n",
                "The `CASE` statement in SQL is used to perform conditional logic within a query. It allows you to evaluate conditions and return specific values based on those conditions. It’s similar to an `if-else` construct in programming languages.\n",
                "\n",
                "### Structure of `CASE` Statement\n",
                "\n",
                "There are two types of `CASE` statements in SQL:\n",
                "\n",
                "- **Simple CASE Statement**<span style=\"color: var(--vscode-foreground);\">: Evaluates an expression and matches it against a series of values.</span>\n",
                "\n",
                "```\n",
                "CASE expression\n",
                "    WHEN value1 THEN result1\n",
                "    WHEN value2 THEN result2\n",
                "    ...\n",
                "    ELSE default_result\n",
                "END\n",
                "\n",
                "```\n",
                "\n",
                "- **Searched CASE Statement**<span style=\"color: var(--vscode-foreground);\">: Evaluates a series of Boolean expressions and returns the result for the first true condition.</span>\n",
                "\n",
                "```\n",
                "CASE\n",
                "    WHEN condition1 THEN result1\n",
                "    WHEN condition2 THEN result2\n",
                "    ...\n",
                "    ELSE default_result\n",
                "END\n",
                "\n",
                "```\n",
                "\n",
                "## **Examples**\n",
                "\n",
                "### **Simple CASE Statement**\n",
                "\n",
                "Suppose you have a table of employees with a `department_id`, and you want to label each employee’s department by name:\n",
                "\n",
                "```\n",
                "SELECT \n",
                "    employee_id,\n",
                "    department_id,\n",
                "    CASE department_id\n",
                "        WHEN 1 THEN 'HR'\n",
                "        WHEN 2 THEN 'Finance'\n",
                "        WHEN 3 THEN 'IT'\n",
                "        ELSE 'Unknown'\n",
                "    END AS department_name\n",
                "FROM \n",
                "    employees;\n",
                "\n",
                "```\n",
                "\n",
                "In this example:\n",
                "\n",
                "- The `CASE` statement evaluates `department_id`.\n",
                "- It returns `'HR'` if `department_id` is 1, `'Finance'` if it is 2, and so on.\n",
                "- If none of the conditions match, it returns `'Unknown'`.\n",
                "\n",
                "### **Searched CASE Statement**\n",
                "\n",
                "Suppose you want to categorize sales amounts into different ranges:\n",
                "\n",
                "```\n",
                "SELECT \n",
                "    sale_id,\n",
                "    amount,\n",
                "    CASE\n",
                "        WHEN amount < 100 THEN 'Low'\n",
                "        WHEN amount BETWEEN 100 AND 500 THEN 'Medium'\n",
                "        WHEN amount > 500 THEN 'High'\n",
                "        ELSE 'Unknown'\n",
                "    END AS sales_category\n",
                "FROM \n",
                "    sales;\n",
                "\n",
                "```\n",
                "\n",
                "<span style=\"color: var(--vscode-foreground);\">In this example:</span>\n",
                "\n",
                "- The `CASE` statement evaluates the `amount` column.\n",
                "- It categorizes `amount` into 'Low', 'Medium', or 'High' based on its value.\n",
                "- If none of the conditions apply, it returns `'Unknown'`.\n",
                "\n",
                "## **Why Use `CASE` Statements?**\n",
                "\n",
                "1. **Conditional Logic**: `CASE` statements allow you to include conditional logic directly in your SQL queries, enabling you to transform data based on specific criteria.\n",
                "    \n",
                "2. **Data Transformation**: They are useful for categorizing or grouping data dynamically. For instance, you can convert numerical ranges into descriptive categories.\n",
                "    \n",
                "3. **Data Cleaning**: `CASE` statements help in standardizing or cleaning data within the query itself. You can replace null values or outliers with meaningful labels.\n",
                "    \n",
                "4. **Dynamic Calculations**: They can be used to perform dynamic calculations or derive new values based on existing data, making reports more informative.\n",
                "    \n",
                "5. **Enhanced Readability**: By using `CASE`, you can make complex queries more readable and maintainable by encapsulating conditional logic within the SQL statement.\n",
                "    \n",
                "\n",
                "### **Summary**\n",
                "\n",
                "The `CASE` statement is a powerful tool in SQL for handling conditional logic, data transformation, and dynamic calculations. It helps in making queries more flexible and informative, allowing you to derive meaningful insights from your data based on specific conditions."
            ],
            "metadata": {
                "language": "sql",
                "azdata_cell_guid": "b7277c7b-5d7a-45a9-bc50-bc99097c7f24"
            },
            "attachments": {}
        },
        {
            "cell_type": "markdown",
            "source": [
                "### **Categorize customers based on the number of rentals (e.g., low, medium, high).**\n",
                "\n",
                "## Approach 1:"
            ],
            "metadata": {
                "language": "sql",
                "azdata_cell_guid": "e8136b75-74f7-43bc-bae4-3e392e1dd806"
            },
            "attachments": {}
        },
        {
            "cell_type": "code",
            "source": [
                "SELECT r.customer_id,\r\n",
                "COUNT(r.rental_id) AS rental_count,\r\n",
                "    CASE\r\n",
                "        WHEN COUNT(r.rental_id) <= 10 THEN 'Low'\r\n",
                "        WHEN COUNT(r.rental_id) BETWEEN 11 AND 30 THEN 'Medium'\r\n",
                "        ELSE 'High'\r\n",
                "    END AS rental_category\r\n",
                "FROM \r\n",
                "    rental r\r\n",
                "GROUP BY 1\r\n",
                "ORDER BY 2 DESC"
            ],
            "metadata": {
                "language": "sql",
                "azdata_cell_guid": "ef35f9df-7292-4219-870d-3e1b5f8f238b"
            },
            "outputs": [
                {
                    "output_type": "display_data",
                    "data": {
                        "text/html": "(599 row(s) affected)"
                    },
                    "metadata": {}
                },
                {
                    "output_type": "display_data",
                    "data": {
                        "text/html": "Total execution time: 00:00:00.014"
                    },
                    "metadata": {}
                },
                {
                    "output_type": "execute_result",
                    "execution_count": 18,
                    "data": {
                        "application/vnd.dataresource+json": {
                            "schema": {
                                "fields": [
                                    {
                                        "name": "customer_id"
                                    },
                                    {
                                        "name": "rental_count"
                                    },
                                    {
                                        "name": "rental_category"
                                    }
                                ]
                            },
                            "data": [
                                {
                                    "customer_id": "148",
                                    "rental_count": "46",
                                    "rental_category": "High"
                                },
                                {
                                    "customer_id": "526",
                                    "rental_count": "45",
                                    "rental_category": "High"
                                },
                                {
                                    "customer_id": "144",
                                    "rental_count": "42",
                                    "rental_category": "High"
                                },
                                {
                                    "customer_id": "236",
                                    "rental_count": "42",
                                    "rental_category": "High"
                                },
                                {
                                    "customer_id": "75",
                                    "rental_count": "41",
                                    "rental_category": "High"
                                },
                                {
                                    "customer_id": "469",
                                    "rental_count": "40",
                                    "rental_category": "High"
                                },
                                {
                                    "customer_id": "197",
                                    "rental_count": "40",
                                    "rental_category": "High"
                                },
                                {
                                    "customer_id": "137",
                                    "rental_count": "39",
                                    "rental_category": "High"
                                },
                                {
                                    "customer_id": "178",
                                    "rental_count": "39",
                                    "rental_category": "High"
                                },
                                {
                                    "customer_id": "468",
                                    "rental_count": "39",
                                    "rental_category": "High"
                                },
                                {
                                    "customer_id": "459",
                                    "rental_count": "38",
                                    "rental_category": "High"
                                },
                                {
                                    "customer_id": "5",
                                    "rental_count": "38",
                                    "rental_category": "High"
                                },
                                {
                                    "customer_id": "295",
                                    "rental_count": "38",
                                    "rental_category": "High"
                                },
                                {
                                    "customer_id": "410",
                                    "rental_count": "38",
                                    "rental_category": "High"
                                },
                                {
                                    "customer_id": "366",
                                    "rental_count": "37",
                                    "rental_category": "High"
                                },
                                {
                                    "customer_id": "257",
                                    "rental_count": "37",
                                    "rental_category": "High"
                                },
                                {
                                    "customer_id": "198",
                                    "rental_count": "37",
                                    "rental_category": "High"
                                },
                                {
                                    "customer_id": "176",
                                    "rental_count": "37",
                                    "rental_category": "High"
                                },
                                {
                                    "customer_id": "29",
                                    "rental_count": "36",
                                    "rental_category": "High"
                                },
                                {
                                    "customer_id": "267",
                                    "rental_count": "36",
                                    "rental_category": "High"
                                },
                                {
                                    "customer_id": "354",
                                    "rental_count": "36",
                                    "rental_category": "High"
                                },
                                {
                                    "customer_id": "439",
                                    "rental_count": "36",
                                    "rental_category": "High"
                                },
                                {
                                    "customer_id": "380",
                                    "rental_count": "36",
                                    "rental_category": "High"
                                },
                                {
                                    "customer_id": "348",
                                    "rental_count": "36",
                                    "rental_category": "High"
                                },
                                {
                                    "customer_id": "21",
                                    "rental_count": "35",
                                    "rental_category": "High"
                                },
                                {
                                    "customer_id": "204",
                                    "rental_count": "35",
                                    "rental_category": "High"
                                },
                                {
                                    "customer_id": "403",
                                    "rental_count": "35",
                                    "rental_category": "High"
                                },
                                {
                                    "customer_id": "91",
                                    "rental_count": "35",
                                    "rental_category": "High"
                                },
                                {
                                    "customer_id": "368",
                                    "rental_count": "35",
                                    "rental_category": "High"
                                },
                                {
                                    "customer_id": "50",
                                    "rental_count": "35",
                                    "rental_category": "High"
                                },
                                {
                                    "customer_id": "381",
                                    "rental_count": "35",
                                    "rental_category": "High"
                                },
                                {
                                    "customer_id": "273",
                                    "rental_count": "35",
                                    "rental_category": "High"
                                },
                                {
                                    "customer_id": "274",
                                    "rental_count": "35",
                                    "rental_category": "High"
                                },
                                {
                                    "customer_id": "506",
                                    "rental_count": "35",
                                    "rental_category": "High"
                                },
                                {
                                    "customer_id": "371",
                                    "rental_count": "35",
                                    "rental_category": "High"
                                },
                                {
                                    "customer_id": "373",
                                    "rental_count": "35",
                                    "rental_category": "High"
                                },
                                {
                                    "customer_id": "196",
                                    "rental_count": "35",
                                    "rental_category": "High"
                                },
                                {
                                    "customer_id": "66",
                                    "rental_count": "34",
                                    "rental_category": "High"
                                },
                                {
                                    "customer_id": "241",
                                    "rental_count": "34",
                                    "rental_category": "High"
                                },
                                {
                                    "customer_id": "129",
                                    "rental_count": "34",
                                    "rental_category": "High"
                                },
                                {
                                    "customer_id": "576",
                                    "rental_count": "34",
                                    "rental_category": "High"
                                },
                                {
                                    "customer_id": "207",
                                    "rental_count": "34",
                                    "rental_category": "High"
                                },
                                {
                                    "customer_id": "566",
                                    "rental_count": "34",
                                    "rental_category": "High"
                                },
                                {
                                    "customer_id": "168",
                                    "rental_count": "34",
                                    "rental_category": "High"
                                },
                                {
                                    "customer_id": "502",
                                    "rental_count": "34",
                                    "rental_category": "High"
                                },
                                {
                                    "customer_id": "473",
                                    "rental_count": "34",
                                    "rental_category": "High"
                                },
                                {
                                    "customer_id": "138",
                                    "rental_count": "34",
                                    "rental_category": "High"
                                },
                                {
                                    "customer_id": "30",
                                    "rental_count": "34",
                                    "rental_category": "High"
                                },
                                {
                                    "customer_id": "239",
                                    "rental_count": "34",
                                    "rental_category": "High"
                                },
                                {
                                    "customer_id": "26",
                                    "rental_count": "34",
                                    "rental_category": "High"
                                },
                                {
                                    "customer_id": "147",
                                    "rental_count": "34",
                                    "rental_category": "High"
                                },
                                {
                                    "customer_id": "360",
                                    "rental_count": "34",
                                    "rental_category": "High"
                                },
                                {
                                    "customer_id": "119",
                                    "rental_count": "34",
                                    "rental_category": "High"
                                },
                                {
                                    "customer_id": "46",
                                    "rental_count": "34",
                                    "rental_category": "High"
                                },
                                {
                                    "customer_id": "211",
                                    "rental_count": "34",
                                    "rental_category": "High"
                                },
                                {
                                    "customer_id": "181",
                                    "rental_count": "34",
                                    "rental_category": "High"
                                },
                                {
                                    "customer_id": "372",
                                    "rental_count": "34",
                                    "rental_category": "High"
                                },
                                {
                                    "customer_id": "38",
                                    "rental_count": "34",
                                    "rental_category": "High"
                                },
                                {
                                    "customer_id": "462",
                                    "rental_count": "33",
                                    "rental_category": "High"
                                },
                                {
                                    "customer_id": "451",
                                    "rental_count": "33",
                                    "rental_category": "High"
                                },
                                {
                                    "customer_id": "390",
                                    "rental_count": "33",
                                    "rental_category": "High"
                                },
                                {
                                    "customer_id": "314",
                                    "rental_count": "33",
                                    "rental_category": "High"
                                },
                                {
                                    "customer_id": "522",
                                    "rental_count": "33",
                                    "rental_category": "High"
                                },
                                {
                                    "customer_id": "102",
                                    "rental_count": "33",
                                    "rental_category": "High"
                                },
                                {
                                    "customer_id": "533",
                                    "rental_count": "33",
                                    "rental_category": "High"
                                },
                                {
                                    "customer_id": "51",
                                    "rental_count": "33",
                                    "rental_category": "High"
                                },
                                {
                                    "customer_id": "7",
                                    "rental_count": "33",
                                    "rental_category": "High"
                                },
                                {
                                    "customer_id": "230",
                                    "rental_count": "33",
                                    "rental_category": "High"
                                },
                                {
                                    "customer_id": "64",
                                    "rental_count": "33",
                                    "rental_category": "High"
                                },
                                {
                                    "customer_id": "438",
                                    "rental_count": "33",
                                    "rental_category": "High"
                                },
                                {
                                    "customer_id": "297",
                                    "rental_count": "33",
                                    "rental_category": "High"
                                },
                                {
                                    "customer_id": "454",
                                    "rental_count": "33",
                                    "rental_category": "High"
                                },
                                {
                                    "customer_id": "86",
                                    "rental_count": "33",
                                    "rental_category": "High"
                                },
                                {
                                    "customer_id": "84",
                                    "rental_count": "33",
                                    "rental_category": "High"
                                },
                                {
                                    "customer_id": "114",
                                    "rental_count": "33",
                                    "rental_category": "High"
                                },
                                {
                                    "customer_id": "237",
                                    "rental_count": "33",
                                    "rental_category": "High"
                                },
                                {
                                    "customer_id": "172",
                                    "rental_count": "33",
                                    "rental_category": "High"
                                },
                                {
                                    "customer_id": "362",
                                    "rental_count": "32",
                                    "rental_category": "High"
                                },
                                {
                                    "customer_id": "209",
                                    "rental_count": "32",
                                    "rental_category": "High"
                                },
                                {
                                    "customer_id": "245",
                                    "rental_count": "32",
                                    "rental_category": "High"
                                },
                                {
                                    "customer_id": "406",
                                    "rental_count": "32",
                                    "rental_category": "High"
                                },
                                {
                                    "customer_id": "158",
                                    "rental_count": "32",
                                    "rental_category": "High"
                                },
                                {
                                    "customer_id": "125",
                                    "rental_count": "32",
                                    "rental_category": "High"
                                },
                                {
                                    "customer_id": "28",
                                    "rental_count": "32",
                                    "rental_category": "High"
                                },
                                {
                                    "customer_id": "120",
                                    "rental_count": "32",
                                    "rental_category": "High"
                                },
                                {
                                    "customer_id": "535",
                                    "rental_count": "32",
                                    "rental_category": "High"
                                },
                                {
                                    "customer_id": "306",
                                    "rental_count": "32",
                                    "rental_category": "High"
                                },
                                {
                                    "customer_id": "242",
                                    "rental_count": "32",
                                    "rental_category": "High"
                                },
                                {
                                    "customer_id": "452",
                                    "rental_count": "32",
                                    "rental_category": "High"
                                },
                                {
                                    "customer_id": "569",
                                    "rental_count": "32",
                                    "rental_category": "High"
                                },
                                {
                                    "customer_id": "35",
                                    "rental_count": "32",
                                    "rental_category": "High"
                                },
                                {
                                    "customer_id": "550",
                                    "rental_count": "32",
                                    "rental_category": "High"
                                },
                                {
                                    "customer_id": "520",
                                    "rental_count": "32",
                                    "rental_category": "High"
                                },
                                {
                                    "customer_id": "346",
                                    "rental_count": "32",
                                    "rental_category": "High"
                                },
                                {
                                    "customer_id": "1",
                                    "rental_count": "32",
                                    "rental_category": "High"
                                },
                                {
                                    "customer_id": "128",
                                    "rental_count": "32",
                                    "rental_category": "High"
                                },
                                {
                                    "customer_id": "503",
                                    "rental_count": "32",
                                    "rental_category": "High"
                                },
                                {
                                    "customer_id": "254",
                                    "rental_count": "32",
                                    "rental_category": "High"
                                },
                                {
                                    "customer_id": "89",
                                    "rental_count": "32",
                                    "rental_category": "High"
                                },
                                {
                                    "customer_id": "244",
                                    "rental_count": "32",
                                    "rental_category": "High"
                                },
                                {
                                    "customer_id": "122",
                                    "rental_count": "32",
                                    "rental_category": "High"
                                },
                                {
                                    "customer_id": "15",
                                    "rental_count": "32",
                                    "rental_category": "High"
                                },
                                {
                                    "customer_id": "470",
                                    "rental_count": "32",
                                    "rental_category": "High"
                                },
                                {
                                    "customer_id": "405",
                                    "rental_count": "32",
                                    "rental_category": "High"
                                },
                                {
                                    "customer_id": "141",
                                    "rental_count": "32",
                                    "rental_category": "High"
                                },
                                {
                                    "customer_id": "329",
                                    "rental_count": "32",
                                    "rental_category": "High"
                                },
                                {
                                    "customer_id": "442",
                                    "rental_count": "32",
                                    "rental_category": "High"
                                },
                                {
                                    "customer_id": "532",
                                    "rental_count": "32",
                                    "rental_category": "High"
                                },
                                {
                                    "customer_id": "259",
                                    "rental_count": "32",
                                    "rental_category": "High"
                                },
                                {
                                    "customer_id": "342",
                                    "rental_count": "32",
                                    "rental_category": "High"
                                },
                                {
                                    "customer_id": "277",
                                    "rental_count": "32",
                                    "rental_category": "High"
                                },
                                {
                                    "customer_id": "167",
                                    "rental_count": "32",
                                    "rental_category": "High"
                                },
                                {
                                    "customer_id": "494",
                                    "rental_count": "31",
                                    "rental_category": "High"
                                },
                                {
                                    "customer_id": "214",
                                    "rental_count": "31",
                                    "rental_category": "High"
                                },
                                {
                                    "customer_id": "251",
                                    "rental_count": "31",
                                    "rental_category": "High"
                                },
                                {
                                    "customer_id": "393",
                                    "rental_count": "31",
                                    "rental_category": "High"
                                },
                                {
                                    "customer_id": "279",
                                    "rental_count": "31",
                                    "rental_category": "High"
                                },
                                {
                                    "customer_id": "479",
                                    "rental_count": "31",
                                    "rental_category": "High"
                                },
                                {
                                    "customer_id": "293",
                                    "rental_count": "31",
                                    "rental_category": "High"
                                },
                                {
                                    "customer_id": "210",
                                    "rental_count": "31",
                                    "rental_category": "High"
                                },
                                {
                                    "customer_id": "323",
                                    "rental_count": "31",
                                    "rental_category": "High"
                                },
                                {
                                    "customer_id": "416",
                                    "rental_count": "31",
                                    "rental_category": "High"
                                },
                                {
                                    "customer_id": "78",
                                    "rental_count": "31",
                                    "rental_category": "High"
                                },
                                {
                                    "customer_id": "513",
                                    "rental_count": "31",
                                    "rental_category": "High"
                                },
                                {
                                    "customer_id": "361",
                                    "rental_count": "31",
                                    "rental_category": "High"
                                },
                                {
                                    "customer_id": "300",
                                    "rental_count": "31",
                                    "rental_category": "High"
                                },
                                {
                                    "customer_id": "157",
                                    "rental_count": "31",
                                    "rental_category": "High"
                                },
                                {
                                    "customer_id": "103",
                                    "rental_count": "31",
                                    "rental_category": "High"
                                },
                                {
                                    "customer_id": "340",
                                    "rental_count": "31",
                                    "rental_category": "High"
                                },
                                {
                                    "customer_id": "446",
                                    "rental_count": "31",
                                    "rental_category": "High"
                                },
                                {
                                    "customer_id": "309",
                                    "rental_count": "31",
                                    "rental_category": "High"
                                },
                                {
                                    "customer_id": "186",
                                    "rental_count": "31",
                                    "rental_category": "High"
                                },
                                {
                                    "customer_id": "27",
                                    "rental_count": "31",
                                    "rental_category": "High"
                                },
                                {
                                    "customer_id": "260",
                                    "rental_count": "31",
                                    "rental_category": "High"
                                },
                                {
                                    "customer_id": "56",
                                    "rental_count": "30",
                                    "rental_category": "Medium"
                                },
                                {
                                    "customer_id": "87",
                                    "rental_count": "30",
                                    "rental_category": "Medium"
                                },
                                {
                                    "customer_id": "339",
                                    "rental_count": "30",
                                    "rental_category": "Medium"
                                },
                                {
                                    "customer_id": "107",
                                    "rental_count": "30",
                                    "rental_category": "Medium"
                                },
                                {
                                    "customer_id": "112",
                                    "rental_count": "30",
                                    "rental_category": "Medium"
                                },
                                {
                                    "customer_id": "484",
                                    "rental_count": "30",
                                    "rental_category": "Medium"
                                },
                                {
                                    "customer_id": "444",
                                    "rental_count": "30",
                                    "rental_category": "Medium"
                                },
                                {
                                    "customer_id": "472",
                                    "rental_count": "30",
                                    "rental_category": "Medium"
                                },
                                {
                                    "customer_id": "560",
                                    "rental_count": "30",
                                    "rental_category": "Medium"
                                },
                                {
                                    "customer_id": "347",
                                    "rental_count": "30",
                                    "rental_category": "Medium"
                                },
                                {
                                    "customer_id": "289",
                                    "rental_count": "30",
                                    "rental_category": "Medium"
                                },
                                {
                                    "customer_id": "307",
                                    "rental_count": "30",
                                    "rental_category": "Medium"
                                },
                                {
                                    "customer_id": "334",
                                    "rental_count": "30",
                                    "rental_category": "Medium"
                                },
                                {
                                    "customer_id": "418",
                                    "rental_count": "30",
                                    "rental_category": "Medium"
                                },
                                {
                                    "customer_id": "72",
                                    "rental_count": "30",
                                    "rental_category": "Medium"
                                },
                                {
                                    "customer_id": "131",
                                    "rental_count": "30",
                                    "rental_category": "Medium"
                                },
                                {
                                    "customer_id": "404",
                                    "rental_count": "30",
                                    "rental_category": "Medium"
                                },
                                {
                                    "customer_id": "135",
                                    "rental_count": "30",
                                    "rental_category": "Medium"
                                },
                                {
                                    "customer_id": "161",
                                    "rental_count": "30",
                                    "rental_category": "Medium"
                                },
                                {
                                    "customer_id": "584",
                                    "rental_count": "30",
                                    "rental_category": "Medium"
                                },
                                {
                                    "customer_id": "42",
                                    "rental_count": "30",
                                    "rental_category": "Medium"
                                },
                                {
                                    "customer_id": "436",
                                    "rental_count": "30",
                                    "rental_category": "Medium"
                                },
                                {
                                    "customer_id": "299",
                                    "rental_count": "30",
                                    "rental_category": "Medium"
                                },
                                {
                                    "customer_id": "115",
                                    "rental_count": "30",
                                    "rental_category": "Medium"
                                },
                                {
                                    "customer_id": "269",
                                    "rental_count": "30",
                                    "rental_category": "Medium"
                                },
                                {
                                    "customer_id": "108",
                                    "rental_count": "30",
                                    "rental_category": "Medium"
                                },
                                {
                                    "customer_id": "408",
                                    "rental_count": "30",
                                    "rental_category": "Medium"
                                },
                                {
                                    "customer_id": "23",
                                    "rental_count": "30",
                                    "rental_category": "Medium"
                                },
                                {
                                    "customer_id": "256",
                                    "rental_count": "30",
                                    "rental_category": "Medium"
                                },
                                {
                                    "customer_id": "296",
                                    "rental_count": "30",
                                    "rental_category": "Medium"
                                },
                                {
                                    "customer_id": "154",
                                    "rental_count": "30",
                                    "rental_category": "Medium"
                                },
                                {
                                    "customer_id": "499",
                                    "rental_count": "30",
                                    "rental_category": "Medium"
                                },
                                {
                                    "customer_id": "275",
                                    "rental_count": "30",
                                    "rental_category": "Medium"
                                },
                                {
                                    "customer_id": "336",
                                    "rental_count": "30",
                                    "rental_category": "Medium"
                                },
                                {
                                    "customer_id": "388",
                                    "rental_count": "30",
                                    "rental_category": "Medium"
                                },
                                {
                                    "customer_id": "53",
                                    "rental_count": "30",
                                    "rental_category": "Medium"
                                },
                                {
                                    "customer_id": "391",
                                    "rental_count": "30",
                                    "rental_category": "Medium"
                                },
                                {
                                    "customer_id": "71",
                                    "rental_count": "30",
                                    "rental_category": "Medium"
                                },
                                {
                                    "customer_id": "356",
                                    "rental_count": "30",
                                    "rental_category": "Medium"
                                },
                                {
                                    "customer_id": "80",
                                    "rental_count": "30",
                                    "rental_category": "Medium"
                                },
                                {
                                    "customer_id": "424",
                                    "rental_count": "30",
                                    "rental_category": "Medium"
                                },
                                {
                                    "customer_id": "319",
                                    "rental_count": "30",
                                    "rental_category": "Medium"
                                },
                                {
                                    "customer_id": "595",
                                    "rental_count": "30",
                                    "rental_category": "Medium"
                                },
                                {
                                    "customer_id": "20",
                                    "rental_count": "30",
                                    "rental_category": "Medium"
                                },
                                {
                                    "customer_id": "363",
                                    "rental_count": "29",
                                    "rental_category": "Medium"
                                },
                                {
                                    "customer_id": "575",
                                    "rental_count": "29",
                                    "rental_category": "Medium"
                                },
                                {
                                    "customer_id": "447",
                                    "rental_count": "29",
                                    "rental_category": "Medium"
                                },
                                {
                                    "customer_id": "485",
                                    "rental_count": "29",
                                    "rental_category": "Medium"
                                },
                                {
                                    "customer_id": "302",
                                    "rental_count": "29",
                                    "rental_category": "Medium"
                                },
                                {
                                    "customer_id": "179",
                                    "rental_count": "29",
                                    "rental_category": "Medium"
                                },
                                {
                                    "customer_id": "54",
                                    "rental_count": "29",
                                    "rental_category": "Medium"
                                },
                                {
                                    "customer_id": "268",
                                    "rental_count": "29",
                                    "rental_category": "Medium"
                                },
                                {
                                    "customer_id": "482",
                                    "rental_count": "29",
                                    "rental_category": "Medium"
                                },
                                {
                                    "customer_id": "39",
                                    "rental_count": "29",
                                    "rental_category": "Medium"
                                },
                                {
                                    "customer_id": "563",
                                    "rental_count": "29",
                                    "rental_category": "Medium"
                                },
                                {
                                    "customer_id": "287",
                                    "rental_count": "29",
                                    "rental_category": "Medium"
                                },
                                {
                                    "customer_id": "113",
                                    "rental_count": "29",
                                    "rental_category": "Medium"
                                },
                                {
                                    "customer_id": "573",
                                    "rental_count": "29",
                                    "rental_category": "Medium"
                                },
                                {
                                    "customer_id": "565",
                                    "rental_count": "29",
                                    "rental_category": "Medium"
                                },
                                {
                                    "customer_id": "349",
                                    "rental_count": "29",
                                    "rental_category": "Medium"
                                },
                                {
                                    "customer_id": "52",
                                    "rental_count": "29",
                                    "rental_category": "Medium"
                                },
                                {
                                    "customer_id": "263",
                                    "rental_count": "29",
                                    "rental_category": "Medium"
                                },
                                {
                                    "customer_id": "265",
                                    "rental_count": "29",
                                    "rental_category": "Medium"
                                },
                                {
                                    "customer_id": "467",
                                    "rental_count": "29",
                                    "rental_category": "Medium"
                                },
                                {
                                    "customer_id": "146",
                                    "rental_count": "29",
                                    "rental_category": "Medium"
                                },
                                {
                                    "customer_id": "397",
                                    "rental_count": "29",
                                    "rental_category": "Medium"
                                },
                                {
                                    "customer_id": "538",
                                    "rental_count": "29",
                                    "rental_category": "Medium"
                                },
                                {
                                    "customer_id": "592",
                                    "rental_count": "29",
                                    "rental_category": "Medium"
                                },
                                {
                                    "customer_id": "386",
                                    "rental_count": "29",
                                    "rental_category": "Medium"
                                },
                                {
                                    "customer_id": "173",
                                    "rental_count": "29",
                                    "rental_category": "Medium"
                                },
                                {
                                    "customer_id": "253",
                                    "rental_count": "29",
                                    "rental_category": "Medium"
                                },
                                {
                                    "customer_id": "337",
                                    "rental_count": "29",
                                    "rental_category": "Medium"
                                },
                                {
                                    "customer_id": "32",
                                    "rental_count": "29",
                                    "rental_category": "Medium"
                                },
                                {
                                    "customer_id": "25",
                                    "rental_count": "29",
                                    "rental_category": "Medium"
                                },
                                {
                                    "customer_id": "163",
                                    "rental_count": "29",
                                    "rental_category": "Medium"
                                },
                                {
                                    "customer_id": "448",
                                    "rental_count": "29",
                                    "rental_category": "Medium"
                                },
                                {
                                    "customer_id": "529",
                                    "rental_count": "29",
                                    "rental_category": "Medium"
                                },
                                {
                                    "customer_id": "481",
                                    "rental_count": "29",
                                    "rental_category": "Medium"
                                },
                                {
                                    "customer_id": "588",
                                    "rental_count": "29",
                                    "rental_category": "Medium"
                                },
                                {
                                    "customer_id": "316",
                                    "rental_count": "29",
                                    "rental_category": "Medium"
                                },
                                {
                                    "customer_id": "6",
                                    "rental_count": "28",
                                    "rental_category": "Medium"
                                },
                                {
                                    "customer_id": "187",
                                    "rental_count": "28",
                                    "rental_category": "Medium"
                                },
                                {
                                    "customer_id": "57",
                                    "rental_count": "28",
                                    "rental_category": "Medium"
                                },
                                {
                                    "customer_id": "266",
                                    "rental_count": "28",
                                    "rental_category": "Medium"
                                },
                                {
                                    "customer_id": "400",
                                    "rental_count": "28",
                                    "rental_category": "Medium"
                                },
                                {
                                    "customer_id": "596",
                                    "rental_count": "28",
                                    "rental_category": "Medium"
                                },
                                {
                                    "customer_id": "166",
                                    "rental_count": "28",
                                    "rental_category": "Medium"
                                },
                                {
                                    "customer_id": "145",
                                    "rental_count": "28",
                                    "rental_category": "Medium"
                                },
                                {
                                    "customer_id": "559",
                                    "rental_count": "28",
                                    "rental_category": "Medium"
                                },
                                {
                                    "customer_id": "276",
                                    "rental_count": "28",
                                    "rental_category": "Medium"
                                },
                                {
                                    "customer_id": "589",
                                    "rental_count": "28",
                                    "rental_category": "Medium"
                                },
                                {
                                    "customer_id": "457",
                                    "rental_count": "28",
                                    "rental_category": "Medium"
                                },
                                {
                                    "customer_id": "90",
                                    "rental_count": "28",
                                    "rental_category": "Medium"
                                },
                                {
                                    "customer_id": "558",
                                    "rental_count": "28",
                                    "rental_category": "Medium"
                                },
                                {
                                    "customer_id": "290",
                                    "rental_count": "28",
                                    "rental_category": "Medium"
                                },
                                {
                                    "customer_id": "284",
                                    "rental_count": "28",
                                    "rental_category": "Medium"
                                },
                                {
                                    "customer_id": "317",
                                    "rental_count": "28",
                                    "rental_category": "Medium"
                                },
                                {
                                    "customer_id": "126",
                                    "rental_count": "28",
                                    "rental_category": "Medium"
                                },
                                {
                                    "customer_id": "374",
                                    "rental_count": "28",
                                    "rental_category": "Medium"
                                },
                                {
                                    "customer_id": "12",
                                    "rental_count": "28",
                                    "rental_category": "Medium"
                                },
                                {
                                    "customer_id": "332",
                                    "rental_count": "28",
                                    "rental_category": "Medium"
                                },
                                {
                                    "customer_id": "92",
                                    "rental_count": "28",
                                    "rental_category": "Medium"
                                },
                                {
                                    "customer_id": "500",
                                    "rental_count": "28",
                                    "rental_category": "Medium"
                                },
                                {
                                    "customer_id": "461",
                                    "rental_count": "28",
                                    "rental_category": "Medium"
                                },
                                {
                                    "customer_id": "283",
                                    "rental_count": "28",
                                    "rental_category": "Medium"
                                },
                                {
                                    "customer_id": "14",
                                    "rental_count": "28",
                                    "rental_category": "Medium"
                                },
                                {
                                    "customer_id": "497",
                                    "rental_count": "28",
                                    "rental_category": "Medium"
                                },
                                {
                                    "customer_id": "441",
                                    "rental_count": "28",
                                    "rental_category": "Medium"
                                },
                                {
                                    "customer_id": "132",
                                    "rental_count": "28",
                                    "rental_category": "Medium"
                                },
                                {
                                    "customer_id": "322",
                                    "rental_count": "28",
                                    "rental_category": "Medium"
                                },
                                {
                                    "customer_id": "262",
                                    "rental_count": "28",
                                    "rental_category": "Medium"
                                },
                                {
                                    "customer_id": "504",
                                    "rental_count": "28",
                                    "rental_category": "Medium"
                                },
                                {
                                    "customer_id": "376",
                                    "rental_count": "28",
                                    "rental_category": "Medium"
                                },
                                {
                                    "customer_id": "338",
                                    "rental_count": "28",
                                    "rental_category": "Medium"
                                },
                                {
                                    "customer_id": "77",
                                    "rental_count": "28",
                                    "rental_category": "Medium"
                                },
                                {
                                    "customer_id": "515",
                                    "rental_count": "28",
                                    "rental_category": "Medium"
                                },
                                {
                                    "customer_id": "574",
                                    "rental_count": "28",
                                    "rental_category": "Medium"
                                },
                                {
                                    "customer_id": "213",
                                    "rental_count": "28",
                                    "rental_category": "Medium"
                                },
                                {
                                    "customer_id": "221",
                                    "rental_count": "28",
                                    "rental_category": "Medium"
                                },
                                {
                                    "customer_id": "16",
                                    "rental_count": "28",
                                    "rental_category": "Medium"
                                },
                                {
                                    "customer_id": "49",
                                    "rental_count": "28",
                                    "rental_category": "Medium"
                                },
                                {
                                    "customer_id": "59",
                                    "rental_count": "27",
                                    "rental_category": "Medium"
                                },
                                {
                                    "customer_id": "594",
                                    "rental_count": "27",
                                    "rental_category": "Medium"
                                },
                                {
                                    "customer_id": "40",
                                    "rental_count": "27",
                                    "rental_category": "Medium"
                                },
                                {
                                    "customer_id": "407",
                                    "rental_count": "27",
                                    "rental_category": "Medium"
                                },
                                {
                                    "customer_id": "331",
                                    "rental_count": "27",
                                    "rental_category": "Medium"
                                },
                                {
                                    "customer_id": "116",
                                    "rental_count": "27",
                                    "rental_category": "Medium"
                                },
                                {
                                    "customer_id": "58",
                                    "rental_count": "27",
                                    "rental_category": "Medium"
                                },
                                {
                                    "customer_id": "200",
                                    "rental_count": "27",
                                    "rental_category": "Medium"
                                },
                                {
                                    "customer_id": "36",
                                    "rental_count": "27",
                                    "rental_category": "Medium"
                                },
                                {
                                    "customer_id": "96",
                                    "rental_count": "27",
                                    "rental_category": "Medium"
                                },
                                {
                                    "customer_id": "426",
                                    "rental_count": "27",
                                    "rental_category": "Medium"
                                },
                                {
                                    "customer_id": "220",
                                    "rental_count": "27",
                                    "rental_category": "Medium"
                                },
                                {
                                    "customer_id": "282",
                                    "rental_count": "27",
                                    "rental_category": "Medium"
                                },
                                {
                                    "customer_id": "491",
                                    "rental_count": "27",
                                    "rental_category": "Medium"
                                },
                                {
                                    "customer_id": "228",
                                    "rental_count": "27",
                                    "rental_category": "Medium"
                                },
                                {
                                    "customer_id": "190",
                                    "rental_count": "27",
                                    "rental_category": "Medium"
                                },
                                {
                                    "customer_id": "292",
                                    "rental_count": "27",
                                    "rental_category": "Medium"
                                },
                                {
                                    "customer_id": "434",
                                    "rental_count": "27",
                                    "rental_category": "Medium"
                                },
                                {
                                    "customer_id": "45",
                                    "rental_count": "27",
                                    "rental_category": "Medium"
                                },
                                {
                                    "customer_id": "396",
                                    "rental_count": "27",
                                    "rental_category": "Medium"
                                },
                                {
                                    "customer_id": "139",
                                    "rental_count": "27",
                                    "rental_category": "Medium"
                                },
                                {
                                    "customer_id": "579",
                                    "rental_count": "27",
                                    "rental_category": "Medium"
                                },
                                {
                                    "customer_id": "13",
                                    "rental_count": "27",
                                    "rental_category": "Medium"
                                },
                                {
                                    "customer_id": "206",
                                    "rental_count": "27",
                                    "rental_category": "Medium"
                                },
                                {
                                    "customer_id": "151",
                                    "rental_count": "27",
                                    "rental_category": "Medium"
                                },
                                {
                                    "customer_id": "2",
                                    "rental_count": "27",
                                    "rental_category": "Medium"
                                },
                                {
                                    "customer_id": "160",
                                    "rental_count": "27",
                                    "rental_category": "Medium"
                                },
                                {
                                    "customer_id": "498",
                                    "rental_count": "27",
                                    "rental_category": "Medium"
                                },
                                {
                                    "customer_id": "421",
                                    "rental_count": "27",
                                    "rental_category": "Medium"
                                },
                                {
                                    "customer_id": "471",
                                    "rental_count": "27",
                                    "rental_category": "Medium"
                                },
                                {
                                    "customer_id": "383",
                                    "rental_count": "27",
                                    "rental_category": "Medium"
                                },
                                {
                                    "customer_id": "591",
                                    "rental_count": "27",
                                    "rental_category": "Medium"
                                },
                                {
                                    "customer_id": "133",
                                    "rental_count": "27",
                                    "rental_category": "Medium"
                                },
                                {
                                    "customer_id": "580",
                                    "rental_count": "27",
                                    "rental_category": "Medium"
                                },
                                {
                                    "customer_id": "286",
                                    "rental_count": "27",
                                    "rental_category": "Medium"
                                },
                                {
                                    "customer_id": "577",
                                    "rental_count": "27",
                                    "rental_category": "Medium"
                                },
                                {
                                    "customer_id": "581",
                                    "rental_count": "27",
                                    "rental_category": "Medium"
                                },
                                {
                                    "customer_id": "333",
                                    "rental_count": "27",
                                    "rental_category": "Medium"
                                },
                                {
                                    "customer_id": "561",
                                    "rental_count": "27",
                                    "rental_category": "Medium"
                                },
                                {
                                    "customer_id": "74",
                                    "rental_count": "27",
                                    "rental_category": "Medium"
                                },
                                {
                                    "customer_id": "280",
                                    "rental_count": "27",
                                    "rental_category": "Medium"
                                },
                                {
                                    "customer_id": "231",
                                    "rental_count": "26",
                                    "rental_category": "Medium"
                                },
                                {
                                    "customer_id": "512",
                                    "rental_count": "26",
                                    "rental_category": "Medium"
                                },
                                {
                                    "customer_id": "487",
                                    "rental_count": "26",
                                    "rental_category": "Medium"
                                },
                                {
                                    "customer_id": "170",
                                    "rental_count": "26",
                                    "rental_category": "Medium"
                                },
                                {
                                    "customer_id": "142",
                                    "rental_count": "26",
                                    "rental_category": "Medium"
                                },
                                {
                                    "customer_id": "450",
                                    "rental_count": "26",
                                    "rental_category": "Medium"
                                },
                                {
                                    "customer_id": "121",
                                    "rental_count": "26",
                                    "rental_category": "Medium"
                                },
                                {
                                    "customer_id": "109",
                                    "rental_count": "26",
                                    "rental_category": "Medium"
                                },
                                {
                                    "customer_id": "149",
                                    "rental_count": "26",
                                    "rental_category": "Medium"
                                },
                                {
                                    "customer_id": "327",
                                    "rental_count": "26",
                                    "rental_category": "Medium"
                                },
                                {
                                    "customer_id": "31",
                                    "rental_count": "26",
                                    "rental_category": "Medium"
                                },
                                {
                                    "customer_id": "445",
                                    "rental_count": "26",
                                    "rental_category": "Medium"
                                },
                                {
                                    "customer_id": "377",
                                    "rental_count": "26",
                                    "rental_category": "Medium"
                                },
                                {
                                    "customer_id": "105",
                                    "rental_count": "26",
                                    "rental_category": "Medium"
                                },
                                {
                                    "customer_id": "303",
                                    "rental_count": "26",
                                    "rental_category": "Medium"
                                },
                                {
                                    "customer_id": "182",
                                    "rental_count": "26",
                                    "rental_category": "Medium"
                                },
                                {
                                    "customer_id": "387",
                                    "rental_count": "26",
                                    "rental_category": "Medium"
                                },
                                {
                                    "customer_id": "240",
                                    "rental_count": "26",
                                    "rental_category": "Medium"
                                },
                                {
                                    "customer_id": "171",
                                    "rental_count": "26",
                                    "rental_category": "Medium"
                                },
                                {
                                    "customer_id": "298",
                                    "rental_count": "26",
                                    "rental_category": "Medium"
                                },
                                {
                                    "customer_id": "304",
                                    "rental_count": "26",
                                    "rental_category": "Medium"
                                },
                                {
                                    "customer_id": "294",
                                    "rental_count": "26",
                                    "rental_category": "Medium"
                                },
                                {
                                    "customer_id": "278",
                                    "rental_count": "26",
                                    "rental_category": "Medium"
                                },
                                {
                                    "customer_id": "385",
                                    "rental_count": "26",
                                    "rental_category": "Medium"
                                },
                                {
                                    "customer_id": "111",
                                    "rental_count": "26",
                                    "rental_category": "Medium"
                                },
                                {
                                    "customer_id": "551",
                                    "rental_count": "26",
                                    "rental_category": "Medium"
                                },
                                {
                                    "customer_id": "261",
                                    "rental_count": "26",
                                    "rental_category": "Medium"
                                },
                                {
                                    "customer_id": "312",
                                    "rental_count": "26",
                                    "rental_category": "Medium"
                                },
                                {
                                    "customer_id": "423",
                                    "rental_count": "26",
                                    "rental_category": "Medium"
                                },
                                {
                                    "customer_id": "516",
                                    "rental_count": "26",
                                    "rental_category": "Medium"
                                },
                                {
                                    "customer_id": "593",
                                    "rental_count": "26",
                                    "rental_category": "Medium"
                                },
                                {
                                    "customer_id": "225",
                                    "rental_count": "26",
                                    "rental_category": "Medium"
                                },
                                {
                                    "customer_id": "411",
                                    "rental_count": "26",
                                    "rental_category": "Medium"
                                },
                                {
                                    "customer_id": "425",
                                    "rental_count": "26",
                                    "rental_category": "Medium"
                                },
                                {
                                    "customer_id": "495",
                                    "rental_count": "26",
                                    "rental_category": "Medium"
                                },
                                {
                                    "customer_id": "44",
                                    "rental_count": "26",
                                    "rental_category": "Medium"
                                },
                                {
                                    "customer_id": "234",
                                    "rental_count": "26",
                                    "rental_category": "Medium"
                                },
                                {
                                    "customer_id": "587",
                                    "rental_count": "26",
                                    "rental_category": "Medium"
                                },
                                {
                                    "customer_id": "474",
                                    "rental_count": "26",
                                    "rental_category": "Medium"
                                },
                                {
                                    "customer_id": "510",
                                    "rental_count": "26",
                                    "rental_category": "Medium"
                                },
                                {
                                    "customer_id": "422",
                                    "rental_count": "26",
                                    "rental_category": "Medium"
                                },
                                {
                                    "customer_id": "202",
                                    "rental_count": "26",
                                    "rental_category": "Medium"
                                },
                                {
                                    "customer_id": "215",
                                    "rental_count": "26",
                                    "rental_category": "Medium"
                                },
                                {
                                    "customer_id": "357",
                                    "rental_count": "26",
                                    "rental_category": "Medium"
                                },
                                {
                                    "customer_id": "486",
                                    "rental_count": "26",
                                    "rental_category": "Medium"
                                },
                                {
                                    "customer_id": "208",
                                    "rental_count": "26",
                                    "rental_category": "Medium"
                                },
                                {
                                    "customer_id": "82",
                                    "rental_count": "26",
                                    "rental_category": "Medium"
                                },
                                {
                                    "customer_id": "518",
                                    "rental_count": "26",
                                    "rental_category": "Medium"
                                },
                                {
                                    "customer_id": "3",
                                    "rental_count": "26",
                                    "rental_category": "Medium"
                                },
                                {
                                    "customer_id": "219",
                                    "rental_count": "26",
                                    "rental_category": "Medium"
                                },
                                {
                                    "customer_id": "285",
                                    "rental_count": "26",
                                    "rental_category": "Medium"
                                },
                                {
                                    "customer_id": "389",
                                    "rental_count": "26",
                                    "rental_category": "Medium"
                                },
                                {
                                    "customer_id": "570",
                                    "rental_count": "26",
                                    "rental_category": "Medium"
                                },
                                {
                                    "customer_id": "562",
                                    "rental_count": "25",
                                    "rental_category": "Medium"
                                },
                                {
                                    "customer_id": "463",
                                    "rental_count": "25",
                                    "rental_category": "Medium"
                                },
                                {
                                    "customer_id": "41",
                                    "rental_count": "25",
                                    "rental_category": "Medium"
                                },
                                {
                                    "customer_id": "572",
                                    "rental_count": "25",
                                    "rental_category": "Medium"
                                },
                                {
                                    "customer_id": "419",
                                    "rental_count": "25",
                                    "rental_category": "Medium"
                                },
                                {
                                    "customer_id": "507",
                                    "rental_count": "25",
                                    "rental_category": "Medium"
                                },
                                {
                                    "customer_id": "24",
                                    "rental_count": "25",
                                    "rental_category": "Medium"
                                },
                                {
                                    "customer_id": "264",
                                    "rental_count": "25",
                                    "rental_category": "Medium"
                                },
                                {
                                    "customer_id": "270",
                                    "rental_count": "25",
                                    "rental_category": "Medium"
                                },
                                {
                                    "customer_id": "435",
                                    "rental_count": "25",
                                    "rental_category": "Medium"
                                },
                                {
                                    "customer_id": "384",
                                    "rental_count": "25",
                                    "rental_category": "Medium"
                                },
                                {
                                    "customer_id": "433",
                                    "rental_count": "25",
                                    "rental_category": "Medium"
                                },
                                {
                                    "customer_id": "69",
                                    "rental_count": "25",
                                    "rental_category": "Medium"
                                },
                                {
                                    "customer_id": "188",
                                    "rental_count": "25",
                                    "rental_category": "Medium"
                                },
                                {
                                    "customer_id": "229",
                                    "rental_count": "25",
                                    "rental_category": "Medium"
                                },
                                {
                                    "customer_id": "456",
                                    "rental_count": "25",
                                    "rental_category": "Medium"
                                },
                                {
                                    "customer_id": "531",
                                    "rental_count": "25",
                                    "rental_category": "Medium"
                                },
                                {
                                    "customer_id": "528",
                                    "rental_count": "25",
                                    "rental_category": "Medium"
                                },
                                {
                                    "customer_id": "546",
                                    "rental_count": "25",
                                    "rental_category": "Medium"
                                },
                                {
                                    "customer_id": "537",
                                    "rental_count": "25",
                                    "rental_category": "Medium"
                                },
                                {
                                    "customer_id": "343",
                                    "rental_count": "25",
                                    "rental_category": "Medium"
                                },
                                {
                                    "customer_id": "155",
                                    "rental_count": "25",
                                    "rental_category": "Medium"
                                },
                                {
                                    "customer_id": "199",
                                    "rental_count": "25",
                                    "rental_category": "Medium"
                                },
                                {
                                    "customer_id": "193",
                                    "rental_count": "25",
                                    "rental_category": "Medium"
                                },
                                {
                                    "customer_id": "369",
                                    "rental_count": "25",
                                    "rental_category": "Medium"
                                },
                                {
                                    "customer_id": "597",
                                    "rental_count": "25",
                                    "rental_category": "Medium"
                                },
                                {
                                    "customer_id": "359",
                                    "rental_count": "25",
                                    "rental_category": "Medium"
                                },
                                {
                                    "customer_id": "517",
                                    "rental_count": "25",
                                    "rental_category": "Medium"
                                },
                                {
                                    "customer_id": "414",
                                    "rental_count": "25",
                                    "rental_category": "Medium"
                                },
                                {
                                    "customer_id": "582",
                                    "rental_count": "25",
                                    "rental_category": "Medium"
                                },
                                {
                                    "customer_id": "330",
                                    "rental_count": "25",
                                    "rental_category": "Medium"
                                },
                                {
                                    "customer_id": "10",
                                    "rental_count": "25",
                                    "rental_category": "Medium"
                                },
                                {
                                    "customer_id": "201",
                                    "rental_count": "25",
                                    "rental_category": "Medium"
                                },
                                {
                                    "customer_id": "60",
                                    "rental_count": "25",
                                    "rental_category": "Medium"
                                },
                                {
                                    "customer_id": "305",
                                    "rental_count": "25",
                                    "rental_category": "Medium"
                                },
                                {
                                    "customer_id": "98",
                                    "rental_count": "25",
                                    "rental_category": "Medium"
                                },
                                {
                                    "customer_id": "235",
                                    "rental_count": "25",
                                    "rental_category": "Medium"
                                },
                                {
                                    "customer_id": "590",
                                    "rental_count": "25",
                                    "rental_category": "Medium"
                                },
                                {
                                    "customer_id": "508",
                                    "rental_count": "25",
                                    "rental_category": "Medium"
                                },
                                {
                                    "customer_id": "536",
                                    "rental_count": "25",
                                    "rental_category": "Medium"
                                },
                                {
                                    "customer_id": "232",
                                    "rental_count": "25",
                                    "rental_category": "Medium"
                                },
                                {
                                    "customer_id": "83",
                                    "rental_count": "25",
                                    "rental_category": "Medium"
                                },
                                {
                                    "customer_id": "63",
                                    "rental_count": "25",
                                    "rental_category": "Medium"
                                },
                                {
                                    "customer_id": "417",
                                    "rental_count": "25",
                                    "rental_category": "Medium"
                                },
                                {
                                    "customer_id": "460",
                                    "rental_count": "25",
                                    "rental_category": "Medium"
                                },
                                {
                                    "customer_id": "156",
                                    "rental_count": "25",
                                    "rental_category": "Medium"
                                },
                                {
                                    "customer_id": "326",
                                    "rental_count": "25",
                                    "rental_category": "Medium"
                                },
                                {
                                    "customer_id": "308",
                                    "rental_count": "25",
                                    "rental_category": "Medium"
                                },
                                {
                                    "customer_id": "150",
                                    "rental_count": "25",
                                    "rental_category": "Medium"
                                },
                                {
                                    "customer_id": "324",
                                    "rental_count": "25",
                                    "rental_category": "Medium"
                                },
                                {
                                    "customer_id": "455",
                                    "rental_count": "24",
                                    "rental_category": "Medium"
                                },
                                {
                                    "customer_id": "11",
                                    "rental_count": "24",
                                    "rental_category": "Medium"
                                },
                                {
                                    "customer_id": "351",
                                    "rental_count": "24",
                                    "rental_category": "Medium"
                                },
                                {
                                    "customer_id": "101",
                                    "rental_count": "24",
                                    "rental_category": "Medium"
                                },
                                {
                                    "customer_id": "130",
                                    "rental_count": "24",
                                    "rental_category": "Medium"
                                },
                                {
                                    "customer_id": "104",
                                    "rental_count": "24",
                                    "rental_category": "Medium"
                                },
                                {
                                    "customer_id": "557",
                                    "rental_count": "24",
                                    "rental_category": "Medium"
                                },
                                {
                                    "customer_id": "382",
                                    "rental_count": "24",
                                    "rental_category": "Medium"
                                },
                                {
                                    "customer_id": "534",
                                    "rental_count": "24",
                                    "rental_category": "Medium"
                                },
                                {
                                    "customer_id": "541",
                                    "rental_count": "24",
                                    "rental_category": "Medium"
                                },
                                {
                                    "customer_id": "127",
                                    "rental_count": "24",
                                    "rental_category": "Medium"
                                },
                                {
                                    "customer_id": "511",
                                    "rental_count": "24",
                                    "rental_category": "Medium"
                                },
                                {
                                    "customer_id": "527",
                                    "rental_count": "24",
                                    "rental_category": "Medium"
                                },
                                {
                                    "customer_id": "100",
                                    "rental_count": "24",
                                    "rental_category": "Medium"
                                },
                                {
                                    "customer_id": "571",
                                    "rental_count": "24",
                                    "rental_category": "Medium"
                                },
                                {
                                    "customer_id": "540",
                                    "rental_count": "24",
                                    "rental_category": "Medium"
                                },
                                {
                                    "customer_id": "123",
                                    "rental_count": "24",
                                    "rental_category": "Medium"
                                },
                                {
                                    "customer_id": "34",
                                    "rental_count": "24",
                                    "rental_category": "Medium"
                                },
                                {
                                    "customer_id": "553",
                                    "rental_count": "24",
                                    "rental_category": "Medium"
                                },
                                {
                                    "customer_id": "490",
                                    "rental_count": "24",
                                    "rental_category": "Medium"
                                },
                                {
                                    "customer_id": "175",
                                    "rental_count": "24",
                                    "rental_category": "Medium"
                                },
                                {
                                    "customer_id": "375",
                                    "rental_count": "24",
                                    "rental_category": "Medium"
                                },
                                {
                                    "customer_id": "564",
                                    "rental_count": "24",
                                    "rental_category": "Medium"
                                },
                                {
                                    "customer_id": "243",
                                    "rental_count": "24",
                                    "rental_category": "Medium"
                                },
                                {
                                    "customer_id": "73",
                                    "rental_count": "24",
                                    "rental_category": "Medium"
                                },
                                {
                                    "customer_id": "19",
                                    "rental_count": "24",
                                    "rental_category": "Medium"
                                },
                                {
                                    "customer_id": "227",
                                    "rental_count": "24",
                                    "rental_category": "Medium"
                                },
                                {
                                    "customer_id": "153",
                                    "rental_count": "24",
                                    "rental_category": "Medium"
                                },
                                {
                                    "customer_id": "427",
                                    "rental_count": "24",
                                    "rental_category": "Medium"
                                },
                                {
                                    "customer_id": "475",
                                    "rental_count": "24",
                                    "rental_category": "Medium"
                                },
                                {
                                    "customer_id": "585",
                                    "rental_count": "24",
                                    "rental_category": "Medium"
                                },
                                {
                                    "customer_id": "8",
                                    "rental_count": "24",
                                    "rental_category": "Medium"
                                },
                                {
                                    "customer_id": "258",
                                    "rental_count": "24",
                                    "rental_category": "Medium"
                                },
                                {
                                    "customer_id": "99",
                                    "rental_count": "24",
                                    "rental_category": "Medium"
                                },
                                {
                                    "customer_id": "43",
                                    "rental_count": "24",
                                    "rental_category": "Medium"
                                },
                                {
                                    "customer_id": "288",
                                    "rental_count": "24",
                                    "rental_category": "Medium"
                                },
                                {
                                    "customer_id": "364",
                                    "rental_count": "23",
                                    "rental_category": "Medium"
                                },
                                {
                                    "customer_id": "233",
                                    "rental_count": "23",
                                    "rental_category": "Medium"
                                },
                                {
                                    "customer_id": "313",
                                    "rental_count": "23",
                                    "rental_category": "Medium"
                                },
                                {
                                    "customer_id": "177",
                                    "rental_count": "23",
                                    "rental_category": "Medium"
                                },
                                {
                                    "customer_id": "392",
                                    "rental_count": "23",
                                    "rental_category": "Medium"
                                },
                                {
                                    "customer_id": "37",
                                    "rental_count": "23",
                                    "rental_category": "Medium"
                                },
                                {
                                    "customer_id": "466",
                                    "rental_count": "23",
                                    "rental_category": "Medium"
                                },
                                {
                                    "customer_id": "431",
                                    "rental_count": "23",
                                    "rental_category": "Medium"
                                },
                                {
                                    "customer_id": "547",
                                    "rental_count": "23",
                                    "rental_category": "Medium"
                                },
                                {
                                    "customer_id": "583",
                                    "rental_count": "23",
                                    "rental_category": "Medium"
                                },
                                {
                                    "customer_id": "409",
                                    "rental_count": "23",
                                    "rental_category": "Medium"
                                },
                                {
                                    "customer_id": "249",
                                    "rental_count": "23",
                                    "rental_category": "Medium"
                                },
                                {
                                    "customer_id": "415",
                                    "rental_count": "23",
                                    "rental_category": "Medium"
                                },
                                {
                                    "customer_id": "530",
                                    "rental_count": "23",
                                    "rental_category": "Medium"
                                },
                                {
                                    "customer_id": "185",
                                    "rental_count": "23",
                                    "rental_category": "Medium"
                                },
                                {
                                    "customer_id": "341",
                                    "rental_count": "23",
                                    "rental_category": "Medium"
                                },
                                {
                                    "customer_id": "350",
                                    "rental_count": "23",
                                    "rental_category": "Medium"
                                },
                                {
                                    "customer_id": "519",
                                    "rental_count": "23",
                                    "rental_category": "Medium"
                                },
                                {
                                    "customer_id": "335",
                                    "rental_count": "23",
                                    "rental_category": "Medium"
                                },
                                {
                                    "customer_id": "453",
                                    "rental_count": "23",
                                    "rental_category": "Medium"
                                },
                                {
                                    "customer_id": "365",
                                    "rental_count": "23",
                                    "rental_category": "Medium"
                                },
                                {
                                    "customer_id": "328",
                                    "rental_count": "23",
                                    "rental_category": "Medium"
                                },
                                {
                                    "customer_id": "291",
                                    "rental_count": "23",
                                    "rental_category": "Medium"
                                },
                                {
                                    "customer_id": "521",
                                    "rental_count": "23",
                                    "rental_category": "Medium"
                                },
                                {
                                    "customer_id": "432",
                                    "rental_count": "23",
                                    "rental_category": "Medium"
                                },
                                {
                                    "customer_id": "493",
                                    "rental_count": "23",
                                    "rental_category": "Medium"
                                },
                                {
                                    "customer_id": "62",
                                    "rental_count": "23",
                                    "rental_category": "Medium"
                                },
                                {
                                    "customer_id": "246",
                                    "rental_count": "23",
                                    "rental_category": "Medium"
                                },
                                {
                                    "customer_id": "76",
                                    "rental_count": "23",
                                    "rental_category": "Medium"
                                },
                                {
                                    "customer_id": "106",
                                    "rental_count": "23",
                                    "rental_category": "Medium"
                                },
                                {
                                    "customer_id": "192",
                                    "rental_count": "23",
                                    "rental_category": "Medium"
                                },
                                {
                                    "customer_id": "85",
                                    "rental_count": "23",
                                    "rental_category": "Medium"
                                },
                                {
                                    "customer_id": "352",
                                    "rental_count": "23",
                                    "rental_category": "Medium"
                                },
                                {
                                    "customer_id": "134",
                                    "rental_count": "23",
                                    "rental_category": "Medium"
                                },
                                {
                                    "customer_id": "217",
                                    "rental_count": "23",
                                    "rental_category": "Medium"
                                },
                                {
                                    "customer_id": "437",
                                    "rental_count": "23",
                                    "rental_category": "Medium"
                                },
                                {
                                    "customer_id": "311",
                                    "rental_count": "23",
                                    "rental_category": "Medium"
                                },
                                {
                                    "customer_id": "180",
                                    "rental_count": "23",
                                    "rental_category": "Medium"
                                },
                                {
                                    "customer_id": "379",
                                    "rental_count": "23",
                                    "rental_category": "Medium"
                                },
                                {
                                    "customer_id": "216",
                                    "rental_count": "23",
                                    "rental_category": "Medium"
                                },
                                {
                                    "customer_id": "345",
                                    "rental_count": "23",
                                    "rental_category": "Medium"
                                },
                                {
                                    "customer_id": "93",
                                    "rental_count": "23",
                                    "rental_category": "Medium"
                                },
                                {
                                    "customer_id": "9",
                                    "rental_count": "23",
                                    "rental_category": "Medium"
                                },
                                {
                                    "customer_id": "183",
                                    "rental_count": "23",
                                    "rental_category": "Medium"
                                },
                                {
                                    "customer_id": "184",
                                    "rental_count": "23",
                                    "rental_category": "Medium"
                                },
                                {
                                    "customer_id": "252",
                                    "rental_count": "22",
                                    "rental_category": "Medium"
                                },
                                {
                                    "customer_id": "325",
                                    "rental_count": "22",
                                    "rental_category": "Medium"
                                },
                                {
                                    "customer_id": "443",
                                    "rental_count": "22",
                                    "rental_category": "Medium"
                                },
                                {
                                    "customer_id": "67",
                                    "rental_count": "22",
                                    "rental_category": "Medium"
                                },
                                {
                                    "customer_id": "539",
                                    "rental_count": "22",
                                    "rental_category": "Medium"
                                },
                                {
                                    "customer_id": "68",
                                    "rental_count": "22",
                                    "rental_category": "Medium"
                                },
                                {
                                    "customer_id": "523",
                                    "rental_count": "22",
                                    "rental_category": "Medium"
                                },
                                {
                                    "customer_id": "514",
                                    "rental_count": "22",
                                    "rental_category": "Medium"
                                },
                                {
                                    "customer_id": "169",
                                    "rental_count": "22",
                                    "rental_category": "Medium"
                                },
                                {
                                    "customer_id": "367",
                                    "rental_count": "22",
                                    "rental_category": "Medium"
                                },
                                {
                                    "customer_id": "598",
                                    "rental_count": "22",
                                    "rental_category": "Medium"
                                },
                                {
                                    "customer_id": "476",
                                    "rental_count": "22",
                                    "rental_category": "Medium"
                                },
                                {
                                    "customer_id": "4",
                                    "rental_count": "22",
                                    "rental_category": "Medium"
                                },
                                {
                                    "customer_id": "65",
                                    "rental_count": "22",
                                    "rental_category": "Medium"
                                },
                                {
                                    "customer_id": "480",
                                    "rental_count": "22",
                                    "rental_category": "Medium"
                                },
                                {
                                    "customer_id": "79",
                                    "rental_count": "22",
                                    "rental_category": "Medium"
                                },
                                {
                                    "customer_id": "440",
                                    "rental_count": "22",
                                    "rental_category": "Medium"
                                },
                                {
                                    "customer_id": "578",
                                    "rental_count": "22",
                                    "rental_category": "Medium"
                                },
                                {
                                    "customer_id": "189",
                                    "rental_count": "22",
                                    "rental_category": "Medium"
                                },
                                {
                                    "customer_id": "394",
                                    "rental_count": "22",
                                    "rental_category": "Medium"
                                },
                                {
                                    "customer_id": "247",
                                    "rental_count": "22",
                                    "rental_category": "Medium"
                                },
                                {
                                    "customer_id": "543",
                                    "rental_count": "22",
                                    "rental_category": "Medium"
                                },
                                {
                                    "customer_id": "477",
                                    "rental_count": "22",
                                    "rental_category": "Medium"
                                },
                                {
                                    "customer_id": "430",
                                    "rental_count": "22",
                                    "rental_category": "Medium"
                                },
                                {
                                    "customer_id": "488",
                                    "rental_count": "22",
                                    "rental_category": "Medium"
                                },
                                {
                                    "customer_id": "22",
                                    "rental_count": "22",
                                    "rental_category": "Medium"
                                },
                                {
                                    "customer_id": "55",
                                    "rental_count": "22",
                                    "rental_category": "Medium"
                                },
                                {
                                    "customer_id": "224",
                                    "rental_count": "22",
                                    "rental_category": "Medium"
                                },
                                {
                                    "customer_id": "544",
                                    "rental_count": "22",
                                    "rental_category": "Medium"
                                },
                                {
                                    "customer_id": "81",
                                    "rental_count": "22",
                                    "rental_category": "Medium"
                                },
                                {
                                    "customer_id": "143",
                                    "rental_count": "22",
                                    "rental_category": "Medium"
                                },
                                {
                                    "customer_id": "554",
                                    "rental_count": "22",
                                    "rental_category": "Medium"
                                },
                                {
                                    "customer_id": "18",
                                    "rental_count": "22",
                                    "rental_category": "Medium"
                                },
                                {
                                    "customer_id": "321",
                                    "rental_count": "22",
                                    "rental_category": "Medium"
                                },
                                {
                                    "customer_id": "47",
                                    "rental_count": "22",
                                    "rental_category": "Medium"
                                },
                                {
                                    "customer_id": "545",
                                    "rental_count": "21",
                                    "rental_category": "Medium"
                                },
                                {
                                    "customer_id": "556",
                                    "rental_count": "21",
                                    "rental_category": "Medium"
                                },
                                {
                                    "customer_id": "501",
                                    "rental_count": "21",
                                    "rental_category": "Medium"
                                },
                                {
                                    "customer_id": "429",
                                    "rental_count": "21",
                                    "rental_category": "Medium"
                                },
                                {
                                    "customer_id": "568",
                                    "rental_count": "21",
                                    "rental_category": "Medium"
                                },
                                {
                                    "customer_id": "88",
                                    "rental_count": "21",
                                    "rental_category": "Medium"
                                },
                                {
                                    "customer_id": "159",
                                    "rental_count": "21",
                                    "rental_category": "Medium"
                                },
                                {
                                    "customer_id": "399",
                                    "rental_count": "21",
                                    "rental_category": "Medium"
                                },
                                {
                                    "customer_id": "238",
                                    "rental_count": "21",
                                    "rental_category": "Medium"
                                },
                                {
                                    "customer_id": "33",
                                    "rental_count": "21",
                                    "rental_category": "Medium"
                                },
                                {
                                    "customer_id": "412",
                                    "rental_count": "21",
                                    "rental_category": "Medium"
                                },
                                {
                                    "customer_id": "401",
                                    "rental_count": "21",
                                    "rental_category": "Medium"
                                },
                                {
                                    "customer_id": "17",
                                    "rental_count": "21",
                                    "rental_category": "Medium"
                                },
                                {
                                    "customer_id": "413",
                                    "rental_count": "21",
                                    "rental_category": "Medium"
                                },
                                {
                                    "customer_id": "358",
                                    "rental_count": "21",
                                    "rental_category": "Medium"
                                },
                                {
                                    "customer_id": "489",
                                    "rental_count": "21",
                                    "rental_category": "Medium"
                                },
                                {
                                    "customer_id": "505",
                                    "rental_count": "21",
                                    "rental_category": "Medium"
                                },
                                {
                                    "customer_id": "552",
                                    "rental_count": "21",
                                    "rental_category": "Medium"
                                },
                                {
                                    "customer_id": "174",
                                    "rental_count": "21",
                                    "rental_category": "Medium"
                                },
                                {
                                    "customer_id": "222",
                                    "rental_count": "21",
                                    "rental_category": "Medium"
                                },
                                {
                                    "customer_id": "118",
                                    "rental_count": "21",
                                    "rental_category": "Medium"
                                },
                                {
                                    "customer_id": "301",
                                    "rental_count": "21",
                                    "rental_category": "Medium"
                                },
                                {
                                    "customer_id": "94",
                                    "rental_count": "21",
                                    "rental_category": "Medium"
                                },
                                {
                                    "customer_id": "420",
                                    "rental_count": "21",
                                    "rental_category": "Medium"
                                },
                                {
                                    "customer_id": "496",
                                    "rental_count": "21",
                                    "rental_category": "Medium"
                                },
                                {
                                    "customer_id": "152",
                                    "rental_count": "21",
                                    "rental_category": "Medium"
                                },
                                {
                                    "customer_id": "226",
                                    "rental_count": "21",
                                    "rental_category": "Medium"
                                },
                                {
                                    "customer_id": "165",
                                    "rental_count": "21",
                                    "rental_category": "Medium"
                                },
                                {
                                    "customer_id": "310",
                                    "rental_count": "20",
                                    "rental_category": "Medium"
                                },
                                {
                                    "customer_id": "449",
                                    "rental_count": "20",
                                    "rental_category": "Medium"
                                },
                                {
                                    "customer_id": "272",
                                    "rental_count": "20",
                                    "rental_category": "Medium"
                                },
                                {
                                    "customer_id": "320",
                                    "rental_count": "20",
                                    "rental_category": "Medium"
                                },
                                {
                                    "customer_id": "191",
                                    "rental_count": "20",
                                    "rental_category": "Medium"
                                },
                                {
                                    "customer_id": "162",
                                    "rental_count": "20",
                                    "rental_category": "Medium"
                                },
                                {
                                    "customer_id": "203",
                                    "rental_count": "20",
                                    "rental_category": "Medium"
                                },
                                {
                                    "customer_id": "509",
                                    "rental_count": "20",
                                    "rental_category": "Medium"
                                },
                                {
                                    "customer_id": "402",
                                    "rental_count": "20",
                                    "rental_category": "Medium"
                                },
                                {
                                    "customer_id": "250",
                                    "rental_count": "20",
                                    "rental_category": "Medium"
                                },
                                {
                                    "customer_id": "428",
                                    "rental_count": "20",
                                    "rental_category": "Medium"
                                },
                                {
                                    "customer_id": "355",
                                    "rental_count": "20",
                                    "rental_category": "Medium"
                                },
                                {
                                    "customer_id": "549",
                                    "rental_count": "20",
                                    "rental_category": "Medium"
                                },
                                {
                                    "customer_id": "567",
                                    "rental_count": "20",
                                    "rental_category": "Medium"
                                },
                                {
                                    "customer_id": "212",
                                    "rental_count": "20",
                                    "rental_category": "Medium"
                                },
                                {
                                    "customer_id": "525",
                                    "rental_count": "19",
                                    "rental_category": "Medium"
                                },
                                {
                                    "customer_id": "117",
                                    "rental_count": "19",
                                    "rental_category": "Medium"
                                },
                                {
                                    "customer_id": "195",
                                    "rental_count": "19",
                                    "rental_category": "Medium"
                                },
                                {
                                    "customer_id": "599",
                                    "rental_count": "19",
                                    "rental_category": "Medium"
                                },
                                {
                                    "customer_id": "548",
                                    "rental_count": "19",
                                    "rental_category": "Medium"
                                },
                                {
                                    "customer_id": "370",
                                    "rental_count": "19",
                                    "rental_category": "Medium"
                                },
                                {
                                    "customer_id": "378",
                                    "rental_count": "19",
                                    "rental_category": "Medium"
                                },
                                {
                                    "customer_id": "395",
                                    "rental_count": "19",
                                    "rental_category": "Medium"
                                },
                                {
                                    "customer_id": "458",
                                    "rental_count": "19",
                                    "rental_category": "Medium"
                                },
                                {
                                    "customer_id": "524",
                                    "rental_count": "19",
                                    "rental_category": "Medium"
                                },
                                {
                                    "customer_id": "478",
                                    "rental_count": "19",
                                    "rental_category": "Medium"
                                },
                                {
                                    "customer_id": "586",
                                    "rental_count": "19",
                                    "rental_category": "Medium"
                                },
                                {
                                    "customer_id": "70",
                                    "rental_count": "18",
                                    "rental_category": "Medium"
                                },
                                {
                                    "customer_id": "205",
                                    "rental_count": "18",
                                    "rental_category": "Medium"
                                },
                                {
                                    "customer_id": "140",
                                    "rental_count": "18",
                                    "rental_category": "Medium"
                                },
                                {
                                    "customer_id": "95",
                                    "rental_count": "18",
                                    "rental_category": "Medium"
                                },
                                {
                                    "customer_id": "483",
                                    "rental_count": "18",
                                    "rental_category": "Medium"
                                },
                                {
                                    "customer_id": "353",
                                    "rental_count": "18",
                                    "rental_category": "Medium"
                                },
                                {
                                    "customer_id": "542",
                                    "rental_count": "18",
                                    "rental_category": "Medium"
                                },
                                {
                                    "customer_id": "194",
                                    "rental_count": "18",
                                    "rental_category": "Medium"
                                },
                                {
                                    "customer_id": "255",
                                    "rental_count": "18",
                                    "rental_category": "Medium"
                                },
                                {
                                    "customer_id": "218",
                                    "rental_count": "18",
                                    "rental_category": "Medium"
                                },
                                {
                                    "customer_id": "271",
                                    "rental_count": "18",
                                    "rental_category": "Medium"
                                },
                                {
                                    "customer_id": "97",
                                    "rental_count": "18",
                                    "rental_category": "Medium"
                                },
                                {
                                    "customer_id": "344",
                                    "rental_count": "18",
                                    "rental_category": "Medium"
                                },
                                {
                                    "customer_id": "124",
                                    "rental_count": "18",
                                    "rental_category": "Medium"
                                },
                                {
                                    "customer_id": "48",
                                    "rental_count": "17",
                                    "rental_category": "Medium"
                                },
                                {
                                    "customer_id": "555",
                                    "rental_count": "17",
                                    "rental_category": "Medium"
                                },
                                {
                                    "customer_id": "223",
                                    "rental_count": "17",
                                    "rental_category": "Medium"
                                },
                                {
                                    "customer_id": "315",
                                    "rental_count": "17",
                                    "rental_category": "Medium"
                                },
                                {
                                    "customer_id": "465",
                                    "rental_count": "17",
                                    "rental_category": "Medium"
                                },
                                {
                                    "customer_id": "398",
                                    "rental_count": "16",
                                    "rental_category": "Medium"
                                },
                                {
                                    "customer_id": "492",
                                    "rental_count": "16",
                                    "rental_category": "Medium"
                                },
                                {
                                    "customer_id": "164",
                                    "rental_count": "16",
                                    "rental_category": "Medium"
                                },
                                {
                                    "customer_id": "464",
                                    "rental_count": "16",
                                    "rental_category": "Medium"
                                },
                                {
                                    "customer_id": "136",
                                    "rental_count": "15",
                                    "rental_category": "Medium"
                                },
                                {
                                    "customer_id": "248",
                                    "rental_count": "15",
                                    "rental_category": "Medium"
                                },
                                {
                                    "customer_id": "61",
                                    "rental_count": "14",
                                    "rental_category": "Medium"
                                },
                                {
                                    "customer_id": "281",
                                    "rental_count": "14",
                                    "rental_category": "Medium"
                                },
                                {
                                    "customer_id": "110",
                                    "rental_count": "14",
                                    "rental_category": "Medium"
                                },
                                {
                                    "customer_id": "318",
                                    "rental_count": "12",
                                    "rental_category": "Medium"
                                }
                            ]
                        },
                        "text/html": "<table><tr><th>customer_id</th><th>rental_count</th><th>rental_category</th></tr><tr><td>148</td><td>46</td><td>High</td></tr><tr><td>526</td><td>45</td><td>High</td></tr><tr><td>144</td><td>42</td><td>High</td></tr><tr><td>236</td><td>42</td><td>High</td></tr><tr><td>75</td><td>41</td><td>High</td></tr><tr><td>469</td><td>40</td><td>High</td></tr><tr><td>197</td><td>40</td><td>High</td></tr><tr><td>137</td><td>39</td><td>High</td></tr><tr><td>178</td><td>39</td><td>High</td></tr><tr><td>468</td><td>39</td><td>High</td></tr><tr><td>459</td><td>38</td><td>High</td></tr><tr><td>5</td><td>38</td><td>High</td></tr><tr><td>295</td><td>38</td><td>High</td></tr><tr><td>410</td><td>38</td><td>High</td></tr><tr><td>366</td><td>37</td><td>High</td></tr><tr><td>257</td><td>37</td><td>High</td></tr><tr><td>198</td><td>37</td><td>High</td></tr><tr><td>176</td><td>37</td><td>High</td></tr><tr><td>29</td><td>36</td><td>High</td></tr><tr><td>267</td><td>36</td><td>High</td></tr><tr><td>354</td><td>36</td><td>High</td></tr><tr><td>439</td><td>36</td><td>High</td></tr><tr><td>380</td><td>36</td><td>High</td></tr><tr><td>348</td><td>36</td><td>High</td></tr><tr><td>21</td><td>35</td><td>High</td></tr><tr><td>204</td><td>35</td><td>High</td></tr><tr><td>403</td><td>35</td><td>High</td></tr><tr><td>91</td><td>35</td><td>High</td></tr><tr><td>368</td><td>35</td><td>High</td></tr><tr><td>50</td><td>35</td><td>High</td></tr><tr><td>381</td><td>35</td><td>High</td></tr><tr><td>273</td><td>35</td><td>High</td></tr><tr><td>274</td><td>35</td><td>High</td></tr><tr><td>506</td><td>35</td><td>High</td></tr><tr><td>371</td><td>35</td><td>High</td></tr><tr><td>373</td><td>35</td><td>High</td></tr><tr><td>196</td><td>35</td><td>High</td></tr><tr><td>66</td><td>34</td><td>High</td></tr><tr><td>241</td><td>34</td><td>High</td></tr><tr><td>129</td><td>34</td><td>High</td></tr><tr><td>576</td><td>34</td><td>High</td></tr><tr><td>207</td><td>34</td><td>High</td></tr><tr><td>566</td><td>34</td><td>High</td></tr><tr><td>168</td><td>34</td><td>High</td></tr><tr><td>502</td><td>34</td><td>High</td></tr><tr><td>473</td><td>34</td><td>High</td></tr><tr><td>138</td><td>34</td><td>High</td></tr><tr><td>30</td><td>34</td><td>High</td></tr><tr><td>239</td><td>34</td><td>High</td></tr><tr><td>26</td><td>34</td><td>High</td></tr><tr><td>147</td><td>34</td><td>High</td></tr><tr><td>360</td><td>34</td><td>High</td></tr><tr><td>119</td><td>34</td><td>High</td></tr><tr><td>46</td><td>34</td><td>High</td></tr><tr><td>211</td><td>34</td><td>High</td></tr><tr><td>181</td><td>34</td><td>High</td></tr><tr><td>372</td><td>34</td><td>High</td></tr><tr><td>38</td><td>34</td><td>High</td></tr><tr><td>462</td><td>33</td><td>High</td></tr><tr><td>451</td><td>33</td><td>High</td></tr><tr><td>390</td><td>33</td><td>High</td></tr><tr><td>314</td><td>33</td><td>High</td></tr><tr><td>522</td><td>33</td><td>High</td></tr><tr><td>102</td><td>33</td><td>High</td></tr><tr><td>533</td><td>33</td><td>High</td></tr><tr><td>51</td><td>33</td><td>High</td></tr><tr><td>7</td><td>33</td><td>High</td></tr><tr><td>230</td><td>33</td><td>High</td></tr><tr><td>64</td><td>33</td><td>High</td></tr><tr><td>438</td><td>33</td><td>High</td></tr><tr><td>297</td><td>33</td><td>High</td></tr><tr><td>454</td><td>33</td><td>High</td></tr><tr><td>86</td><td>33</td><td>High</td></tr><tr><td>84</td><td>33</td><td>High</td></tr><tr><td>114</td><td>33</td><td>High</td></tr><tr><td>237</td><td>33</td><td>High</td></tr><tr><td>172</td><td>33</td><td>High</td></tr><tr><td>362</td><td>32</td><td>High</td></tr><tr><td>209</td><td>32</td><td>High</td></tr><tr><td>245</td><td>32</td><td>High</td></tr><tr><td>406</td><td>32</td><td>High</td></tr><tr><td>158</td><td>32</td><td>High</td></tr><tr><td>125</td><td>32</td><td>High</td></tr><tr><td>28</td><td>32</td><td>High</td></tr><tr><td>120</td><td>32</td><td>High</td></tr><tr><td>535</td><td>32</td><td>High</td></tr><tr><td>306</td><td>32</td><td>High</td></tr><tr><td>242</td><td>32</td><td>High</td></tr><tr><td>452</td><td>32</td><td>High</td></tr><tr><td>569</td><td>32</td><td>High</td></tr><tr><td>35</td><td>32</td><td>High</td></tr><tr><td>550</td><td>32</td><td>High</td></tr><tr><td>520</td><td>32</td><td>High</td></tr><tr><td>346</td><td>32</td><td>High</td></tr><tr><td>1</td><td>32</td><td>High</td></tr><tr><td>128</td><td>32</td><td>High</td></tr><tr><td>503</td><td>32</td><td>High</td></tr><tr><td>254</td><td>32</td><td>High</td></tr><tr><td>89</td><td>32</td><td>High</td></tr><tr><td>244</td><td>32</td><td>High</td></tr><tr><td>122</td><td>32</td><td>High</td></tr><tr><td>15</td><td>32</td><td>High</td></tr><tr><td>470</td><td>32</td><td>High</td></tr><tr><td>405</td><td>32</td><td>High</td></tr><tr><td>141</td><td>32</td><td>High</td></tr><tr><td>329</td><td>32</td><td>High</td></tr><tr><td>442</td><td>32</td><td>High</td></tr><tr><td>532</td><td>32</td><td>High</td></tr><tr><td>259</td><td>32</td><td>High</td></tr><tr><td>342</td><td>32</td><td>High</td></tr><tr><td>277</td><td>32</td><td>High</td></tr><tr><td>167</td><td>32</td><td>High</td></tr><tr><td>494</td><td>31</td><td>High</td></tr><tr><td>214</td><td>31</td><td>High</td></tr><tr><td>251</td><td>31</td><td>High</td></tr><tr><td>393</td><td>31</td><td>High</td></tr><tr><td>279</td><td>31</td><td>High</td></tr><tr><td>479</td><td>31</td><td>High</td></tr><tr><td>293</td><td>31</td><td>High</td></tr><tr><td>210</td><td>31</td><td>High</td></tr><tr><td>323</td><td>31</td><td>High</td></tr><tr><td>416</td><td>31</td><td>High</td></tr><tr><td>78</td><td>31</td><td>High</td></tr><tr><td>513</td><td>31</td><td>High</td></tr><tr><td>361</td><td>31</td><td>High</td></tr><tr><td>300</td><td>31</td><td>High</td></tr><tr><td>157</td><td>31</td><td>High</td></tr><tr><td>103</td><td>31</td><td>High</td></tr><tr><td>340</td><td>31</td><td>High</td></tr><tr><td>446</td><td>31</td><td>High</td></tr><tr><td>309</td><td>31</td><td>High</td></tr><tr><td>186</td><td>31</td><td>High</td></tr><tr><td>27</td><td>31</td><td>High</td></tr><tr><td>260</td><td>31</td><td>High</td></tr><tr><td>56</td><td>30</td><td>Medium</td></tr><tr><td>87</td><td>30</td><td>Medium</td></tr><tr><td>339</td><td>30</td><td>Medium</td></tr><tr><td>107</td><td>30</td><td>Medium</td></tr><tr><td>112</td><td>30</td><td>Medium</td></tr><tr><td>484</td><td>30</td><td>Medium</td></tr><tr><td>444</td><td>30</td><td>Medium</td></tr><tr><td>472</td><td>30</td><td>Medium</td></tr><tr><td>560</td><td>30</td><td>Medium</td></tr><tr><td>347</td><td>30</td><td>Medium</td></tr><tr><td>289</td><td>30</td><td>Medium</td></tr><tr><td>307</td><td>30</td><td>Medium</td></tr><tr><td>334</td><td>30</td><td>Medium</td></tr><tr><td>418</td><td>30</td><td>Medium</td></tr><tr><td>72</td><td>30</td><td>Medium</td></tr><tr><td>131</td><td>30</td><td>Medium</td></tr><tr><td>404</td><td>30</td><td>Medium</td></tr><tr><td>135</td><td>30</td><td>Medium</td></tr><tr><td>161</td><td>30</td><td>Medium</td></tr><tr><td>584</td><td>30</td><td>Medium</td></tr><tr><td>42</td><td>30</td><td>Medium</td></tr><tr><td>436</td><td>30</td><td>Medium</td></tr><tr><td>299</td><td>30</td><td>Medium</td></tr><tr><td>115</td><td>30</td><td>Medium</td></tr><tr><td>269</td><td>30</td><td>Medium</td></tr><tr><td>108</td><td>30</td><td>Medium</td></tr><tr><td>408</td><td>30</td><td>Medium</td></tr><tr><td>23</td><td>30</td><td>Medium</td></tr><tr><td>256</td><td>30</td><td>Medium</td></tr><tr><td>296</td><td>30</td><td>Medium</td></tr><tr><td>154</td><td>30</td><td>Medium</td></tr><tr><td>499</td><td>30</td><td>Medium</td></tr><tr><td>275</td><td>30</td><td>Medium</td></tr><tr><td>336</td><td>30</td><td>Medium</td></tr><tr><td>388</td><td>30</td><td>Medium</td></tr><tr><td>53</td><td>30</td><td>Medium</td></tr><tr><td>391</td><td>30</td><td>Medium</td></tr><tr><td>71</td><td>30</td><td>Medium</td></tr><tr><td>356</td><td>30</td><td>Medium</td></tr><tr><td>80</td><td>30</td><td>Medium</td></tr><tr><td>424</td><td>30</td><td>Medium</td></tr><tr><td>319</td><td>30</td><td>Medium</td></tr><tr><td>595</td><td>30</td><td>Medium</td></tr><tr><td>20</td><td>30</td><td>Medium</td></tr><tr><td>363</td><td>29</td><td>Medium</td></tr><tr><td>575</td><td>29</td><td>Medium</td></tr><tr><td>447</td><td>29</td><td>Medium</td></tr><tr><td>485</td><td>29</td><td>Medium</td></tr><tr><td>302</td><td>29</td><td>Medium</td></tr><tr><td>179</td><td>29</td><td>Medium</td></tr><tr><td>54</td><td>29</td><td>Medium</td></tr><tr><td>268</td><td>29</td><td>Medium</td></tr><tr><td>482</td><td>29</td><td>Medium</td></tr><tr><td>39</td><td>29</td><td>Medium</td></tr><tr><td>563</td><td>29</td><td>Medium</td></tr><tr><td>287</td><td>29</td><td>Medium</td></tr><tr><td>113</td><td>29</td><td>Medium</td></tr><tr><td>573</td><td>29</td><td>Medium</td></tr><tr><td>565</td><td>29</td><td>Medium</td></tr><tr><td>349</td><td>29</td><td>Medium</td></tr><tr><td>52</td><td>29</td><td>Medium</td></tr><tr><td>263</td><td>29</td><td>Medium</td></tr><tr><td>265</td><td>29</td><td>Medium</td></tr><tr><td>467</td><td>29</td><td>Medium</td></tr><tr><td>146</td><td>29</td><td>Medium</td></tr><tr><td>397</td><td>29</td><td>Medium</td></tr><tr><td>538</td><td>29</td><td>Medium</td></tr><tr><td>592</td><td>29</td><td>Medium</td></tr><tr><td>386</td><td>29</td><td>Medium</td></tr><tr><td>173</td><td>29</td><td>Medium</td></tr><tr><td>253</td><td>29</td><td>Medium</td></tr><tr><td>337</td><td>29</td><td>Medium</td></tr><tr><td>32</td><td>29</td><td>Medium</td></tr><tr><td>25</td><td>29</td><td>Medium</td></tr><tr><td>163</td><td>29</td><td>Medium</td></tr><tr><td>448</td><td>29</td><td>Medium</td></tr><tr><td>529</td><td>29</td><td>Medium</td></tr><tr><td>481</td><td>29</td><td>Medium</td></tr><tr><td>588</td><td>29</td><td>Medium</td></tr><tr><td>316</td><td>29</td><td>Medium</td></tr><tr><td>6</td><td>28</td><td>Medium</td></tr><tr><td>187</td><td>28</td><td>Medium</td></tr><tr><td>57</td><td>28</td><td>Medium</td></tr><tr><td>266</td><td>28</td><td>Medium</td></tr><tr><td>400</td><td>28</td><td>Medium</td></tr><tr><td>596</td><td>28</td><td>Medium</td></tr><tr><td>166</td><td>28</td><td>Medium</td></tr><tr><td>145</td><td>28</td><td>Medium</td></tr><tr><td>559</td><td>28</td><td>Medium</td></tr><tr><td>276</td><td>28</td><td>Medium</td></tr><tr><td>589</td><td>28</td><td>Medium</td></tr><tr><td>457</td><td>28</td><td>Medium</td></tr><tr><td>90</td><td>28</td><td>Medium</td></tr><tr><td>558</td><td>28</td><td>Medium</td></tr><tr><td>290</td><td>28</td><td>Medium</td></tr><tr><td>284</td><td>28</td><td>Medium</td></tr><tr><td>317</td><td>28</td><td>Medium</td></tr><tr><td>126</td><td>28</td><td>Medium</td></tr><tr><td>374</td><td>28</td><td>Medium</td></tr><tr><td>12</td><td>28</td><td>Medium</td></tr><tr><td>332</td><td>28</td><td>Medium</td></tr><tr><td>92</td><td>28</td><td>Medium</td></tr><tr><td>500</td><td>28</td><td>Medium</td></tr><tr><td>461</td><td>28</td><td>Medium</td></tr><tr><td>283</td><td>28</td><td>Medium</td></tr><tr><td>14</td><td>28</td><td>Medium</td></tr><tr><td>497</td><td>28</td><td>Medium</td></tr><tr><td>441</td><td>28</td><td>Medium</td></tr><tr><td>132</td><td>28</td><td>Medium</td></tr><tr><td>322</td><td>28</td><td>Medium</td></tr><tr><td>262</td><td>28</td><td>Medium</td></tr><tr><td>504</td><td>28</td><td>Medium</td></tr><tr><td>376</td><td>28</td><td>Medium</td></tr><tr><td>338</td><td>28</td><td>Medium</td></tr><tr><td>77</td><td>28</td><td>Medium</td></tr><tr><td>515</td><td>28</td><td>Medium</td></tr><tr><td>574</td><td>28</td><td>Medium</td></tr><tr><td>213</td><td>28</td><td>Medium</td></tr><tr><td>221</td><td>28</td><td>Medium</td></tr><tr><td>16</td><td>28</td><td>Medium</td></tr><tr><td>49</td><td>28</td><td>Medium</td></tr><tr><td>59</td><td>27</td><td>Medium</td></tr><tr><td>594</td><td>27</td><td>Medium</td></tr><tr><td>40</td><td>27</td><td>Medium</td></tr><tr><td>407</td><td>27</td><td>Medium</td></tr><tr><td>331</td><td>27</td><td>Medium</td></tr><tr><td>116</td><td>27</td><td>Medium</td></tr><tr><td>58</td><td>27</td><td>Medium</td></tr><tr><td>200</td><td>27</td><td>Medium</td></tr><tr><td>36</td><td>27</td><td>Medium</td></tr><tr><td>96</td><td>27</td><td>Medium</td></tr><tr><td>426</td><td>27</td><td>Medium</td></tr><tr><td>220</td><td>27</td><td>Medium</td></tr><tr><td>282</td><td>27</td><td>Medium</td></tr><tr><td>491</td><td>27</td><td>Medium</td></tr><tr><td>228</td><td>27</td><td>Medium</td></tr><tr><td>190</td><td>27</td><td>Medium</td></tr><tr><td>292</td><td>27</td><td>Medium</td></tr><tr><td>434</td><td>27</td><td>Medium</td></tr><tr><td>45</td><td>27</td><td>Medium</td></tr><tr><td>396</td><td>27</td><td>Medium</td></tr><tr><td>139</td><td>27</td><td>Medium</td></tr><tr><td>579</td><td>27</td><td>Medium</td></tr><tr><td>13</td><td>27</td><td>Medium</td></tr><tr><td>206</td><td>27</td><td>Medium</td></tr><tr><td>151</td><td>27</td><td>Medium</td></tr><tr><td>2</td><td>27</td><td>Medium</td></tr><tr><td>160</td><td>27</td><td>Medium</td></tr><tr><td>498</td><td>27</td><td>Medium</td></tr><tr><td>421</td><td>27</td><td>Medium</td></tr><tr><td>471</td><td>27</td><td>Medium</td></tr><tr><td>383</td><td>27</td><td>Medium</td></tr><tr><td>591</td><td>27</td><td>Medium</td></tr><tr><td>133</td><td>27</td><td>Medium</td></tr><tr><td>580</td><td>27</td><td>Medium</td></tr><tr><td>286</td><td>27</td><td>Medium</td></tr><tr><td>577</td><td>27</td><td>Medium</td></tr><tr><td>581</td><td>27</td><td>Medium</td></tr><tr><td>333</td><td>27</td><td>Medium</td></tr><tr><td>561</td><td>27</td><td>Medium</td></tr><tr><td>74</td><td>27</td><td>Medium</td></tr><tr><td>280</td><td>27</td><td>Medium</td></tr><tr><td>231</td><td>26</td><td>Medium</td></tr><tr><td>512</td><td>26</td><td>Medium</td></tr><tr><td>487</td><td>26</td><td>Medium</td></tr><tr><td>170</td><td>26</td><td>Medium</td></tr><tr><td>142</td><td>26</td><td>Medium</td></tr><tr><td>450</td><td>26</td><td>Medium</td></tr><tr><td>121</td><td>26</td><td>Medium</td></tr><tr><td>109</td><td>26</td><td>Medium</td></tr><tr><td>149</td><td>26</td><td>Medium</td></tr><tr><td>327</td><td>26</td><td>Medium</td></tr><tr><td>31</td><td>26</td><td>Medium</td></tr><tr><td>445</td><td>26</td><td>Medium</td></tr><tr><td>377</td><td>26</td><td>Medium</td></tr><tr><td>105</td><td>26</td><td>Medium</td></tr><tr><td>303</td><td>26</td><td>Medium</td></tr><tr><td>182</td><td>26</td><td>Medium</td></tr><tr><td>387</td><td>26</td><td>Medium</td></tr><tr><td>240</td><td>26</td><td>Medium</td></tr><tr><td>171</td><td>26</td><td>Medium</td></tr><tr><td>298</td><td>26</td><td>Medium</td></tr><tr><td>304</td><td>26</td><td>Medium</td></tr><tr><td>294</td><td>26</td><td>Medium</td></tr><tr><td>278</td><td>26</td><td>Medium</td></tr><tr><td>385</td><td>26</td><td>Medium</td></tr><tr><td>111</td><td>26</td><td>Medium</td></tr><tr><td>551</td><td>26</td><td>Medium</td></tr><tr><td>261</td><td>26</td><td>Medium</td></tr><tr><td>312</td><td>26</td><td>Medium</td></tr><tr><td>423</td><td>26</td><td>Medium</td></tr><tr><td>516</td><td>26</td><td>Medium</td></tr><tr><td>593</td><td>26</td><td>Medium</td></tr><tr><td>225</td><td>26</td><td>Medium</td></tr><tr><td>411</td><td>26</td><td>Medium</td></tr><tr><td>425</td><td>26</td><td>Medium</td></tr><tr><td>495</td><td>26</td><td>Medium</td></tr><tr><td>44</td><td>26</td><td>Medium</td></tr><tr><td>234</td><td>26</td><td>Medium</td></tr><tr><td>587</td><td>26</td><td>Medium</td></tr><tr><td>474</td><td>26</td><td>Medium</td></tr><tr><td>510</td><td>26</td><td>Medium</td></tr><tr><td>422</td><td>26</td><td>Medium</td></tr><tr><td>202</td><td>26</td><td>Medium</td></tr><tr><td>215</td><td>26</td><td>Medium</td></tr><tr><td>357</td><td>26</td><td>Medium</td></tr><tr><td>486</td><td>26</td><td>Medium</td></tr><tr><td>208</td><td>26</td><td>Medium</td></tr><tr><td>82</td><td>26</td><td>Medium</td></tr><tr><td>518</td><td>26</td><td>Medium</td></tr><tr><td>3</td><td>26</td><td>Medium</td></tr><tr><td>219</td><td>26</td><td>Medium</td></tr><tr><td>285</td><td>26</td><td>Medium</td></tr><tr><td>389</td><td>26</td><td>Medium</td></tr><tr><td>570</td><td>26</td><td>Medium</td></tr><tr><td>562</td><td>25</td><td>Medium</td></tr><tr><td>463</td><td>25</td><td>Medium</td></tr><tr><td>41</td><td>25</td><td>Medium</td></tr><tr><td>572</td><td>25</td><td>Medium</td></tr><tr><td>419</td><td>25</td><td>Medium</td></tr><tr><td>507</td><td>25</td><td>Medium</td></tr><tr><td>24</td><td>25</td><td>Medium</td></tr><tr><td>264</td><td>25</td><td>Medium</td></tr><tr><td>270</td><td>25</td><td>Medium</td></tr><tr><td>435</td><td>25</td><td>Medium</td></tr><tr><td>384</td><td>25</td><td>Medium</td></tr><tr><td>433</td><td>25</td><td>Medium</td></tr><tr><td>69</td><td>25</td><td>Medium</td></tr><tr><td>188</td><td>25</td><td>Medium</td></tr><tr><td>229</td><td>25</td><td>Medium</td></tr><tr><td>456</td><td>25</td><td>Medium</td></tr><tr><td>531</td><td>25</td><td>Medium</td></tr><tr><td>528</td><td>25</td><td>Medium</td></tr><tr><td>546</td><td>25</td><td>Medium</td></tr><tr><td>537</td><td>25</td><td>Medium</td></tr><tr><td>343</td><td>25</td><td>Medium</td></tr><tr><td>155</td><td>25</td><td>Medium</td></tr><tr><td>199</td><td>25</td><td>Medium</td></tr><tr><td>193</td><td>25</td><td>Medium</td></tr><tr><td>369</td><td>25</td><td>Medium</td></tr><tr><td>597</td><td>25</td><td>Medium</td></tr><tr><td>359</td><td>25</td><td>Medium</td></tr><tr><td>517</td><td>25</td><td>Medium</td></tr><tr><td>414</td><td>25</td><td>Medium</td></tr><tr><td>582</td><td>25</td><td>Medium</td></tr><tr><td>330</td><td>25</td><td>Medium</td></tr><tr><td>10</td><td>25</td><td>Medium</td></tr><tr><td>201</td><td>25</td><td>Medium</td></tr><tr><td>60</td><td>25</td><td>Medium</td></tr><tr><td>305</td><td>25</td><td>Medium</td></tr><tr><td>98</td><td>25</td><td>Medium</td></tr><tr><td>235</td><td>25</td><td>Medium</td></tr><tr><td>590</td><td>25</td><td>Medium</td></tr><tr><td>508</td><td>25</td><td>Medium</td></tr><tr><td>536</td><td>25</td><td>Medium</td></tr><tr><td>232</td><td>25</td><td>Medium</td></tr><tr><td>83</td><td>25</td><td>Medium</td></tr><tr><td>63</td><td>25</td><td>Medium</td></tr><tr><td>417</td><td>25</td><td>Medium</td></tr><tr><td>460</td><td>25</td><td>Medium</td></tr><tr><td>156</td><td>25</td><td>Medium</td></tr><tr><td>326</td><td>25</td><td>Medium</td></tr><tr><td>308</td><td>25</td><td>Medium</td></tr><tr><td>150</td><td>25</td><td>Medium</td></tr><tr><td>324</td><td>25</td><td>Medium</td></tr><tr><td>455</td><td>24</td><td>Medium</td></tr><tr><td>11</td><td>24</td><td>Medium</td></tr><tr><td>351</td><td>24</td><td>Medium</td></tr><tr><td>101</td><td>24</td><td>Medium</td></tr><tr><td>130</td><td>24</td><td>Medium</td></tr><tr><td>104</td><td>24</td><td>Medium</td></tr><tr><td>557</td><td>24</td><td>Medium</td></tr><tr><td>382</td><td>24</td><td>Medium</td></tr><tr><td>534</td><td>24</td><td>Medium</td></tr><tr><td>541</td><td>24</td><td>Medium</td></tr><tr><td>127</td><td>24</td><td>Medium</td></tr><tr><td>511</td><td>24</td><td>Medium</td></tr><tr><td>527</td><td>24</td><td>Medium</td></tr><tr><td>100</td><td>24</td><td>Medium</td></tr><tr><td>571</td><td>24</td><td>Medium</td></tr><tr><td>540</td><td>24</td><td>Medium</td></tr><tr><td>123</td><td>24</td><td>Medium</td></tr><tr><td>34</td><td>24</td><td>Medium</td></tr><tr><td>553</td><td>24</td><td>Medium</td></tr><tr><td>490</td><td>24</td><td>Medium</td></tr><tr><td>175</td><td>24</td><td>Medium</td></tr><tr><td>375</td><td>24</td><td>Medium</td></tr><tr><td>564</td><td>24</td><td>Medium</td></tr><tr><td>243</td><td>24</td><td>Medium</td></tr><tr><td>73</td><td>24</td><td>Medium</td></tr><tr><td>19</td><td>24</td><td>Medium</td></tr><tr><td>227</td><td>24</td><td>Medium</td></tr><tr><td>153</td><td>24</td><td>Medium</td></tr><tr><td>427</td><td>24</td><td>Medium</td></tr><tr><td>475</td><td>24</td><td>Medium</td></tr><tr><td>585</td><td>24</td><td>Medium</td></tr><tr><td>8</td><td>24</td><td>Medium</td></tr><tr><td>258</td><td>24</td><td>Medium</td></tr><tr><td>99</td><td>24</td><td>Medium</td></tr><tr><td>43</td><td>24</td><td>Medium</td></tr><tr><td>288</td><td>24</td><td>Medium</td></tr><tr><td>364</td><td>23</td><td>Medium</td></tr><tr><td>233</td><td>23</td><td>Medium</td></tr><tr><td>313</td><td>23</td><td>Medium</td></tr><tr><td>177</td><td>23</td><td>Medium</td></tr><tr><td>392</td><td>23</td><td>Medium</td></tr><tr><td>37</td><td>23</td><td>Medium</td></tr><tr><td>466</td><td>23</td><td>Medium</td></tr><tr><td>431</td><td>23</td><td>Medium</td></tr><tr><td>547</td><td>23</td><td>Medium</td></tr><tr><td>583</td><td>23</td><td>Medium</td></tr><tr><td>409</td><td>23</td><td>Medium</td></tr><tr><td>249</td><td>23</td><td>Medium</td></tr><tr><td>415</td><td>23</td><td>Medium</td></tr><tr><td>530</td><td>23</td><td>Medium</td></tr><tr><td>185</td><td>23</td><td>Medium</td></tr><tr><td>341</td><td>23</td><td>Medium</td></tr><tr><td>350</td><td>23</td><td>Medium</td></tr><tr><td>519</td><td>23</td><td>Medium</td></tr><tr><td>335</td><td>23</td><td>Medium</td></tr><tr><td>453</td><td>23</td><td>Medium</td></tr><tr><td>365</td><td>23</td><td>Medium</td></tr><tr><td>328</td><td>23</td><td>Medium</td></tr><tr><td>291</td><td>23</td><td>Medium</td></tr><tr><td>521</td><td>23</td><td>Medium</td></tr><tr><td>432</td><td>23</td><td>Medium</td></tr><tr><td>493</td><td>23</td><td>Medium</td></tr><tr><td>62</td><td>23</td><td>Medium</td></tr><tr><td>246</td><td>23</td><td>Medium</td></tr><tr><td>76</td><td>23</td><td>Medium</td></tr><tr><td>106</td><td>23</td><td>Medium</td></tr><tr><td>192</td><td>23</td><td>Medium</td></tr><tr><td>85</td><td>23</td><td>Medium</td></tr><tr><td>352</td><td>23</td><td>Medium</td></tr><tr><td>134</td><td>23</td><td>Medium</td></tr><tr><td>217</td><td>23</td><td>Medium</td></tr><tr><td>437</td><td>23</td><td>Medium</td></tr><tr><td>311</td><td>23</td><td>Medium</td></tr><tr><td>180</td><td>23</td><td>Medium</td></tr><tr><td>379</td><td>23</td><td>Medium</td></tr><tr><td>216</td><td>23</td><td>Medium</td></tr><tr><td>345</td><td>23</td><td>Medium</td></tr><tr><td>93</td><td>23</td><td>Medium</td></tr><tr><td>9</td><td>23</td><td>Medium</td></tr><tr><td>183</td><td>23</td><td>Medium</td></tr><tr><td>184</td><td>23</td><td>Medium</td></tr><tr><td>252</td><td>22</td><td>Medium</td></tr><tr><td>325</td><td>22</td><td>Medium</td></tr><tr><td>443</td><td>22</td><td>Medium</td></tr><tr><td>67</td><td>22</td><td>Medium</td></tr><tr><td>539</td><td>22</td><td>Medium</td></tr><tr><td>68</td><td>22</td><td>Medium</td></tr><tr><td>523</td><td>22</td><td>Medium</td></tr><tr><td>514</td><td>22</td><td>Medium</td></tr><tr><td>169</td><td>22</td><td>Medium</td></tr><tr><td>367</td><td>22</td><td>Medium</td></tr><tr><td>598</td><td>22</td><td>Medium</td></tr><tr><td>476</td><td>22</td><td>Medium</td></tr><tr><td>4</td><td>22</td><td>Medium</td></tr><tr><td>65</td><td>22</td><td>Medium</td></tr><tr><td>480</td><td>22</td><td>Medium</td></tr><tr><td>79</td><td>22</td><td>Medium</td></tr><tr><td>440</td><td>22</td><td>Medium</td></tr><tr><td>578</td><td>22</td><td>Medium</td></tr><tr><td>189</td><td>22</td><td>Medium</td></tr><tr><td>394</td><td>22</td><td>Medium</td></tr><tr><td>247</td><td>22</td><td>Medium</td></tr><tr><td>543</td><td>22</td><td>Medium</td></tr><tr><td>477</td><td>22</td><td>Medium</td></tr><tr><td>430</td><td>22</td><td>Medium</td></tr><tr><td>488</td><td>22</td><td>Medium</td></tr><tr><td>22</td><td>22</td><td>Medium</td></tr><tr><td>55</td><td>22</td><td>Medium</td></tr><tr><td>224</td><td>22</td><td>Medium</td></tr><tr><td>544</td><td>22</td><td>Medium</td></tr><tr><td>81</td><td>22</td><td>Medium</td></tr><tr><td>143</td><td>22</td><td>Medium</td></tr><tr><td>554</td><td>22</td><td>Medium</td></tr><tr><td>18</td><td>22</td><td>Medium</td></tr><tr><td>321</td><td>22</td><td>Medium</td></tr><tr><td>47</td><td>22</td><td>Medium</td></tr><tr><td>545</td><td>21</td><td>Medium</td></tr><tr><td>556</td><td>21</td><td>Medium</td></tr><tr><td>501</td><td>21</td><td>Medium</td></tr><tr><td>429</td><td>21</td><td>Medium</td></tr><tr><td>568</td><td>21</td><td>Medium</td></tr><tr><td>88</td><td>21</td><td>Medium</td></tr><tr><td>159</td><td>21</td><td>Medium</td></tr><tr><td>399</td><td>21</td><td>Medium</td></tr><tr><td>238</td><td>21</td><td>Medium</td></tr><tr><td>33</td><td>21</td><td>Medium</td></tr><tr><td>412</td><td>21</td><td>Medium</td></tr><tr><td>401</td><td>21</td><td>Medium</td></tr><tr><td>17</td><td>21</td><td>Medium</td></tr><tr><td>413</td><td>21</td><td>Medium</td></tr><tr><td>358</td><td>21</td><td>Medium</td></tr><tr><td>489</td><td>21</td><td>Medium</td></tr><tr><td>505</td><td>21</td><td>Medium</td></tr><tr><td>552</td><td>21</td><td>Medium</td></tr><tr><td>174</td><td>21</td><td>Medium</td></tr><tr><td>222</td><td>21</td><td>Medium</td></tr><tr><td>118</td><td>21</td><td>Medium</td></tr><tr><td>301</td><td>21</td><td>Medium</td></tr><tr><td>94</td><td>21</td><td>Medium</td></tr><tr><td>420</td><td>21</td><td>Medium</td></tr><tr><td>496</td><td>21</td><td>Medium</td></tr><tr><td>152</td><td>21</td><td>Medium</td></tr><tr><td>226</td><td>21</td><td>Medium</td></tr><tr><td>165</td><td>21</td><td>Medium</td></tr><tr><td>310</td><td>20</td><td>Medium</td></tr><tr><td>449</td><td>20</td><td>Medium</td></tr><tr><td>272</td><td>20</td><td>Medium</td></tr><tr><td>320</td><td>20</td><td>Medium</td></tr><tr><td>191</td><td>20</td><td>Medium</td></tr><tr><td>162</td><td>20</td><td>Medium</td></tr><tr><td>203</td><td>20</td><td>Medium</td></tr><tr><td>509</td><td>20</td><td>Medium</td></tr><tr><td>402</td><td>20</td><td>Medium</td></tr><tr><td>250</td><td>20</td><td>Medium</td></tr><tr><td>428</td><td>20</td><td>Medium</td></tr><tr><td>355</td><td>20</td><td>Medium</td></tr><tr><td>549</td><td>20</td><td>Medium</td></tr><tr><td>567</td><td>20</td><td>Medium</td></tr><tr><td>212</td><td>20</td><td>Medium</td></tr><tr><td>525</td><td>19</td><td>Medium</td></tr><tr><td>117</td><td>19</td><td>Medium</td></tr><tr><td>195</td><td>19</td><td>Medium</td></tr><tr><td>599</td><td>19</td><td>Medium</td></tr><tr><td>548</td><td>19</td><td>Medium</td></tr><tr><td>370</td><td>19</td><td>Medium</td></tr><tr><td>378</td><td>19</td><td>Medium</td></tr><tr><td>395</td><td>19</td><td>Medium</td></tr><tr><td>458</td><td>19</td><td>Medium</td></tr><tr><td>524</td><td>19</td><td>Medium</td></tr><tr><td>478</td><td>19</td><td>Medium</td></tr><tr><td>586</td><td>19</td><td>Medium</td></tr><tr><td>70</td><td>18</td><td>Medium</td></tr><tr><td>205</td><td>18</td><td>Medium</td></tr><tr><td>140</td><td>18</td><td>Medium</td></tr><tr><td>95</td><td>18</td><td>Medium</td></tr><tr><td>483</td><td>18</td><td>Medium</td></tr><tr><td>353</td><td>18</td><td>Medium</td></tr><tr><td>542</td><td>18</td><td>Medium</td></tr><tr><td>194</td><td>18</td><td>Medium</td></tr><tr><td>255</td><td>18</td><td>Medium</td></tr><tr><td>218</td><td>18</td><td>Medium</td></tr><tr><td>271</td><td>18</td><td>Medium</td></tr><tr><td>97</td><td>18</td><td>Medium</td></tr><tr><td>344</td><td>18</td><td>Medium</td></tr><tr><td>124</td><td>18</td><td>Medium</td></tr><tr><td>48</td><td>17</td><td>Medium</td></tr><tr><td>555</td><td>17</td><td>Medium</td></tr><tr><td>223</td><td>17</td><td>Medium</td></tr><tr><td>315</td><td>17</td><td>Medium</td></tr><tr><td>465</td><td>17</td><td>Medium</td></tr><tr><td>398</td><td>16</td><td>Medium</td></tr><tr><td>492</td><td>16</td><td>Medium</td></tr><tr><td>164</td><td>16</td><td>Medium</td></tr><tr><td>464</td><td>16</td><td>Medium</td></tr><tr><td>136</td><td>15</td><td>Medium</td></tr><tr><td>248</td><td>15</td><td>Medium</td></tr><tr><td>61</td><td>14</td><td>Medium</td></tr><tr><td>281</td><td>14</td><td>Medium</td></tr><tr><td>110</td><td>14</td><td>Medium</td></tr><tr><td>318</td><td>12</td><td>Medium</td></tr></table>"
                    },
                    "metadata": {}
                }
            ],
            "execution_count": 18
        },
        {
            "cell_type": "markdown",
            "source": [
                "### **Explanation:**\n",
                "\n",
                "1. **SELECT Clause**:\n",
                "    \n",
                "    - **r.customer\\_id**: Retrieves the ID of the customer.\n",
                "    - **COUNT(r.rental\\_id) AS rental\\_count**: Counts the number of rentals for each customer and labels this count as `rental_count`.\n",
                "    - **CASE**: Categorizes the rental count into different categories:\n",
                "        - **WHEN COUNT(r.rental\\_id) \\<= 10 THEN 'Low'**: If the rental count is 10 or fewer, the category is 'Low'.\n",
                "        - **WHEN COUNT(r.rental\\_id) BETWEEN 11 AND 30 THEN 'Medium'**: If the rental count is between 11 and 30, the category is 'Medium'.\n",
                "        - **ELSE 'High'**: For rental counts above 30, the category is 'High'.\n",
                "    - **AS rental\\_category**: Labels the result of the `CASE` statement as `rental_category`.\n",
                "2. **FROM Clause**:\n",
                "    \n",
                "    - **FROM rental r**: Indicates that the data is being selected from the `rental` table, with the alias `r`.\n",
                "3. **GROUP BY Clause**:\n",
                "    \n",
                "    - **GROUP BY 1**: Groups the results by the first column in the `SELECT` clause, which is `r.customer_id`. This means the aggregation functions (like `COUNT`) are applied to each group of rentals per customer.\n",
                "4. **ORDER BY Clause**:\n",
                "    \n",
                "    - **ORDER BY 2 DESC**: Orders the results by the second column in the `SELECT` clause (which is `rental_count`) in descending order. This means customers with the highest number of rentals appear first in the result set.\n",
                "\n",
                "## Approach 2 :"
            ],
            "metadata": {
                "language": "sql",
                "azdata_cell_guid": "93001e45-1e1e-474e-ae95-79c27865367d"
            },
            "attachments": {}
        },
        {
            "cell_type": "code",
            "source": [
                "SELECT \r\n",
                "    CONCAT(c.first_name,' ', c.last_name) AS customer_name,\r\n",
                "    COUNT(r.rental_id) AS rental_count,\r\n",
                "    CASE\r\n",
                "        WHEN COUNT(r.rental_id) <= 10 THEN 'Low'\r\n",
                "        WHEN COUNT(r.rental_id) BETWEEN 11 AND 30 THEN 'Medium'\r\n",
                "        ELSE 'High'\r\n",
                "    END AS rental_category\r\n",
                "FROM \r\n",
                "    customer c\r\n",
                "    INNER JOIN rental r ON c.customer_id = r.customer_id\r\n",
                "GROUP BY \r\n",
                "    c.customer_id, c.first_name, c.last_name\r\n",
                "ORDER BY \r\n",
                "    rental_count DESC;\r\n",
                ""
            ],
            "metadata": {
                "azdata_cell_guid": "15409e1e-ce80-4c0b-8fbd-fa53ca7aeae2",
                "language": "sql"
            },
            "outputs": [
                {
                    "output_type": "display_data",
                    "data": {
                        "text/html": "(599 row(s) affected)"
                    },
                    "metadata": {}
                },
                {
                    "output_type": "display_data",
                    "data": {
                        "text/html": "Total execution time: 00:00:00.014"
                    },
                    "metadata": {}
                },
                {
                    "output_type": "execute_result",
                    "execution_count": 14,
                    "data": {
                        "application/vnd.dataresource+json": {
                            "schema": {
                                "fields": [
                                    {
                                        "name": "customer_name"
                                    },
                                    {
                                        "name": "rental_count"
                                    },
                                    {
                                        "name": "rental_category"
                                    }
                                ]
                            },
                            "data": [
                                {
                                    "customer_name": "Eleanor Hunt",
                                    "rental_count": "46",
                                    "rental_category": "High"
                                },
                                {
                                    "customer_name": "Karl Seal",
                                    "rental_count": "45",
                                    "rental_category": "High"
                                },
                                {
                                    "customer_name": "Clara Shaw",
                                    "rental_count": "42",
                                    "rental_category": "High"
                                },
                                {
                                    "customer_name": "Marcia Dean",
                                    "rental_count": "42",
                                    "rental_category": "High"
                                },
                                {
                                    "customer_name": "Tammy Sanders",
                                    "rental_count": "41",
                                    "rental_category": "High"
                                },
                                {
                                    "customer_name": "Wesley Bull",
                                    "rental_count": "40",
                                    "rental_category": "High"
                                },
                                {
                                    "customer_name": "Sue Peters",
                                    "rental_count": "40",
                                    "rental_category": "High"
                                },
                                {
                                    "customer_name": "Rhonda Kennedy",
                                    "rental_count": "39",
                                    "rental_category": "High"
                                },
                                {
                                    "customer_name": "Marion Snyder",
                                    "rental_count": "39",
                                    "rental_category": "High"
                                },
                                {
                                    "customer_name": "Tim Cary",
                                    "rental_count": "39",
                                    "rental_category": "High"
                                },
                                {
                                    "customer_name": "Tommy Collazo",
                                    "rental_count": "38",
                                    "rental_category": "High"
                                },
                                {
                                    "customer_name": "Elizabeth Brown",
                                    "rental_count": "38",
                                    "rental_category": "High"
                                },
                                {
                                    "customer_name": "Daisy Bates",
                                    "rental_count": "38",
                                    "rental_category": "High"
                                },
                                {
                                    "customer_name": "Curtis Irby",
                                    "rental_count": "38",
                                    "rental_category": "High"
                                },
                                {
                                    "customer_name": "Brandon Huey",
                                    "rental_count": "37",
                                    "rental_category": "High"
                                },
                                {
                                    "customer_name": "Marsha Douglas",
                                    "rental_count": "37",
                                    "rental_category": "High"
                                },
                                {
                                    "customer_name": "Elsie Kelley",
                                    "rental_count": "37",
                                    "rental_category": "High"
                                },
                                {
                                    "customer_name": "June Carroll",
                                    "rental_count": "37",
                                    "rental_category": "High"
                                },
                                {
                                    "customer_name": "Angela Hernandez",
                                    "rental_count": "36",
                                    "rental_category": "High"
                                },
                                {
                                    "customer_name": "Margie Wade",
                                    "rental_count": "36",
                                    "rental_category": "High"
                                },
                                {
                                    "customer_name": "Justin Ngo",
                                    "rental_count": "36",
                                    "rental_category": "High"
                                },
                                {
                                    "customer_name": "Alexander Fennell",
                                    "rental_count": "36",
                                    "rental_category": "High"
                                },
                                {
                                    "customer_name": "Russell Brinson",
                                    "rental_count": "36",
                                    "rental_category": "High"
                                },
                                {
                                    "customer_name": "Roger Quintanilla",
                                    "rental_count": "36",
                                    "rental_category": "High"
                                },
                                {
                                    "customer_name": "Michelle Clark",
                                    "rental_count": "35",
                                    "rental_category": "High"
                                },
                                {
                                    "customer_name": "Rosemary Schmidt",
                                    "rental_count": "35",
                                    "rental_category": "High"
                                },
                                {
                                    "customer_name": "Mike Way",
                                    "rental_count": "35",
                                    "rental_category": "High"
                                },
                                {
                                    "customer_name": "Lois Butler",
                                    "rental_count": "35",
                                    "rental_category": "High"
                                },
                                {
                                    "customer_name": "Harry Arce",
                                    "rental_count": "35",
                                    "rental_category": "High"
                                },
                                {
                                    "customer_name": "Diane Collins",
                                    "rental_count": "35",
                                    "rental_category": "High"
                                },
                                {
                                    "customer_name": "Bobby Boudreau",
                                    "rental_count": "35",
                                    "rental_category": "High"
                                },
                                {
                                    "customer_name": "Priscilla Lowe",
                                    "rental_count": "35",
                                    "rental_category": "High"
                                },
                                {
                                    "customer_name": "Naomi Jennings",
                                    "rental_count": "35",
                                    "rental_category": "High"
                                },
                                {
                                    "customer_name": "Leslie Seward",
                                    "rental_count": "35",
                                    "rental_category": "High"
                                },
                                {
                                    "customer_name": "Billy Poulin",
                                    "rental_count": "35",
                                    "rental_category": "High"
                                },
                                {
                                    "customer_name": "Louis Leone",
                                    "rental_count": "35",
                                    "rental_category": "High"
                                },
                                {
                                    "customer_name": "Alma Austin",
                                    "rental_count": "35",
                                    "rental_category": "High"
                                },
                                {
                                    "customer_name": "Janice Ward",
                                    "rental_count": "34",
                                    "rental_category": "High"
                                },
                                {
                                    "customer_name": "Heidi Larson",
                                    "rental_count": "34",
                                    "rental_category": "High"
                                },
                                {
                                    "customer_name": "Carrie Porter",
                                    "rental_count": "34",
                                    "rental_category": "High"
                                },
                                {
                                    "customer_name": "Morris Mccarter",
                                    "rental_count": "34",
                                    "rental_category": "High"
                                },
                                {
                                    "customer_name": "Gertrude Castillo",
                                    "rental_count": "34",
                                    "rental_category": "High"
                                },
                                {
                                    "customer_name": "Casey Mena",
                                    "rental_count": "34",
                                    "rental_category": "High"
                                },
                                {
                                    "customer_name": "Regina Berry",
                                    "rental_count": "34",
                                    "rental_category": "High"
                                },
                                {
                                    "customer_name": "Brett Cornwell",
                                    "rental_count": "34",
                                    "rental_category": "High"
                                },
                                {
                                    "customer_name": "Jorge Olivares",
                                    "rental_count": "34",
                                    "rental_category": "High"
                                },
                                {
                                    "customer_name": "Hazel Warren",
                                    "rental_count": "34",
                                    "rental_category": "High"
                                },
                                {
                                    "customer_name": "Melissa King",
                                    "rental_count": "34",
                                    "rental_category": "High"
                                },
                                {
                                    "customer_name": "Minnie Romero",
                                    "rental_count": "34",
                                    "rental_category": "High"
                                },
                                {
                                    "customer_name": "Jessica Hall",
                                    "rental_count": "34",
                                    "rental_category": "High"
                                },
                                {
                                    "customer_name": "Joanne Robertson",
                                    "rental_count": "34",
                                    "rental_category": "High"
                                },
                                {
                                    "customer_name": "Ralph Madrigal",
                                    "rental_count": "34",
                                    "rental_category": "High"
                                },
                                {
                                    "customer_name": "Sherry Marshall",
                                    "rental_count": "34",
                                    "rental_category": "High"
                                },
                                {
                                    "customer_name": "Catherine Campbell",
                                    "rental_count": "34",
                                    "rental_category": "High"
                                },
                                {
                                    "customer_name": "Stacey Montgomery",
                                    "rental_count": "34",
                                    "rental_category": "High"
                                },
                                {
                                    "customer_name": "Ana Bradley",
                                    "rental_count": "34",
                                    "rental_category": "High"
                                },
                                {
                                    "customer_name": "Steve Mackenzie",
                                    "rental_count": "34",
                                    "rental_category": "High"
                                },
                                {
                                    "customer_name": "Martha Gonzalez",
                                    "rental_count": "34",
                                    "rental_category": "High"
                                },
                                {
                                    "customer_name": "Warren Sherrod",
                                    "rental_count": "33",
                                    "rental_category": "High"
                                },
                                {
                                    "customer_name": "Jim Rea",
                                    "rental_count": "33",
                                    "rental_category": "High"
                                },
                                {
                                    "customer_name": "Shawn Heaton",
                                    "rental_count": "33",
                                    "rental_category": "High"
                                },
                                {
                                    "customer_name": "George Linton",
                                    "rental_count": "33",
                                    "rental_category": "High"
                                },
                                {
                                    "customer_name": "Arnold Havens",
                                    "rental_count": "33",
                                    "rental_category": "High"
                                },
                                {
                                    "customer_name": "Crystal Ford",
                                    "rental_count": "33",
                                    "rental_category": "High"
                                },
                                {
                                    "customer_name": "Jessie Milam",
                                    "rental_count": "33",
                                    "rental_category": "High"
                                },
                                {
                                    "customer_name": "Alice Stewart",
                                    "rental_count": "33",
                                    "rental_category": "High"
                                },
                                {
                                    "customer_name": "Maria Miller",
                                    "rental_count": "33",
                                    "rental_category": "High"
                                },
                                {
                                    "customer_name": "Joy George",
                                    "rental_count": "33",
                                    "rental_category": "High"
                                },
                                {
                                    "customer_name": "Judith Cox",
                                    "rental_count": "33",
                                    "rental_category": "High"
                                },
                                {
                                    "customer_name": "Barry Lovelace",
                                    "rental_count": "33",
                                    "rental_category": "High"
                                },
                                {
                                    "customer_name": "Sherri Rhodes",
                                    "rental_count": "33",
                                    "rental_category": "High"
                                },
                                {
                                    "customer_name": "Alex Gresham",
                                    "rental_count": "33",
                                    "rental_category": "High"
                                },
                                {
                                    "customer_name": "Jacqueline Long",
                                    "rental_count": "33",
                                    "rental_category": "High"
                                },
                                {
                                    "customer_name": "Sara Perry",
                                    "rental_count": "33",
                                    "rental_category": "High"
                                },
                                {
                                    "customer_name": "Grace Ellis",
                                    "rental_count": "33",
                                    "rental_category": "High"
                                },
                                {
                                    "customer_name": "Tanya Gilbert",
                                    "rental_count": "33",
                                    "rental_category": "High"
                                },
                                {
                                    "customer_name": "Bernice Willis",
                                    "rental_count": "33",
                                    "rental_category": "High"
                                },
                                {
                                    "customer_name": "Nicholas Barfield",
                                    "rental_count": "32",
                                    "rental_category": "High"
                                },
                                {
                                    "customer_name": "Tonya Chapman",
                                    "rental_count": "32",
                                    "rental_category": "High"
                                },
                                {
                                    "customer_name": "Courtney Day",
                                    "rental_count": "32",
                                    "rental_category": "High"
                                },
                                {
                                    "customer_name": "Nathan Runyon",
                                    "rental_count": "32",
                                    "rental_category": "High"
                                },
                                {
                                    "customer_name": "Veronica Stone",
                                    "rental_count": "32",
                                    "rental_category": "High"
                                },
                                {
                                    "customer_name": "Ethel Webb",
                                    "rental_count": "32",
                                    "rental_category": "High"
                                },
                                {
                                    "customer_name": "Cynthia Young",
                                    "rental_count": "32",
                                    "rental_category": "High"
                                },
                                {
                                    "customer_name": "Sylvia Ortiz",
                                    "rental_count": "32",
                                    "rental_category": "High"
                                },
                                {
                                    "customer_name": "Javier Elrod",
                                    "rental_count": "32",
                                    "rental_category": "High"
                                },
                                {
                                    "customer_name": "Charles Kowalski",
                                    "rental_count": "32",
                                    "rental_category": "High"
                                },
                                {
                                    "customer_name": "Glenda Frazier",
                                    "rental_count": "32",
                                    "rental_category": "High"
                                },
                                {
                                    "customer_name": "Tom Milner",
                                    "rental_count": "32",
                                    "rental_category": "High"
                                },
                                {
                                    "customer_name": "Dave Gardiner",
                                    "rental_count": "32",
                                    "rental_category": "High"
                                },
                                {
                                    "customer_name": "Virginia Green",
                                    "rental_count": "32",
                                    "rental_category": "High"
                                },
                                {
                                    "customer_name": "Guy Brownlee",
                                    "rental_count": "32",
                                    "rental_category": "High"
                                },
                                {
                                    "customer_name": "Mitchell Westmoreland",
                                    "rental_count": "32",
                                    "rental_category": "High"
                                },
                                {
                                    "customer_name": "Arthur Simpkins",
                                    "rental_count": "32",
                                    "rental_category": "High"
                                },
                                {
                                    "customer_name": "Mary Smith",
                                    "rental_count": "32",
                                    "rental_category": "High"
                                },
                                {
                                    "customer_name": "Marjorie Tucker",
                                    "rental_count": "32",
                                    "rental_category": "High"
                                },
                                {
                                    "customer_name": "Angel Barclay",
                                    "rental_count": "32",
                                    "rental_category": "High"
                                },
                                {
                                    "customer_name": "Maxine Silva",
                                    "rental_count": "32",
                                    "rental_category": "High"
                                },
                                {
                                    "customer_name": "Julia Flores",
                                    "rental_count": "32",
                                    "rental_category": "High"
                                },
                                {
                                    "customer_name": "Viola Hanson",
                                    "rental_count": "32",
                                    "rental_category": "High"
                                },
                                {
                                    "customer_name": "Thelma Murray",
                                    "rental_count": "32",
                                    "rental_category": "High"
                                },
                                {
                                    "customer_name": "Helen Harris",
                                    "rental_count": "32",
                                    "rental_category": "High"
                                },
                                {
                                    "customer_name": "Gordon Allard",
                                    "rental_count": "32",
                                    "rental_category": "High"
                                },
                                {
                                    "customer_name": "Leonard Schofield",
                                    "rental_count": "32",
                                    "rental_category": "High"
                                },
                                {
                                    "customer_name": "Debbie Reyes",
                                    "rental_count": "32",
                                    "rental_category": "High"
                                },
                                {
                                    "customer_name": "Frank Waggoner",
                                    "rental_count": "32",
                                    "rental_category": "High"
                                },
                                {
                                    "customer_name": "Leroy Bustamante",
                                    "rental_count": "32",
                                    "rental_category": "High"
                                },
                                {
                                    "customer_name": "Neil Renner",
                                    "rental_count": "32",
                                    "rental_category": "High"
                                },
                                {
                                    "customer_name": "Lena Jensen",
                                    "rental_count": "32",
                                    "rental_category": "High"
                                },
                                {
                                    "customer_name": "Harold Martino",
                                    "rental_count": "32",
                                    "rental_category": "High"
                                },
                                {
                                    "customer_name": "Olga Jimenez",
                                    "rental_count": "32",
                                    "rental_category": "High"
                                },
                                {
                                    "customer_name": "Sally Pierce",
                                    "rental_count": "32",
                                    "rental_category": "High"
                                },
                                {
                                    "customer_name": "Ramon Choate",
                                    "rental_count": "31",
                                    "rental_category": "High"
                                },
                                {
                                    "customer_name": "Kristin Johnston",
                                    "rental_count": "31",
                                    "rental_category": "High"
                                },
                                {
                                    "customer_name": "Vickie Brewer",
                                    "rental_count": "31",
                                    "rental_category": "High"
                                },
                                {
                                    "customer_name": "Philip Causey",
                                    "rental_count": "31",
                                    "rental_category": "High"
                                },
                                {
                                    "customer_name": "Dianne Shelton",
                                    "rental_count": "31",
                                    "rental_category": "High"
                                },
                                {
                                    "customer_name": "Zachary Hite",
                                    "rental_count": "31",
                                    "rental_category": "High"
                                },
                                {
                                    "customer_name": "Mae Fletcher",
                                    "rental_count": "31",
                                    "rental_category": "High"
                                },
                                {
                                    "customer_name": "Ella Oliver",
                                    "rental_count": "31",
                                    "rental_category": "High"
                                },
                                {
                                    "customer_name": "Matthew Mahan",
                                    "rental_count": "31",
                                    "rental_category": "High"
                                },
                                {
                                    "customer_name": "Jeffery Pinson",
                                    "rental_count": "31",
                                    "rental_category": "High"
                                },
                                {
                                    "customer_name": "Lori Wood",
                                    "rental_count": "31",
                                    "rental_category": "High"
                                },
                                {
                                    "customer_name": "Duane Tubbs",
                                    "rental_count": "31",
                                    "rental_category": "High"
                                },
                                {
                                    "customer_name": "Lawrence Lawton",
                                    "rental_count": "31",
                                    "rental_category": "High"
                                },
                                {
                                    "customer_name": "John Farnsworth",
                                    "rental_count": "31",
                                    "rental_category": "High"
                                },
                                {
                                    "customer_name": "Darlene Rose",
                                    "rental_count": "31",
                                    "rental_category": "High"
                                },
                                {
                                    "customer_name": "Gladys Hamilton",
                                    "rental_count": "31",
                                    "rental_category": "High"
                                },
                                {
                                    "customer_name": "Patrick Newsom",
                                    "rental_count": "31",
                                    "rental_category": "High"
                                },
                                {
                                    "customer_name": "Theodore Culp",
                                    "rental_count": "31",
                                    "rental_category": "High"
                                },
                                {
                                    "customer_name": "Christopher Greco",
                                    "rental_count": "31",
                                    "rental_category": "High"
                                },
                                {
                                    "customer_name": "Holly Fox",
                                    "rental_count": "31",
                                    "rental_category": "High"
                                },
                                {
                                    "customer_name": "Shirley Allen",
                                    "rental_count": "31",
                                    "rental_category": "High"
                                },
                                {
                                    "customer_name": "Christy Vargas",
                                    "rental_count": "31",
                                    "rental_category": "High"
                                },
                                {
                                    "customer_name": "Gloria Cook",
                                    "rental_count": "30",
                                    "rental_category": "Medium"
                                },
                                {
                                    "customer_name": "Wanda Patterson",
                                    "rental_count": "30",
                                    "rental_category": "Medium"
                                },
                                {
                                    "customer_name": "Walter Perryman",
                                    "rental_count": "30",
                                    "rental_category": "Medium"
                                },
                                {
                                    "customer_name": "Florence Woods",
                                    "rental_count": "30",
                                    "rental_category": "Medium"
                                },
                                {
                                    "customer_name": "Rosa Reynolds",
                                    "rental_count": "30",
                                    "rental_category": "Medium"
                                },
                                {
                                    "customer_name": "Roberto Vu",
                                    "rental_count": "30",
                                    "rental_category": "Medium"
                                },
                                {
                                    "customer_name": "Marcus Hidalgo",
                                    "rental_count": "30",
                                    "rental_category": "Medium"
                                },
                                {
                                    "customer_name": "Greg Robins",
                                    "rental_count": "30",
                                    "rental_category": "Medium"
                                },
                                {
                                    "customer_name": "Jordan Archuleta",
                                    "rental_count": "30",
                                    "rental_category": "Medium"
                                },
                                {
                                    "customer_name": "Ryan Salisbury",
                                    "rental_count": "30",
                                    "rental_category": "Medium"
                                },
                                {
                                    "customer_name": "Violet Rodriquez",
                                    "rental_count": "30",
                                    "rental_category": "Medium"
                                },
                                {
                                    "customer_name": "Joseph Joy",
                                    "rental_count": "30",
                                    "rental_category": "Medium"
                                },
                                {
                                    "customer_name": "Raymond Mcwhorter",
                                    "rental_count": "30",
                                    "rental_category": "Medium"
                                },
                                {
                                    "customer_name": "Jeff East",
                                    "rental_count": "30",
                                    "rental_category": "Medium"
                                },
                                {
                                    "customer_name": "Theresa Watson",
                                    "rental_count": "30",
                                    "rental_category": "Medium"
                                },
                                {
                                    "customer_name": "Monica Hicks",
                                    "rental_count": "30",
                                    "rental_category": "Medium"
                                },
                                {
                                    "customer_name": "Stanley Scroggins",
                                    "rental_count": "30",
                                    "rental_category": "Medium"
                                },
                                {
                                    "customer_name": "Juanita Mason",
                                    "rental_count": "30",
                                    "rental_category": "Medium"
                                },
                                {
                                    "customer_name": "Geraldine Perkins",
                                    "rental_count": "30",
                                    "rental_category": "Medium"
                                },
                                {
                                    "customer_name": "Salvador Teel",
                                    "rental_count": "30",
                                    "rental_category": "Medium"
                                },
                                {
                                    "customer_name": "Carolyn Perez",
                                    "rental_count": "30",
                                    "rental_category": "Medium"
                                },
                                {
                                    "customer_name": "Troy Quigley",
                                    "rental_count": "30",
                                    "rental_category": "Medium"
                                },
                                {
                                    "customer_name": "James Gannon",
                                    "rental_count": "30",
                                    "rental_category": "Medium"
                                },
                                {
                                    "customer_name": "Wendy Harrison",
                                    "rental_count": "30",
                                    "rental_category": "Medium"
                                },
                                {
                                    "customer_name": "Cassandra Walters",
                                    "rental_count": "30",
                                    "rental_category": "Medium"
                                },
                                {
                                    "customer_name": "Tracy Cole",
                                    "rental_count": "30",
                                    "rental_category": "Medium"
                                },
                                {
                                    "customer_name": "Manuel Murrell",
                                    "rental_count": "30",
                                    "rental_category": "Medium"
                                },
                                {
                                    "customer_name": "Sarah Lewis",
                                    "rental_count": "30",
                                    "rental_category": "Medium"
                                },
                                {
                                    "customer_name": "Mabel Holland",
                                    "rental_count": "30",
                                    "rental_category": "Medium"
                                },
                                {
                                    "customer_name": "Ramona Hale",
                                    "rental_count": "30",
                                    "rental_category": "Medium"
                                },
                                {
                                    "customer_name": "Michele Grant",
                                    "rental_count": "30",
                                    "rental_category": "Medium"
                                },
                                {
                                    "customer_name": "Marc Outlaw",
                                    "rental_count": "30",
                                    "rental_category": "Medium"
                                },
                                {
                                    "customer_name": "Carole Barnett",
                                    "rental_count": "30",
                                    "rental_category": "Medium"
                                },
                                {
                                    "customer_name": "Joshua Mark",
                                    "rental_count": "30",
                                    "rental_category": "Medium"
                                },
                                {
                                    "customer_name": "Craig Morrell",
                                    "rental_count": "30",
                                    "rental_category": "Medium"
                                },
                                {
                                    "customer_name": "Heather Morris",
                                    "rental_count": "30",
                                    "rental_category": "Medium"
                                },
                                {
                                    "customer_name": "Clarence Gamez",
                                    "rental_count": "30",
                                    "rental_category": "Medium"
                                },
                                {
                                    "customer_name": "Kathy James",
                                    "rental_count": "30",
                                    "rental_category": "Medium"
                                },
                                {
                                    "customer_name": "Gerald Fultz",
                                    "rental_count": "30",
                                    "rental_category": "Medium"
                                },
                                {
                                    "customer_name": "Marilyn Ross",
                                    "rental_count": "30",
                                    "rental_category": "Medium"
                                },
                                {
                                    "customer_name": "Kyle Spurlock",
                                    "rental_count": "30",
                                    "rental_category": "Medium"
                                },
                                {
                                    "customer_name": "Ronald Weiner",
                                    "rental_count": "30",
                                    "rental_category": "Medium"
                                },
                                {
                                    "customer_name": "Terrence Gunderson",
                                    "rental_count": "30",
                                    "rental_category": "Medium"
                                },
                                {
                                    "customer_name": "Sharon Robinson",
                                    "rental_count": "30",
                                    "rental_category": "Medium"
                                },
                                {
                                    "customer_name": "Roy Whiting",
                                    "rental_count": "29",
                                    "rental_category": "Medium"
                                },
                                {
                                    "customer_name": "Isaac Oglesby",
                                    "rental_count": "29",
                                    "rental_category": "Medium"
                                },
                                {
                                    "customer_name": "Clifford Bowens",
                                    "rental_count": "29",
                                    "rental_category": "Medium"
                                },
                                {
                                    "customer_name": "Clyde Tobias",
                                    "rental_count": "29",
                                    "rental_category": "Medium"
                                },
                                {
                                    "customer_name": "Michael Silverman",
                                    "rental_count": "29",
                                    "rental_category": "Medium"
                                },
                                {
                                    "customer_name": "Dana Hart",
                                    "rental_count": "29",
                                    "rental_category": "Medium"
                                },
                                {
                                    "customer_name": "Teresa Rogers",
                                    "rental_count": "29",
                                    "rental_category": "Medium"
                                },
                                {
                                    "customer_name": "Nina Soto",
                                    "rental_count": "29",
                                    "rental_category": "Medium"
                                },
                                {
                                    "customer_name": "Maurice Crawley",
                                    "rental_count": "29",
                                    "rental_category": "Medium"
                                },
                                {
                                    "customer_name": "Debra Nelson",
                                    "rental_count": "29",
                                    "rental_category": "Medium"
                                },
                                {
                                    "customer_name": "Ken Prewitt",
                                    "rental_count": "29",
                                    "rental_category": "Medium"
                                },
                                {
                                    "customer_name": "Becky Miles",
                                    "rental_count": "29",
                                    "rental_category": "Medium"
                                },
                                {
                                    "customer_name": "Cindy Fisher",
                                    "rental_count": "29",
                                    "rental_category": "Medium"
                                },
                                {
                                    "customer_name": "Byron Box",
                                    "rental_count": "29",
                                    "rental_category": "Medium"
                                },
                                {
                                    "customer_name": "Jaime Nettles",
                                    "rental_count": "29",
                                    "rental_category": "Medium"
                                },
                                {
                                    "customer_name": "Joe Gilliland",
                                    "rental_count": "29",
                                    "rental_category": "Medium"
                                },
                                {
                                    "customer_name": "Julie Sanchez",
                                    "rental_count": "29",
                                    "rental_category": "Medium"
                                },
                                {
                                    "customer_name": "Hilda Hopkins",
                                    "rental_count": "29",
                                    "rental_category": "Medium"
                                },
                                {
                                    "customer_name": "Jennie Terry",
                                    "rental_count": "29",
                                    "rental_category": "Medium"
                                },
                                {
                                    "customer_name": "Alvin Deloach",
                                    "rental_count": "29",
                                    "rental_category": "Medium"
                                },
                                {
                                    "customer_name": "Jamie Rice",
                                    "rental_count": "29",
                                    "rental_category": "Medium"
                                },
                                {
                                    "customer_name": "Jimmy Schrader",
                                    "rental_count": "29",
                                    "rental_category": "Medium"
                                },
                                {
                                    "customer_name": "Ted Breaux",
                                    "rental_count": "29",
                                    "rental_category": "Medium"
                                },
                                {
                                    "customer_name": "Terrance Roush",
                                    "rental_count": "29",
                                    "rental_category": "Medium"
                                },
                                {
                                    "customer_name": "Todd Tan",
                                    "rental_count": "29",
                                    "rental_category": "Medium"
                                },
                                {
                                    "customer_name": "Audrey Ray",
                                    "rental_count": "29",
                                    "rental_category": "Medium"
                                },
                                {
                                    "customer_name": "Terry Carlson",
                                    "rental_count": "29",
                                    "rental_category": "Medium"
                                },
                                {
                                    "customer_name": "Jerry Jordon",
                                    "rental_count": "29",
                                    "rental_category": "Medium"
                                },
                                {
                                    "customer_name": "Amy Lopez",
                                    "rental_count": "29",
                                    "rental_category": "Medium"
                                },
                                {
                                    "customer_name": "Deborah Walker",
                                    "rental_count": "29",
                                    "rental_category": "Medium"
                                },
                                {
                                    "customer_name": "Cathy Spencer",
                                    "rental_count": "29",
                                    "rental_category": "Medium"
                                },
                                {
                                    "customer_name": "Miguel Betancourt",
                                    "rental_count": "29",
                                    "rental_category": "Medium"
                                },
                                {
                                    "customer_name": "Erik Guillen",
                                    "rental_count": "29",
                                    "rental_category": "Medium"
                                },
                                {
                                    "customer_name": "Herman Devore",
                                    "rental_count": "29",
                                    "rental_category": "Medium"
                                },
                                {
                                    "customer_name": "Marion Ocampo",
                                    "rental_count": "29",
                                    "rental_category": "Medium"
                                },
                                {
                                    "customer_name": "Steven Curley",
                                    "rental_count": "29",
                                    "rental_category": "Medium"
                                },
                                {
                                    "customer_name": "Jennifer Davis",
                                    "rental_count": "28",
                                    "rental_category": "Medium"
                                },
                                {
                                    "customer_name": "Brittany Riley",
                                    "rental_count": "28",
                                    "rental_category": "Medium"
                                },
                                {
                                    "customer_name": "Evelyn Morgan",
                                    "rental_count": "28",
                                    "rental_category": "Medium"
                                },
                                {
                                    "customer_name": "Nora Herrera",
                                    "rental_count": "28",
                                    "rental_category": "Medium"
                                },
                                {
                                    "customer_name": "Bryan Hardison",
                                    "rental_count": "28",
                                    "rental_category": "Medium"
                                },
                                {
                                    "customer_name": "Enrique Forsythe",
                                    "rental_count": "28",
                                    "rental_category": "Medium"
                                },
                                {
                                    "customer_name": "Lynn Payne",
                                    "rental_count": "28",
                                    "rental_category": "Medium"
                                },
                                {
                                    "customer_name": "Lucille Holmes",
                                    "rental_count": "28",
                                    "rental_category": "Medium"
                                },
                                {
                                    "customer_name": "Everett Banda",
                                    "rental_count": "28",
                                    "rental_category": "Medium"
                                },
                                {
                                    "customer_name": "Brandy Graves",
                                    "rental_count": "28",
                                    "rental_category": "Medium"
                                },
                                {
                                    "customer_name": "Tracy Herrmann",
                                    "rental_count": "28",
                                    "rental_category": "Medium"
                                },
                                {
                                    "customer_name": "Bill Gavin",
                                    "rental_count": "28",
                                    "rental_category": "Medium"
                                },
                                {
                                    "customer_name": "Ruby Washington",
                                    "rental_count": "28",
                                    "rental_category": "Medium"
                                },
                                {
                                    "customer_name": "Jimmie Eggleston",
                                    "rental_count": "28",
                                    "rental_category": "Medium"
                                },
                                {
                                    "customer_name": "Kristina Chambers",
                                    "rental_count": "28",
                                    "rental_category": "Medium"
                                },
                                {
                                    "customer_name": "Sonia Gregory",
                                    "rental_count": "28",
                                    "rental_category": "Medium"
                                },
                                {
                                    "customer_name": "Edward Baugh",
                                    "rental_count": "28",
                                    "rental_category": "Medium"
                                },
                                {
                                    "customer_name": "Ellen Simpson",
                                    "rental_count": "28",
                                    "rental_category": "Medium"
                                },
                                {
                                    "customer_name": "Jeremy Hurtado",
                                    "rental_count": "28",
                                    "rental_category": "Medium"
                                },
                                {
                                    "customer_name": "Nancy Thomas",
                                    "rental_count": "28",
                                    "rental_category": "Medium"
                                },
                                {
                                    "customer_name": "Stephen Qualls",
                                    "rental_count": "28",
                                    "rental_category": "Medium"
                                },
                                {
                                    "customer_name": "Tina Simmons",
                                    "rental_count": "28",
                                    "rental_category": "Medium"
                                },
                                {
                                    "customer_name": "Reginald Kinder",
                                    "rental_count": "28",
                                    "rental_category": "Medium"
                                },
                                {
                                    "customer_name": "Derek Blakely",
                                    "rental_count": "28",
                                    "rental_category": "Medium"
                                },
                                {
                                    "customer_name": "Felicia Sutton",
                                    "rental_count": "28",
                                    "rental_category": "Medium"
                                },
                                {
                                    "customer_name": "Betty White",
                                    "rental_count": "28",
                                    "rental_category": "Medium"
                                },
                                {
                                    "customer_name": "Gilbert Sledge",
                                    "rental_count": "28",
                                    "rental_category": "Medium"
                                },
                                {
                                    "customer_name": "Mario Cheatham",
                                    "rental_count": "28",
                                    "rental_category": "Medium"
                                },
                                {
                                    "customer_name": "Esther Crawford",
                                    "rental_count": "28",
                                    "rental_category": "Medium"
                                },
                                {
                                    "customer_name": "Jason Morrissey",
                                    "rental_count": "28",
                                    "rental_category": "Medium"
                                },
                                {
                                    "customer_name": "Patsy Davidson",
                                    "rental_count": "28",
                                    "rental_category": "Medium"
                                },
                                {
                                    "customer_name": "Nathaniel Adam",
                                    "rental_count": "28",
                                    "rental_category": "Medium"
                                },
                                {
                                    "customer_name": "Randy Gaither",
                                    "rental_count": "28",
                                    "rental_category": "Medium"
                                },
                                {
                                    "customer_name": "Dennis Gilman",
                                    "rental_count": "28",
                                    "rental_category": "Medium"
                                },
                                {
                                    "customer_name": "Jane Bennett",
                                    "rental_count": "28",
                                    "rental_category": "Medium"
                                },
                                {
                                    "customer_name": "Andre Rapp",
                                    "rental_count": "28",
                                    "rental_category": "Medium"
                                },
                                {
                                    "customer_name": "Julian Vest",
                                    "rental_count": "28",
                                    "rental_category": "Medium"
                                },
                                {
                                    "customer_name": "Gina Williamson",
                                    "rental_count": "28",
                                    "rental_category": "Medium"
                                },
                                {
                                    "customer_name": "Bessie Morrison",
                                    "rental_count": "28",
                                    "rental_category": "Medium"
                                },
                                {
                                    "customer_name": "Sandra Martin",
                                    "rental_count": "28",
                                    "rental_category": "Medium"
                                },
                                {
                                    "customer_name": "Joyce Edwards",
                                    "rental_count": "28",
                                    "rental_category": "Medium"
                                },
                                {
                                    "customer_name": "Cheryl Murphy",
                                    "rental_count": "27",
                                    "rental_category": "Medium"
                                },
                                {
                                    "customer_name": "Eduardo Hiatt",
                                    "rental_count": "27",
                                    "rental_category": "Medium"
                                },
                                {
                                    "customer_name": "Amanda Carter",
                                    "rental_count": "27",
                                    "rental_category": "Medium"
                                },
                                {
                                    "customer_name": "Dale Ratcliff",
                                    "rental_count": "27",
                                    "rental_category": "Medium"
                                },
                                {
                                    "customer_name": "Eric Robert",
                                    "rental_count": "27",
                                    "rental_category": "Medium"
                                },
                                {
                                    "customer_name": "Victoria Gibson",
                                    "rental_count": "27",
                                    "rental_category": "Medium"
                                },
                                {
                                    "customer_name": "Jean Bell",
                                    "rental_count": "27",
                                    "rental_category": "Medium"
                                },
                                {
                                    "customer_name": "Jeanne Lawson",
                                    "rental_count": "27",
                                    "rental_category": "Medium"
                                },
                                {
                                    "customer_name": "Kathleen Adams",
                                    "rental_count": "27",
                                    "rental_category": "Medium"
                                },
                                {
                                    "customer_name": "Diana Alexander",
                                    "rental_count": "27",
                                    "rental_category": "Medium"
                                },
                                {
                                    "customer_name": "Bradley Motley",
                                    "rental_count": "27",
                                    "rental_category": "Medium"
                                },
                                {
                                    "customer_name": "Charlene Alvarez",
                                    "rental_count": "27",
                                    "rental_category": "Medium"
                                },
                                {
                                    "customer_name": "Jenny Castro",
                                    "rental_count": "27",
                                    "rental_category": "Medium"
                                },
                                {
                                    "customer_name": "Rick Mattox",
                                    "rental_count": "27",
                                    "rental_category": "Medium"
                                },
                                {
                                    "customer_name": "Allison Stanley",
                                    "rental_count": "27",
                                    "rental_category": "Medium"
                                },
                                {
                                    "customer_name": "Yolanda Weaver",
                                    "rental_count": "27",
                                    "rental_category": "Medium"
                                },
                                {
                                    "customer_name": "Misty Lambert",
                                    "rental_count": "27",
                                    "rental_category": "Medium"
                                },
                                {
                                    "customer_name": "Eddie Tomlin",
                                    "rental_count": "27",
                                    "rental_category": "Medium"
                                },
                                {
                                    "customer_name": "Janet Phillips",
                                    "rental_count": "27",
                                    "rental_category": "Medium"
                                },
                                {
                                    "customer_name": "Earl Shanks",
                                    "rental_count": "27",
                                    "rental_category": "Medium"
                                },
                                {
                                    "customer_name": "Amber Dixon",
                                    "rental_count": "27",
                                    "rental_category": "Medium"
                                },
                                {
                                    "customer_name": "Daryl Larue",
                                    "rental_count": "27",
                                    "rental_category": "Medium"
                                },
                                {
                                    "customer_name": "Karen Jackson",
                                    "rental_count": "27",
                                    "rental_category": "Medium"
                                },
                                {
                                    "customer_name": "Terri Vasquez",
                                    "rental_count": "27",
                                    "rental_category": "Medium"
                                },
                                {
                                    "customer_name": "Megan Palmer",
                                    "rental_count": "27",
                                    "rental_category": "Medium"
                                },
                                {
                                    "customer_name": "Patricia Johnson",
                                    "rental_count": "27",
                                    "rental_category": "Medium"
                                },
                                {
                                    "customer_name": "Erin Dunn",
                                    "rental_count": "27",
                                    "rental_category": "Medium"
                                },
                                {
                                    "customer_name": "Gene Sanborn",
                                    "rental_count": "27",
                                    "rental_category": "Medium"
                                },
                                {
                                    "customer_name": "Lee Hawks",
                                    "rental_count": "27",
                                    "rental_category": "Medium"
                                },
                                {
                                    "customer_name": "Dean Sauer",
                                    "rental_count": "27",
                                    "rental_category": "Medium"
                                },
                                {
                                    "customer_name": "Martin Bales",
                                    "rental_count": "27",
                                    "rental_category": "Medium"
                                },
                                {
                                    "customer_name": "Kent Arsenault",
                                    "rental_count": "27",
                                    "rental_category": "Medium"
                                },
                                {
                                    "customer_name": "Pauline Henry",
                                    "rental_count": "27",
                                    "rental_category": "Medium"
                                },
                                {
                                    "customer_name": "Ross Grey",
                                    "rental_count": "27",
                                    "rental_category": "Medium"
                                },
                                {
                                    "customer_name": "Velma Lucas",
                                    "rental_count": "27",
                                    "rental_category": "Medium"
                                },
                                {
                                    "customer_name": "Clifton Malcolm",
                                    "rental_count": "27",
                                    "rental_category": "Medium"
                                },
                                {
                                    "customer_name": "Virgil Wofford",
                                    "rental_count": "27",
                                    "rental_category": "Medium"
                                },
                                {
                                    "customer_name": "Andrew Purdy",
                                    "rental_count": "27",
                                    "rental_category": "Medium"
                                },
                                {
                                    "customer_name": "Ian Still",
                                    "rental_count": "27",
                                    "rental_category": "Medium"
                                },
                                {
                                    "customer_name": "Denise Kelly",
                                    "rental_count": "27",
                                    "rental_category": "Medium"
                                },
                                {
                                    "customer_name": "Tracey Barrett",
                                    "rental_count": "27",
                                    "rental_category": "Medium"
                                },
                                {
                                    "customer_name": "Georgia Jacobs",
                                    "rental_count": "26",
                                    "rental_category": "Medium"
                                },
                                {
                                    "customer_name": "Cecil Vines",
                                    "rental_count": "26",
                                    "rental_category": "Medium"
                                },
                                {
                                    "customer_name": "Hector Poindexter",
                                    "rental_count": "26",
                                    "rental_category": "Medium"
                                },
                                {
                                    "customer_name": "Beatrice Arnold",
                                    "rental_count": "26",
                                    "rental_category": "Medium"
                                },
                                {
                                    "customer_name": "April Burns",
                                    "rental_count": "26",
                                    "rental_category": "Medium"
                                },
                                {
                                    "customer_name": "Jay Robb",
                                    "rental_count": "26",
                                    "rental_category": "Medium"
                                },
                                {
                                    "customer_name": "Josephine Gomez",
                                    "rental_count": "26",
                                    "rental_category": "Medium"
                                },
                                {
                                    "customer_name": "Edna West",
                                    "rental_count": "26",
                                    "rental_category": "Medium"
                                },
                                {
                                    "customer_name": "Valerie Black",
                                    "rental_count": "26",
                                    "rental_category": "Medium"
                                },
                                {
                                    "customer_name": "Larry Thrasher",
                                    "rental_count": "26",
                                    "rental_category": "Medium"
                                },
                                {
                                    "customer_name": "Brenda Wright",
                                    "rental_count": "26",
                                    "rental_category": "Medium"
                                },
                                {
                                    "customer_name": "Micheal Forman",
                                    "rental_count": "26",
                                    "rental_category": "Medium"
                                },
                                {
                                    "customer_name": "Howard Fortner",
                                    "rental_count": "26",
                                    "rental_category": "Medium"
                                },
                                {
                                    "customer_name": "Dawn Sullivan",
                                    "rental_count": "26",
                                    "rental_category": "Medium"
                                },
                                {
                                    "customer_name": "William Satterfield",
                                    "rental_count": "26",
                                    "rental_category": "Medium"
                                },
                                {
                                    "customer_name": "Renee Lane",
                                    "rental_count": "26",
                                    "rental_category": "Medium"
                                },
                                {
                                    "customer_name": "Jesse Schilling",
                                    "rental_count": "26",
                                    "rental_category": "Medium"
                                },
                                {
                                    "customer_name": "Marlene Welch",
                                    "rental_count": "26",
                                    "rental_category": "Medium"
                                },
                                {
                                    "customer_name": "Dolores Wagner",
                                    "rental_count": "26",
                                    "rental_category": "Medium"
                                },
                                {
                                    "customer_name": "Erika Pena",
                                    "rental_count": "26",
                                    "rental_category": "Medium"
                                },
                                {
                                    "customer_name": "David Royal",
                                    "rental_count": "26",
                                    "rental_category": "Medium"
                                },
                                {
                                    "customer_name": "Shelly Watts",
                                    "rental_count": "26",
                                    "rental_category": "Medium"
                                },
                                {
                                    "customer_name": "Billie Horton",
                                    "rental_count": "26",
                                    "rental_category": "Medium"
                                },
                                {
                                    "customer_name": "Phillip Holm",
                                    "rental_count": "26",
                                    "rental_category": "Medium"
                                },
                                {
                                    "customer_name": "Carmen Owens",
                                    "rental_count": "26",
                                    "rental_category": "Medium"
                                },
                                {
                                    "customer_name": "Clayton Barbee",
                                    "rental_count": "26",
                                    "rental_category": "Medium"
                                },
                                {
                                    "customer_name": "Deanna Byrd",
                                    "rental_count": "26",
                                    "rental_category": "Medium"
                                },
                                {
                                    "customer_name": "Mark Rinehart",
                                    "rental_count": "26",
                                    "rental_category": "Medium"
                                },
                                {
                                    "customer_name": "Alfred Casillas",
                                    "rental_count": "26",
                                    "rental_category": "Medium"
                                },
                                {
                                    "customer_name": "Elmer Noe",
                                    "rental_count": "26",
                                    "rental_category": "Medium"
                                },
                                {
                                    "customer_name": "Rene Mcalister",
                                    "rental_count": "26",
                                    "rental_category": "Medium"
                                },
                                {
                                    "customer_name": "Arlene Harvey",
                                    "rental_count": "26",
                                    "rental_category": "Medium"
                                },
                                {
                                    "customer_name": "Norman Currier",
                                    "rental_count": "26",
                                    "rental_category": "Medium"
                                },
                                {
                                    "customer_name": "Francis Sikes",
                                    "rental_count": "26",
                                    "rental_category": "Medium"
                                },
                                {
                                    "customer_name": "Charlie Bess",
                                    "rental_count": "26",
                                    "rental_category": "Medium"
                                },
                                {
                                    "customer_name": "Marie Turner",
                                    "rental_count": "26",
                                    "rental_category": "Medium"
                                },
                                {
                                    "customer_name": "Claudia Fuller",
                                    "rental_count": "26",
                                    "rental_category": "Medium"
                                },
                                {
                                    "customer_name": "Sergio Stanfield",
                                    "rental_count": "26",
                                    "rental_category": "Medium"
                                },
                                {
                                    "customer_name": "Dustin Gillette",
                                    "rental_count": "26",
                                    "rental_category": "Medium"
                                },
                                {
                                    "customer_name": "Ben Easter",
                                    "rental_count": "26",
                                    "rental_category": "Medium"
                                },
                                {
                                    "customer_name": "Melvin Ellington",
                                    "rental_count": "26",
                                    "rental_category": "Medium"
                                },
                                {
                                    "customer_name": "Carla Gutierrez",
                                    "rental_count": "26",
                                    "rental_category": "Medium"
                                },
                                {
                                    "customer_name": "Jessie Banks",
                                    "rental_count": "26",
                                    "rental_category": "Medium"
                                },
                                {
                                    "customer_name": "Keith Rico",
                                    "rental_count": "26",
                                    "rental_category": "Medium"
                                },
                                {
                                    "customer_name": "Glen Talbert",
                                    "rental_count": "26",
                                    "rental_category": "Medium"
                                },
                                {
                                    "customer_name": "Lucy Wheeler",
                                    "rental_count": "26",
                                    "rental_category": "Medium"
                                },
                                {
                                    "customer_name": "Kathryn Coleman",
                                    "rental_count": "26",
                                    "rental_category": "Medium"
                                },
                                {
                                    "customer_name": "Gabriel Harder",
                                    "rental_count": "26",
                                    "rental_category": "Medium"
                                },
                                {
                                    "customer_name": "Linda Williams",
                                    "rental_count": "26",
                                    "rental_category": "Medium"
                                },
                                {
                                    "customer_name": "Willie Howell",
                                    "rental_count": "26",
                                    "rental_category": "Medium"
                                },
                                {
                                    "customer_name": "Miriam Mckinney",
                                    "rental_count": "26",
                                    "rental_category": "Medium"
                                },
                                {
                                    "customer_name": "Alan Kahn",
                                    "rental_count": "26",
                                    "rental_category": "Medium"
                                },
                                {
                                    "customer_name": "Ivan Cromwell",
                                    "rental_count": "26",
                                    "rental_category": "Medium"
                                },
                                {
                                    "customer_name": "Wallace Slone",
                                    "rental_count": "25",
                                    "rental_category": "Medium"
                                },
                                {
                                    "customer_name": "Darrell Power",
                                    "rental_count": "25",
                                    "rental_category": "Medium"
                                },
                                {
                                    "customer_name": "Stephanie Mitchell",
                                    "rental_count": "25",
                                    "rental_category": "Medium"
                                },
                                {
                                    "customer_name": "Sidney Burleson",
                                    "rental_count": "25",
                                    "rental_category": "Medium"
                                },
                                {
                                    "customer_name": "Chad Carbone",
                                    "rental_count": "25",
                                    "rental_category": "Medium"
                                },
                                {
                                    "customer_name": "Edgar Rhoads",
                                    "rental_count": "25",
                                    "rental_category": "Medium"
                                },
                                {
                                    "customer_name": "Kimberly Lee",
                                    "rental_count": "25",
                                    "rental_category": "Medium"
                                },
                                {
                                    "customer_name": "Gwendolyn May",
                                    "rental_count": "25",
                                    "rental_category": "Medium"
                                },
                                {
                                    "customer_name": "Leah Curtis",
                                    "rental_count": "25",
                                    "rental_category": "Medium"
                                },
                                {
                                    "customer_name": "Ricky Shelby",
                                    "rental_count": "25",
                                    "rental_category": "Medium"
                                },
                                {
                                    "customer_name": "Ernest Stepp",
                                    "rental_count": "25",
                                    "rental_category": "Medium"
                                },
                                {
                                    "customer_name": "Don Bone",
                                    "rental_count": "25",
                                    "rental_category": "Medium"
                                },
                                {
                                    "customer_name": "Judy Gray",
                                    "rental_count": "25",
                                    "rental_category": "Medium"
                                },
                                {
                                    "customer_name": "Melanie Armstrong",
                                    "rental_count": "25",
                                    "rental_category": "Medium"
                                },
                                {
                                    "customer_name": "Tamara Nguyen",
                                    "rental_count": "25",
                                    "rental_category": "Medium"
                                },
                                {
                                    "customer_name": "Ronnie Ricketts",
                                    "rental_count": "25",
                                    "rental_category": "Medium"
                                },
                                {
                                    "customer_name": "Jamie Waugh",
                                    "rental_count": "25",
                                    "rental_category": "Medium"
                                },
                                {
                                    "customer_name": "Claude Herzog",
                                    "rental_count": "25",
                                    "rental_category": "Medium"
                                },
                                {
                                    "customer_name": "Kelly Knott",
                                    "rental_count": "25",
                                    "rental_category": "Medium"
                                },
                                {
                                    "customer_name": "Clinton Buford",
                                    "rental_count": "25",
                                    "rental_category": "Medium"
                                },
                                {
                                    "customer_name": "Douglas Graf",
                                    "rental_count": "25",
                                    "rental_category": "Medium"
                                },
                                {
                                    "customer_name": "Gail Knight",
                                    "rental_count": "25",
                                    "rental_category": "Medium"
                                },
                                {
                                    "customer_name": "Beth Franklin",
                                    "rental_count": "25",
                                    "rental_category": "Medium"
                                },
                                {
                                    "customer_name": "Katie Elliott",
                                    "rental_count": "25",
                                    "rental_category": "Medium"
                                },
                                {
                                    "customer_name": "Fred Wheat",
                                    "rental_count": "25",
                                    "rental_category": "Medium"
                                },
                                {
                                    "customer_name": "Freddie Duggan",
                                    "rental_count": "25",
                                    "rental_category": "Medium"
                                },
                                {
                                    "customer_name": "Willie Markham",
                                    "rental_count": "25",
                                    "rental_category": "Medium"
                                },
                                {
                                    "customer_name": "Brad Mccurdy",
                                    "rental_count": "25",
                                    "rental_category": "Medium"
                                },
                                {
                                    "customer_name": "Vincent Ralston",
                                    "rental_count": "25",
                                    "rental_category": "Medium"
                                },
                                {
                                    "customer_name": "Andy Vanhorn",
                                    "rental_count": "25",
                                    "rental_category": "Medium"
                                },
                                {
                                    "customer_name": "Scott Shelley",
                                    "rental_count": "25",
                                    "rental_category": "Medium"
                                },
                                {
                                    "customer_name": "Dorothy Taylor",
                                    "rental_count": "25",
                                    "rental_category": "Medium"
                                },
                                {
                                    "customer_name": "Vicki Fields",
                                    "rental_count": "25",
                                    "rental_category": "Medium"
                                },
                                {
                                    "customer_name": "Mildred Bailey",
                                    "rental_count": "25",
                                    "rental_category": "Medium"
                                },
                                {
                                    "customer_name": "Richard Mccrary",
                                    "rental_count": "25",
                                    "rental_category": "Medium"
                                },
                                {
                                    "customer_name": "Lillian Griffin",
                                    "rental_count": "25",
                                    "rental_category": "Medium"
                                },
                                {
                                    "customer_name": "Jackie Lynch",
                                    "rental_count": "25",
                                    "rental_category": "Medium"
                                },
                                {
                                    "customer_name": "Seth Hannon",
                                    "rental_count": "25",
                                    "rental_category": "Medium"
                                },
                                {
                                    "customer_name": "Milton Howland",
                                    "rental_count": "25",
                                    "rental_category": "Medium"
                                },
                                {
                                    "customer_name": "Fernando Churchill",
                                    "rental_count": "25",
                                    "rental_category": "Medium"
                                },
                                {
                                    "customer_name": "Constance Reid",
                                    "rental_count": "25",
                                    "rental_category": "Medium"
                                },
                                {
                                    "customer_name": "Louise Jenkins",
                                    "rental_count": "25",
                                    "rental_category": "Medium"
                                },
                                {
                                    "customer_name": "Ashley Richardson",
                                    "rental_count": "25",
                                    "rental_category": "Medium"
                                },
                                {
                                    "customer_name": "Travis Estep",
                                    "rental_count": "25",
                                    "rental_category": "Medium"
                                },
                                {
                                    "customer_name": "Leon Bostic",
                                    "rental_count": "25",
                                    "rental_category": "Medium"
                                },
                                {
                                    "customer_name": "Bertha Ferguson",
                                    "rental_count": "25",
                                    "rental_category": "Medium"
                                },
                                {
                                    "customer_name": "Jose Andrew",
                                    "rental_count": "25",
                                    "rental_category": "Medium"
                                },
                                {
                                    "customer_name": "Thomas Grigsby",
                                    "rental_count": "25",
                                    "rental_category": "Medium"
                                },
                                {
                                    "customer_name": "Danielle Daniels",
                                    "rental_count": "25",
                                    "rental_category": "Medium"
                                },
                                {
                                    "customer_name": "Gary Coy",
                                    "rental_count": "25",
                                    "rental_category": "Medium"
                                },
                                {
                                    "customer_name": "Jon Wiles",
                                    "rental_count": "24",
                                    "rental_category": "Medium"
                                },
                                {
                                    "customer_name": "Lisa Anderson",
                                    "rental_count": "24",
                                    "rental_category": "Medium"
                                },
                                {
                                    "customer_name": "Jack Foust",
                                    "rental_count": "24",
                                    "rental_category": "Medium"
                                },
                                {
                                    "customer_name": "Peggy Myers",
                                    "rental_count": "24",
                                    "rental_category": "Medium"
                                },
                                {
                                    "customer_name": "Charlotte Hunter",
                                    "rental_count": "24",
                                    "rental_category": "Medium"
                                },
                                {
                                    "customer_name": "Rita Graham",
                                    "rental_count": "24",
                                    "rental_category": "Medium"
                                },
                                {
                                    "customer_name": "Felix Gaffney",
                                    "rental_count": "24",
                                    "rental_category": "Medium"
                                },
                                {
                                    "customer_name": "Victor Barkley",
                                    "rental_count": "24",
                                    "rental_category": "Medium"
                                },
                                {
                                    "customer_name": "Christian Jung",
                                    "rental_count": "24",
                                    "rental_category": "Medium"
                                },
                                {
                                    "customer_name": "Darren Windham",
                                    "rental_count": "24",
                                    "rental_category": "Medium"
                                },
                                {
                                    "customer_name": "Elaine Stevens",
                                    "rental_count": "24",
                                    "rental_category": "Medium"
                                },
                                {
                                    "customer_name": "Chester Benner",
                                    "rental_count": "24",
                                    "rental_category": "Medium"
                                },
                                {
                                    "customer_name": "Cory Meehan",
                                    "rental_count": "24",
                                    "rental_category": "Medium"
                                },
                                {
                                    "customer_name": "Robin Hayes",
                                    "rental_count": "24",
                                    "rental_category": "Medium"
                                },
                                {
                                    "customer_name": "Johnnie Chisholm",
                                    "rental_count": "24",
                                    "rental_category": "Medium"
                                },
                                {
                                    "customer_name": "Tyrone Asher",
                                    "rental_count": "24",
                                    "rental_category": "Medium"
                                },
                                {
                                    "customer_name": "Shannon Freeman",
                                    "rental_count": "24",
                                    "rental_category": "Medium"
                                },
                                {
                                    "customer_name": "Rebecca Scott",
                                    "rental_count": "24",
                                    "rental_category": "Medium"
                                },
                                {
                                    "customer_name": "Max Pitt",
                                    "rental_count": "24",
                                    "rental_category": "Medium"
                                },
                                {
                                    "customer_name": "Sam Mcduffie",
                                    "rental_count": "24",
                                    "rental_category": "Medium"
                                },
                                {
                                    "customer_name": "Annette Olson",
                                    "rental_count": "24",
                                    "rental_category": "Medium"
                                },
                                {
                                    "customer_name": "Aaron Selby",
                                    "rental_count": "24",
                                    "rental_category": "Medium"
                                },
                                {
                                    "customer_name": "Bob Pfeiffer",
                                    "rental_count": "24",
                                    "rental_category": "Medium"
                                },
                                {
                                    "customer_name": "Lydia Burke",
                                    "rental_count": "24",
                                    "rental_category": "Medium"
                                },
                                {
                                    "customer_name": "Beverly Brooks",
                                    "rental_count": "24",
                                    "rental_category": "Medium"
                                },
                                {
                                    "customer_name": "Ruth Martinez",
                                    "rental_count": "24",
                                    "rental_category": "Medium"
                                },
                                {
                                    "customer_name": "Colleen Burton",
                                    "rental_count": "24",
                                    "rental_category": "Medium"
                                },
                                {
                                    "customer_name": "Suzanne Nichols",
                                    "rental_count": "24",
                                    "rental_category": "Medium"
                                },
                                {
                                    "customer_name": "Jesus Mccartney",
                                    "rental_count": "24",
                                    "rental_category": "Medium"
                                },
                                {
                                    "customer_name": "Pedro Chestnut",
                                    "rental_count": "24",
                                    "rental_category": "Medium"
                                },
                                {
                                    "customer_name": "Perry Swafford",
                                    "rental_count": "24",
                                    "rental_category": "Medium"
                                },
                                {
                                    "customer_name": "Susan Wilson",
                                    "rental_count": "24",
                                    "rental_category": "Medium"
                                },
                                {
                                    "customer_name": "Myrtle Fleming",
                                    "rental_count": "24",
                                    "rental_category": "Medium"
                                },
                                {
                                    "customer_name": "Emily Diaz",
                                    "rental_count": "24",
                                    "rental_category": "Medium"
                                },
                                {
                                    "customer_name": "Christine Roberts",
                                    "rental_count": "24",
                                    "rental_category": "Medium"
                                },
                                {
                                    "customer_name": "Bobbie Craig",
                                    "rental_count": "24",
                                    "rental_category": "Medium"
                                },
                                {
                                    "customer_name": "Benjamin Varney",
                                    "rental_count": "23",
                                    "rental_category": "Medium"
                                },
                                {
                                    "customer_name": "Lillie Kim",
                                    "rental_count": "23",
                                    "rental_category": "Medium"
                                },
                                {
                                    "customer_name": "Donald Mahon",
                                    "rental_count": "23",
                                    "rental_category": "Medium"
                                },
                                {
                                    "customer_name": "Samantha Duncan",
                                    "rental_count": "23",
                                    "rental_category": "Medium"
                                },
                                {
                                    "customer_name": "Sean Douglass",
                                    "rental_count": "23",
                                    "rental_category": "Medium"
                                },
                                {
                                    "customer_name": "Pamela Baker",
                                    "rental_count": "23",
                                    "rental_category": "Medium"
                                },
                                {
                                    "customer_name": "Leo Ebert",
                                    "rental_count": "23",
                                    "rental_category": "Medium"
                                },
                                {
                                    "customer_name": "Joel Francisco",
                                    "rental_count": "23",
                                    "rental_category": "Medium"
                                },
                                {
                                    "customer_name": "Kurt Emmons",
                                    "rental_count": "23",
                                    "rental_category": "Medium"
                                },
                                {
                                    "customer_name": "Marshall Thorn",
                                    "rental_count": "23",
                                    "rental_category": "Medium"
                                },
                                {
                                    "customer_name": "Rodney Moeller",
                                    "rental_count": "23",
                                    "rental_category": "Medium"
                                },
                                {
                                    "customer_name": "Dora Medina",
                                    "rental_count": "23",
                                    "rental_category": "Medium"
                                },
                                {
                                    "customer_name": "Glenn Pullen",
                                    "rental_count": "23",
                                    "rental_category": "Medium"
                                },
                                {
                                    "customer_name": "Darryl Ashcraft",
                                    "rental_count": "23",
                                    "rental_category": "Medium"
                                },
                                {
                                    "customer_name": "Roberta Harper",
                                    "rental_count": "23",
                                    "rental_category": "Medium"
                                },
                                {
                                    "customer_name": "Peter Menard",
                                    "rental_count": "23",
                                    "rental_category": "Medium"
                                },
                                {
                                    "customer_name": "Juan Fraley",
                                    "rental_count": "23",
                                    "rental_category": "Medium"
                                },
                                {
                                    "customer_name": "Ron Deluca",
                                    "rental_count": "23",
                                    "rental_category": "Medium"
                                },
                                {
                                    "customer_name": "Gregory Mauldin",
                                    "rental_count": "23",
                                    "rental_category": "Medium"
                                },
                                {
                                    "customer_name": "Calvin Martel",
                                    "rental_count": "23",
                                    "rental_category": "Medium"
                                },
                                {
                                    "customer_name": "Bruce Schwarz",
                                    "rental_count": "23",
                                    "rental_category": "Medium"
                                },
                                {
                                    "customer_name": "Jeffrey Spear",
                                    "rental_count": "23",
                                    "rental_category": "Medium"
                                },
                                {
                                    "customer_name": "Toni Holt",
                                    "rental_count": "23",
                                    "rental_category": "Medium"
                                },
                                {
                                    "customer_name": "Roland South",
                                    "rental_count": "23",
                                    "rental_category": "Medium"
                                },
                                {
                                    "customer_name": "Edwin Burk",
                                    "rental_count": "23",
                                    "rental_category": "Medium"
                                },
                                {
                                    "customer_name": "Brent Harkins",
                                    "rental_count": "23",
                                    "rental_category": "Medium"
                                },
                                {
                                    "customer_name": "Joan Cooper",
                                    "rental_count": "23",
                                    "rental_category": "Medium"
                                },
                                {
                                    "customer_name": "Marian Mendoza",
                                    "rental_count": "23",
                                    "rental_category": "Medium"
                                },
                                {
                                    "customer_name": "Irene Price",
                                    "rental_count": "23",
                                    "rental_category": "Medium"
                                },
                                {
                                    "customer_name": "Connie Wallace",
                                    "rental_count": "23",
                                    "rental_category": "Medium"
                                },
                                {
                                    "customer_name": "Laurie Lawrence",
                                    "rental_count": "23",
                                    "rental_category": "Medium"
                                },
                                {
                                    "customer_name": "Anne Powell",
                                    "rental_count": "23",
                                    "rental_category": "Medium"
                                },
                                {
                                    "customer_name": "Albert Crouse",
                                    "rental_count": "23",
                                    "rental_category": "Medium"
                                },
                                {
                                    "customer_name": "Emma Boyd",
                                    "rental_count": "23",
                                    "rental_category": "Medium"
                                },
                                {
                                    "customer_name": "Agnes Bishop",
                                    "rental_count": "23",
                                    "rental_category": "Medium"
                                },
                                {
                                    "customer_name": "Randall Neumann",
                                    "rental_count": "23",
                                    "rental_category": "Medium"
                                },
                                {
                                    "customer_name": "Paul Trout",
                                    "rental_count": "23",
                                    "rental_category": "Medium"
                                },
                                {
                                    "customer_name": "Stacy Cunningham",
                                    "rental_count": "23",
                                    "rental_category": "Medium"
                                },
                                {
                                    "customer_name": "Carlos Coughlin",
                                    "rental_count": "23",
                                    "rental_category": "Medium"
                                },
                                {
                                    "customer_name": "Natalie Meyer",
                                    "rental_count": "23",
                                    "rental_category": "Medium"
                                },
                                {
                                    "customer_name": "Carl Artis",
                                    "rental_count": "23",
                                    "rental_category": "Medium"
                                },
                                {
                                    "customer_name": "Phyllis Foster",
                                    "rental_count": "23",
                                    "rental_category": "Medium"
                                },
                                {
                                    "customer_name": "Margaret Moore",
                                    "rental_count": "23",
                                    "rental_category": "Medium"
                                },
                                {
                                    "customer_name": "Ida Andrews",
                                    "rental_count": "23",
                                    "rental_category": "Medium"
                                },
                                {
                                    "customer_name": "Vivian Ruiz",
                                    "rental_count": "23",
                                    "rental_category": "Medium"
                                },
                                {
                                    "customer_name": "Mattie Hoffman",
                                    "rental_count": "22",
                                    "rental_category": "Medium"
                                },
                                {
                                    "customer_name": "Timothy Bunn",
                                    "rental_count": "22",
                                    "rental_category": "Medium"
                                },
                                {
                                    "customer_name": "Francisco Skidmore",
                                    "rental_count": "22",
                                    "rental_category": "Medium"
                                },
                                {
                                    "customer_name": "Kelly Torres",
                                    "rental_count": "22",
                                    "rental_category": "Medium"
                                },
                                {
                                    "customer_name": "Mathew Bolin",
                                    "rental_count": "22",
                                    "rental_category": "Medium"
                                },
                                {
                                    "customer_name": "Nicole Peterson",
                                    "rental_count": "22",
                                    "rental_category": "Medium"
                                },
                                {
                                    "customer_name": "Harvey Guajardo",
                                    "rental_count": "22",
                                    "rental_category": "Medium"
                                },
                                {
                                    "customer_name": "Franklin Troutman",
                                    "rental_count": "22",
                                    "rental_category": "Medium"
                                },
                                {
                                    "customer_name": "Erica Matthews",
                                    "rental_count": "22",
                                    "rental_category": "Medium"
                                },
                                {
                                    "customer_name": "Adam Gooch",
                                    "rental_count": "22",
                                    "rental_category": "Medium"
                                },
                                {
                                    "customer_name": "Wade Delvalle",
                                    "rental_count": "22",
                                    "rental_category": "Medium"
                                },
                                {
                                    "customer_name": "Derrick Bourque",
                                    "rental_count": "22",
                                    "rental_category": "Medium"
                                },
                                {
                                    "customer_name": "Barbara Jones",
                                    "rental_count": "22",
                                    "rental_category": "Medium"
                                },
                                {
                                    "customer_name": "Rose Howard",
                                    "rental_count": "22",
                                    "rental_category": "Medium"
                                },
                                {
                                    "customer_name": "Corey Hauser",
                                    "rental_count": "22",
                                    "rental_category": "Medium"
                                },
                                {
                                    "customer_name": "Rachel Barnes",
                                    "rental_count": "22",
                                    "rental_category": "Medium"
                                },
                                {
                                    "customer_name": "Bernard Colby",
                                    "rental_count": "22",
                                    "rental_category": "Medium"
                                },
                                {
                                    "customer_name": "Willard Lumpkin",
                                    "rental_count": "22",
                                    "rental_category": "Medium"
                                },
                                {
                                    "customer_name": "Loretta Carpenter",
                                    "rental_count": "22",
                                    "rental_category": "Medium"
                                },
                                {
                                    "customer_name": "Chris Brothers",
                                    "rental_count": "22",
                                    "rental_category": "Medium"
                                },
                                {
                                    "customer_name": "Stella Moreno",
                                    "rental_count": "22",
                                    "rental_category": "Medium"
                                },
                                {
                                    "customer_name": "Lance Pemberton",
                                    "rental_count": "22",
                                    "rental_category": "Medium"
                                },
                                {
                                    "customer_name": "Dan Paine",
                                    "rental_count": "22",
                                    "rental_category": "Medium"
                                },
                                {
                                    "customer_name": "Ray Houle",
                                    "rental_count": "22",
                                    "rental_category": "Medium"
                                },
                                {
                                    "customer_name": "Shane Millard",
                                    "rental_count": "22",
                                    "rental_category": "Medium"
                                },
                                {
                                    "customer_name": "Laura Rodriguez",
                                    "rental_count": "22",
                                    "rental_category": "Medium"
                                },
                                {
                                    "customer_name": "Doris Reed",
                                    "rental_count": "22",
                                    "rental_category": "Medium"
                                },
                                {
                                    "customer_name": "Pearl Garza",
                                    "rental_count": "22",
                                    "rental_category": "Medium"
                                },
                                {
                                    "customer_name": "Cody Nolen",
                                    "rental_count": "22",
                                    "rental_category": "Medium"
                                },
                                {
                                    "customer_name": "Andrea Henderson",
                                    "rental_count": "22",
                                    "rental_category": "Medium"
                                },
                                {
                                    "customer_name": "Leslie Gordon",
                                    "rental_count": "22",
                                    "rental_category": "Medium"
                                },
                                {
                                    "customer_name": "Dwayne Olvera",
                                    "rental_count": "22",
                                    "rental_category": "Medium"
                                },
                                {
                                    "customer_name": "Carol Garcia",
                                    "rental_count": "22",
                                    "rental_category": "Medium"
                                },
                                {
                                    "customer_name": "Kevin Schuler",
                                    "rental_count": "22",
                                    "rental_category": "Medium"
                                },
                                {
                                    "customer_name": "Frances Parker",
                                    "rental_count": "22",
                                    "rental_category": "Medium"
                                },
                                {
                                    "customer_name": "Julio Noland",
                                    "rental_count": "21",
                                    "rental_category": "Medium"
                                },
                                {
                                    "customer_name": "Armando Gruber",
                                    "rental_count": "21",
                                    "rental_category": "Medium"
                                },
                                {
                                    "customer_name": "Ruben Geary",
                                    "rental_count": "21",
                                    "rental_category": "Medium"
                                },
                                {
                                    "customer_name": "Frederick Isbell",
                                    "rental_count": "21",
                                    "rental_category": "Medium"
                                },
                                {
                                    "customer_name": "Alberto Henning",
                                    "rental_count": "21",
                                    "rental_category": "Medium"
                                },
                                {
                                    "customer_name": "Bonnie Hughes",
                                    "rental_count": "21",
                                    "rental_category": "Medium"
                                },
                                {
                                    "customer_name": "Jill Hawkins",
                                    "rental_count": "21",
                                    "rental_category": "Medium"
                                },
                                {
                                    "customer_name": "Danny Isom",
                                    "rental_count": "21",
                                    "rental_category": "Medium"
                                },
                                {
                                    "customer_name": "Nellie Garrett",
                                    "rental_count": "21",
                                    "rental_category": "Medium"
                                },
                                {
                                    "customer_name": "Anna Hill",
                                    "rental_count": "21",
                                    "rental_category": "Medium"
                                },
                                {
                                    "customer_name": "Allen Butterfield",
                                    "rental_count": "21",
                                    "rental_category": "Medium"
                                },
                                {
                                    "customer_name": "Tony Carranza",
                                    "rental_count": "21",
                                    "rental_category": "Medium"
                                },
                                {
                                    "customer_name": "Donna Thompson",
                                    "rental_count": "21",
                                    "rental_category": "Medium"
                                },
                                {
                                    "customer_name": "Marvin Yee",
                                    "rental_count": "21",
                                    "rental_category": "Medium"
                                },
                                {
                                    "customer_name": "Samuel Marlow",
                                    "rental_count": "21",
                                    "rental_category": "Medium"
                                },
                                {
                                    "customer_name": "Ricardo Meador",
                                    "rental_count": "21",
                                    "rental_category": "Medium"
                                },
                                {
                                    "customer_name": "Rafael Abney",
                                    "rental_count": "21",
                                    "rental_category": "Medium"
                                },
                                {
                                    "customer_name": "Hugh Waldrop",
                                    "rental_count": "21",
                                    "rental_category": "Medium"
                                },
                                {
                                    "customer_name": "Yvonne Watkins",
                                    "rental_count": "21",
                                    "rental_category": "Medium"
                                },
                                {
                                    "customer_name": "Delores Hansen",
                                    "rental_count": "21",
                                    "rental_category": "Medium"
                                },
                                {
                                    "customer_name": "Kim Cruz",
                                    "rental_count": "21",
                                    "rental_category": "Medium"
                                },
                                {
                                    "customer_name": "Robert Baughman",
                                    "rental_count": "21",
                                    "rental_category": "Medium"
                                },
                                {
                                    "customer_name": "Norma Gonzales",
                                    "rental_count": "21",
                                    "rental_category": "Medium"
                                },
                                {
                                    "customer_name": "Jacob Lance",
                                    "rental_count": "21",
                                    "rental_category": "Medium"
                                },
                                {
                                    "customer_name": "Tyler Wren",
                                    "rental_count": "21",
                                    "rental_category": "Medium"
                                },
                                {
                                    "customer_name": "Alicia Mills",
                                    "rental_count": "21",
                                    "rental_category": "Medium"
                                },
                                {
                                    "customer_name": "Maureen Little",
                                    "rental_count": "21",
                                    "rental_category": "Medium"
                                },
                                {
                                    "customer_name": "Lorraine Stephens",
                                    "rental_count": "21",
                                    "rental_category": "Medium"
                                },
                                {
                                    "customer_name": "Daniel Cabral",
                                    "rental_count": "20",
                                    "rental_category": "Medium"
                                },
                                {
                                    "customer_name": "Oscar Aquino",
                                    "rental_count": "20",
                                    "rental_category": "Medium"
                                },
                                {
                                    "customer_name": "Kay Caldwell",
                                    "rental_count": "20",
                                    "rental_category": "Medium"
                                },
                                {
                                    "customer_name": "Anthony Schwab",
                                    "rental_count": "20",
                                    "rental_category": "Medium"
                                },
                                {
                                    "customer_name": "Jeanette Greene",
                                    "rental_count": "20",
                                    "rental_category": "Medium"
                                },
                                {
                                    "customer_name": "Lauren Hudson",
                                    "rental_count": "20",
                                    "rental_category": "Medium"
                                },
                                {
                                    "customer_name": "Tara Ryan",
                                    "rental_count": "20",
                                    "rental_category": "Medium"
                                },
                                {
                                    "customer_name": "Raul Fortier",
                                    "rental_count": "20",
                                    "rental_category": "Medium"
                                },
                                {
                                    "customer_name": "Luis Yanez",
                                    "rental_count": "20",
                                    "rental_category": "Medium"
                                },
                                {
                                    "customer_name": "Jo Fowler",
                                    "rental_count": "20",
                                    "rental_category": "Medium"
                                },
                                {
                                    "customer_name": "Herbert Kruger",
                                    "rental_count": "20",
                                    "rental_category": "Medium"
                                },
                                {
                                    "customer_name": "Terry Grissom",
                                    "rental_count": "20",
                                    "rental_category": "Medium"
                                },
                                {
                                    "customer_name": "Nelson Christenson",
                                    "rental_count": "20",
                                    "rental_category": "Medium"
                                },
                                {
                                    "customer_name": "Alfredo Mcadams",
                                    "rental_count": "20",
                                    "rental_category": "Medium"
                                },
                                {
                                    "customer_name": "Wilma Richards",
                                    "rental_count": "20",
                                    "rental_category": "Medium"
                                },
                                {
                                    "customer_name": "Adrian Clary",
                                    "rental_count": "19",
                                    "rental_category": "Medium"
                                },
                                {
                                    "customer_name": "Edith Mcdonald",
                                    "rental_count": "19",
                                    "rental_category": "Medium"
                                },
                                {
                                    "customer_name": "Vanessa Sims",
                                    "rental_count": "19",
                                    "rental_category": "Medium"
                                },
                                {
                                    "customer_name": "Austin Cintron",
                                    "rental_count": "19",
                                    "rental_category": "Medium"
                                },
                                {
                                    "customer_name": "Allan Cornish",
                                    "rental_count": "19",
                                    "rental_category": "Medium"
                                },
                                {
                                    "customer_name": "Wayne Truong",
                                    "rental_count": "19",
                                    "rental_category": "Medium"
                                },
                                {
                                    "customer_name": "Eugene Culpepper",
                                    "rental_count": "19",
                                    "rental_category": "Medium"
                                },
                                {
                                    "customer_name": "Johnny Turpin",
                                    "rental_count": "19",
                                    "rental_category": "Medium"
                                },
                                {
                                    "customer_name": "Lloyd Dowd",
                                    "rental_count": "19",
                                    "rental_category": "Medium"
                                },
                                {
                                    "customer_name": "Jared Ely",
                                    "rental_count": "19",
                                    "rental_category": "Medium"
                                },
                                {
                                    "customer_name": "Lewis Lyman",
                                    "rental_count": "19",
                                    "rental_category": "Medium"
                                },
                                {
                                    "customer_name": "Kirk Stclair",
                                    "rental_count": "19",
                                    "rental_category": "Medium"
                                },
                                {
                                    "customer_name": "Christina Ramirez",
                                    "rental_count": "18",
                                    "rental_category": "Medium"
                                },
                                {
                                    "customer_name": "Eileen Carr",
                                    "rental_count": "18",
                                    "rental_category": "Medium"
                                },
                                {
                                    "customer_name": "Eva Ramos",
                                    "rental_count": "18",
                                    "rental_category": "Medium"
                                },
                                {
                                    "customer_name": "Paula Bryant",
                                    "rental_count": "18",
                                    "rental_category": "Medium"
                                },
                                {
                                    "customer_name": "Vernon Chapa",
                                    "rental_count": "18",
                                    "rental_category": "Medium"
                                },
                                {
                                    "customer_name": "Jonathan Scarborough",
                                    "rental_count": "18",
                                    "rental_category": "Medium"
                                },
                                {
                                    "customer_name": "Lonnie Tirado",
                                    "rental_count": "18",
                                    "rental_category": "Medium"
                                },
                                {
                                    "customer_name": "Kristen Chavez",
                                    "rental_count": "18",
                                    "rental_category": "Medium"
                                },
                                {
                                    "customer_name": "Irma Pearson",
                                    "rental_count": "18",
                                    "rental_category": "Medium"
                                },
                                {
                                    "customer_name": "Vera Mccoy",
                                    "rental_count": "18",
                                    "rental_category": "Medium"
                                },
                                {
                                    "customer_name": "Penny Neal",
                                    "rental_count": "18",
                                    "rental_category": "Medium"
                                },
                                {
                                    "customer_name": "Annie Russell",
                                    "rental_count": "18",
                                    "rental_category": "Medium"
                                },
                                {
                                    "customer_name": "Henry Billingsley",
                                    "rental_count": "18",
                                    "rental_category": "Medium"
                                },
                                {
                                    "customer_name": "Sheila Wells",
                                    "rental_count": "18",
                                    "rental_category": "Medium"
                                },
                                {
                                    "customer_name": "Ann Evans",
                                    "rental_count": "17",
                                    "rental_category": "Medium"
                                },
                                {
                                    "customer_name": "Dwight Lombardi",
                                    "rental_count": "17",
                                    "rental_category": "Medium"
                                },
                                {
                                    "customer_name": "Melinda Fernandez",
                                    "rental_count": "17",
                                    "rental_category": "Medium"
                                },
                                {
                                    "customer_name": "Kenneth Gooden",
                                    "rental_count": "17",
                                    "rental_category": "Medium"
                                },
                                {
                                    "customer_name": "Floyd Gandy",
                                    "rental_count": "17",
                                    "rental_category": "Medium"
                                },
                                {
                                    "customer_name": "Antonio Meek",
                                    "rental_count": "16",
                                    "rental_category": "Medium"
                                },
                                {
                                    "customer_name": "Lester Kraus",
                                    "rental_count": "16",
                                    "rental_category": "Medium"
                                },
                                {
                                    "customer_name": "Joann Gardner",
                                    "rental_count": "16",
                                    "rental_category": "Medium"
                                },
                                {
                                    "customer_name": "Jerome Kenyon",
                                    "rental_count": "16",
                                    "rental_category": "Medium"
                                },
                                {
                                    "customer_name": "Anita Morales",
                                    "rental_count": "15",
                                    "rental_category": "Medium"
                                },
                                {
                                    "customer_name": "Caroline Bowman",
                                    "rental_count": "15",
                                    "rental_category": "Medium"
                                },
                                {
                                    "customer_name": "Katherine Rivera",
                                    "rental_count": "14",
                                    "rental_category": "Medium"
                                },
                                {
                                    "customer_name": "Leona Obrien",
                                    "rental_count": "14",
                                    "rental_category": "Medium"
                                },
                                {
                                    "customer_name": "Tiffany Jordan",
                                    "rental_count": "14",
                                    "rental_category": "Medium"
                                },
                                {
                                    "customer_name": "Brian Wyman",
                                    "rental_count": "12",
                                    "rental_category": "Medium"
                                }
                            ]
                        },
                        "text/html": "<table><tr><th>customer_name</th><th>rental_count</th><th>rental_category</th></tr><tr><td>Eleanor Hunt</td><td>46</td><td>High</td></tr><tr><td>Karl Seal</td><td>45</td><td>High</td></tr><tr><td>Clara Shaw</td><td>42</td><td>High</td></tr><tr><td>Marcia Dean</td><td>42</td><td>High</td></tr><tr><td>Tammy Sanders</td><td>41</td><td>High</td></tr><tr><td>Wesley Bull</td><td>40</td><td>High</td></tr><tr><td>Sue Peters</td><td>40</td><td>High</td></tr><tr><td>Rhonda Kennedy</td><td>39</td><td>High</td></tr><tr><td>Marion Snyder</td><td>39</td><td>High</td></tr><tr><td>Tim Cary</td><td>39</td><td>High</td></tr><tr><td>Tommy Collazo</td><td>38</td><td>High</td></tr><tr><td>Elizabeth Brown</td><td>38</td><td>High</td></tr><tr><td>Daisy Bates</td><td>38</td><td>High</td></tr><tr><td>Curtis Irby</td><td>38</td><td>High</td></tr><tr><td>Brandon Huey</td><td>37</td><td>High</td></tr><tr><td>Marsha Douglas</td><td>37</td><td>High</td></tr><tr><td>Elsie Kelley</td><td>37</td><td>High</td></tr><tr><td>June Carroll</td><td>37</td><td>High</td></tr><tr><td>Angela Hernandez</td><td>36</td><td>High</td></tr><tr><td>Margie Wade</td><td>36</td><td>High</td></tr><tr><td>Justin Ngo</td><td>36</td><td>High</td></tr><tr><td>Alexander Fennell</td><td>36</td><td>High</td></tr><tr><td>Russell Brinson</td><td>36</td><td>High</td></tr><tr><td>Roger Quintanilla</td><td>36</td><td>High</td></tr><tr><td>Michelle Clark</td><td>35</td><td>High</td></tr><tr><td>Rosemary Schmidt</td><td>35</td><td>High</td></tr><tr><td>Mike Way</td><td>35</td><td>High</td></tr><tr><td>Lois Butler</td><td>35</td><td>High</td></tr><tr><td>Harry Arce</td><td>35</td><td>High</td></tr><tr><td>Diane Collins</td><td>35</td><td>High</td></tr><tr><td>Bobby Boudreau</td><td>35</td><td>High</td></tr><tr><td>Priscilla Lowe</td><td>35</td><td>High</td></tr><tr><td>Naomi Jennings</td><td>35</td><td>High</td></tr><tr><td>Leslie Seward</td><td>35</td><td>High</td></tr><tr><td>Billy Poulin</td><td>35</td><td>High</td></tr><tr><td>Louis Leone</td><td>35</td><td>High</td></tr><tr><td>Alma Austin</td><td>35</td><td>High</td></tr><tr><td>Janice Ward</td><td>34</td><td>High</td></tr><tr><td>Heidi Larson</td><td>34</td><td>High</td></tr><tr><td>Carrie Porter</td><td>34</td><td>High</td></tr><tr><td>Morris Mccarter</td><td>34</td><td>High</td></tr><tr><td>Gertrude Castillo</td><td>34</td><td>High</td></tr><tr><td>Casey Mena</td><td>34</td><td>High</td></tr><tr><td>Regina Berry</td><td>34</td><td>High</td></tr><tr><td>Brett Cornwell</td><td>34</td><td>High</td></tr><tr><td>Jorge Olivares</td><td>34</td><td>High</td></tr><tr><td>Hazel Warren</td><td>34</td><td>High</td></tr><tr><td>Melissa King</td><td>34</td><td>High</td></tr><tr><td>Minnie Romero</td><td>34</td><td>High</td></tr><tr><td>Jessica Hall</td><td>34</td><td>High</td></tr><tr><td>Joanne Robertson</td><td>34</td><td>High</td></tr><tr><td>Ralph Madrigal</td><td>34</td><td>High</td></tr><tr><td>Sherry Marshall</td><td>34</td><td>High</td></tr><tr><td>Catherine Campbell</td><td>34</td><td>High</td></tr><tr><td>Stacey Montgomery</td><td>34</td><td>High</td></tr><tr><td>Ana Bradley</td><td>34</td><td>High</td></tr><tr><td>Steve Mackenzie</td><td>34</td><td>High</td></tr><tr><td>Martha Gonzalez</td><td>34</td><td>High</td></tr><tr><td>Warren Sherrod</td><td>33</td><td>High</td></tr><tr><td>Jim Rea</td><td>33</td><td>High</td></tr><tr><td>Shawn Heaton</td><td>33</td><td>High</td></tr><tr><td>George Linton</td><td>33</td><td>High</td></tr><tr><td>Arnold Havens</td><td>33</td><td>High</td></tr><tr><td>Crystal Ford</td><td>33</td><td>High</td></tr><tr><td>Jessie Milam</td><td>33</td><td>High</td></tr><tr><td>Alice Stewart</td><td>33</td><td>High</td></tr><tr><td>Maria Miller</td><td>33</td><td>High</td></tr><tr><td>Joy George</td><td>33</td><td>High</td></tr><tr><td>Judith Cox</td><td>33</td><td>High</td></tr><tr><td>Barry Lovelace</td><td>33</td><td>High</td></tr><tr><td>Sherri Rhodes</td><td>33</td><td>High</td></tr><tr><td>Alex Gresham</td><td>33</td><td>High</td></tr><tr><td>Jacqueline Long</td><td>33</td><td>High</td></tr><tr><td>Sara Perry</td><td>33</td><td>High</td></tr><tr><td>Grace Ellis</td><td>33</td><td>High</td></tr><tr><td>Tanya Gilbert</td><td>33</td><td>High</td></tr><tr><td>Bernice Willis</td><td>33</td><td>High</td></tr><tr><td>Nicholas Barfield</td><td>32</td><td>High</td></tr><tr><td>Tonya Chapman</td><td>32</td><td>High</td></tr><tr><td>Courtney Day</td><td>32</td><td>High</td></tr><tr><td>Nathan Runyon</td><td>32</td><td>High</td></tr><tr><td>Veronica Stone</td><td>32</td><td>High</td></tr><tr><td>Ethel Webb</td><td>32</td><td>High</td></tr><tr><td>Cynthia Young</td><td>32</td><td>High</td></tr><tr><td>Sylvia Ortiz</td><td>32</td><td>High</td></tr><tr><td>Javier Elrod</td><td>32</td><td>High</td></tr><tr><td>Charles Kowalski</td><td>32</td><td>High</td></tr><tr><td>Glenda Frazier</td><td>32</td><td>High</td></tr><tr><td>Tom Milner</td><td>32</td><td>High</td></tr><tr><td>Dave Gardiner</td><td>32</td><td>High</td></tr><tr><td>Virginia Green</td><td>32</td><td>High</td></tr><tr><td>Guy Brownlee</td><td>32</td><td>High</td></tr><tr><td>Mitchell Westmoreland</td><td>32</td><td>High</td></tr><tr><td>Arthur Simpkins</td><td>32</td><td>High</td></tr><tr><td>Mary Smith</td><td>32</td><td>High</td></tr><tr><td>Marjorie Tucker</td><td>32</td><td>High</td></tr><tr><td>Angel Barclay</td><td>32</td><td>High</td></tr><tr><td>Maxine Silva</td><td>32</td><td>High</td></tr><tr><td>Julia Flores</td><td>32</td><td>High</td></tr><tr><td>Viola Hanson</td><td>32</td><td>High</td></tr><tr><td>Thelma Murray</td><td>32</td><td>High</td></tr><tr><td>Helen Harris</td><td>32</td><td>High</td></tr><tr><td>Gordon Allard</td><td>32</td><td>High</td></tr><tr><td>Leonard Schofield</td><td>32</td><td>High</td></tr><tr><td>Debbie Reyes</td><td>32</td><td>High</td></tr><tr><td>Frank Waggoner</td><td>32</td><td>High</td></tr><tr><td>Leroy Bustamante</td><td>32</td><td>High</td></tr><tr><td>Neil Renner</td><td>32</td><td>High</td></tr><tr><td>Lena Jensen</td><td>32</td><td>High</td></tr><tr><td>Harold Martino</td><td>32</td><td>High</td></tr><tr><td>Olga Jimenez</td><td>32</td><td>High</td></tr><tr><td>Sally Pierce</td><td>32</td><td>High</td></tr><tr><td>Ramon Choate</td><td>31</td><td>High</td></tr><tr><td>Kristin Johnston</td><td>31</td><td>High</td></tr><tr><td>Vickie Brewer</td><td>31</td><td>High</td></tr><tr><td>Philip Causey</td><td>31</td><td>High</td></tr><tr><td>Dianne Shelton</td><td>31</td><td>High</td></tr><tr><td>Zachary Hite</td><td>31</td><td>High</td></tr><tr><td>Mae Fletcher</td><td>31</td><td>High</td></tr><tr><td>Ella Oliver</td><td>31</td><td>High</td></tr><tr><td>Matthew Mahan</td><td>31</td><td>High</td></tr><tr><td>Jeffery Pinson</td><td>31</td><td>High</td></tr><tr><td>Lori Wood</td><td>31</td><td>High</td></tr><tr><td>Duane Tubbs</td><td>31</td><td>High</td></tr><tr><td>Lawrence Lawton</td><td>31</td><td>High</td></tr><tr><td>John Farnsworth</td><td>31</td><td>High</td></tr><tr><td>Darlene Rose</td><td>31</td><td>High</td></tr><tr><td>Gladys Hamilton</td><td>31</td><td>High</td></tr><tr><td>Patrick Newsom</td><td>31</td><td>High</td></tr><tr><td>Theodore Culp</td><td>31</td><td>High</td></tr><tr><td>Christopher Greco</td><td>31</td><td>High</td></tr><tr><td>Holly Fox</td><td>31</td><td>High</td></tr><tr><td>Shirley Allen</td><td>31</td><td>High</td></tr><tr><td>Christy Vargas</td><td>31</td><td>High</td></tr><tr><td>Gloria Cook</td><td>30</td><td>Medium</td></tr><tr><td>Wanda Patterson</td><td>30</td><td>Medium</td></tr><tr><td>Walter Perryman</td><td>30</td><td>Medium</td></tr><tr><td>Florence Woods</td><td>30</td><td>Medium</td></tr><tr><td>Rosa Reynolds</td><td>30</td><td>Medium</td></tr><tr><td>Roberto Vu</td><td>30</td><td>Medium</td></tr><tr><td>Marcus Hidalgo</td><td>30</td><td>Medium</td></tr><tr><td>Greg Robins</td><td>30</td><td>Medium</td></tr><tr><td>Jordan Archuleta</td><td>30</td><td>Medium</td></tr><tr><td>Ryan Salisbury</td><td>30</td><td>Medium</td></tr><tr><td>Violet Rodriquez</td><td>30</td><td>Medium</td></tr><tr><td>Joseph Joy</td><td>30</td><td>Medium</td></tr><tr><td>Raymond Mcwhorter</td><td>30</td><td>Medium</td></tr><tr><td>Jeff East</td><td>30</td><td>Medium</td></tr><tr><td>Theresa Watson</td><td>30</td><td>Medium</td></tr><tr><td>Monica Hicks</td><td>30</td><td>Medium</td></tr><tr><td>Stanley Scroggins</td><td>30</td><td>Medium</td></tr><tr><td>Juanita Mason</td><td>30</td><td>Medium</td></tr><tr><td>Geraldine Perkins</td><td>30</td><td>Medium</td></tr><tr><td>Salvador Teel</td><td>30</td><td>Medium</td></tr><tr><td>Carolyn Perez</td><td>30</td><td>Medium</td></tr><tr><td>Troy Quigley</td><td>30</td><td>Medium</td></tr><tr><td>James Gannon</td><td>30</td><td>Medium</td></tr><tr><td>Wendy Harrison</td><td>30</td><td>Medium</td></tr><tr><td>Cassandra Walters</td><td>30</td><td>Medium</td></tr><tr><td>Tracy Cole</td><td>30</td><td>Medium</td></tr><tr><td>Manuel Murrell</td><td>30</td><td>Medium</td></tr><tr><td>Sarah Lewis</td><td>30</td><td>Medium</td></tr><tr><td>Mabel Holland</td><td>30</td><td>Medium</td></tr><tr><td>Ramona Hale</td><td>30</td><td>Medium</td></tr><tr><td>Michele Grant</td><td>30</td><td>Medium</td></tr><tr><td>Marc Outlaw</td><td>30</td><td>Medium</td></tr><tr><td>Carole Barnett</td><td>30</td><td>Medium</td></tr><tr><td>Joshua Mark</td><td>30</td><td>Medium</td></tr><tr><td>Craig Morrell</td><td>30</td><td>Medium</td></tr><tr><td>Heather Morris</td><td>30</td><td>Medium</td></tr><tr><td>Clarence Gamez</td><td>30</td><td>Medium</td></tr><tr><td>Kathy James</td><td>30</td><td>Medium</td></tr><tr><td>Gerald Fultz</td><td>30</td><td>Medium</td></tr><tr><td>Marilyn Ross</td><td>30</td><td>Medium</td></tr><tr><td>Kyle Spurlock</td><td>30</td><td>Medium</td></tr><tr><td>Ronald Weiner</td><td>30</td><td>Medium</td></tr><tr><td>Terrence Gunderson</td><td>30</td><td>Medium</td></tr><tr><td>Sharon Robinson</td><td>30</td><td>Medium</td></tr><tr><td>Roy Whiting</td><td>29</td><td>Medium</td></tr><tr><td>Isaac Oglesby</td><td>29</td><td>Medium</td></tr><tr><td>Clifford Bowens</td><td>29</td><td>Medium</td></tr><tr><td>Clyde Tobias</td><td>29</td><td>Medium</td></tr><tr><td>Michael Silverman</td><td>29</td><td>Medium</td></tr><tr><td>Dana Hart</td><td>29</td><td>Medium</td></tr><tr><td>Teresa Rogers</td><td>29</td><td>Medium</td></tr><tr><td>Nina Soto</td><td>29</td><td>Medium</td></tr><tr><td>Maurice Crawley</td><td>29</td><td>Medium</td></tr><tr><td>Debra Nelson</td><td>29</td><td>Medium</td></tr><tr><td>Ken Prewitt</td><td>29</td><td>Medium</td></tr><tr><td>Becky Miles</td><td>29</td><td>Medium</td></tr><tr><td>Cindy Fisher</td><td>29</td><td>Medium</td></tr><tr><td>Byron Box</td><td>29</td><td>Medium</td></tr><tr><td>Jaime Nettles</td><td>29</td><td>Medium</td></tr><tr><td>Joe Gilliland</td><td>29</td><td>Medium</td></tr><tr><td>Julie Sanchez</td><td>29</td><td>Medium</td></tr><tr><td>Hilda Hopkins</td><td>29</td><td>Medium</td></tr><tr><td>Jennie Terry</td><td>29</td><td>Medium</td></tr><tr><td>Alvin Deloach</td><td>29</td><td>Medium</td></tr><tr><td>Jamie Rice</td><td>29</td><td>Medium</td></tr><tr><td>Jimmy Schrader</td><td>29</td><td>Medium</td></tr><tr><td>Ted Breaux</td><td>29</td><td>Medium</td></tr><tr><td>Terrance Roush</td><td>29</td><td>Medium</td></tr><tr><td>Todd Tan</td><td>29</td><td>Medium</td></tr><tr><td>Audrey Ray</td><td>29</td><td>Medium</td></tr><tr><td>Terry Carlson</td><td>29</td><td>Medium</td></tr><tr><td>Jerry Jordon</td><td>29</td><td>Medium</td></tr><tr><td>Amy Lopez</td><td>29</td><td>Medium</td></tr><tr><td>Deborah Walker</td><td>29</td><td>Medium</td></tr><tr><td>Cathy Spencer</td><td>29</td><td>Medium</td></tr><tr><td>Miguel Betancourt</td><td>29</td><td>Medium</td></tr><tr><td>Erik Guillen</td><td>29</td><td>Medium</td></tr><tr><td>Herman Devore</td><td>29</td><td>Medium</td></tr><tr><td>Marion Ocampo</td><td>29</td><td>Medium</td></tr><tr><td>Steven Curley</td><td>29</td><td>Medium</td></tr><tr><td>Jennifer Davis</td><td>28</td><td>Medium</td></tr><tr><td>Brittany Riley</td><td>28</td><td>Medium</td></tr><tr><td>Evelyn Morgan</td><td>28</td><td>Medium</td></tr><tr><td>Nora Herrera</td><td>28</td><td>Medium</td></tr><tr><td>Bryan Hardison</td><td>28</td><td>Medium</td></tr><tr><td>Enrique Forsythe</td><td>28</td><td>Medium</td></tr><tr><td>Lynn Payne</td><td>28</td><td>Medium</td></tr><tr><td>Lucille Holmes</td><td>28</td><td>Medium</td></tr><tr><td>Everett Banda</td><td>28</td><td>Medium</td></tr><tr><td>Brandy Graves</td><td>28</td><td>Medium</td></tr><tr><td>Tracy Herrmann</td><td>28</td><td>Medium</td></tr><tr><td>Bill Gavin</td><td>28</td><td>Medium</td></tr><tr><td>Ruby Washington</td><td>28</td><td>Medium</td></tr><tr><td>Jimmie Eggleston</td><td>28</td><td>Medium</td></tr><tr><td>Kristina Chambers</td><td>28</td><td>Medium</td></tr><tr><td>Sonia Gregory</td><td>28</td><td>Medium</td></tr><tr><td>Edward Baugh</td><td>28</td><td>Medium</td></tr><tr><td>Ellen Simpson</td><td>28</td><td>Medium</td></tr><tr><td>Jeremy Hurtado</td><td>28</td><td>Medium</td></tr><tr><td>Nancy Thomas</td><td>28</td><td>Medium</td></tr><tr><td>Stephen Qualls</td><td>28</td><td>Medium</td></tr><tr><td>Tina Simmons</td><td>28</td><td>Medium</td></tr><tr><td>Reginald Kinder</td><td>28</td><td>Medium</td></tr><tr><td>Derek Blakely</td><td>28</td><td>Medium</td></tr><tr><td>Felicia Sutton</td><td>28</td><td>Medium</td></tr><tr><td>Betty White</td><td>28</td><td>Medium</td></tr><tr><td>Gilbert Sledge</td><td>28</td><td>Medium</td></tr><tr><td>Mario Cheatham</td><td>28</td><td>Medium</td></tr><tr><td>Esther Crawford</td><td>28</td><td>Medium</td></tr><tr><td>Jason Morrissey</td><td>28</td><td>Medium</td></tr><tr><td>Patsy Davidson</td><td>28</td><td>Medium</td></tr><tr><td>Nathaniel Adam</td><td>28</td><td>Medium</td></tr><tr><td>Randy Gaither</td><td>28</td><td>Medium</td></tr><tr><td>Dennis Gilman</td><td>28</td><td>Medium</td></tr><tr><td>Jane Bennett</td><td>28</td><td>Medium</td></tr><tr><td>Andre Rapp</td><td>28</td><td>Medium</td></tr><tr><td>Julian Vest</td><td>28</td><td>Medium</td></tr><tr><td>Gina Williamson</td><td>28</td><td>Medium</td></tr><tr><td>Bessie Morrison</td><td>28</td><td>Medium</td></tr><tr><td>Sandra Martin</td><td>28</td><td>Medium</td></tr><tr><td>Joyce Edwards</td><td>28</td><td>Medium</td></tr><tr><td>Cheryl Murphy</td><td>27</td><td>Medium</td></tr><tr><td>Eduardo Hiatt</td><td>27</td><td>Medium</td></tr><tr><td>Amanda Carter</td><td>27</td><td>Medium</td></tr><tr><td>Dale Ratcliff</td><td>27</td><td>Medium</td></tr><tr><td>Eric Robert</td><td>27</td><td>Medium</td></tr><tr><td>Victoria Gibson</td><td>27</td><td>Medium</td></tr><tr><td>Jean Bell</td><td>27</td><td>Medium</td></tr><tr><td>Jeanne Lawson</td><td>27</td><td>Medium</td></tr><tr><td>Kathleen Adams</td><td>27</td><td>Medium</td></tr><tr><td>Diana Alexander</td><td>27</td><td>Medium</td></tr><tr><td>Bradley Motley</td><td>27</td><td>Medium</td></tr><tr><td>Charlene Alvarez</td><td>27</td><td>Medium</td></tr><tr><td>Jenny Castro</td><td>27</td><td>Medium</td></tr><tr><td>Rick Mattox</td><td>27</td><td>Medium</td></tr><tr><td>Allison Stanley</td><td>27</td><td>Medium</td></tr><tr><td>Yolanda Weaver</td><td>27</td><td>Medium</td></tr><tr><td>Misty Lambert</td><td>27</td><td>Medium</td></tr><tr><td>Eddie Tomlin</td><td>27</td><td>Medium</td></tr><tr><td>Janet Phillips</td><td>27</td><td>Medium</td></tr><tr><td>Earl Shanks</td><td>27</td><td>Medium</td></tr><tr><td>Amber Dixon</td><td>27</td><td>Medium</td></tr><tr><td>Daryl Larue</td><td>27</td><td>Medium</td></tr><tr><td>Karen Jackson</td><td>27</td><td>Medium</td></tr><tr><td>Terri Vasquez</td><td>27</td><td>Medium</td></tr><tr><td>Megan Palmer</td><td>27</td><td>Medium</td></tr><tr><td>Patricia Johnson</td><td>27</td><td>Medium</td></tr><tr><td>Erin Dunn</td><td>27</td><td>Medium</td></tr><tr><td>Gene Sanborn</td><td>27</td><td>Medium</td></tr><tr><td>Lee Hawks</td><td>27</td><td>Medium</td></tr><tr><td>Dean Sauer</td><td>27</td><td>Medium</td></tr><tr><td>Martin Bales</td><td>27</td><td>Medium</td></tr><tr><td>Kent Arsenault</td><td>27</td><td>Medium</td></tr><tr><td>Pauline Henry</td><td>27</td><td>Medium</td></tr><tr><td>Ross Grey</td><td>27</td><td>Medium</td></tr><tr><td>Velma Lucas</td><td>27</td><td>Medium</td></tr><tr><td>Clifton Malcolm</td><td>27</td><td>Medium</td></tr><tr><td>Virgil Wofford</td><td>27</td><td>Medium</td></tr><tr><td>Andrew Purdy</td><td>27</td><td>Medium</td></tr><tr><td>Ian Still</td><td>27</td><td>Medium</td></tr><tr><td>Denise Kelly</td><td>27</td><td>Medium</td></tr><tr><td>Tracey Barrett</td><td>27</td><td>Medium</td></tr><tr><td>Georgia Jacobs</td><td>26</td><td>Medium</td></tr><tr><td>Cecil Vines</td><td>26</td><td>Medium</td></tr><tr><td>Hector Poindexter</td><td>26</td><td>Medium</td></tr><tr><td>Beatrice Arnold</td><td>26</td><td>Medium</td></tr><tr><td>April Burns</td><td>26</td><td>Medium</td></tr><tr><td>Jay Robb</td><td>26</td><td>Medium</td></tr><tr><td>Josephine Gomez</td><td>26</td><td>Medium</td></tr><tr><td>Edna West</td><td>26</td><td>Medium</td></tr><tr><td>Valerie Black</td><td>26</td><td>Medium</td></tr><tr><td>Larry Thrasher</td><td>26</td><td>Medium</td></tr><tr><td>Brenda Wright</td><td>26</td><td>Medium</td></tr><tr><td>Micheal Forman</td><td>26</td><td>Medium</td></tr><tr><td>Howard Fortner</td><td>26</td><td>Medium</td></tr><tr><td>Dawn Sullivan</td><td>26</td><td>Medium</td></tr><tr><td>William Satterfield</td><td>26</td><td>Medium</td></tr><tr><td>Renee Lane</td><td>26</td><td>Medium</td></tr><tr><td>Jesse Schilling</td><td>26</td><td>Medium</td></tr><tr><td>Marlene Welch</td><td>26</td><td>Medium</td></tr><tr><td>Dolores Wagner</td><td>26</td><td>Medium</td></tr><tr><td>Erika Pena</td><td>26</td><td>Medium</td></tr><tr><td>David Royal</td><td>26</td><td>Medium</td></tr><tr><td>Shelly Watts</td><td>26</td><td>Medium</td></tr><tr><td>Billie Horton</td><td>26</td><td>Medium</td></tr><tr><td>Phillip Holm</td><td>26</td><td>Medium</td></tr><tr><td>Carmen Owens</td><td>26</td><td>Medium</td></tr><tr><td>Clayton Barbee</td><td>26</td><td>Medium</td></tr><tr><td>Deanna Byrd</td><td>26</td><td>Medium</td></tr><tr><td>Mark Rinehart</td><td>26</td><td>Medium</td></tr><tr><td>Alfred Casillas</td><td>26</td><td>Medium</td></tr><tr><td>Elmer Noe</td><td>26</td><td>Medium</td></tr><tr><td>Rene Mcalister</td><td>26</td><td>Medium</td></tr><tr><td>Arlene Harvey</td><td>26</td><td>Medium</td></tr><tr><td>Norman Currier</td><td>26</td><td>Medium</td></tr><tr><td>Francis Sikes</td><td>26</td><td>Medium</td></tr><tr><td>Charlie Bess</td><td>26</td><td>Medium</td></tr><tr><td>Marie Turner</td><td>26</td><td>Medium</td></tr><tr><td>Claudia Fuller</td><td>26</td><td>Medium</td></tr><tr><td>Sergio Stanfield</td><td>26</td><td>Medium</td></tr><tr><td>Dustin Gillette</td><td>26</td><td>Medium</td></tr><tr><td>Ben Easter</td><td>26</td><td>Medium</td></tr><tr><td>Melvin Ellington</td><td>26</td><td>Medium</td></tr><tr><td>Carla Gutierrez</td><td>26</td><td>Medium</td></tr><tr><td>Jessie Banks</td><td>26</td><td>Medium</td></tr><tr><td>Keith Rico</td><td>26</td><td>Medium</td></tr><tr><td>Glen Talbert</td><td>26</td><td>Medium</td></tr><tr><td>Lucy Wheeler</td><td>26</td><td>Medium</td></tr><tr><td>Kathryn Coleman</td><td>26</td><td>Medium</td></tr><tr><td>Gabriel Harder</td><td>26</td><td>Medium</td></tr><tr><td>Linda Williams</td><td>26</td><td>Medium</td></tr><tr><td>Willie Howell</td><td>26</td><td>Medium</td></tr><tr><td>Miriam Mckinney</td><td>26</td><td>Medium</td></tr><tr><td>Alan Kahn</td><td>26</td><td>Medium</td></tr><tr><td>Ivan Cromwell</td><td>26</td><td>Medium</td></tr><tr><td>Wallace Slone</td><td>25</td><td>Medium</td></tr><tr><td>Darrell Power</td><td>25</td><td>Medium</td></tr><tr><td>Stephanie Mitchell</td><td>25</td><td>Medium</td></tr><tr><td>Sidney Burleson</td><td>25</td><td>Medium</td></tr><tr><td>Chad Carbone</td><td>25</td><td>Medium</td></tr><tr><td>Edgar Rhoads</td><td>25</td><td>Medium</td></tr><tr><td>Kimberly Lee</td><td>25</td><td>Medium</td></tr><tr><td>Gwendolyn May</td><td>25</td><td>Medium</td></tr><tr><td>Leah Curtis</td><td>25</td><td>Medium</td></tr><tr><td>Ricky Shelby</td><td>25</td><td>Medium</td></tr><tr><td>Ernest Stepp</td><td>25</td><td>Medium</td></tr><tr><td>Don Bone</td><td>25</td><td>Medium</td></tr><tr><td>Judy Gray</td><td>25</td><td>Medium</td></tr><tr><td>Melanie Armstrong</td><td>25</td><td>Medium</td></tr><tr><td>Tamara Nguyen</td><td>25</td><td>Medium</td></tr><tr><td>Ronnie Ricketts</td><td>25</td><td>Medium</td></tr><tr><td>Jamie Waugh</td><td>25</td><td>Medium</td></tr><tr><td>Claude Herzog</td><td>25</td><td>Medium</td></tr><tr><td>Kelly Knott</td><td>25</td><td>Medium</td></tr><tr><td>Clinton Buford</td><td>25</td><td>Medium</td></tr><tr><td>Douglas Graf</td><td>25</td><td>Medium</td></tr><tr><td>Gail Knight</td><td>25</td><td>Medium</td></tr><tr><td>Beth Franklin</td><td>25</td><td>Medium</td></tr><tr><td>Katie Elliott</td><td>25</td><td>Medium</td></tr><tr><td>Fred Wheat</td><td>25</td><td>Medium</td></tr><tr><td>Freddie Duggan</td><td>25</td><td>Medium</td></tr><tr><td>Willie Markham</td><td>25</td><td>Medium</td></tr><tr><td>Brad Mccurdy</td><td>25</td><td>Medium</td></tr><tr><td>Vincent Ralston</td><td>25</td><td>Medium</td></tr><tr><td>Andy Vanhorn</td><td>25</td><td>Medium</td></tr><tr><td>Scott Shelley</td><td>25</td><td>Medium</td></tr><tr><td>Dorothy Taylor</td><td>25</td><td>Medium</td></tr><tr><td>Vicki Fields</td><td>25</td><td>Medium</td></tr><tr><td>Mildred Bailey</td><td>25</td><td>Medium</td></tr><tr><td>Richard Mccrary</td><td>25</td><td>Medium</td></tr><tr><td>Lillian Griffin</td><td>25</td><td>Medium</td></tr><tr><td>Jackie Lynch</td><td>25</td><td>Medium</td></tr><tr><td>Seth Hannon</td><td>25</td><td>Medium</td></tr><tr><td>Milton Howland</td><td>25</td><td>Medium</td></tr><tr><td>Fernando Churchill</td><td>25</td><td>Medium</td></tr><tr><td>Constance Reid</td><td>25</td><td>Medium</td></tr><tr><td>Louise Jenkins</td><td>25</td><td>Medium</td></tr><tr><td>Ashley Richardson</td><td>25</td><td>Medium</td></tr><tr><td>Travis Estep</td><td>25</td><td>Medium</td></tr><tr><td>Leon Bostic</td><td>25</td><td>Medium</td></tr><tr><td>Bertha Ferguson</td><td>25</td><td>Medium</td></tr><tr><td>Jose Andrew</td><td>25</td><td>Medium</td></tr><tr><td>Thomas Grigsby</td><td>25</td><td>Medium</td></tr><tr><td>Danielle Daniels</td><td>25</td><td>Medium</td></tr><tr><td>Gary Coy</td><td>25</td><td>Medium</td></tr><tr><td>Jon Wiles</td><td>24</td><td>Medium</td></tr><tr><td>Lisa Anderson</td><td>24</td><td>Medium</td></tr><tr><td>Jack Foust</td><td>24</td><td>Medium</td></tr><tr><td>Peggy Myers</td><td>24</td><td>Medium</td></tr><tr><td>Charlotte Hunter</td><td>24</td><td>Medium</td></tr><tr><td>Rita Graham</td><td>24</td><td>Medium</td></tr><tr><td>Felix Gaffney</td><td>24</td><td>Medium</td></tr><tr><td>Victor Barkley</td><td>24</td><td>Medium</td></tr><tr><td>Christian Jung</td><td>24</td><td>Medium</td></tr><tr><td>Darren Windham</td><td>24</td><td>Medium</td></tr><tr><td>Elaine Stevens</td><td>24</td><td>Medium</td></tr><tr><td>Chester Benner</td><td>24</td><td>Medium</td></tr><tr><td>Cory Meehan</td><td>24</td><td>Medium</td></tr><tr><td>Robin Hayes</td><td>24</td><td>Medium</td></tr><tr><td>Johnnie Chisholm</td><td>24</td><td>Medium</td></tr><tr><td>Tyrone Asher</td><td>24</td><td>Medium</td></tr><tr><td>Shannon Freeman</td><td>24</td><td>Medium</td></tr><tr><td>Rebecca Scott</td><td>24</td><td>Medium</td></tr><tr><td>Max Pitt</td><td>24</td><td>Medium</td></tr><tr><td>Sam Mcduffie</td><td>24</td><td>Medium</td></tr><tr><td>Annette Olson</td><td>24</td><td>Medium</td></tr><tr><td>Aaron Selby</td><td>24</td><td>Medium</td></tr><tr><td>Bob Pfeiffer</td><td>24</td><td>Medium</td></tr><tr><td>Lydia Burke</td><td>24</td><td>Medium</td></tr><tr><td>Beverly Brooks</td><td>24</td><td>Medium</td></tr><tr><td>Ruth Martinez</td><td>24</td><td>Medium</td></tr><tr><td>Colleen Burton</td><td>24</td><td>Medium</td></tr><tr><td>Suzanne Nichols</td><td>24</td><td>Medium</td></tr><tr><td>Jesus Mccartney</td><td>24</td><td>Medium</td></tr><tr><td>Pedro Chestnut</td><td>24</td><td>Medium</td></tr><tr><td>Perry Swafford</td><td>24</td><td>Medium</td></tr><tr><td>Susan Wilson</td><td>24</td><td>Medium</td></tr><tr><td>Myrtle Fleming</td><td>24</td><td>Medium</td></tr><tr><td>Emily Diaz</td><td>24</td><td>Medium</td></tr><tr><td>Christine Roberts</td><td>24</td><td>Medium</td></tr><tr><td>Bobbie Craig</td><td>24</td><td>Medium</td></tr><tr><td>Benjamin Varney</td><td>23</td><td>Medium</td></tr><tr><td>Lillie Kim</td><td>23</td><td>Medium</td></tr><tr><td>Donald Mahon</td><td>23</td><td>Medium</td></tr><tr><td>Samantha Duncan</td><td>23</td><td>Medium</td></tr><tr><td>Sean Douglass</td><td>23</td><td>Medium</td></tr><tr><td>Pamela Baker</td><td>23</td><td>Medium</td></tr><tr><td>Leo Ebert</td><td>23</td><td>Medium</td></tr><tr><td>Joel Francisco</td><td>23</td><td>Medium</td></tr><tr><td>Kurt Emmons</td><td>23</td><td>Medium</td></tr><tr><td>Marshall Thorn</td><td>23</td><td>Medium</td></tr><tr><td>Rodney Moeller</td><td>23</td><td>Medium</td></tr><tr><td>Dora Medina</td><td>23</td><td>Medium</td></tr><tr><td>Glenn Pullen</td><td>23</td><td>Medium</td></tr><tr><td>Darryl Ashcraft</td><td>23</td><td>Medium</td></tr><tr><td>Roberta Harper</td><td>23</td><td>Medium</td></tr><tr><td>Peter Menard</td><td>23</td><td>Medium</td></tr><tr><td>Juan Fraley</td><td>23</td><td>Medium</td></tr><tr><td>Ron Deluca</td><td>23</td><td>Medium</td></tr><tr><td>Gregory Mauldin</td><td>23</td><td>Medium</td></tr><tr><td>Calvin Martel</td><td>23</td><td>Medium</td></tr><tr><td>Bruce Schwarz</td><td>23</td><td>Medium</td></tr><tr><td>Jeffrey Spear</td><td>23</td><td>Medium</td></tr><tr><td>Toni Holt</td><td>23</td><td>Medium</td></tr><tr><td>Roland South</td><td>23</td><td>Medium</td></tr><tr><td>Edwin Burk</td><td>23</td><td>Medium</td></tr><tr><td>Brent Harkins</td><td>23</td><td>Medium</td></tr><tr><td>Joan Cooper</td><td>23</td><td>Medium</td></tr><tr><td>Marian Mendoza</td><td>23</td><td>Medium</td></tr><tr><td>Irene Price</td><td>23</td><td>Medium</td></tr><tr><td>Connie Wallace</td><td>23</td><td>Medium</td></tr><tr><td>Laurie Lawrence</td><td>23</td><td>Medium</td></tr><tr><td>Anne Powell</td><td>23</td><td>Medium</td></tr><tr><td>Albert Crouse</td><td>23</td><td>Medium</td></tr><tr><td>Emma Boyd</td><td>23</td><td>Medium</td></tr><tr><td>Agnes Bishop</td><td>23</td><td>Medium</td></tr><tr><td>Randall Neumann</td><td>23</td><td>Medium</td></tr><tr><td>Paul Trout</td><td>23</td><td>Medium</td></tr><tr><td>Stacy Cunningham</td><td>23</td><td>Medium</td></tr><tr><td>Carlos Coughlin</td><td>23</td><td>Medium</td></tr><tr><td>Natalie Meyer</td><td>23</td><td>Medium</td></tr><tr><td>Carl Artis</td><td>23</td><td>Medium</td></tr><tr><td>Phyllis Foster</td><td>23</td><td>Medium</td></tr><tr><td>Margaret Moore</td><td>23</td><td>Medium</td></tr><tr><td>Ida Andrews</td><td>23</td><td>Medium</td></tr><tr><td>Vivian Ruiz</td><td>23</td><td>Medium</td></tr><tr><td>Mattie Hoffman</td><td>22</td><td>Medium</td></tr><tr><td>Timothy Bunn</td><td>22</td><td>Medium</td></tr><tr><td>Francisco Skidmore</td><td>22</td><td>Medium</td></tr><tr><td>Kelly Torres</td><td>22</td><td>Medium</td></tr><tr><td>Mathew Bolin</td><td>22</td><td>Medium</td></tr><tr><td>Nicole Peterson</td><td>22</td><td>Medium</td></tr><tr><td>Harvey Guajardo</td><td>22</td><td>Medium</td></tr><tr><td>Franklin Troutman</td><td>22</td><td>Medium</td></tr><tr><td>Erica Matthews</td><td>22</td><td>Medium</td></tr><tr><td>Adam Gooch</td><td>22</td><td>Medium</td></tr><tr><td>Wade Delvalle</td><td>22</td><td>Medium</td></tr><tr><td>Derrick Bourque</td><td>22</td><td>Medium</td></tr><tr><td>Barbara Jones</td><td>22</td><td>Medium</td></tr><tr><td>Rose Howard</td><td>22</td><td>Medium</td></tr><tr><td>Corey Hauser</td><td>22</td><td>Medium</td></tr><tr><td>Rachel Barnes</td><td>22</td><td>Medium</td></tr><tr><td>Bernard Colby</td><td>22</td><td>Medium</td></tr><tr><td>Willard Lumpkin</td><td>22</td><td>Medium</td></tr><tr><td>Loretta Carpenter</td><td>22</td><td>Medium</td></tr><tr><td>Chris Brothers</td><td>22</td><td>Medium</td></tr><tr><td>Stella Moreno</td><td>22</td><td>Medium</td></tr><tr><td>Lance Pemberton</td><td>22</td><td>Medium</td></tr><tr><td>Dan Paine</td><td>22</td><td>Medium</td></tr><tr><td>Ray Houle</td><td>22</td><td>Medium</td></tr><tr><td>Shane Millard</td><td>22</td><td>Medium</td></tr><tr><td>Laura Rodriguez</td><td>22</td><td>Medium</td></tr><tr><td>Doris Reed</td><td>22</td><td>Medium</td></tr><tr><td>Pearl Garza</td><td>22</td><td>Medium</td></tr><tr><td>Cody Nolen</td><td>22</td><td>Medium</td></tr><tr><td>Andrea Henderson</td><td>22</td><td>Medium</td></tr><tr><td>Leslie Gordon</td><td>22</td><td>Medium</td></tr><tr><td>Dwayne Olvera</td><td>22</td><td>Medium</td></tr><tr><td>Carol Garcia</td><td>22</td><td>Medium</td></tr><tr><td>Kevin Schuler</td><td>22</td><td>Medium</td></tr><tr><td>Frances Parker</td><td>22</td><td>Medium</td></tr><tr><td>Julio Noland</td><td>21</td><td>Medium</td></tr><tr><td>Armando Gruber</td><td>21</td><td>Medium</td></tr><tr><td>Ruben Geary</td><td>21</td><td>Medium</td></tr><tr><td>Frederick Isbell</td><td>21</td><td>Medium</td></tr><tr><td>Alberto Henning</td><td>21</td><td>Medium</td></tr><tr><td>Bonnie Hughes</td><td>21</td><td>Medium</td></tr><tr><td>Jill Hawkins</td><td>21</td><td>Medium</td></tr><tr><td>Danny Isom</td><td>21</td><td>Medium</td></tr><tr><td>Nellie Garrett</td><td>21</td><td>Medium</td></tr><tr><td>Anna Hill</td><td>21</td><td>Medium</td></tr><tr><td>Allen Butterfield</td><td>21</td><td>Medium</td></tr><tr><td>Tony Carranza</td><td>21</td><td>Medium</td></tr><tr><td>Donna Thompson</td><td>21</td><td>Medium</td></tr><tr><td>Marvin Yee</td><td>21</td><td>Medium</td></tr><tr><td>Samuel Marlow</td><td>21</td><td>Medium</td></tr><tr><td>Ricardo Meador</td><td>21</td><td>Medium</td></tr><tr><td>Rafael Abney</td><td>21</td><td>Medium</td></tr><tr><td>Hugh Waldrop</td><td>21</td><td>Medium</td></tr><tr><td>Yvonne Watkins</td><td>21</td><td>Medium</td></tr><tr><td>Delores Hansen</td><td>21</td><td>Medium</td></tr><tr><td>Kim Cruz</td><td>21</td><td>Medium</td></tr><tr><td>Robert Baughman</td><td>21</td><td>Medium</td></tr><tr><td>Norma Gonzales</td><td>21</td><td>Medium</td></tr><tr><td>Jacob Lance</td><td>21</td><td>Medium</td></tr><tr><td>Tyler Wren</td><td>21</td><td>Medium</td></tr><tr><td>Alicia Mills</td><td>21</td><td>Medium</td></tr><tr><td>Maureen Little</td><td>21</td><td>Medium</td></tr><tr><td>Lorraine Stephens</td><td>21</td><td>Medium</td></tr><tr><td>Daniel Cabral</td><td>20</td><td>Medium</td></tr><tr><td>Oscar Aquino</td><td>20</td><td>Medium</td></tr><tr><td>Kay Caldwell</td><td>20</td><td>Medium</td></tr><tr><td>Anthony Schwab</td><td>20</td><td>Medium</td></tr><tr><td>Jeanette Greene</td><td>20</td><td>Medium</td></tr><tr><td>Lauren Hudson</td><td>20</td><td>Medium</td></tr><tr><td>Tara Ryan</td><td>20</td><td>Medium</td></tr><tr><td>Raul Fortier</td><td>20</td><td>Medium</td></tr><tr><td>Luis Yanez</td><td>20</td><td>Medium</td></tr><tr><td>Jo Fowler</td><td>20</td><td>Medium</td></tr><tr><td>Herbert Kruger</td><td>20</td><td>Medium</td></tr><tr><td>Terry Grissom</td><td>20</td><td>Medium</td></tr><tr><td>Nelson Christenson</td><td>20</td><td>Medium</td></tr><tr><td>Alfredo Mcadams</td><td>20</td><td>Medium</td></tr><tr><td>Wilma Richards</td><td>20</td><td>Medium</td></tr><tr><td>Adrian Clary</td><td>19</td><td>Medium</td></tr><tr><td>Edith Mcdonald</td><td>19</td><td>Medium</td></tr><tr><td>Vanessa Sims</td><td>19</td><td>Medium</td></tr><tr><td>Austin Cintron</td><td>19</td><td>Medium</td></tr><tr><td>Allan Cornish</td><td>19</td><td>Medium</td></tr><tr><td>Wayne Truong</td><td>19</td><td>Medium</td></tr><tr><td>Eugene Culpepper</td><td>19</td><td>Medium</td></tr><tr><td>Johnny Turpin</td><td>19</td><td>Medium</td></tr><tr><td>Lloyd Dowd</td><td>19</td><td>Medium</td></tr><tr><td>Jared Ely</td><td>19</td><td>Medium</td></tr><tr><td>Lewis Lyman</td><td>19</td><td>Medium</td></tr><tr><td>Kirk Stclair</td><td>19</td><td>Medium</td></tr><tr><td>Christina Ramirez</td><td>18</td><td>Medium</td></tr><tr><td>Eileen Carr</td><td>18</td><td>Medium</td></tr><tr><td>Eva Ramos</td><td>18</td><td>Medium</td></tr><tr><td>Paula Bryant</td><td>18</td><td>Medium</td></tr><tr><td>Vernon Chapa</td><td>18</td><td>Medium</td></tr><tr><td>Jonathan Scarborough</td><td>18</td><td>Medium</td></tr><tr><td>Lonnie Tirado</td><td>18</td><td>Medium</td></tr><tr><td>Kristen Chavez</td><td>18</td><td>Medium</td></tr><tr><td>Irma Pearson</td><td>18</td><td>Medium</td></tr><tr><td>Vera Mccoy</td><td>18</td><td>Medium</td></tr><tr><td>Penny Neal</td><td>18</td><td>Medium</td></tr><tr><td>Annie Russell</td><td>18</td><td>Medium</td></tr><tr><td>Henry Billingsley</td><td>18</td><td>Medium</td></tr><tr><td>Sheila Wells</td><td>18</td><td>Medium</td></tr><tr><td>Ann Evans</td><td>17</td><td>Medium</td></tr><tr><td>Dwight Lombardi</td><td>17</td><td>Medium</td></tr><tr><td>Melinda Fernandez</td><td>17</td><td>Medium</td></tr><tr><td>Kenneth Gooden</td><td>17</td><td>Medium</td></tr><tr><td>Floyd Gandy</td><td>17</td><td>Medium</td></tr><tr><td>Antonio Meek</td><td>16</td><td>Medium</td></tr><tr><td>Lester Kraus</td><td>16</td><td>Medium</td></tr><tr><td>Joann Gardner</td><td>16</td><td>Medium</td></tr><tr><td>Jerome Kenyon</td><td>16</td><td>Medium</td></tr><tr><td>Anita Morales</td><td>15</td><td>Medium</td></tr><tr><td>Caroline Bowman</td><td>15</td><td>Medium</td></tr><tr><td>Katherine Rivera</td><td>14</td><td>Medium</td></tr><tr><td>Leona Obrien</td><td>14</td><td>Medium</td></tr><tr><td>Tiffany Jordan</td><td>14</td><td>Medium</td></tr><tr><td>Brian Wyman</td><td>12</td><td>Medium</td></tr></table>"
                    },
                    "metadata": {}
                }
            ],
            "execution_count": 14
        },
        {
            "cell_type": "markdown",
            "source": [
                "### Explanation:\n",
                "\n",
                "1. **JOIN**:\n",
                "    \n",
                "    - **INNER JOIN rental r ON c.customer\\_id = r.customer\\_id**: Links customers with their rentals.\n",
                "2. **COUNT(r.rental\\_id)**:\n",
                "    \n",
                "    - Counts the total number of rentals for each customer.\n",
                "3. **CASE**:\n",
                "    \n",
                "    - **CASE WHEN COUNT(r.rental\\_id) \\<= 10 THEN 'Low'**: Categorizes customers with 10 or fewer rentals as 'Low'.\n",
                "    - **WHEN COUNT(r.rental\\_id) BETWEEN 11 AND 30 THEN 'Medium'**: Categorizes customers with 11 to 30 rentals as 'Medium'.\n",
                "    - **ELSE 'High'**: Categorizes customers with more than 30 rentals as 'High'.\n",
                "4. **GROUP BY**:\n",
                "    \n",
                "    - Groups the results by `customer_id`, `first_name`, and `last_name` to aggregate rental counts per customer.\n",
                "5. **ORDER BY rental\\_count DESC**:\n",
                "    \n",
                "    - Orders the results by the rental count in descending order, so customers with the most rentals appear first."
            ],
            "metadata": {
                "azdata_cell_guid": "5c5521f6-cfee-4717-8f89-a928a10b9771"
            },
            "attachments": {}
        },
        {
            "cell_type": "markdown",
            "source": [
                "### FInd the Number of customers based on category"
            ],
            "metadata": {
                "azdata_cell_guid": "c166ea5d-4ebd-43d0-9c0a-a86afb152179"
            },
            "attachments": {}
        },
        {
            "cell_type": "code",
            "source": [
                "WITH customer_rental_category AS (SELECT \r\n",
                "    CONCAT(c.first_name,' ', c.last_name) AS customer_name,\r\n",
                "    COUNT(r.rental_id) AS rental_count,\r\n",
                "    CASE\r\n",
                "        WHEN COUNT(r.rental_id) <= 10 THEN 'Low'\r\n",
                "        WHEN COUNT(r.rental_id) BETWEEN 11 AND 30 THEN 'Medium'\r\n",
                "        ELSE 'High'\r\n",
                "    END AS rental_category\r\n",
                "FROM \r\n",
                "    customer c\r\n",
                "    INNER JOIN rental r ON c.customer_id = r.customer_id\r\n",
                "GROUP BY \r\n",
                "    c.customer_id, c.first_name, c.last_name\r\n",
                "ORDER BY \r\n",
                "    rental_count DESC\r\n",
                ")\r\n",
                "SELECT rental_category,\r\n",
                "    SUM(rental_count) AS sum_rental_count\r\n",
                "FROM \r\n",
                "    customer_rental_category\r\n",
                "GROUP BY 1\r\n",
                "ORDER BY 2 DESC\r\n",
                ""
            ],
            "metadata": {
                "azdata_cell_guid": "0a3d11f1-6464-4b7c-b66b-cf11fa6ca2ce",
                "language": "sql"
            },
            "outputs": [
                {
                    "output_type": "display_data",
                    "data": {
                        "text/html": "(2 row(s) affected)"
                    },
                    "metadata": {}
                },
                {
                    "output_type": "display_data",
                    "data": {
                        "text/html": "Total execution time: 00:00:00.009"
                    },
                    "metadata": {}
                },
                {
                    "output_type": "execute_result",
                    "execution_count": 24,
                    "data": {
                        "application/vnd.dataresource+json": {
                            "schema": {
                                "fields": [
                                    {
                                        "name": "rental_category"
                                    },
                                    {
                                        "name": "sum_rental_count"
                                    }
                                ]
                            },
                            "data": [
                                {
                                    "rental_category": "Medium",
                                    "sum_rental_count": "11517"
                                },
                                {
                                    "rental_category": "High",
                                    "sum_rental_count": "4527"
                                }
                            ]
                        },
                        "text/html": "<table><tr><th>rental_category</th><th>sum_rental_count</th></tr><tr><td>Medium</td><td>11517</td></tr><tr><td>High</td><td>4527</td></tr></table>"
                    },
                    "metadata": {}
                }
            ],
            "execution_count": 24
        },
        {
            "cell_type": "markdown",
            "source": [
                "#### **Main Query**:\n",
                "\n",
                "- **Purpose**: The main query aggregates the results from the CTE to calculate the total number of rentals for each rental category.\n",
                "    \n",
                "- **SELECT Clause**:\n",
                "    \n",
                "    - **rental\\_category**: Retrieves the rental category.\n",
                "    - **SUM(rental\\_count) AS sum\\_rental\\_count**: Sums the rental counts within each rental category.\n",
                "- **FROM Clause**:\n",
                "    \n",
                "    - **FROM customer\\_rental\\_category**: Uses the results from the CTE.\n",
                "- **GROUP BY Clause**:\n",
                "    \n",
                "    - **GROUP BY rental\\_category**: Groups the results by `rental_category` to aggregate the rental counts within each category.\n",
                "- **ORDER BY Clause**:\n",
                "    \n",
                "    - **ORDER BY sum\\_rental\\_count DESC**: Orders the results by the total rental count (`sum_rental_count`) in descending order, showing the category with the highest total rental count first.\n",
                "\n",
                "### Summary:\n",
                "\n",
                "- The CTE `customer_rental_category` calculates individual customer rental counts and categorizes them into 'Low', 'Medium', or 'High'.\n",
                "- The main query then aggregates these counts by rental category to get the total number of rentals for each category.\n",
                "- The results are sorted by the total rental count in descending order to highlight the most significant categories first."
            ],
            "metadata": {
                "language": "sql",
                "azdata_cell_guid": "ac1d547e-6526-46d1-9edb-9d1b4d8640db"
            },
            "attachments": {}
        },
        {
            "cell_type": "markdown",
            "source": [
                "## Calculate total sales for each film rating (G, PG, PG-13, R).\n",
                "\n",
                "To calculate the total sales for each film rating, you need to:\n",
                "\n",
                "1. **Join** the relevant tables: `film`, `payment`, and `inventory`, along with `rental` to link the payments to films.\n",
                "2. **Group** the results by film rating.\n",
                "3. **Sum** the payments for each rating."
            ],
            "metadata": {
                "azdata_cell_guid": "57ea3b7c-868e-4fe9-8d48-0bd423dc4e4c"
            },
            "attachments": {}
        },
        {
            "cell_type": "code",
            "source": [
                "WITH total_sales_by_rating AS (\r\n",
                "    SELECT p.amount,\r\n",
                "        f.rating\r\n",
                "    FROM \r\n",
                "        payment p \r\n",
                "        INNER JOIN rental r ON p.rental_id = r.rental_id\r\n",
                "        INNER JOIN inventory i ON i.inventory_id = r.rental_id\r\n",
                "        INNER JOIN film f ON i.film_id = f.film_id\r\n",
                ")\r\n",
                "SELECT rating,\r\n",
                "    SUM(amount) as total_sales\r\n",
                "FROM \r\n",
                "    total_sales_by_rating\r\n",
                "GROUP BY 1\r\n",
                "ORDER BY 2 DESC"
            ],
            "metadata": {
                "language": "sql",
                "azdata_cell_guid": "a556b6f0-6828-44df-bdc9-6bf00c4ddd85"
            },
            "outputs": [
                {
                    "output_type": "display_data",
                    "data": {
                        "text/html": "(5 row(s) affected)"
                    },
                    "metadata": {}
                },
                {
                    "output_type": "display_data",
                    "data": {
                        "text/html": "Total execution time: 00:00:00.011"
                    },
                    "metadata": {}
                },
                {
                    "output_type": "execute_result",
                    "execution_count": 27,
                    "data": {
                        "application/vnd.dataresource+json": {
                            "schema": {
                                "fields": [
                                    {
                                        "name": "rating"
                                    },
                                    {
                                        "name": "total_sales"
                                    }
                                ]
                            },
                            "data": [
                                {
                                    "rating": "PG-13",
                                    "total_sales": "3061.72"
                                },
                                {
                                    "rating": "PG",
                                    "total_sales": "2773.43"
                                },
                                {
                                    "rating": "NC-17",
                                    "total_sales": "2618.57"
                                },
                                {
                                    "rating": "R",
                                    "total_sales": "2604.69"
                                },
                                {
                                    "rating": "G",
                                    "total_sales": "2001.32"
                                }
                            ]
                        },
                        "text/html": "<table><tr><th>rating</th><th>total_sales</th></tr><tr><td>PG-13</td><td>3061.72</td></tr><tr><td>PG</td><td>2773.43</td></tr><tr><td>NC-17</td><td>2618.57</td></tr><tr><td>R</td><td>2604.69</td></tr><tr><td>G</td><td>2001.32</td></tr></table>"
                    },
                    "metadata": {}
                }
            ],
            "execution_count": 27
        },
        {
            "cell_type": "markdown",
            "source": [
                "### **Explanation:**\n",
                "\n",
                "1. **CTE - `total_sales_by_rating`**:\n",
                "    \n",
                "    - **SELECT p.amount, f.rating**: Retrieves the payment amount and film rating.\n",
                "    - **INNER JOIN rental r ON p.rental\\_id = r.rental\\_id**: Joins the `payment` table with the `rental` table to link payments to rentals.\n",
                "    - **INNER JOIN inventory i ON i.inventory\\_id = r.rental\\_id**: Joins the `rental` table with the `inventory` table to link rentals to inventory items. **(Issue: The join condition here should be `i.inventory_id = r.inventory_id` instead of `i.inventory_id = r.rental_id`)**.\n",
                "    - **INNER JOIN film f ON i.film\\_id = f.film\\_id**: Joins the `inventory` table with the `film` table to link inventory items to films.\n",
                "2. **Main Query**:\n",
                "    \n",
                "    - **SELECT rating, SUM(amount) AS total\\_sales**: Aggregates the total sales by film rating.\n",
                "    - **FROM total\\_sales\\_by\\_rating**: Uses the result from the CTE.\n",
                "    - **GROUP BY rating**: Groups results by film rating.\n",
                "    - **ORDER BY total\\_sales DESC**: Orders results by total sales in descending order."
            ],
            "metadata": {
                "language": "sql",
                "azdata_cell_guid": "508f270b-7306-4a44-a4ed-424f472d72a0"
            },
            "attachments": {}
        }
    ]
}