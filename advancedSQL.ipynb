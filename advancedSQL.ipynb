{
    "metadata": {
        "kernelspec": {
            "name": "SQL",
            "display_name": "SQL",
            "language": "sql"
        },
        "language_info": {
            "name": "sql",
            "version": ""
        }
    },
    "nbformat_minor": 2,
    "nbformat": 4,
    "cells": [
        {
            "cell_type": "markdown",
            "source": [
                "# **Advanced SQL with Subqueries and Joins**"
            ],
            "metadata": {
                "language": "sql",
                "azdata_cell_guid": "0dc1ea4b-0b84-40ff-abf1-bf13a969d429"
            },
            "attachments": {}
        },
        {
            "cell_type": "markdown",
            "source": [
                "## **Q1 . Find the top 3 most profitable customers.**"
            ],
            "metadata": {
                "language": "sql",
                "azdata_cell_guid": "609e0f6b-2ec7-4f88-8c04-5815fcf34db4"
            },
            "attachments": {}
        },
        {
            "cell_type": "code",
            "source": [
                "SELECT \r\n",
                "    c.customer_id,\r\n",
                "    CONCAT(c.first_name, ' ', c.last_name) AS customer_name,\r\n",
                "    SUM(p.amount) AS total_payments\r\n",
                "FROM \r\n",
                "    customer c\r\n",
                "    INNER JOIN rental r ON c.customer_id = r.customer_id\r\n",
                "    INNER JOIN payment p ON r.rental_id = p.rental_id\r\n",
                "GROUP BY \r\n",
                "    c.customer_id,\r\n",
                "    c.first_name,\r\n",
                "    c.last_name\r\n",
                "ORDER BY \r\n",
                "    total_payments DESC\r\n",
                "LIMIT 3;\r\n",
                ""
            ],
            "metadata": {
                "azdata_cell_guid": "ac4e9cbb-8929-4314-9d0b-801d3c687d3b",
                "language": "sql"
            },
            "outputs": [
                {
                    "output_type": "display_data",
                    "data": {
                        "text/html": "(3 row(s) affected)"
                    },
                    "metadata": {}
                },
                {
                    "output_type": "display_data",
                    "data": {
                        "text/html": "Total execution time: 00:00:00.037"
                    },
                    "metadata": {}
                },
                {
                    "output_type": "execute_result",
                    "execution_count": 1,
                    "data": {
                        "application/vnd.dataresource+json": {
                            "schema": {
                                "fields": [
                                    {
                                        "name": "customer_id"
                                    },
                                    {
                                        "name": "customer_name"
                                    },
                                    {
                                        "name": "total_payments"
                                    }
                                ]
                            },
                            "data": [
                                {
                                    "customer_id": "148",
                                    "customer_name": "Eleanor Hunt",
                                    "total_payments": "211.55"
                                },
                                {
                                    "customer_id": "526",
                                    "customer_name": "Karl Seal",
                                    "total_payments": "208.58"
                                },
                                {
                                    "customer_id": "178",
                                    "customer_name": "Marion Snyder",
                                    "total_payments": "194.61"
                                }
                            ]
                        },
                        "text/html": "<table><tr><th>customer_id</th><th>customer_name</th><th>total_payments</th></tr><tr><td>148</td><td>Eleanor Hunt</td><td>211.55</td></tr><tr><td>526</td><td>Karl Seal</td><td>208.58</td></tr><tr><td>178</td><td>Marion Snyder</td><td>194.61</td></tr></table>"
                    },
                    "metadata": {}
                }
            ],
            "execution_count": 1
        },
        {
            "cell_type": "markdown",
            "source": [
                "## **Q2. Determine the average length of films rented by customers in each city.**"
            ],
            "metadata": {
                "language": "sql",
                "azdata_cell_guid": "6a85dccd-b0f5-4073-8385-3ee21e089e2a"
            },
            "attachments": {}
        },
        {
            "cell_type": "code",
            "source": [
                "WITH avg_len_of_films_rented_in_city AS (\r\n",
                "    SELECT \r\n",
                "        f.length,\r\n",
                "        ci.city\r\n",
                "    FROM \r\n",
                "        film f\r\n",
                "        INNER JOIN inventory i ON f.film_id = i.film_id\r\n",
                "        INNER JOIN rental r ON i.inventory_id = r.inventory_id\r\n",
                "        INNER JOIN customer c ON r.customer_id = c.customer_id\r\n",
                "        INNER JOIN address a ON c.address_id = a.address_id\r\n",
                "        INNER JOIN city ci ON a.city_id = ci.city_id\r\n",
                ")\r\n",
                "SELECT \r\n",
                "    city,\r\n",
                "    AVG(length) AS avg_length\r\n",
                "FROM \r\n",
                "    avg_len_of_films_rented_in_city\r\n",
                "GROUP BY \r\n",
                "    city\r\n",
                "ORDER BY \r\n",
                "    avg_length DESC;"
            ],
            "metadata": {
                "language": "sql",
                "azdata_cell_guid": "e03a812e-5ba4-4426-82a7-7d0db91c0e26"
            },
            "outputs": [
                {
                    "output_type": "display_data",
                    "data": {
                        "text/html": "(597 row(s) affected)"
                    },
                    "metadata": {}
                },
                {
                    "output_type": "display_data",
                    "data": {
                        "text/html": "Total execution time: 00:00:00.025"
                    },
                    "metadata": {}
                },
                {
                    "output_type": "execute_result",
                    "execution_count": 10,
                    "data": {
                        "application/vnd.dataresource+json": {
                            "schema": {
                                "fields": [
                                    {
                                        "name": "city"
                                    },
                                    {
                                        "name": "avg_length"
                                    }
                                ]
                            },
                            "data": [
                                {
                                    "city": "Berhampore (Baharampur)",
                                    "avg_length": "139.9523809523809524"
                                },
                                {
                                    "city": "Compton",
                                    "avg_length": "136.0000000000000000"
                                },
                                {
                                    "city": "Shubra al-Khayma",
                                    "avg_length": "134.7647058823529412"
                                },
                                {
                                    "city": "Hidalgo",
                                    "avg_length": "134.3200000000000000"
                                },
                                {
                                    "city": "Okayama",
                                    "avg_length": "134.1904761904761905"
                                },
                                {
                                    "city": "Mandi Bahauddin",
                                    "avg_length": "134.1764705882352941"
                                },
                                {
                                    "city": "Hamilton",
                                    "avg_length": "133.6666666666666667"
                                },
                                {
                                    "city": "Hubli-Dharwad",
                                    "avg_length": "133.2666666666666667"
                                },
                                {
                                    "city": "Baha Blanca",
                                    "avg_length": "132.7857142857142857"
                                },
                                {
                                    "city": "Barcelona",
                                    "avg_length": "132.3333333333333333"
                                },
                                {
                                    "city": "Bellevue",
                                    "avg_length": "132.0500000000000000"
                                },
                                {
                                    "city": "Gorontalo",
                                    "avg_length": "131.7000000000000000"
                                },
                                {
                                    "city": "Amersfoort",
                                    "avg_length": "131.6956521739130435"
                                },
                                {
                                    "city": "A Corua (La Corua)",
                                    "avg_length": "131.3103448275862069"
                                },
                                {
                                    "city": "Udine",
                                    "avg_length": "130.6842105263157895"
                                },
                                {
                                    "city": "Ashgabat",
                                    "avg_length": "129.9259259259259259"
                                },
                                {
                                    "city": "Isesaki",
                                    "avg_length": "129.6956521739130435"
                                },
                                {
                                    "city": "Matamoros",
                                    "avg_length": "129.6521739130434783"
                                },
                                {
                                    "city": "Niznekamsk",
                                    "avg_length": "129.5294117647058824"
                                },
                                {
                                    "city": "Mosul",
                                    "avg_length": "129.1851851851851852"
                                },
                                {
                                    "city": "Nukualofa",
                                    "avg_length": "129.1666666666666667"
                                },
                                {
                                    "city": "Elista",
                                    "avg_length": "129.0476190476190476"
                                },
                                {
                                    "city": "Omdurman",
                                    "avg_length": "128.9714285714285714"
                                },
                                {
                                    "city": "Tychy",
                                    "avg_length": "128.8888888888888889"
                                },
                                {
                                    "city": "Pereira",
                                    "avg_length": "128.8260869565217391"
                                },
                                {
                                    "city": "Antofagasta",
                                    "avg_length": "128.7037037037037037"
                                },
                                {
                                    "city": "Dhaka",
                                    "avg_length": "128.4642857142857143"
                                },
                                {
                                    "city": "Sunnyvale",
                                    "avg_length": "128.4193548387096774"
                                },
                                {
                                    "city": "Malm",
                                    "avg_length": "128.4117647058823529"
                                },
                                {
                                    "city": "Usolje-Sibirskoje",
                                    "avg_length": "128.2727272727272727"
                                },
                                {
                                    "city": "Funafuti",
                                    "avg_length": "127.9230769230769231"
                                },
                                {
                                    "city": "Asuncin",
                                    "avg_length": "127.6666666666666667"
                                },
                                {
                                    "city": "Oshawa",
                                    "avg_length": "127.5909090909090909"
                                },
                                {
                                    "city": "Lausanne",
                                    "avg_length": "127.4545454545454545"
                                },
                                {
                                    "city": "Luzinia",
                                    "avg_length": "127.2608695652173913"
                                },
                                {
                                    "city": "Junan",
                                    "avg_length": "127.1200000000000000"
                                },
                                {
                                    "city": "Sagamihara",
                                    "avg_length": "127.0416666666666667"
                                },
                                {
                                    "city": "Dzerzinsk",
                                    "avg_length": "126.8636363636363636"
                                },
                                {
                                    "city": "Brescia",
                                    "avg_length": "126.7741935483870968"
                                },
                                {
                                    "city": "Syktyvkar",
                                    "avg_length": "126.7000000000000000"
                                },
                                {
                                    "city": "Sterling Heights",
                                    "avg_length": "126.6896551724137931"
                                },
                                {
                                    "city": "Quilmes",
                                    "avg_length": "126.5000000000000000"
                                },
                                {
                                    "city": "Rajkot",
                                    "avg_length": "126.4545454545454545"
                                },
                                {
                                    "city": "Santo Andr",
                                    "avg_length": "126.3888888888888889"
                                },
                                {
                                    "city": "Kabul",
                                    "avg_length": "126.3888888888888889"
                                },
                                {
                                    "city": "Aden",
                                    "avg_length": "126.3225806451612903"
                                },
                                {
                                    "city": "Emmen",
                                    "avg_length": "126.2692307692307692"
                                },
                                {
                                    "city": "Denizli",
                                    "avg_length": "126.1111111111111111"
                                },
                                {
                                    "city": "Lancaster",
                                    "avg_length": "125.9666666666666667"
                                },
                                {
                                    "city": "Guadalajara",
                                    "avg_length": "125.9565217391304348"
                                },
                                {
                                    "city": "Merlo",
                                    "avg_length": "125.8333333333333333"
                                },
                                {
                                    "city": "Chungho",
                                    "avg_length": "125.8000000000000000"
                                },
                                {
                                    "city": "Monywa",
                                    "avg_length": "125.6666666666666667"
                                },
                                {
                                    "city": "Oulu",
                                    "avg_length": "125.6153846153846154"
                                },
                                {
                                    "city": "Portoviejo",
                                    "avg_length": "125.4642857142857143"
                                },
                                {
                                    "city": "Dhule (Dhulia)",
                                    "avg_length": "125.4545454545454545"
                                },
                                {
                                    "city": "Cuman",
                                    "avg_length": "125.3793103448275862"
                                },
                                {
                                    "city": "Balaiha",
                                    "avg_length": "125.2727272727272727"
                                },
                                {
                                    "city": "Tafuna",
                                    "avg_length": "125.1500000000000000"
                                },
                                {
                                    "city": "Arlington",
                                    "avg_length": "125.1200000000000000"
                                },
                                {
                                    "city": "Balurghat",
                                    "avg_length": "125.0769230769230769"
                                },
                                {
                                    "city": "Stockport",
                                    "avg_length": "125.0000000000000000"
                                },
                                {
                                    "city": "Okara",
                                    "avg_length": "124.7142857142857143"
                                },
                                {
                                    "city": "Sharja",
                                    "avg_length": "124.6666666666666667"
                                },
                                {
                                    "city": "Johannesburg",
                                    "avg_length": "124.6666666666666667"
                                },
                                {
                                    "city": "Chisinau",
                                    "avg_length": "124.6176470588235294"
                                },
                                {
                                    "city": "Haiphong",
                                    "avg_length": "124.4800000000000000"
                                },
                                {
                                    "city": "Surakarta",
                                    "avg_length": "124.3461538461538462"
                                },
                                {
                                    "city": "Smolensk",
                                    "avg_length": "124.2083333333333333"
                                },
                                {
                                    "city": "Munger (Monghyr)",
                                    "avg_length": "124.1562500000000000"
                                },
                                {
                                    "city": "Bhilwara",
                                    "avg_length": "124.1250000000000000"
                                },
                                {
                                    "city": "Leshan",
                                    "avg_length": "124.0937500000000000"
                                },
                                {
                                    "city": "Tianjin",
                                    "avg_length": "124.0000000000000000"
                                },
                                {
                                    "city": "Pingxiang",
                                    "avg_length": "123.9545454545454545"
                                },
                                {
                                    "city": "Saint Louis",
                                    "avg_length": "123.9130434782608696"
                                },
                                {
                                    "city": "Daugavpils",
                                    "avg_length": "123.9000000000000000"
                                },
                                {
                                    "city": "Newcastle",
                                    "avg_length": "123.8695652173913043"
                                },
                                {
                                    "city": "Tanauan",
                                    "avg_length": "123.8000000000000000"
                                },
                                {
                                    "city": "Probolinggo",
                                    "avg_length": "123.7058823529411765"
                                },
                                {
                                    "city": "Sumqayit",
                                    "avg_length": "123.6000000000000000"
                                },
                                {
                                    "city": "Kursk",
                                    "avg_length": "123.5652173913043478"
                                },
                                {
                                    "city": "Jhansi",
                                    "avg_length": "123.5517241379310345"
                                },
                                {
                                    "city": "Changhwa",
                                    "avg_length": "123.5365853658536585"
                                },
                                {
                                    "city": "Donostia-San Sebastin",
                                    "avg_length": "123.4838709677419355"
                                },
                                {
                                    "city": "Siliguri (Shiliguri)",
                                    "avg_length": "123.4411764705882353"
                                },
                                {
                                    "city": "Jamalpur",
                                    "avg_length": "123.3750000000000000"
                                },
                                {
                                    "city": "So Bernardo do Campo",
                                    "avg_length": "123.2272727272727273"
                                },
                                {
                                    "city": "Sumy",
                                    "avg_length": "123.2142857142857143"
                                },
                                {
                                    "city": "Matsue",
                                    "avg_length": "123.2000000000000000"
                                },
                                {
                                    "city": "Lincoln",
                                    "avg_length": "123.1600000000000000"
                                },
                                {
                                    "city": "Loja",
                                    "avg_length": "123.1428571428571429"
                                },
                                {
                                    "city": "Omiya",
                                    "avg_length": "123.1333333333333333"
                                },
                                {
                                    "city": "Jinzhou",
                                    "avg_length": "123.1333333333333333"
                                },
                                {
                                    "city": "Tallahassee",
                                    "avg_length": "123.1333333333333333"
                                },
                                {
                                    "city": "Le Mans",
                                    "avg_length": "123.1000000000000000"
                                },
                                {
                                    "city": "Taizz",
                                    "avg_length": "123.0714285714285714"
                                },
                                {
                                    "city": "Hodeida",
                                    "avg_length": "123.0625000000000000"
                                },
                                {
                                    "city": "Kuwana",
                                    "avg_length": "123.0400000000000000"
                                },
                                {
                                    "city": "Duisburg",
                                    "avg_length": "123.0303030303030303"
                                },
                                {
                                    "city": "Manchester",
                                    "avg_length": "122.9166666666666667"
                                },
                                {
                                    "city": "Shanwei",
                                    "avg_length": "122.8666666666666667"
                                },
                                {
                                    "city": "Baku",
                                    "avg_length": "122.7777777777777778"
                                },
                                {
                                    "city": "Bilbays",
                                    "avg_length": "122.7142857142857143"
                                },
                                {
                                    "city": "Sousse",
                                    "avg_length": "122.6956521739130435"
                                },
                                {
                                    "city": "Tarsus",
                                    "avg_length": "122.6875000000000000"
                                },
                                {
                                    "city": "Liepaja",
                                    "avg_length": "122.6333333333333333"
                                },
                                {
                                    "city": "Lima",
                                    "avg_length": "122.5312500000000000"
                                },
                                {
                                    "city": "Juiz de Fora",
                                    "avg_length": "122.4074074074074074"
                                },
                                {
                                    "city": "Sasebo",
                                    "avg_length": "122.3750000000000000"
                                },
                                {
                                    "city": "Okinawa",
                                    "avg_length": "122.3043478260869565"
                                },
                                {
                                    "city": "Mexicali",
                                    "avg_length": "122.2800000000000000"
                                },
                                {
                                    "city": "Jastrzebie-Zdrj",
                                    "avg_length": "122.2187500000000000"
                                },
                                {
                                    "city": "Ahmadnagar",
                                    "avg_length": "122.1212121212121212"
                                },
                                {
                                    "city": "Citt del Vaticano",
                                    "avg_length": "122.0588235294117647"
                                },
                                {
                                    "city": "Toulon",
                                    "avg_length": "122.0416666666666667"
                                },
                                {
                                    "city": "Citrus Heights",
                                    "avg_length": "121.8571428571428571"
                                },
                                {
                                    "city": "Purwakarta",
                                    "avg_length": "121.7894736842105263"
                                },
                                {
                                    "city": "Pudukkottai",
                                    "avg_length": "121.7037037037037037"
                                },
                                {
                                    "city": "Akron",
                                    "avg_length": "121.6451612903225806"
                                },
                                {
                                    "city": "Ivanovo",
                                    "avg_length": "121.5217391304347826"
                                },
                                {
                                    "city": "Stara Zagora",
                                    "avg_length": "121.5000000000000000"
                                },
                                {
                                    "city": "Valencia",
                                    "avg_length": "121.5000000000000000"
                                },
                                {
                                    "city": "Kanchrapara",
                                    "avg_length": "121.4375000000000000"
                                },
                                {
                                    "city": "Zapopan",
                                    "avg_length": "121.3529411764705882"
                                },
                                {
                                    "city": "Satna",
                                    "avg_length": "121.3333333333333333"
                                },
                                {
                                    "city": "Cam Ranh",
                                    "avg_length": "121.2187500000000000"
                                },
                                {
                                    "city": "Joliet",
                                    "avg_length": "121.2142857142857143"
                                },
                                {
                                    "city": "Shimonoseki",
                                    "avg_length": "121.1666666666666667"
                                },
                                {
                                    "city": "Weifang",
                                    "avg_length": "121.1034482758620690"
                                },
                                {
                                    "city": "al-Hawiya",
                                    "avg_length": "121.0000000000000000"
                                },
                                {
                                    "city": "Touliu",
                                    "avg_length": "120.9629629629629630"
                                },
                                {
                                    "city": "Haining",
                                    "avg_length": "120.9523809523809524"
                                },
                                {
                                    "city": "Kitwe",
                                    "avg_length": "120.8787878787878788"
                                },
                                {
                                    "city": "Iligan",
                                    "avg_length": "120.8148148148148148"
                                },
                                {
                                    "city": "Pyongyang",
                                    "avg_length": "120.8064516129032258"
                                },
                                {
                                    "city": "Anpolis",
                                    "avg_length": "120.8000000000000000"
                                },
                                {
                                    "city": "Najafabad",
                                    "avg_length": "120.6285714285714286"
                                },
                                {
                                    "city": "Mogiljov",
                                    "avg_length": "120.5833333333333333"
                                },
                                {
                                    "city": "La Paz",
                                    "avg_length": "120.4090909090909091"
                                },
                                {
                                    "city": "Bern",
                                    "avg_length": "120.3600000000000000"
                                },
                                {
                                    "city": "Yerevan",
                                    "avg_length": "120.3200000000000000"
                                },
                                {
                                    "city": "Qalyub",
                                    "avg_length": "120.3043478260869565"
                                },
                                {
                                    "city": "Kurashiki",
                                    "avg_length": "120.2083333333333333"
                                },
                                {
                                    "city": "Ourense (Orense)",
                                    "avg_length": "120.2000000000000000"
                                },
                                {
                                    "city": "Mit Ghamr",
                                    "avg_length": "120.1111111111111111"
                                },
                                {
                                    "city": "Alessandria",
                                    "avg_length": "120.0952380952380952"
                                },
                                {
                                    "city": "Jodhpur",
                                    "avg_length": "120.0909090909090909"
                                },
                                {
                                    "city": "Parbhani",
                                    "avg_length": "120.0645161290322581"
                                },
                                {
                                    "city": "Southend-on-Sea",
                                    "avg_length": "120.0000000000000000"
                                },
                                {
                                    "city": "Nagaon",
                                    "avg_length": "119.9047619047619048"
                                },
                                {
                                    "city": "Graz",
                                    "avg_length": "119.8965517241379310"
                                },
                                {
                                    "city": "Novi Sad",
                                    "avg_length": "119.8750000000000000"
                                },
                                {
                                    "city": "Belm",
                                    "avg_length": "119.8750000000000000"
                                },
                                {
                                    "city": "Benguela",
                                    "avg_length": "119.8400000000000000"
                                },
                                {
                                    "city": "Rustenburg",
                                    "avg_length": "119.8148148148148148"
                                },
                                {
                                    "city": "Rae Bareli",
                                    "avg_length": "119.7741935483870968"
                                },
                                {
                                    "city": "Cape Coral",
                                    "avg_length": "119.7333333333333333"
                                },
                                {
                                    "city": "Maring",
                                    "avg_length": "119.6956521739130435"
                                },
                                {
                                    "city": "Kamyin",
                                    "avg_length": "119.6923076923076923"
                                },
                                {
                                    "city": "Udaipur",
                                    "avg_length": "119.6923076923076923"
                                },
                                {
                                    "city": "Ocumare del Tuy",
                                    "avg_length": "119.6666666666666667"
                                },
                                {
                                    "city": "Coacalco de Berriozbal",
                                    "avg_length": "119.6363636363636364"
                                },
                                {
                                    "city": "Coatzacoalcos",
                                    "avg_length": "119.6206896551724138"
                                },
                                {
                                    "city": "Bat Yam",
                                    "avg_length": "119.5882352941176471"
                                },
                                {
                                    "city": "Ktahya",
                                    "avg_length": "119.3333333333333333"
                                },
                                {
                                    "city": "Eskisehir",
                                    "avg_length": "119.3200000000000000"
                                },
                                {
                                    "city": "Bhopal",
                                    "avg_length": "119.3125000000000000"
                                },
                                {
                                    "city": "Kaliningrad",
                                    "avg_length": "119.2380952380952381"
                                },
                                {
                                    "city": "Nantou",
                                    "avg_length": "119.2368421052631579"
                                },
                                {
                                    "city": "Kowloon and New Kowloon",
                                    "avg_length": "119.2000000000000000"
                                },
                                {
                                    "city": "Sambhal",
                                    "avg_length": "119.1739130434782609"
                                },
                                {
                                    "city": "Jinchang",
                                    "avg_length": "119.1470588235294118"
                                },
                                {
                                    "city": "Sivas",
                                    "avg_length": "119.1153846153846154"
                                },
                                {
                                    "city": "Enshi",
                                    "avg_length": "119.0714285714285714"
                                },
                                {
                                    "city": "Boksburg",
                                    "avg_length": "119.0625000000000000"
                                },
                                {
                                    "city": "Vila Velha",
                                    "avg_length": "119.0344827586206897"
                                },
                                {
                                    "city": "Nezahualcyotl",
                                    "avg_length": "119.0333333333333333"
                                },
                                {
                                    "city": "Haldia",
                                    "avg_length": "119.0000000000000000"
                                },
                                {
                                    "city": "Brest",
                                    "avg_length": "119.0000000000000000"
                                },
                                {
                                    "city": "Ibirit",
                                    "avg_length": "119.0000000000000000"
                                },
                                {
                                    "city": "Karnal",
                                    "avg_length": "118.9714285714285714"
                                },
                                {
                                    "city": "Patiala",
                                    "avg_length": "118.9333333333333333"
                                },
                                {
                                    "city": "Kamarhati",
                                    "avg_length": "118.9230769230769231"
                                },
                                {
                                    "city": "Halifax",
                                    "avg_length": "118.9200000000000000"
                                },
                                {
                                    "city": "Nagareyama",
                                    "avg_length": "118.9000000000000000"
                                },
                                {
                                    "city": "Jaipur",
                                    "avg_length": "118.8800000000000000"
                                },
                                {
                                    "city": "Tsaotun",
                                    "avg_length": "118.8421052631578947"
                                },
                                {
                                    "city": "Santiago de los Caballeros",
                                    "avg_length": "118.8333333333333333"
                                },
                                {
                                    "city": "Tangail",
                                    "avg_length": "118.7714285714285714"
                                },
                                {
                                    "city": "Sokoto",
                                    "avg_length": "118.7600000000000000"
                                },
                                {
                                    "city": "Maracabo",
                                    "avg_length": "118.6956521739130435"
                                },
                                {
                                    "city": "Pjatigorsk",
                                    "avg_length": "118.6923076923076923"
                                },
                                {
                                    "city": "Witten",
                                    "avg_length": "118.6400000000000000"
                                },
                                {
                                    "city": "Gingoog",
                                    "avg_length": "118.6071428571428571"
                                },
                                {
                                    "city": "Crdoba",
                                    "avg_length": "118.6000000000000000"
                                },
                                {
                                    "city": "Botshabelo",
                                    "avg_length": "118.5714285714285714"
                                },
                                {
                                    "city": "Lapu-Lapu",
                                    "avg_length": "118.5625000000000000"
                                },
                                {
                                    "city": "Dongying",
                                    "avg_length": "118.4782608695652174"
                                },
                                {
                                    "city": "Kisumu",
                                    "avg_length": "118.4000000000000000"
                                },
                                {
                                    "city": "al-Ayn",
                                    "avg_length": "118.4000000000000000"
                                },
                                {
                                    "city": "Hino",
                                    "avg_length": "118.3333333333333333"
                                },
                                {
                                    "city": "Brockton",
                                    "avg_length": "118.2692307692307692"
                                },
                                {
                                    "city": "El Monte",
                                    "avg_length": "118.2380952380952381"
                                },
                                {
                                    "city": "Hagonoy",
                                    "avg_length": "118.2222222222222222"
                                },
                                {
                                    "city": "Owo",
                                    "avg_length": "118.2222222222222222"
                                },
                                {
                                    "city": "Davao",
                                    "avg_length": "118.1290322580645161"
                                },
                                {
                                    "city": "Plock",
                                    "avg_length": "118.1250000000000000"
                                },
                                {
                                    "city": "Syrakusa",
                                    "avg_length": "118.0714285714285714"
                                },
                                {
                                    "city": "Cuernavaca",
                                    "avg_length": "118.0689655172413793"
                                },
                                {
                                    "city": "San Felipe de Puerto Plata",
                                    "avg_length": "118.0666666666666667"
                                },
                                {
                                    "city": "Ruse",
                                    "avg_length": "118.0416666666666667"
                                },
                                {
                                    "city": "Vijayawada",
                                    "avg_length": "118.0400000000000000"
                                },
                                {
                                    "city": "Ashdod",
                                    "avg_length": "118.0000000000000000"
                                },
                                {
                                    "city": "Zaria",
                                    "avg_length": "117.9600000000000000"
                                },
                                {
                                    "city": "Amroha",
                                    "avg_length": "117.9583333333333333"
                                },
                                {
                                    "city": "Talavera",
                                    "avg_length": "117.9523809523809524"
                                },
                                {
                                    "city": "Batman",
                                    "avg_length": "117.9393939393939394"
                                },
                                {
                                    "city": "Xinxiang",
                                    "avg_length": "117.9333333333333333"
                                },
                                {
                                    "city": "Cuauhtmoc",
                                    "avg_length": "117.9310344827586207"
                                },
                                {
                                    "city": "Trshavn",
                                    "avg_length": "117.9285714285714286"
                                },
                                {
                                    "city": "Santa Brbara dOeste",
                                    "avg_length": "117.9230769230769231"
                                },
                                {
                                    "city": "Aparecida de Goinia",
                                    "avg_length": "117.9130434782608696"
                                },
                                {
                                    "city": "Beni-Mellal",
                                    "avg_length": "117.8636363636363636"
                                },
                                {
                                    "city": "Vinh",
                                    "avg_length": "117.8636363636363636"
                                },
                                {
                                    "city": "Wroclaw",
                                    "avg_length": "117.8571428571428571"
                                },
                                {
                                    "city": "Serpuhov",
                                    "avg_length": "117.8500000000000000"
                                },
                                {
                                    "city": "guas Lindas de Gois",
                                    "avg_length": "117.8333333333333333"
                                },
                                {
                                    "city": "Erlangen",
                                    "avg_length": "117.7586206896551724"
                                },
                                {
                                    "city": "Emeishan",
                                    "avg_length": "117.6538461538461538"
                                },
                                {
                                    "city": "Chandrapur",
                                    "avg_length": "117.5625000000000000"
                                },
                                {
                                    "city": "Nyeri",
                                    "avg_length": "117.5517241379310345"
                                },
                                {
                                    "city": "Ambattur",
                                    "avg_length": "117.5384615384615385"
                                },
                                {
                                    "city": "Tabuk",
                                    "avg_length": "117.4615384615384615"
                                },
                                {
                                    "city": "Tegal",
                                    "avg_length": "117.4210526315789474"
                                },
                                {
                                    "city": "Kalisz",
                                    "avg_length": "117.4000000000000000"
                                },
                                {
                                    "city": "Mardan",
                                    "avg_length": "117.4000000000000000"
                                },
                                {
                                    "city": "Monclova",
                                    "avg_length": "117.3846153846153846"
                                },
                                {
                                    "city": "Tanshui",
                                    "avg_length": "117.3703703703703704"
                                },
                                {
                                    "city": "Naala-Porto",
                                    "avg_length": "117.3600000000000000"
                                },
                                {
                                    "city": "Iwakuni",
                                    "avg_length": "117.3448275862068966"
                                },
                                {
                                    "city": "Myingyan",
                                    "avg_length": "117.2727272727272727"
                                },
                                {
                                    "city": "Czestochowa",
                                    "avg_length": "117.2400000000000000"
                                },
                                {
                                    "city": "Salala",
                                    "avg_length": "117.1851851851851852"
                                },
                                {
                                    "city": "Yingkou",
                                    "avg_length": "117.1739130434782609"
                                },
                                {
                                    "city": "Kamjanets-Podilskyi",
                                    "avg_length": "117.1724137931034483"
                                },
                                {
                                    "city": "Yinchuan",
                                    "avg_length": "117.1000000000000000"
                                },
                                {
                                    "city": "Dayton",
                                    "avg_length": "117.0000000000000000"
                                },
                                {
                                    "city": "Dundee",
                                    "avg_length": "117.0000000000000000"
                                },
                                {
                                    "city": "Lungtan",
                                    "avg_length": "116.9705882352941176"
                                },
                                {
                                    "city": "Huaian",
                                    "avg_length": "116.9600000000000000"
                                },
                                {
                                    "city": "Jelets",
                                    "avg_length": "116.9583333333333333"
                                },
                                {
                                    "city": "Uruapan",
                                    "avg_length": "116.8787878787878788"
                                },
                                {
                                    "city": "Songkhla",
                                    "avg_length": "116.8181818181818182"
                                },
                                {
                                    "city": "Jaffna",
                                    "avg_length": "116.8000000000000000"
                                },
                                {
                                    "city": "Hohhot",
                                    "avg_length": "116.7647058823529412"
                                },
                                {
                                    "city": "Nha Trang",
                                    "avg_length": "116.7500000000000000"
                                },
                                {
                                    "city": "Cavite",
                                    "avg_length": "116.7333333333333333"
                                },
                                {
                                    "city": "Deba Habe",
                                    "avg_length": "116.6086956521739130"
                                },
                                {
                                    "city": "Tel Aviv-Jaffa",
                                    "avg_length": "116.5666666666666667"
                                },
                                {
                                    "city": "Lhokseumawe",
                                    "avg_length": "116.5294117647058824"
                                },
                                {
                                    "city": "Masqat",
                                    "avg_length": "116.5217391304347826"
                                },
                                {
                                    "city": "Saint-Denis",
                                    "avg_length": "116.5217391304347826"
                                },
                                {
                                    "city": "Ciparay",
                                    "avg_length": "116.4347826086956522"
                                },
                                {
                                    "city": "Gandhinagar",
                                    "avg_length": "116.3157894736842105"
                                },
                                {
                                    "city": "Vilnius",
                                    "avg_length": "116.2916666666666667"
                                },
                                {
                                    "city": "Zeleznogorsk",
                                    "avg_length": "116.2500000000000000"
                                },
                                {
                                    "city": "Kanazawa",
                                    "avg_length": "116.1739130434782609"
                                },
                                {
                                    "city": "Garland",
                                    "avg_length": "116.1481481481481481"
                                },
                                {
                                    "city": "Coquimbo",
                                    "avg_length": "116.1428571428571429"
                                },
                                {
                                    "city": "Phnom Penh",
                                    "avg_length": "116.1111111111111111"
                                },
                                {
                                    "city": "Tambaram",
                                    "avg_length": "116.0689655172413793"
                                },
                                {
                                    "city": "Koriyama",
                                    "avg_length": "116.0476190476190476"
                                },
                                {
                                    "city": "Birgunj",
                                    "avg_length": "116.0000000000000000"
                                },
                                {
                                    "city": "Xiangfan",
                                    "avg_length": "115.9117647058823529"
                                },
                                {
                                    "city": "Tonghae",
                                    "avg_length": "115.8800000000000000"
                                },
                                {
                                    "city": "Jedda",
                                    "avg_length": "115.8571428571428571"
                                },
                                {
                                    "city": "Pathankot",
                                    "avg_length": "115.7777777777777778"
                                },
                                {
                                    "city": "Nuuk",
                                    "avg_length": "115.7647058823529412"
                                },
                                {
                                    "city": "Livorno",
                                    "avg_length": "115.7500000000000000"
                                },
                                {
                                    "city": "Sungai Petani",
                                    "avg_length": "115.7187500000000000"
                                },
                                {
                                    "city": "Mukateve",
                                    "avg_length": "115.6666666666666667"
                                },
                                {
                                    "city": "Higashiosaka",
                                    "avg_length": "115.6000000000000000"
                                },
                                {
                                    "city": "Kamakura",
                                    "avg_length": "115.5909090909090909"
                                },
                                {
                                    "city": "Zalantun",
                                    "avg_length": "115.5652173913043478"
                                },
                                {
                                    "city": "Idfu",
                                    "avg_length": "115.5652173913043478"
                                },
                                {
                                    "city": "Nador",
                                    "avg_length": "115.4814814814814815"
                                },
                                {
                                    "city": "Almirante Brown",
                                    "avg_length": "115.4800000000000000"
                                },
                                {
                                    "city": "Tama",
                                    "avg_length": "115.4615384615384615"
                                },
                                {
                                    "city": "Miyakonojo",
                                    "avg_length": "115.4137931034482759"
                                },
                                {
                                    "city": "Madiun",
                                    "avg_length": "115.3571428571428571"
                                },
                                {
                                    "city": "Basel",
                                    "avg_length": "115.3571428571428571"
                                },
                                {
                                    "city": "Valle de Santiago",
                                    "avg_length": "115.2916666666666667"
                                },
                                {
                                    "city": "Tartu",
                                    "avg_length": "115.2333333333333333"
                                },
                                {
                                    "city": "Caracas",
                                    "avg_length": "115.2307692307692308"
                                },
                                {
                                    "city": "Ilorin",
                                    "avg_length": "115.1935483870967742"
                                },
                                {
                                    "city": "s-Hertogenbosch",
                                    "avg_length": "115.1739130434782609"
                                },
                                {
                                    "city": "Skikda",
                                    "avg_length": "115.1621621621621622"
                                },
                                {
                                    "city": "Rio Claro",
                                    "avg_length": "115.1481481481481481"
                                },
                                {
                                    "city": "Huixquilucan",
                                    "avg_length": "115.1000000000000000"
                                },
                                {
                                    "city": "Aurora",
                                    "avg_length": "115.1000000000000000"
                                },
                                {
                                    "city": "al-Manama",
                                    "avg_length": "115.0800000000000000"
                                },
                                {
                                    "city": "Poos de Caldas",
                                    "avg_length": "115.0625000000000000"
                                },
                                {
                                    "city": "Ciomas",
                                    "avg_length": "115.0294117647058824"
                                },
                                {
                                    "city": "Alvorada",
                                    "avg_length": "115.0000000000000000"
                                },
                                {
                                    "city": "Kolpino",
                                    "avg_length": "114.9736842105263158"
                                },
                                {
                                    "city": "Ife",
                                    "avg_length": "114.9666666666666667"
                                },
                                {
                                    "city": "Ozamis",
                                    "avg_length": "114.9629629629629630"
                                },
                                {
                                    "city": "Allappuzha (Alleppey)",
                                    "avg_length": "114.9583333333333333"
                                },
                                {
                                    "city": "San Lorenzo",
                                    "avg_length": "114.9565217391304348"
                                },
                                {
                                    "city": "Valparai",
                                    "avg_length": "114.9428571428571429"
                                },
                                {
                                    "city": "Hiroshima",
                                    "avg_length": "114.9333333333333333"
                                },
                                {
                                    "city": "Osmaniye",
                                    "avg_length": "114.9259259259259259"
                                },
                                {
                                    "city": "Laohekou",
                                    "avg_length": "114.9230769230769231"
                                },
                                {
                                    "city": "Jaroslavl",
                                    "avg_length": "114.9047619047619048"
                                },
                                {
                                    "city": "Vancouver",
                                    "avg_length": "114.8666666666666667"
                                },
                                {
                                    "city": "Sincelejo",
                                    "avg_length": "114.8666666666666667"
                                },
                                {
                                    "city": "Bamenda",
                                    "avg_length": "114.8260869565217391"
                                },
                                {
                                    "city": "Bijapur",
                                    "avg_length": "114.7692307692307692"
                                },
                                {
                                    "city": "Sultanbeyli",
                                    "avg_length": "114.7391304347826087"
                                },
                                {
                                    "city": "Atinsk",
                                    "avg_length": "114.6896551724137931"
                                },
                                {
                                    "city": "Springs",
                                    "avg_length": "114.6400000000000000"
                                },
                                {
                                    "city": "Baybay",
                                    "avg_length": "114.6333333333333333"
                                },
                                {
                                    "city": "Jakarta",
                                    "avg_length": "114.6250000000000000"
                                },
                                {
                                    "city": "Yuzhou",
                                    "avg_length": "114.6000000000000000"
                                },
                                {
                                    "city": "Purnea (Purnia)",
                                    "avg_length": "114.5925925925925926"
                                },
                                {
                                    "city": "ostka",
                                    "avg_length": "114.5833333333333333"
                                },
                                {
                                    "city": "Florencia",
                                    "avg_length": "114.5600000000000000"
                                },
                                {
                                    "city": "Buenaventura",
                                    "avg_length": "114.5200000000000000"
                                },
                                {
                                    "city": "Salinas",
                                    "avg_length": "114.5000000000000000"
                                },
                                {
                                    "city": "Bhimavaram",
                                    "avg_length": "114.4827586206896552"
                                },
                                {
                                    "city": "Rizhao",
                                    "avg_length": "114.4761904761904762"
                                },
                                {
                                    "city": "Molodetno",
                                    "avg_length": "114.4761904761904762"
                                },
                                {
                                    "city": "Halisahar",
                                    "avg_length": "114.4687500000000000"
                                },
                                {
                                    "city": "Pune",
                                    "avg_length": "114.4666666666666667"
                                },
                                {
                                    "city": "Tokat",
                                    "avg_length": "114.4411764705882353"
                                },
                                {
                                    "city": "Qinhuangdao",
                                    "avg_length": "114.2812500000000000"
                                },
                                {
                                    "city": "Athenai",
                                    "avg_length": "114.2692307692307692"
                                },
                                {
                                    "city": "Baiyin",
                                    "avg_length": "114.1153846153846154"
                                },
                                {
                                    "city": "Korla",
                                    "avg_length": "114.0000000000000000"
                                },
                                {
                                    "city": "Pak Kret",
                                    "avg_length": "113.9666666666666667"
                                },
                                {
                                    "city": "Usak",
                                    "avg_length": "113.9428571428571429"
                                },
                                {
                                    "city": "Firozabad",
                                    "avg_length": "113.8695652173913043"
                                },
                                {
                                    "city": "San Bernardino",
                                    "avg_length": "113.7407407407407407"
                                },
                                {
                                    "city": "Southampton",
                                    "avg_length": "113.7391304347826087"
                                },
                                {
                                    "city": "Hami",
                                    "avg_length": "113.7142857142857143"
                                },
                                {
                                    "city": "Santa Rosa",
                                    "avg_length": "113.6969696969696970"
                                },
                                {
                                    "city": "El Fuerte",
                                    "avg_length": "113.6060606060606061"
                                },
                                {
                                    "city": "Shenzhen",
                                    "avg_length": "113.5789473684210526"
                                },
                                {
                                    "city": "Gatineau",
                                    "avg_length": "113.5000000000000000"
                                },
                                {
                                    "city": "Benin City",
                                    "avg_length": "113.4642857142857143"
                                },
                                {
                                    "city": "Ede",
                                    "avg_length": "113.4347826086956522"
                                },
                                {
                                    "city": "Fuzhou",
                                    "avg_length": "113.4285714285714286"
                                },
                                {
                                    "city": "Xintai",
                                    "avg_length": "113.2916666666666667"
                                },
                                {
                                    "city": "Palghat (Palakkad)",
                                    "avg_length": "113.2413793103448276"
                                },
                                {
                                    "city": "South Hill",
                                    "avg_length": "113.1428571428571429"
                                },
                                {
                                    "city": "Mahajanga",
                                    "avg_length": "113.0454545454545455"
                                },
                                {
                                    "city": "Angra dos Reis",
                                    "avg_length": "112.9666666666666667"
                                },
                                {
                                    "city": "Brindisi",
                                    "avg_length": "112.8666666666666667"
                                },
                                {
                                    "city": "Ciudad del Este",
                                    "avg_length": "112.8333333333333333"
                                },
                                {
                                    "city": "Shikarpur",
                                    "avg_length": "112.8275862068965517"
                                },
                                {
                                    "city": "Tsuyama",
                                    "avg_length": "112.7142857142857143"
                                },
                                {
                                    "city": "Tanza",
                                    "avg_length": "112.7142857142857143"
                                },
                                {
                                    "city": "Santa F",
                                    "avg_length": "112.6666666666666667"
                                },
                                {
                                    "city": "Richmond Hill",
                                    "avg_length": "112.6315789473684211"
                                },
                                {
                                    "city": "San Miguel de Tucumn",
                                    "avg_length": "112.6250000000000000"
                                },
                                {
                                    "city": "Fengshan",
                                    "avg_length": "112.6176470588235294"
                                },
                                {
                                    "city": "Shaoguan",
                                    "avg_length": "112.5862068965517241"
                                },
                                {
                                    "city": "Esfahan",
                                    "avg_length": "112.5200000000000000"
                                },
                                {
                                    "city": "Baicheng",
                                    "avg_length": "112.5172413793103448"
                                },
                                {
                                    "city": "Taguig",
                                    "avg_length": "112.5000000000000000"
                                },
                                {
                                    "city": "Gijn",
                                    "avg_length": "112.5000000000000000"
                                },
                                {
                                    "city": "Bucuresti",
                                    "avg_length": "112.4827586206896552"
                                },
                                {
                                    "city": "Kimchon",
                                    "avg_length": "112.4583333333333333"
                                },
                                {
                                    "city": "Balikesir",
                                    "avg_length": "112.4324324324324324"
                                },
                                {
                                    "city": "Fukuyama",
                                    "avg_length": "112.4062500000000000"
                                },
                                {
                                    "city": "Halle/Saale",
                                    "avg_length": "112.3870967741935484"
                                },
                                {
                                    "city": "Uttarpara-Kotrung",
                                    "avg_length": "112.3846153846153846"
                                },
                                {
                                    "city": "Meixian",
                                    "avg_length": "112.3214285714285714"
                                },
                                {
                                    "city": "Beira",
                                    "avg_length": "112.2702702702702703"
                                },
                                {
                                    "city": "Mwene-Ditu",
                                    "avg_length": "112.1250000000000000"
                                },
                                {
                                    "city": "Naju",
                                    "avg_length": "112.1212121212121212"
                                },
                                {
                                    "city": "Kurgan",
                                    "avg_length": "111.8571428571428571"
                                },
                                {
                                    "city": "San Felipe del Progreso",
                                    "avg_length": "111.8000000000000000"
                                },
                                {
                                    "city": "Sorocaba",
                                    "avg_length": "111.7878787878787879"
                                },
                                {
                                    "city": "Zhezqazghan",
                                    "avg_length": "111.7241379310344828"
                                },
                                {
                                    "city": "Imus",
                                    "avg_length": "111.6551724137931034"
                                },
                                {
                                    "city": "Mysore",
                                    "avg_length": "111.6296296296296296"
                                },
                                {
                                    "city": "Varanasi (Benares)",
                                    "avg_length": "111.5833333333333333"
                                },
                                {
                                    "city": "Robamba",
                                    "avg_length": "111.5806451612903226"
                                },
                                {
                                    "city": "Soshanguve",
                                    "avg_length": "111.5714285714285714"
                                },
                                {
                                    "city": "Jining",
                                    "avg_length": "111.5185185185185185"
                                },
                                {
                                    "city": "Fuyu",
                                    "avg_length": "111.5000000000000000"
                                },
                                {
                                    "city": "Liaocheng",
                                    "avg_length": "111.4705882352941176"
                                },
                                {
                                    "city": "Dos Quebradas",
                                    "avg_length": "111.4687500000000000"
                                },
                                {
                                    "city": "Acua",
                                    "avg_length": "111.4615384615384615"
                                },
                                {
                                    "city": "Araatuba",
                                    "avg_length": "111.3928571428571429"
                                },
                                {
                                    "city": "Augusta-Richmond County",
                                    "avg_length": "111.3703703703703704"
                                },
                                {
                                    "city": "Uijongbu",
                                    "avg_length": "111.3437500000000000"
                                },
                                {
                                    "city": "Abu Dhabi",
                                    "avg_length": "111.2812500000000000"
                                },
                                {
                                    "city": "Arak",
                                    "avg_length": "111.2222222222222222"
                                },
                                {
                                    "city": "Kimberley",
                                    "avg_length": "111.2083333333333333"
                                },
                                {
                                    "city": "Pontianak",
                                    "avg_length": "111.1714285714285714"
                                },
                                {
                                    "city": "Saarbrcken",
                                    "avg_length": "111.1666666666666667"
                                },
                                {
                                    "city": "York",
                                    "avg_length": "110.9642857142857143"
                                },
                                {
                                    "city": "La Romana",
                                    "avg_length": "110.9565217391304348"
                                },
                                {
                                    "city": "Hoshiarpur",
                                    "avg_length": "110.9047619047619048"
                                },
                                {
                                    "city": "Vaduz",
                                    "avg_length": "110.8571428571428571"
                                },
                                {
                                    "city": "Nakhon Sawan",
                                    "avg_length": "110.8181818181818182"
                                },
                                {
                                    "city": "Adana",
                                    "avg_length": "110.8076923076923077"
                                },
                                {
                                    "city": "Adoni",
                                    "avg_length": "110.7727272727272727"
                                },
                                {
                                    "city": "Bratislava",
                                    "avg_length": "110.7692307692307692"
                                },
                                {
                                    "city": "Hsichuh",
                                    "avg_length": "110.7500000000000000"
                                },
                                {
                                    "city": "Callao",
                                    "avg_length": "110.7307692307692308"
                                },
                                {
                                    "city": "Ljubertsy",
                                    "avg_length": "110.7037037037037037"
                                },
                                {
                                    "city": "Siegen",
                                    "avg_length": "110.6842105263157895"
                                },
                                {
                                    "city": "Vicente Lpez",
                                    "avg_length": "110.6153846153846154"
                                },
                                {
                                    "city": "Chapra",
                                    "avg_length": "110.6000000000000000"
                                },
                                {
                                    "city": "Memphis",
                                    "avg_length": "110.5882352941176471"
                                },
                                {
                                    "city": "Blumenau",
                                    "avg_length": "110.4444444444444444"
                                },
                                {
                                    "city": "Apeldoorn",
                                    "avg_length": "110.4358974358974359"
                                },
                                {
                                    "city": "Ezhou",
                                    "avg_length": "110.3478260869565217"
                                },
                                {
                                    "city": "Suihua",
                                    "avg_length": "110.2500000000000000"
                                },
                                {
                                    "city": "Rockford",
                                    "avg_length": "110.2500000000000000"
                                },
                                {
                                    "city": "Kaduna",
                                    "avg_length": "110.2272727272727273"
                                },
                                {
                                    "city": "Pachuca de Soto",
                                    "avg_length": "110.2222222222222222"
                                },
                                {
                                    "city": "Hanoi",
                                    "avg_length": "110.1612903225806452"
                                },
                                {
                                    "city": "Yaound",
                                    "avg_length": "110.1612903225806452"
                                },
                                {
                                    "city": "Boa Vista",
                                    "avg_length": "110.1562500000000000"
                                },
                                {
                                    "city": "Linz",
                                    "avg_length": "110.1428571428571429"
                                },
                                {
                                    "city": "Lengshuijiang",
                                    "avg_length": "110.1388888888888889"
                                },
                                {
                                    "city": "Sanya",
                                    "avg_length": "110.1200000000000000"
                                },
                                {
                                    "city": "Rampur",
                                    "avg_length": "110.0666666666666667"
                                },
                                {
                                    "city": "Faaa",
                                    "avg_length": "110.0416666666666667"
                                },
                                {
                                    "city": "Nabereznyje Telny",
                                    "avg_length": "110.0344827586206897"
                                },
                                {
                                    "city": "Jos Azueta",
                                    "avg_length": "110.0000000000000000"
                                },
                                {
                                    "city": "Celaya",
                                    "avg_length": "109.9615384615384615"
                                },
                                {
                                    "city": "Ziguinchor",
                                    "avg_length": "109.9200000000000000"
                                },
                                {
                                    "city": "Arecibo",
                                    "avg_length": "109.9117647058823529"
                                },
                                {
                                    "city": "Banjul",
                                    "avg_length": "109.8666666666666667"
                                },
                                {
                                    "city": "So Leopoldo",
                                    "avg_length": "109.8636363636363636"
                                },
                                {
                                    "city": "Novoterkassk",
                                    "avg_length": "109.8500000000000000"
                                },
                                {
                                    "city": "Jalib al-Shuyukh",
                                    "avg_length": "109.8461538461538462"
                                },
                                {
                                    "city": "Sanaa",
                                    "avg_length": "109.8461538461538462"
                                },
                                {
                                    "city": "Inegl",
                                    "avg_length": "109.8076923076923077"
                                },
                                {
                                    "city": "Olomouc",
                                    "avg_length": "109.7931034482758621"
                                },
                                {
                                    "city": "La Plata",
                                    "avg_length": "109.7812500000000000"
                                },
                                {
                                    "city": "Iwaki",
                                    "avg_length": "109.7692307692307692"
                                },
                                {
                                    "city": "Escobar",
                                    "avg_length": "109.7307692307692308"
                                },
                                {
                                    "city": "Ueda",
                                    "avg_length": "109.6875000000000000"
                                },
                                {
                                    "city": "Bhavnagar",
                                    "avg_length": "109.6521739130434783"
                                },
                                {
                                    "city": "Dallas",
                                    "avg_length": "109.5357142857142857"
                                },
                                {
                                    "city": "Klerksdorp",
                                    "avg_length": "109.5000000000000000"
                                },
                                {
                                    "city": "Bergamo",
                                    "avg_length": "109.5000000000000000"
                                },
                                {
                                    "city": "Kakamigahara",
                                    "avg_length": "109.3103448275862069"
                                },
                                {
                                    "city": "Kansas City",
                                    "avg_length": "109.2400000000000000"
                                },
                                {
                                    "city": "Tete",
                                    "avg_length": "109.1666666666666667"
                                },
                                {
                                    "city": "Valle de la Pascua",
                                    "avg_length": "109.1428571428571429"
                                },
                                {
                                    "city": "Tabora",
                                    "avg_length": "109.1111111111111111"
                                },
                                {
                                    "city": "Ranchi",
                                    "avg_length": "109.0952380952380952"
                                },
                                {
                                    "city": "Patras",
                                    "avg_length": "109.0000000000000000"
                                },
                                {
                                    "city": "Botosani",
                                    "avg_length": "108.9696969696969697"
                                },
                                {
                                    "city": "Xiangtan",
                                    "avg_length": "108.9545454545454545"
                                },
                                {
                                    "city": "Yamuna Nagar",
                                    "avg_length": "108.8571428571428571"
                                },
                                {
                                    "city": "Lubumbashi",
                                    "avg_length": "108.8461538461538462"
                                },
                                {
                                    "city": "Battambang",
                                    "avg_length": "108.7692307692307692"
                                },
                                {
                                    "city": "Chiayi",
                                    "avg_length": "108.6250000000000000"
                                },
                                {
                                    "city": "Chatsworth",
                                    "avg_length": "108.5882352941176471"
                                },
                                {
                                    "city": "Ikerre",
                                    "avg_length": "108.4864864864864865"
                                },
                                {
                                    "city": "Teboksary",
                                    "avg_length": "108.4782608695652174"
                                },
                                {
                                    "city": "Binzhou",
                                    "avg_length": "108.4545454545454545"
                                },
                                {
                                    "city": "Tiefa",
                                    "avg_length": "108.4482758620689655"
                                },
                                {
                                    "city": "Sal",
                                    "avg_length": "108.3636363636363636"
                                },
                                {
                                    "city": "Bradford",
                                    "avg_length": "108.2608695652173913"
                                },
                                {
                                    "city": "Yangor",
                                    "avg_length": "108.2258064516129032"
                                },
                                {
                                    "city": "Maikop",
                                    "avg_length": "108.2187500000000000"
                                },
                                {
                                    "city": "London",
                                    "avg_length": "108.2083333333333333"
                                },
                                {
                                    "city": "Bislig",
                                    "avg_length": "108.1904761904761905"
                                },
                                {
                                    "city": "Clarksville",
                                    "avg_length": "108.0555555555555556"
                                },
                                {
                                    "city": "Changzhou",
                                    "avg_length": "107.9750000000000000"
                                },
                                {
                                    "city": "Miraj",
                                    "avg_length": "107.9310344827586207"
                                },
                                {
                                    "city": "Abha",
                                    "avg_length": "107.9166666666666667"
                                },
                                {
                                    "city": "Pavlodar",
                                    "avg_length": "107.8260869565217391"
                                },
                                {
                                    "city": "Moscow",
                                    "avg_length": "107.8235294117647059"
                                },
                                {
                                    "city": "al-Qatif",
                                    "avg_length": "107.7600000000000000"
                                },
                                {
                                    "city": "Ezeiza",
                                    "avg_length": "107.6956521739130435"
                                },
                                {
                                    "city": "Kuching",
                                    "avg_length": "107.6666666666666667"
                                },
                                {
                                    "city": "Gulbarga",
                                    "avg_length": "107.5789473684210526"
                                },
                                {
                                    "city": "Roanoke",
                                    "avg_length": "107.5652173913043478"
                                },
                                {
                                    "city": "Sullana",
                                    "avg_length": "107.5600000000000000"
                                },
                                {
                                    "city": "Zaoyang",
                                    "avg_length": "107.5454545454545455"
                                },
                                {
                                    "city": "Konotop",
                                    "avg_length": "107.5238095238095238"
                                },
                                {
                                    "city": "Tuguegarao",
                                    "avg_length": "107.5000000000000000"
                                },
                                {
                                    "city": "Bandar Seri Begawan",
                                    "avg_length": "107.4857142857142857"
                                },
                                {
                                    "city": "Hunuco",
                                    "avg_length": "107.4482758620689655"
                                },
                                {
                                    "city": "Bhusawal",
                                    "avg_length": "107.4230769230769231"
                                },
                                {
                                    "city": "Batna",
                                    "avg_length": "107.3928571428571429"
                                },
                                {
                                    "city": "Allende",
                                    "avg_length": "107.3600000000000000"
                                },
                                {
                                    "city": "Sogamoso",
                                    "avg_length": "107.3333333333333333"
                                },
                                {
                                    "city": "Gaziantep",
                                    "avg_length": "107.1818181818181818"
                                },
                                {
                                    "city": "Peoria",
                                    "avg_length": "107.1666666666666667"
                                },
                                {
                                    "city": "Huejutla de Reyes",
                                    "avg_length": "107.0000000000000000"
                                },
                                {
                                    "city": "Szkesfehrvr",
                                    "avg_length": "106.8965517241379310"
                                },
                                {
                                    "city": "Tandil",
                                    "avg_length": "106.8125000000000000"
                                },
                                {
                                    "city": "Atlixco",
                                    "avg_length": "106.7878787878787879"
                                },
                                {
                                    "city": "Nanyang",
                                    "avg_length": "106.7391304347826087"
                                },
                                {
                                    "city": "Cheju",
                                    "avg_length": "106.7142857142857143"
                                },
                                {
                                    "city": "Toulouse",
                                    "avg_length": "106.6875000000000000"
                                },
                                {
                                    "city": "Yantai",
                                    "avg_length": "106.6500000000000000"
                                },
                                {
                                    "city": "Qomsheh",
                                    "avg_length": "106.6052631578947368"
                                },
                                {
                                    "city": "Greensboro",
                                    "avg_length": "106.5625000000000000"
                                },
                                {
                                    "city": "Iwatsuki",
                                    "avg_length": "106.5555555555555556"
                                },
                                {
                                    "city": "Ondo",
                                    "avg_length": "106.5200000000000000"
                                },
                                {
                                    "city": "Daxian",
                                    "avg_length": "106.5151515151515152"
                                },
                                {
                                    "city": "Grand Prairie",
                                    "avg_length": "106.4761904761904762"
                                },
                                {
                                    "city": "Izumisano",
                                    "avg_length": "106.4333333333333333"
                                },
                                {
                                    "city": "El Alto",
                                    "avg_length": "106.3333333333333333"
                                },
                                {
                                    "city": "Po",
                                    "avg_length": "106.3214285714285714"
                                },
                                {
                                    "city": "Mandaluyong",
                                    "avg_length": "106.2068965517241379"
                                },
                                {
                                    "city": "Laredo",
                                    "avg_length": "106.1785714285714286"
                                },
                                {
                                    "city": "Kingstown",
                                    "avg_length": "106.1600000000000000"
                                },
                                {
                                    "city": "Braslia",
                                    "avg_length": "106.0909090909090909"
                                },
                                {
                                    "city": "Sucre",
                                    "avg_length": "106.0869565217391304"
                                },
                                {
                                    "city": "Fontana",
                                    "avg_length": "106.0303030303030303"
                                },
                                {
                                    "city": "Sirjan",
                                    "avg_length": "105.9500000000000000"
                                },
                                {
                                    "city": "Santiago de Compostela",
                                    "avg_length": "105.9500000000000000"
                                },
                                {
                                    "city": "Kragujevac",
                                    "avg_length": "105.8787878787878788"
                                },
                                {
                                    "city": "Torren",
                                    "avg_length": "105.8148148148148148"
                                },
                                {
                                    "city": "Bayugan",
                                    "avg_length": "105.8000000000000000"
                                },
                                {
                                    "city": "Korolev",
                                    "avg_length": "105.7741935483870968"
                                },
                                {
                                    "city": "Uluberia",
                                    "avg_length": "105.7741935483870968"
                                },
                                {
                                    "city": "Ponce",
                                    "avg_length": "105.7407407407407407"
                                },
                                {
                                    "city": "Ogbomosho",
                                    "avg_length": "105.6562500000000000"
                                },
                                {
                                    "city": "Dadu",
                                    "avg_length": "105.6129032258064516"
                                },
                                {
                                    "city": "Kermanshah",
                                    "avg_length": "105.5384615384615385"
                                },
                                {
                                    "city": "Akishima",
                                    "avg_length": "105.5357142857142857"
                                },
                                {
                                    "city": "Papeete",
                                    "avg_length": "105.5333333333333333"
                                },
                                {
                                    "city": "Bydgoszcz",
                                    "avg_length": "105.4166666666666667"
                                },
                                {
                                    "city": "Jurez",
                                    "avg_length": "105.3600000000000000"
                                },
                                {
                                    "city": "Oyo",
                                    "avg_length": "105.3500000000000000"
                                },
                                {
                                    "city": "Juazeiro do Norte",
                                    "avg_length": "105.3181818181818182"
                                },
                                {
                                    "city": "Avellaneda",
                                    "avg_length": "105.3000000000000000"
                                },
                                {
                                    "city": "Shahr-e Kord",
                                    "avg_length": "105.0869565217391304"
                                },
                                {
                                    "city": "Rancagua",
                                    "avg_length": "104.9375000000000000"
                                },
                                {
                                    "city": "Paarl",
                                    "avg_length": "104.5357142857142857"
                                },
                                {
                                    "city": "Salzburg",
                                    "avg_length": "104.4642857142857143"
                                },
                                {
                                    "city": "Urawa",
                                    "avg_length": "104.4117647058823529"
                                },
                                {
                                    "city": "Kilis",
                                    "avg_length": "104.3636363636363636"
                                },
                                {
                                    "city": "Cabuyao",
                                    "avg_length": "104.2571428571428571"
                                },
                                {
                                    "city": "Guaruj",
                                    "avg_length": "104.1666666666666667"
                                },
                                {
                                    "city": "Cianjur",
                                    "avg_length": "104.0769230769230769"
                                },
                                {
                                    "city": "Simferopol",
                                    "avg_length": "103.8846153846153846"
                                },
                                {
                                    "city": "Carmen",
                                    "avg_length": "103.8636363636363636"
                                },
                                {
                                    "city": "Lilongwe",
                                    "avg_length": "103.7857142857142857"
                                },
                                {
                                    "city": "Goinia",
                                    "avg_length": "103.7857142857142857"
                                },
                                {
                                    "city": "Yuncheng",
                                    "avg_length": "103.7666666666666667"
                                },
                                {
                                    "city": "Zhoushan",
                                    "avg_length": "103.4062500000000000"
                                },
                                {
                                    "city": "Addis Abeba",
                                    "avg_length": "103.3043478260869565"
                                },
                                {
                                    "city": "Bchar",
                                    "avg_length": "103.2400000000000000"
                                },
                                {
                                    "city": "Shivapuri",
                                    "avg_length": "103.2272727272727273"
                                },
                                {
                                    "city": "Tieli",
                                    "avg_length": "103.2105263157894737"
                                },
                                {
                                    "city": "Etawah",
                                    "avg_length": "103.1538461538461538"
                                },
                                {
                                    "city": "Salamanca",
                                    "avg_length": "103.0285714285714286"
                                },
                                {
                                    "city": "Ipoh",
                                    "avg_length": "102.9615384615384615"
                                },
                                {
                                    "city": "Otsu",
                                    "avg_length": "102.7692307692307692"
                                },
                                {
                                    "city": "Charlotte Amalie",
                                    "avg_length": "102.5625000000000000"
                                },
                                {
                                    "city": "Nam Dinh",
                                    "avg_length": "102.5333333333333333"
                                },
                                {
                                    "city": "Sawhaj",
                                    "avg_length": "102.5000000000000000"
                                },
                                {
                                    "city": "Lipetsk",
                                    "avg_length": "102.1538461538461538"
                                },
                                {
                                    "city": "Southport",
                                    "avg_length": "102.0000000000000000"
                                },
                                {
                                    "city": "NDjamna",
                                    "avg_length": "101.9687500000000000"
                                },
                                {
                                    "city": "Mannheim",
                                    "avg_length": "101.9428571428571429"
                                },
                                {
                                    "city": "Pangkal Pinang",
                                    "avg_length": "101.8888888888888889"
                                },
                                {
                                    "city": "Ashqelon",
                                    "avg_length": "101.7368421052631579"
                                },
                                {
                                    "city": "Garden Grove",
                                    "avg_length": "101.6538461538461538"
                                },
                                {
                                    "city": "Zanzibar",
                                    "avg_length": "101.5925925925925926"
                                },
                                {
                                    "city": "Mwanza",
                                    "avg_length": "101.4137931034482759"
                                },
                                {
                                    "city": "Laiwu",
                                    "avg_length": "101.1851851851851852"
                                },
                                {
                                    "city": "Effon-Alaiye",
                                    "avg_length": "101.0740740740740741"
                                },
                                {
                                    "city": "Kirovo-Tepetsk",
                                    "avg_length": "101.0689655172413793"
                                },
                                {
                                    "city": "Onomichi",
                                    "avg_length": "100.8620689655172414"
                                },
                                {
                                    "city": "Tarlac",
                                    "avg_length": "100.8421052631578947"
                                },
                                {
                                    "city": "Cayenne",
                                    "avg_length": "100.3636363636363636"
                                },
                                {
                                    "city": "Lublin",
                                    "avg_length": "100.3333333333333333"
                                },
                                {
                                    "city": "Shimoga",
                                    "avg_length": "99.9047619047619048"
                                },
                                {
                                    "city": "Cuautla",
                                    "avg_length": "99.6451612903225806"
                                },
                                {
                                    "city": "Namibe",
                                    "avg_length": "99.5925925925925926"
                                },
                                {
                                    "city": "Warren",
                                    "avg_length": "99.4642857142857143"
                                },
                                {
                                    "city": "Pemalang",
                                    "avg_length": "99.4444444444444444"
                                },
                                {
                                    "city": "Katihar",
                                    "avg_length": "98.9200000000000000"
                                },
                                {
                                    "city": "Tongliao",
                                    "avg_length": "98.5625000000000000"
                                },
                                {
                                    "city": "Datong",
                                    "avg_length": "98.2258064516129032"
                                },
                                {
                                    "city": "San Juan Bautista Tuxtepec",
                                    "avg_length": "97.9615384615384615"
                                },
                                {
                                    "city": "Tabriz",
                                    "avg_length": "97.6129032258064516"
                                },
                                {
                                    "city": "al-Qadarif",
                                    "avg_length": "97.1578947368421053"
                                },
                                {
                                    "city": "Kumbakonam",
                                    "avg_length": "96.5555555555555556"
                                },
                                {
                                    "city": "Vitria de Santo Anto",
                                    "avg_length": "95.4642857142857143"
                                },
                                {
                                    "city": "Bag",
                                    "avg_length": "90.6875000000000000"
                                }
                            ]
                        },
                        "text/html": "<table><tr><th>city</th><th>avg_length</th></tr><tr><td>Berhampore (Baharampur)</td><td>139.9523809523809524</td></tr><tr><td>Compton</td><td>136.0000000000000000</td></tr><tr><td>Shubra al-Khayma</td><td>134.7647058823529412</td></tr><tr><td>Hidalgo</td><td>134.3200000000000000</td></tr><tr><td>Okayama</td><td>134.1904761904761905</td></tr><tr><td>Mandi Bahauddin</td><td>134.1764705882352941</td></tr><tr><td>Hamilton</td><td>133.6666666666666667</td></tr><tr><td>Hubli-Dharwad</td><td>133.2666666666666667</td></tr><tr><td>Baha Blanca</td><td>132.7857142857142857</td></tr><tr><td>Barcelona</td><td>132.3333333333333333</td></tr><tr><td>Bellevue</td><td>132.0500000000000000</td></tr><tr><td>Gorontalo</td><td>131.7000000000000000</td></tr><tr><td>Amersfoort</td><td>131.6956521739130435</td></tr><tr><td>A Corua (La Corua)</td><td>131.3103448275862069</td></tr><tr><td>Udine</td><td>130.6842105263157895</td></tr><tr><td>Ashgabat</td><td>129.9259259259259259</td></tr><tr><td>Isesaki</td><td>129.6956521739130435</td></tr><tr><td>Matamoros</td><td>129.6521739130434783</td></tr><tr><td>Niznekamsk</td><td>129.5294117647058824</td></tr><tr><td>Mosul</td><td>129.1851851851851852</td></tr><tr><td>Nukualofa</td><td>129.1666666666666667</td></tr><tr><td>Elista</td><td>129.0476190476190476</td></tr><tr><td>Omdurman</td><td>128.9714285714285714</td></tr><tr><td>Tychy</td><td>128.8888888888888889</td></tr><tr><td>Pereira</td><td>128.8260869565217391</td></tr><tr><td>Antofagasta</td><td>128.7037037037037037</td></tr><tr><td>Dhaka</td><td>128.4642857142857143</td></tr><tr><td>Sunnyvale</td><td>128.4193548387096774</td></tr><tr><td>Malm</td><td>128.4117647058823529</td></tr><tr><td>Usolje-Sibirskoje</td><td>128.2727272727272727</td></tr><tr><td>Funafuti</td><td>127.9230769230769231</td></tr><tr><td>Asuncin</td><td>127.6666666666666667</td></tr><tr><td>Oshawa</td><td>127.5909090909090909</td></tr><tr><td>Lausanne</td><td>127.4545454545454545</td></tr><tr><td>Luzinia</td><td>127.2608695652173913</td></tr><tr><td>Junan</td><td>127.1200000000000000</td></tr><tr><td>Sagamihara</td><td>127.0416666666666667</td></tr><tr><td>Dzerzinsk</td><td>126.8636363636363636</td></tr><tr><td>Brescia</td><td>126.7741935483870968</td></tr><tr><td>Syktyvkar</td><td>126.7000000000000000</td></tr><tr><td>Sterling Heights</td><td>126.6896551724137931</td></tr><tr><td>Quilmes</td><td>126.5000000000000000</td></tr><tr><td>Rajkot</td><td>126.4545454545454545</td></tr><tr><td>Santo Andr</td><td>126.3888888888888889</td></tr><tr><td>Kabul</td><td>126.3888888888888889</td></tr><tr><td>Aden</td><td>126.3225806451612903</td></tr><tr><td>Emmen</td><td>126.2692307692307692</td></tr><tr><td>Denizli</td><td>126.1111111111111111</td></tr><tr><td>Lancaster</td><td>125.9666666666666667</td></tr><tr><td>Guadalajara</td><td>125.9565217391304348</td></tr><tr><td>Merlo</td><td>125.8333333333333333</td></tr><tr><td>Chungho</td><td>125.8000000000000000</td></tr><tr><td>Monywa</td><td>125.6666666666666667</td></tr><tr><td>Oulu</td><td>125.6153846153846154</td></tr><tr><td>Portoviejo</td><td>125.4642857142857143</td></tr><tr><td>Dhule (Dhulia)</td><td>125.4545454545454545</td></tr><tr><td>Cuman</td><td>125.3793103448275862</td></tr><tr><td>Balaiha</td><td>125.2727272727272727</td></tr><tr><td>Tafuna</td><td>125.1500000000000000</td></tr><tr><td>Arlington</td><td>125.1200000000000000</td></tr><tr><td>Balurghat</td><td>125.0769230769230769</td></tr><tr><td>Stockport</td><td>125.0000000000000000</td></tr><tr><td>Okara</td><td>124.7142857142857143</td></tr><tr><td>Sharja</td><td>124.6666666666666667</td></tr><tr><td>Johannesburg</td><td>124.6666666666666667</td></tr><tr><td>Chisinau</td><td>124.6176470588235294</td></tr><tr><td>Haiphong</td><td>124.4800000000000000</td></tr><tr><td>Surakarta</td><td>124.3461538461538462</td></tr><tr><td>Smolensk</td><td>124.2083333333333333</td></tr><tr><td>Munger (Monghyr)</td><td>124.1562500000000000</td></tr><tr><td>Bhilwara</td><td>124.1250000000000000</td></tr><tr><td>Leshan</td><td>124.0937500000000000</td></tr><tr><td>Tianjin</td><td>124.0000000000000000</td></tr><tr><td>Pingxiang</td><td>123.9545454545454545</td></tr><tr><td>Saint Louis</td><td>123.9130434782608696</td></tr><tr><td>Daugavpils</td><td>123.9000000000000000</td></tr><tr><td>Newcastle</td><td>123.8695652173913043</td></tr><tr><td>Tanauan</td><td>123.8000000000000000</td></tr><tr><td>Probolinggo</td><td>123.7058823529411765</td></tr><tr><td>Sumqayit</td><td>123.6000000000000000</td></tr><tr><td>Kursk</td><td>123.5652173913043478</td></tr><tr><td>Jhansi</td><td>123.5517241379310345</td></tr><tr><td>Changhwa</td><td>123.5365853658536585</td></tr><tr><td>Donostia-San Sebastin</td><td>123.4838709677419355</td></tr><tr><td>Siliguri (Shiliguri)</td><td>123.4411764705882353</td></tr><tr><td>Jamalpur</td><td>123.3750000000000000</td></tr><tr><td>So Bernardo do Campo</td><td>123.2272727272727273</td></tr><tr><td>Sumy</td><td>123.2142857142857143</td></tr><tr><td>Matsue</td><td>123.2000000000000000</td></tr><tr><td>Lincoln</td><td>123.1600000000000000</td></tr><tr><td>Loja</td><td>123.1428571428571429</td></tr><tr><td>Omiya</td><td>123.1333333333333333</td></tr><tr><td>Jinzhou</td><td>123.1333333333333333</td></tr><tr><td>Tallahassee</td><td>123.1333333333333333</td></tr><tr><td>Le Mans</td><td>123.1000000000000000</td></tr><tr><td>Taizz</td><td>123.0714285714285714</td></tr><tr><td>Hodeida</td><td>123.0625000000000000</td></tr><tr><td>Kuwana</td><td>123.0400000000000000</td></tr><tr><td>Duisburg</td><td>123.0303030303030303</td></tr><tr><td>Manchester</td><td>122.9166666666666667</td></tr><tr><td>Shanwei</td><td>122.8666666666666667</td></tr><tr><td>Baku</td><td>122.7777777777777778</td></tr><tr><td>Bilbays</td><td>122.7142857142857143</td></tr><tr><td>Sousse</td><td>122.6956521739130435</td></tr><tr><td>Tarsus</td><td>122.6875000000000000</td></tr><tr><td>Liepaja</td><td>122.6333333333333333</td></tr><tr><td>Lima</td><td>122.5312500000000000</td></tr><tr><td>Juiz de Fora</td><td>122.4074074074074074</td></tr><tr><td>Sasebo</td><td>122.3750000000000000</td></tr><tr><td>Okinawa</td><td>122.3043478260869565</td></tr><tr><td>Mexicali</td><td>122.2800000000000000</td></tr><tr><td>Jastrzebie-Zdrj</td><td>122.2187500000000000</td></tr><tr><td>Ahmadnagar</td><td>122.1212121212121212</td></tr><tr><td>Citt del Vaticano</td><td>122.0588235294117647</td></tr><tr><td>Toulon</td><td>122.0416666666666667</td></tr><tr><td>Citrus Heights</td><td>121.8571428571428571</td></tr><tr><td>Purwakarta</td><td>121.7894736842105263</td></tr><tr><td>Pudukkottai</td><td>121.7037037037037037</td></tr><tr><td>Akron</td><td>121.6451612903225806</td></tr><tr><td>Ivanovo</td><td>121.5217391304347826</td></tr><tr><td>Stara Zagora</td><td>121.5000000000000000</td></tr><tr><td>Valencia</td><td>121.5000000000000000</td></tr><tr><td>Kanchrapara</td><td>121.4375000000000000</td></tr><tr><td>Zapopan</td><td>121.3529411764705882</td></tr><tr><td>Satna</td><td>121.3333333333333333</td></tr><tr><td>Cam Ranh</td><td>121.2187500000000000</td></tr><tr><td>Joliet</td><td>121.2142857142857143</td></tr><tr><td>Shimonoseki</td><td>121.1666666666666667</td></tr><tr><td>Weifang</td><td>121.1034482758620690</td></tr><tr><td>al-Hawiya</td><td>121.0000000000000000</td></tr><tr><td>Touliu</td><td>120.9629629629629630</td></tr><tr><td>Haining</td><td>120.9523809523809524</td></tr><tr><td>Kitwe</td><td>120.8787878787878788</td></tr><tr><td>Iligan</td><td>120.8148148148148148</td></tr><tr><td>Pyongyang</td><td>120.8064516129032258</td></tr><tr><td>Anpolis</td><td>120.8000000000000000</td></tr><tr><td>Najafabad</td><td>120.6285714285714286</td></tr><tr><td>Mogiljov</td><td>120.5833333333333333</td></tr><tr><td>La Paz</td><td>120.4090909090909091</td></tr><tr><td>Bern</td><td>120.3600000000000000</td></tr><tr><td>Yerevan</td><td>120.3200000000000000</td></tr><tr><td>Qalyub</td><td>120.3043478260869565</td></tr><tr><td>Kurashiki</td><td>120.2083333333333333</td></tr><tr><td>Ourense (Orense)</td><td>120.2000000000000000</td></tr><tr><td>Mit Ghamr</td><td>120.1111111111111111</td></tr><tr><td>Alessandria</td><td>120.0952380952380952</td></tr><tr><td>Jodhpur</td><td>120.0909090909090909</td></tr><tr><td>Parbhani</td><td>120.0645161290322581</td></tr><tr><td>Southend-on-Sea</td><td>120.0000000000000000</td></tr><tr><td>Nagaon</td><td>119.9047619047619048</td></tr><tr><td>Graz</td><td>119.8965517241379310</td></tr><tr><td>Novi Sad</td><td>119.8750000000000000</td></tr><tr><td>Belm</td><td>119.8750000000000000</td></tr><tr><td>Benguela</td><td>119.8400000000000000</td></tr><tr><td>Rustenburg</td><td>119.8148148148148148</td></tr><tr><td>Rae Bareli</td><td>119.7741935483870968</td></tr><tr><td>Cape Coral</td><td>119.7333333333333333</td></tr><tr><td>Maring</td><td>119.6956521739130435</td></tr><tr><td>Kamyin</td><td>119.6923076923076923</td></tr><tr><td>Udaipur</td><td>119.6923076923076923</td></tr><tr><td>Ocumare del Tuy</td><td>119.6666666666666667</td></tr><tr><td>Coacalco de Berriozbal</td><td>119.6363636363636364</td></tr><tr><td>Coatzacoalcos</td><td>119.6206896551724138</td></tr><tr><td>Bat Yam</td><td>119.5882352941176471</td></tr><tr><td>Ktahya</td><td>119.3333333333333333</td></tr><tr><td>Eskisehir</td><td>119.3200000000000000</td></tr><tr><td>Bhopal</td><td>119.3125000000000000</td></tr><tr><td>Kaliningrad</td><td>119.2380952380952381</td></tr><tr><td>Nantou</td><td>119.2368421052631579</td></tr><tr><td>Kowloon and New Kowloon</td><td>119.2000000000000000</td></tr><tr><td>Sambhal</td><td>119.1739130434782609</td></tr><tr><td>Jinchang</td><td>119.1470588235294118</td></tr><tr><td>Sivas</td><td>119.1153846153846154</td></tr><tr><td>Enshi</td><td>119.0714285714285714</td></tr><tr><td>Boksburg</td><td>119.0625000000000000</td></tr><tr><td>Vila Velha</td><td>119.0344827586206897</td></tr><tr><td>Nezahualcyotl</td><td>119.0333333333333333</td></tr><tr><td>Haldia</td><td>119.0000000000000000</td></tr><tr><td>Brest</td><td>119.0000000000000000</td></tr><tr><td>Ibirit</td><td>119.0000000000000000</td></tr><tr><td>Karnal</td><td>118.9714285714285714</td></tr><tr><td>Patiala</td><td>118.9333333333333333</td></tr><tr><td>Kamarhati</td><td>118.9230769230769231</td></tr><tr><td>Halifax</td><td>118.9200000000000000</td></tr><tr><td>Nagareyama</td><td>118.9000000000000000</td></tr><tr><td>Jaipur</td><td>118.8800000000000000</td></tr><tr><td>Tsaotun</td><td>118.8421052631578947</td></tr><tr><td>Santiago de los Caballeros</td><td>118.8333333333333333</td></tr><tr><td>Tangail</td><td>118.7714285714285714</td></tr><tr><td>Sokoto</td><td>118.7600000000000000</td></tr><tr><td>Maracabo</td><td>118.6956521739130435</td></tr><tr><td>Pjatigorsk</td><td>118.6923076923076923</td></tr><tr><td>Witten</td><td>118.6400000000000000</td></tr><tr><td>Gingoog</td><td>118.6071428571428571</td></tr><tr><td>Crdoba</td><td>118.6000000000000000</td></tr><tr><td>Botshabelo</td><td>118.5714285714285714</td></tr><tr><td>Lapu-Lapu</td><td>118.5625000000000000</td></tr><tr><td>Dongying</td><td>118.4782608695652174</td></tr><tr><td>Kisumu</td><td>118.4000000000000000</td></tr><tr><td>al-Ayn</td><td>118.4000000000000000</td></tr><tr><td>Hino</td><td>118.3333333333333333</td></tr><tr><td>Brockton</td><td>118.2692307692307692</td></tr><tr><td>El Monte</td><td>118.2380952380952381</td></tr><tr><td>Hagonoy</td><td>118.2222222222222222</td></tr><tr><td>Owo</td><td>118.2222222222222222</td></tr><tr><td>Davao</td><td>118.1290322580645161</td></tr><tr><td>Plock</td><td>118.1250000000000000</td></tr><tr><td>Syrakusa</td><td>118.0714285714285714</td></tr><tr><td>Cuernavaca</td><td>118.0689655172413793</td></tr><tr><td>San Felipe de Puerto Plata</td><td>118.0666666666666667</td></tr><tr><td>Ruse</td><td>118.0416666666666667</td></tr><tr><td>Vijayawada</td><td>118.0400000000000000</td></tr><tr><td>Ashdod</td><td>118.0000000000000000</td></tr><tr><td>Zaria</td><td>117.9600000000000000</td></tr><tr><td>Amroha</td><td>117.9583333333333333</td></tr><tr><td>Talavera</td><td>117.9523809523809524</td></tr><tr><td>Batman</td><td>117.9393939393939394</td></tr><tr><td>Xinxiang</td><td>117.9333333333333333</td></tr><tr><td>Cuauhtmoc</td><td>117.9310344827586207</td></tr><tr><td>Trshavn</td><td>117.9285714285714286</td></tr><tr><td>Santa Brbara dOeste</td><td>117.9230769230769231</td></tr><tr><td>Aparecida de Goinia</td><td>117.9130434782608696</td></tr><tr><td>Beni-Mellal</td><td>117.8636363636363636</td></tr><tr><td>Vinh</td><td>117.8636363636363636</td></tr><tr><td>Wroclaw</td><td>117.8571428571428571</td></tr><tr><td>Serpuhov</td><td>117.8500000000000000</td></tr><tr><td>guas Lindas de Gois</td><td>117.8333333333333333</td></tr><tr><td>Erlangen</td><td>117.7586206896551724</td></tr><tr><td>Emeishan</td><td>117.6538461538461538</td></tr><tr><td>Chandrapur</td><td>117.5625000000000000</td></tr><tr><td>Nyeri</td><td>117.5517241379310345</td></tr><tr><td>Ambattur</td><td>117.5384615384615385</td></tr><tr><td>Tabuk</td><td>117.4615384615384615</td></tr><tr><td>Tegal</td><td>117.4210526315789474</td></tr><tr><td>Kalisz</td><td>117.4000000000000000</td></tr><tr><td>Mardan</td><td>117.4000000000000000</td></tr><tr><td>Monclova</td><td>117.3846153846153846</td></tr><tr><td>Tanshui</td><td>117.3703703703703704</td></tr><tr><td>Naala-Porto</td><td>117.3600000000000000</td></tr><tr><td>Iwakuni</td><td>117.3448275862068966</td></tr><tr><td>Myingyan</td><td>117.2727272727272727</td></tr><tr><td>Czestochowa</td><td>117.2400000000000000</td></tr><tr><td>Salala</td><td>117.1851851851851852</td></tr><tr><td>Yingkou</td><td>117.1739130434782609</td></tr><tr><td>Kamjanets-Podilskyi</td><td>117.1724137931034483</td></tr><tr><td>Yinchuan</td><td>117.1000000000000000</td></tr><tr><td>Dayton</td><td>117.0000000000000000</td></tr><tr><td>Dundee</td><td>117.0000000000000000</td></tr><tr><td>Lungtan</td><td>116.9705882352941176</td></tr><tr><td>Huaian</td><td>116.9600000000000000</td></tr><tr><td>Jelets</td><td>116.9583333333333333</td></tr><tr><td>Uruapan</td><td>116.8787878787878788</td></tr><tr><td>Songkhla</td><td>116.8181818181818182</td></tr><tr><td>Jaffna</td><td>116.8000000000000000</td></tr><tr><td>Hohhot</td><td>116.7647058823529412</td></tr><tr><td>Nha Trang</td><td>116.7500000000000000</td></tr><tr><td>Cavite</td><td>116.7333333333333333</td></tr><tr><td>Deba Habe</td><td>116.6086956521739130</td></tr><tr><td>Tel Aviv-Jaffa</td><td>116.5666666666666667</td></tr><tr><td>Lhokseumawe</td><td>116.5294117647058824</td></tr><tr><td>Masqat</td><td>116.5217391304347826</td></tr><tr><td>Saint-Denis</td><td>116.5217391304347826</td></tr><tr><td>Ciparay</td><td>116.4347826086956522</td></tr><tr><td>Gandhinagar</td><td>116.3157894736842105</td></tr><tr><td>Vilnius</td><td>116.2916666666666667</td></tr><tr><td>Zeleznogorsk</td><td>116.2500000000000000</td></tr><tr><td>Kanazawa</td><td>116.1739130434782609</td></tr><tr><td>Garland</td><td>116.1481481481481481</td></tr><tr><td>Coquimbo</td><td>116.1428571428571429</td></tr><tr><td>Phnom Penh</td><td>116.1111111111111111</td></tr><tr><td>Tambaram</td><td>116.0689655172413793</td></tr><tr><td>Koriyama</td><td>116.0476190476190476</td></tr><tr><td>Birgunj</td><td>116.0000000000000000</td></tr><tr><td>Xiangfan</td><td>115.9117647058823529</td></tr><tr><td>Tonghae</td><td>115.8800000000000000</td></tr><tr><td>Jedda</td><td>115.8571428571428571</td></tr><tr><td>Pathankot</td><td>115.7777777777777778</td></tr><tr><td>Nuuk</td><td>115.7647058823529412</td></tr><tr><td>Livorno</td><td>115.7500000000000000</td></tr><tr><td>Sungai Petani</td><td>115.7187500000000000</td></tr><tr><td>Mukateve</td><td>115.6666666666666667</td></tr><tr><td>Higashiosaka</td><td>115.6000000000000000</td></tr><tr><td>Kamakura</td><td>115.5909090909090909</td></tr><tr><td>Zalantun</td><td>115.5652173913043478</td></tr><tr><td>Idfu</td><td>115.5652173913043478</td></tr><tr><td>Nador</td><td>115.4814814814814815</td></tr><tr><td>Almirante Brown</td><td>115.4800000000000000</td></tr><tr><td>Tama</td><td>115.4615384615384615</td></tr><tr><td>Miyakonojo</td><td>115.4137931034482759</td></tr><tr><td>Madiun</td><td>115.3571428571428571</td></tr><tr><td>Basel</td><td>115.3571428571428571</td></tr><tr><td>Valle de Santiago</td><td>115.2916666666666667</td></tr><tr><td>Tartu</td><td>115.2333333333333333</td></tr><tr><td>Caracas</td><td>115.2307692307692308</td></tr><tr><td>Ilorin</td><td>115.1935483870967742</td></tr><tr><td>s-Hertogenbosch</td><td>115.1739130434782609</td></tr><tr><td>Skikda</td><td>115.1621621621621622</td></tr><tr><td>Rio Claro</td><td>115.1481481481481481</td></tr><tr><td>Huixquilucan</td><td>115.1000000000000000</td></tr><tr><td>Aurora</td><td>115.1000000000000000</td></tr><tr><td>al-Manama</td><td>115.0800000000000000</td></tr><tr><td>Poos de Caldas</td><td>115.0625000000000000</td></tr><tr><td>Ciomas</td><td>115.0294117647058824</td></tr><tr><td>Alvorada</td><td>115.0000000000000000</td></tr><tr><td>Kolpino</td><td>114.9736842105263158</td></tr><tr><td>Ife</td><td>114.9666666666666667</td></tr><tr><td>Ozamis</td><td>114.9629629629629630</td></tr><tr><td>Allappuzha (Alleppey)</td><td>114.9583333333333333</td></tr><tr><td>San Lorenzo</td><td>114.9565217391304348</td></tr><tr><td>Valparai</td><td>114.9428571428571429</td></tr><tr><td>Hiroshima</td><td>114.9333333333333333</td></tr><tr><td>Osmaniye</td><td>114.9259259259259259</td></tr><tr><td>Laohekou</td><td>114.9230769230769231</td></tr><tr><td>Jaroslavl</td><td>114.9047619047619048</td></tr><tr><td>Vancouver</td><td>114.8666666666666667</td></tr><tr><td>Sincelejo</td><td>114.8666666666666667</td></tr><tr><td>Bamenda</td><td>114.8260869565217391</td></tr><tr><td>Bijapur</td><td>114.7692307692307692</td></tr><tr><td>Sultanbeyli</td><td>114.7391304347826087</td></tr><tr><td>Atinsk</td><td>114.6896551724137931</td></tr><tr><td>Springs</td><td>114.6400000000000000</td></tr><tr><td>Baybay</td><td>114.6333333333333333</td></tr><tr><td>Jakarta</td><td>114.6250000000000000</td></tr><tr><td>Yuzhou</td><td>114.6000000000000000</td></tr><tr><td>Purnea (Purnia)</td><td>114.5925925925925926</td></tr><tr><td>ostka</td><td>114.5833333333333333</td></tr><tr><td>Florencia</td><td>114.5600000000000000</td></tr><tr><td>Buenaventura</td><td>114.5200000000000000</td></tr><tr><td>Salinas</td><td>114.5000000000000000</td></tr><tr><td>Bhimavaram</td><td>114.4827586206896552</td></tr><tr><td>Rizhao</td><td>114.4761904761904762</td></tr><tr><td>Molodetno</td><td>114.4761904761904762</td></tr><tr><td>Halisahar</td><td>114.4687500000000000</td></tr><tr><td>Pune</td><td>114.4666666666666667</td></tr><tr><td>Tokat</td><td>114.4411764705882353</td></tr><tr><td>Qinhuangdao</td><td>114.2812500000000000</td></tr><tr><td>Athenai</td><td>114.2692307692307692</td></tr><tr><td>Baiyin</td><td>114.1153846153846154</td></tr><tr><td>Korla</td><td>114.0000000000000000</td></tr><tr><td>Pak Kret</td><td>113.9666666666666667</td></tr><tr><td>Usak</td><td>113.9428571428571429</td></tr><tr><td>Firozabad</td><td>113.8695652173913043</td></tr><tr><td>San Bernardino</td><td>113.7407407407407407</td></tr><tr><td>Southampton</td><td>113.7391304347826087</td></tr><tr><td>Hami</td><td>113.7142857142857143</td></tr><tr><td>Santa Rosa</td><td>113.6969696969696970</td></tr><tr><td>El Fuerte</td><td>113.6060606060606061</td></tr><tr><td>Shenzhen</td><td>113.5789473684210526</td></tr><tr><td>Gatineau</td><td>113.5000000000000000</td></tr><tr><td>Benin City</td><td>113.4642857142857143</td></tr><tr><td>Ede</td><td>113.4347826086956522</td></tr><tr><td>Fuzhou</td><td>113.4285714285714286</td></tr><tr><td>Xintai</td><td>113.2916666666666667</td></tr><tr><td>Palghat (Palakkad)</td><td>113.2413793103448276</td></tr><tr><td>South Hill</td><td>113.1428571428571429</td></tr><tr><td>Mahajanga</td><td>113.0454545454545455</td></tr><tr><td>Angra dos Reis</td><td>112.9666666666666667</td></tr><tr><td>Brindisi</td><td>112.8666666666666667</td></tr><tr><td>Ciudad del Este</td><td>112.8333333333333333</td></tr><tr><td>Shikarpur</td><td>112.8275862068965517</td></tr><tr><td>Tsuyama</td><td>112.7142857142857143</td></tr><tr><td>Tanza</td><td>112.7142857142857143</td></tr><tr><td>Santa F</td><td>112.6666666666666667</td></tr><tr><td>Richmond Hill</td><td>112.6315789473684211</td></tr><tr><td>San Miguel de Tucumn</td><td>112.6250000000000000</td></tr><tr><td>Fengshan</td><td>112.6176470588235294</td></tr><tr><td>Shaoguan</td><td>112.5862068965517241</td></tr><tr><td>Esfahan</td><td>112.5200000000000000</td></tr><tr><td>Baicheng</td><td>112.5172413793103448</td></tr><tr><td>Taguig</td><td>112.5000000000000000</td></tr><tr><td>Gijn</td><td>112.5000000000000000</td></tr><tr><td>Bucuresti</td><td>112.4827586206896552</td></tr><tr><td>Kimchon</td><td>112.4583333333333333</td></tr><tr><td>Balikesir</td><td>112.4324324324324324</td></tr><tr><td>Fukuyama</td><td>112.4062500000000000</td></tr><tr><td>Halle/Saale</td><td>112.3870967741935484</td></tr><tr><td>Uttarpara-Kotrung</td><td>112.3846153846153846</td></tr><tr><td>Meixian</td><td>112.3214285714285714</td></tr><tr><td>Beira</td><td>112.2702702702702703</td></tr><tr><td>Mwene-Ditu</td><td>112.1250000000000000</td></tr><tr><td>Naju</td><td>112.1212121212121212</td></tr><tr><td>Kurgan</td><td>111.8571428571428571</td></tr><tr><td>San Felipe del Progreso</td><td>111.8000000000000000</td></tr><tr><td>Sorocaba</td><td>111.7878787878787879</td></tr><tr><td>Zhezqazghan</td><td>111.7241379310344828</td></tr><tr><td>Imus</td><td>111.6551724137931034</td></tr><tr><td>Mysore</td><td>111.6296296296296296</td></tr><tr><td>Varanasi (Benares)</td><td>111.5833333333333333</td></tr><tr><td>Robamba</td><td>111.5806451612903226</td></tr><tr><td>Soshanguve</td><td>111.5714285714285714</td></tr><tr><td>Jining</td><td>111.5185185185185185</td></tr><tr><td>Fuyu</td><td>111.5000000000000000</td></tr><tr><td>Liaocheng</td><td>111.4705882352941176</td></tr><tr><td>Dos Quebradas</td><td>111.4687500000000000</td></tr><tr><td>Acua</td><td>111.4615384615384615</td></tr><tr><td>Araatuba</td><td>111.3928571428571429</td></tr><tr><td>Augusta-Richmond County</td><td>111.3703703703703704</td></tr><tr><td>Uijongbu</td><td>111.3437500000000000</td></tr><tr><td>Abu Dhabi</td><td>111.2812500000000000</td></tr><tr><td>Arak</td><td>111.2222222222222222</td></tr><tr><td>Kimberley</td><td>111.2083333333333333</td></tr><tr><td>Pontianak</td><td>111.1714285714285714</td></tr><tr><td>Saarbrcken</td><td>111.1666666666666667</td></tr><tr><td>York</td><td>110.9642857142857143</td></tr><tr><td>La Romana</td><td>110.9565217391304348</td></tr><tr><td>Hoshiarpur</td><td>110.9047619047619048</td></tr><tr><td>Vaduz</td><td>110.8571428571428571</td></tr><tr><td>Nakhon Sawan</td><td>110.8181818181818182</td></tr><tr><td>Adana</td><td>110.8076923076923077</td></tr><tr><td>Adoni</td><td>110.7727272727272727</td></tr><tr><td>Bratislava</td><td>110.7692307692307692</td></tr><tr><td>Hsichuh</td><td>110.7500000000000000</td></tr><tr><td>Callao</td><td>110.7307692307692308</td></tr><tr><td>Ljubertsy</td><td>110.7037037037037037</td></tr><tr><td>Siegen</td><td>110.6842105263157895</td></tr><tr><td>Vicente Lpez</td><td>110.6153846153846154</td></tr><tr><td>Chapra</td><td>110.6000000000000000</td></tr><tr><td>Memphis</td><td>110.5882352941176471</td></tr><tr><td>Blumenau</td><td>110.4444444444444444</td></tr><tr><td>Apeldoorn</td><td>110.4358974358974359</td></tr><tr><td>Ezhou</td><td>110.3478260869565217</td></tr><tr><td>Suihua</td><td>110.2500000000000000</td></tr><tr><td>Rockford</td><td>110.2500000000000000</td></tr><tr><td>Kaduna</td><td>110.2272727272727273</td></tr><tr><td>Pachuca de Soto</td><td>110.2222222222222222</td></tr><tr><td>Hanoi</td><td>110.1612903225806452</td></tr><tr><td>Yaound</td><td>110.1612903225806452</td></tr><tr><td>Boa Vista</td><td>110.1562500000000000</td></tr><tr><td>Linz</td><td>110.1428571428571429</td></tr><tr><td>Lengshuijiang</td><td>110.1388888888888889</td></tr><tr><td>Sanya</td><td>110.1200000000000000</td></tr><tr><td>Rampur</td><td>110.0666666666666667</td></tr><tr><td>Faaa</td><td>110.0416666666666667</td></tr><tr><td>Nabereznyje Telny</td><td>110.0344827586206897</td></tr><tr><td>Jos Azueta</td><td>110.0000000000000000</td></tr><tr><td>Celaya</td><td>109.9615384615384615</td></tr><tr><td>Ziguinchor</td><td>109.9200000000000000</td></tr><tr><td>Arecibo</td><td>109.9117647058823529</td></tr><tr><td>Banjul</td><td>109.8666666666666667</td></tr><tr><td>So Leopoldo</td><td>109.8636363636363636</td></tr><tr><td>Novoterkassk</td><td>109.8500000000000000</td></tr><tr><td>Jalib al-Shuyukh</td><td>109.8461538461538462</td></tr><tr><td>Sanaa</td><td>109.8461538461538462</td></tr><tr><td>Inegl</td><td>109.8076923076923077</td></tr><tr><td>Olomouc</td><td>109.7931034482758621</td></tr><tr><td>La Plata</td><td>109.7812500000000000</td></tr><tr><td>Iwaki</td><td>109.7692307692307692</td></tr><tr><td>Escobar</td><td>109.7307692307692308</td></tr><tr><td>Ueda</td><td>109.6875000000000000</td></tr><tr><td>Bhavnagar</td><td>109.6521739130434783</td></tr><tr><td>Dallas</td><td>109.5357142857142857</td></tr><tr><td>Klerksdorp</td><td>109.5000000000000000</td></tr><tr><td>Bergamo</td><td>109.5000000000000000</td></tr><tr><td>Kakamigahara</td><td>109.3103448275862069</td></tr><tr><td>Kansas City</td><td>109.2400000000000000</td></tr><tr><td>Tete</td><td>109.1666666666666667</td></tr><tr><td>Valle de la Pascua</td><td>109.1428571428571429</td></tr><tr><td>Tabora</td><td>109.1111111111111111</td></tr><tr><td>Ranchi</td><td>109.0952380952380952</td></tr><tr><td>Patras</td><td>109.0000000000000000</td></tr><tr><td>Botosani</td><td>108.9696969696969697</td></tr><tr><td>Xiangtan</td><td>108.9545454545454545</td></tr><tr><td>Yamuna Nagar</td><td>108.8571428571428571</td></tr><tr><td>Lubumbashi</td><td>108.8461538461538462</td></tr><tr><td>Battambang</td><td>108.7692307692307692</td></tr><tr><td>Chiayi</td><td>108.6250000000000000</td></tr><tr><td>Chatsworth</td><td>108.5882352941176471</td></tr><tr><td>Ikerre</td><td>108.4864864864864865</td></tr><tr><td>Teboksary</td><td>108.4782608695652174</td></tr><tr><td>Binzhou</td><td>108.4545454545454545</td></tr><tr><td>Tiefa</td><td>108.4482758620689655</td></tr><tr><td>Sal</td><td>108.3636363636363636</td></tr><tr><td>Bradford</td><td>108.2608695652173913</td></tr><tr><td>Yangor</td><td>108.2258064516129032</td></tr><tr><td>Maikop</td><td>108.2187500000000000</td></tr><tr><td>London</td><td>108.2083333333333333</td></tr><tr><td>Bislig</td><td>108.1904761904761905</td></tr><tr><td>Clarksville</td><td>108.0555555555555556</td></tr><tr><td>Changzhou</td><td>107.9750000000000000</td></tr><tr><td>Miraj</td><td>107.9310344827586207</td></tr><tr><td>Abha</td><td>107.9166666666666667</td></tr><tr><td>Pavlodar</td><td>107.8260869565217391</td></tr><tr><td>Moscow</td><td>107.8235294117647059</td></tr><tr><td>al-Qatif</td><td>107.7600000000000000</td></tr><tr><td>Ezeiza</td><td>107.6956521739130435</td></tr><tr><td>Kuching</td><td>107.6666666666666667</td></tr><tr><td>Gulbarga</td><td>107.5789473684210526</td></tr><tr><td>Roanoke</td><td>107.5652173913043478</td></tr><tr><td>Sullana</td><td>107.5600000000000000</td></tr><tr><td>Zaoyang</td><td>107.5454545454545455</td></tr><tr><td>Konotop</td><td>107.5238095238095238</td></tr><tr><td>Tuguegarao</td><td>107.5000000000000000</td></tr><tr><td>Bandar Seri Begawan</td><td>107.4857142857142857</td></tr><tr><td>Hunuco</td><td>107.4482758620689655</td></tr><tr><td>Bhusawal</td><td>107.4230769230769231</td></tr><tr><td>Batna</td><td>107.3928571428571429</td></tr><tr><td>Allende</td><td>107.3600000000000000</td></tr><tr><td>Sogamoso</td><td>107.3333333333333333</td></tr><tr><td>Gaziantep</td><td>107.1818181818181818</td></tr><tr><td>Peoria</td><td>107.1666666666666667</td></tr><tr><td>Huejutla de Reyes</td><td>107.0000000000000000</td></tr><tr><td>Szkesfehrvr</td><td>106.8965517241379310</td></tr><tr><td>Tandil</td><td>106.8125000000000000</td></tr><tr><td>Atlixco</td><td>106.7878787878787879</td></tr><tr><td>Nanyang</td><td>106.7391304347826087</td></tr><tr><td>Cheju</td><td>106.7142857142857143</td></tr><tr><td>Toulouse</td><td>106.6875000000000000</td></tr><tr><td>Yantai</td><td>106.6500000000000000</td></tr><tr><td>Qomsheh</td><td>106.6052631578947368</td></tr><tr><td>Greensboro</td><td>106.5625000000000000</td></tr><tr><td>Iwatsuki</td><td>106.5555555555555556</td></tr><tr><td>Ondo</td><td>106.5200000000000000</td></tr><tr><td>Daxian</td><td>106.5151515151515152</td></tr><tr><td>Grand Prairie</td><td>106.4761904761904762</td></tr><tr><td>Izumisano</td><td>106.4333333333333333</td></tr><tr><td>El Alto</td><td>106.3333333333333333</td></tr><tr><td>Po</td><td>106.3214285714285714</td></tr><tr><td>Mandaluyong</td><td>106.2068965517241379</td></tr><tr><td>Laredo</td><td>106.1785714285714286</td></tr><tr><td>Kingstown</td><td>106.1600000000000000</td></tr><tr><td>Braslia</td><td>106.0909090909090909</td></tr><tr><td>Sucre</td><td>106.0869565217391304</td></tr><tr><td>Fontana</td><td>106.0303030303030303</td></tr><tr><td>Sirjan</td><td>105.9500000000000000</td></tr><tr><td>Santiago de Compostela</td><td>105.9500000000000000</td></tr><tr><td>Kragujevac</td><td>105.8787878787878788</td></tr><tr><td>Torren</td><td>105.8148148148148148</td></tr><tr><td>Bayugan</td><td>105.8000000000000000</td></tr><tr><td>Korolev</td><td>105.7741935483870968</td></tr><tr><td>Uluberia</td><td>105.7741935483870968</td></tr><tr><td>Ponce</td><td>105.7407407407407407</td></tr><tr><td>Ogbomosho</td><td>105.6562500000000000</td></tr><tr><td>Dadu</td><td>105.6129032258064516</td></tr><tr><td>Kermanshah</td><td>105.5384615384615385</td></tr><tr><td>Akishima</td><td>105.5357142857142857</td></tr><tr><td>Papeete</td><td>105.5333333333333333</td></tr><tr><td>Bydgoszcz</td><td>105.4166666666666667</td></tr><tr><td>Jurez</td><td>105.3600000000000000</td></tr><tr><td>Oyo</td><td>105.3500000000000000</td></tr><tr><td>Juazeiro do Norte</td><td>105.3181818181818182</td></tr><tr><td>Avellaneda</td><td>105.3000000000000000</td></tr><tr><td>Shahr-e Kord</td><td>105.0869565217391304</td></tr><tr><td>Rancagua</td><td>104.9375000000000000</td></tr><tr><td>Paarl</td><td>104.5357142857142857</td></tr><tr><td>Salzburg</td><td>104.4642857142857143</td></tr><tr><td>Urawa</td><td>104.4117647058823529</td></tr><tr><td>Kilis</td><td>104.3636363636363636</td></tr><tr><td>Cabuyao</td><td>104.2571428571428571</td></tr><tr><td>Guaruj</td><td>104.1666666666666667</td></tr><tr><td>Cianjur</td><td>104.0769230769230769</td></tr><tr><td>Simferopol</td><td>103.8846153846153846</td></tr><tr><td>Carmen</td><td>103.8636363636363636</td></tr><tr><td>Lilongwe</td><td>103.7857142857142857</td></tr><tr><td>Goinia</td><td>103.7857142857142857</td></tr><tr><td>Yuncheng</td><td>103.7666666666666667</td></tr><tr><td>Zhoushan</td><td>103.4062500000000000</td></tr><tr><td>Addis Abeba</td><td>103.3043478260869565</td></tr><tr><td>Bchar</td><td>103.2400000000000000</td></tr><tr><td>Shivapuri</td><td>103.2272727272727273</td></tr><tr><td>Tieli</td><td>103.2105263157894737</td></tr><tr><td>Etawah</td><td>103.1538461538461538</td></tr><tr><td>Salamanca</td><td>103.0285714285714286</td></tr><tr><td>Ipoh</td><td>102.9615384615384615</td></tr><tr><td>Otsu</td><td>102.7692307692307692</td></tr><tr><td>Charlotte Amalie</td><td>102.5625000000000000</td></tr><tr><td>Nam Dinh</td><td>102.5333333333333333</td></tr><tr><td>Sawhaj</td><td>102.5000000000000000</td></tr><tr><td>Lipetsk</td><td>102.1538461538461538</td></tr><tr><td>Southport</td><td>102.0000000000000000</td></tr><tr><td>NDjamna</td><td>101.9687500000000000</td></tr><tr><td>Mannheim</td><td>101.9428571428571429</td></tr><tr><td>Pangkal Pinang</td><td>101.8888888888888889</td></tr><tr><td>Ashqelon</td><td>101.7368421052631579</td></tr><tr><td>Garden Grove</td><td>101.6538461538461538</td></tr><tr><td>Zanzibar</td><td>101.5925925925925926</td></tr><tr><td>Mwanza</td><td>101.4137931034482759</td></tr><tr><td>Laiwu</td><td>101.1851851851851852</td></tr><tr><td>Effon-Alaiye</td><td>101.0740740740740741</td></tr><tr><td>Kirovo-Tepetsk</td><td>101.0689655172413793</td></tr><tr><td>Onomichi</td><td>100.8620689655172414</td></tr><tr><td>Tarlac</td><td>100.8421052631578947</td></tr><tr><td>Cayenne</td><td>100.3636363636363636</td></tr><tr><td>Lublin</td><td>100.3333333333333333</td></tr><tr><td>Shimoga</td><td>99.9047619047619048</td></tr><tr><td>Cuautla</td><td>99.6451612903225806</td></tr><tr><td>Namibe</td><td>99.5925925925925926</td></tr><tr><td>Warren</td><td>99.4642857142857143</td></tr><tr><td>Pemalang</td><td>99.4444444444444444</td></tr><tr><td>Katihar</td><td>98.9200000000000000</td></tr><tr><td>Tongliao</td><td>98.5625000000000000</td></tr><tr><td>Datong</td><td>98.2258064516129032</td></tr><tr><td>San Juan Bautista Tuxtepec</td><td>97.9615384615384615</td></tr><tr><td>Tabriz</td><td>97.6129032258064516</td></tr><tr><td>al-Qadarif</td><td>97.1578947368421053</td></tr><tr><td>Kumbakonam</td><td>96.5555555555555556</td></tr><tr><td>Vitria de Santo Anto</td><td>95.4642857142857143</td></tr><tr><td>Bag</td><td>90.6875000000000000</td></tr></table>"
                    },
                    "metadata": {}
                }
            ],
            "execution_count": 10
        },
        {
            "cell_type": "markdown",
            "source": [
                "## **Q3. Find films that have been rented by at least 10 different customers.**"
            ],
            "metadata": {
                "language": "sql",
                "azdata_cell_guid": "3e697d9b-c541-485d-8378-441d81a64e0f"
            },
            "attachments": {}
        },
        {
            "cell_type": "code",
            "source": [
                "WITH films_rented_atleast_ten_different_Customers AS (\r\n",
                "    SELECT \r\n",
                "        f.title,\r\n",
                "        r.customer_id\r\n",
                "    FROM \r\n",
                "        film f\r\n",
                "        INNER JOIN inventory i ON f.film_id = i.film_id\r\n",
                "        INNER JOIN rental r ON i.inventory_id = r.inventory_id\r\n",
                "        INNER JOIN customer c ON r.customer_id = c.customer_id\r\n",
                ")\r\n",
                "SELECT title,\r\n",
                "    COUNT(DISTINCT customer_id) AS customer_count\r\n",
                "FROM \r\n",
                "    films_rented_atleast_ten_different_Customers\r\n",
                "GROUP BY title\r\n",
                "HAVING COUNT(DISTINCT customer_id) > 10\r\n",
                "ORDER BY customer_count DESC\r\n",
                ""
            ],
            "metadata": {
                "language": "sql",
                "azdata_cell_guid": "3766e513-2ddb-49cb-a6b3-96342e86658a"
            },
            "outputs": [
                {
                    "output_type": "display_data",
                    "data": {
                        "text/html": "(754 row(s) affected)"
                    },
                    "metadata": {}
                },
                {
                    "output_type": "display_data",
                    "data": {
                        "text/html": "Total execution time: 00:00:00.064"
                    },
                    "metadata": {}
                },
                {
                    "output_type": "execute_result",
                    "execution_count": 28,
                    "data": {
                        "application/vnd.dataresource+json": {
                            "schema": {
                                "fields": [
                                    {
                                        "name": "title"
                                    },
                                    {
                                        "name": "customer_count"
                                    }
                                ]
                            },
                            "data": [
                                {
                                    "title": "Bucket Brotherhood",
                                    "customer_count": "33"
                                },
                                {
                                    "title": "Scalawag Duck",
                                    "customer_count": "32"
                                },
                                {
                                    "title": "Forward Temple",
                                    "customer_count": "32"
                                },
                                {
                                    "title": "Ridgemont Submarine",
                                    "customer_count": "32"
                                },
                                {
                                    "title": "Grit Clockwork",
                                    "customer_count": "32"
                                },
                                {
                                    "title": "Rocketeer Mother",
                                    "customer_count": "31"
                                },
                                {
                                    "title": "Network Peak",
                                    "customer_count": "31"
                                },
                                {
                                    "title": "Apache Divine",
                                    "customer_count": "31"
                                },
                                {
                                    "title": "Juggler Hardly",
                                    "customer_count": "31"
                                },
                                {
                                    "title": "Goodfellas Salute",
                                    "customer_count": "31"
                                },
                                {
                                    "title": "Hobbit Alien",
                                    "customer_count": "31"
                                },
                                {
                                    "title": "Timberland Sky",
                                    "customer_count": "31"
                                },
                                {
                                    "title": "Robbers Joon",
                                    "customer_count": "31"
                                },
                                {
                                    "title": "Idols Snatchers",
                                    "customer_count": "30"
                                },
                                {
                                    "title": "Rugrats Shakespeare",
                                    "customer_count": "30"
                                },
                                {
                                    "title": "Married Go",
                                    "customer_count": "30"
                                },
                                {
                                    "title": "Pulp Beverly",
                                    "customer_count": "30"
                                },
                                {
                                    "title": "Muscle Bright",
                                    "customer_count": "30"
                                },
                                {
                                    "title": "Harry Idaho",
                                    "customer_count": "30"
                                },
                                {
                                    "title": "Dogma Family",
                                    "customer_count": "30"
                                },
                                {
                                    "title": "Graffiti Love",
                                    "customer_count": "30"
                                },
                                {
                                    "title": "Zorro Ark",
                                    "customer_count": "30"
                                },
                                {
                                    "title": "Shock Cabin",
                                    "customer_count": "30"
                                },
                                {
                                    "title": "Storm Happiness",
                                    "customer_count": "29"
                                },
                                {
                                    "title": "Rush Goodfellas",
                                    "customer_count": "29"
                                },
                                {
                                    "title": "Butterfly Chocolat",
                                    "customer_count": "29"
                                },
                                {
                                    "title": "Cat Coneheads",
                                    "customer_count": "29"
                                },
                                {
                                    "title": "Enemy Odds",
                                    "customer_count": "29"
                                },
                                {
                                    "title": "Confidential Interview",
                                    "customer_count": "29"
                                },
                                {
                                    "title": "Greatest North",
                                    "customer_count": "29"
                                },
                                {
                                    "title": "English Bulworth",
                                    "customer_count": "29"
                                },
                                {
                                    "title": "Family Sweet",
                                    "customer_count": "29"
                                },
                                {
                                    "title": "Witches Panic",
                                    "customer_count": "28"
                                },
                                {
                                    "title": "Bingo Talented",
                                    "customer_count": "28"
                                },
                                {
                                    "title": "Gilmore Boiled",
                                    "customer_count": "28"
                                },
                                {
                                    "title": "Saturday Lambs",
                                    "customer_count": "28"
                                },
                                {
                                    "title": "Massacre Usual",
                                    "customer_count": "28"
                                },
                                {
                                    "title": "Titans Jerk",
                                    "customer_count": "28"
                                },
                                {
                                    "title": "Handicap Boondock",
                                    "customer_count": "28"
                                },
                                {
                                    "title": "Talented Homicide",
                                    "customer_count": "28"
                                },
                                {
                                    "title": "Frost Head",
                                    "customer_count": "28"
                                },
                                {
                                    "title": "Boogie Amelie",
                                    "customer_count": "28"
                                },
                                {
                                    "title": "Sweethearts Suspects",
                                    "customer_count": "28"
                                },
                                {
                                    "title": "Closer Bang",
                                    "customer_count": "28"
                                },
                                {
                                    "title": "Giant Troopers",
                                    "customer_count": "28"
                                },
                                {
                                    "title": "Wife Turn",
                                    "customer_count": "28"
                                },
                                {
                                    "title": "Story Side",
                                    "customer_count": "28"
                                },
                                {
                                    "title": "Gleaming Jawbreaker",
                                    "customer_count": "28"
                                },
                                {
                                    "title": "Fatal Haunted",
                                    "customer_count": "28"
                                },
                                {
                                    "title": "Telegraph Voyage",
                                    "customer_count": "27"
                                },
                                {
                                    "title": "Invasion Cyclone",
                                    "customer_count": "27"
                                },
                                {
                                    "title": "Torque Bound",
                                    "customer_count": "27"
                                },
                                {
                                    "title": "Chance Resurrection",
                                    "customer_count": "27"
                                },
                                {
                                    "title": "Voyage Legally",
                                    "customer_count": "27"
                                },
                                {
                                    "title": "Swarm Gold",
                                    "customer_count": "27"
                                },
                                {
                                    "title": "Suspects Quills",
                                    "customer_count": "27"
                                },
                                {
                                    "title": "Wardrobe Phantom",
                                    "customer_count": "27"
                                },
                                {
                                    "title": "Expendable Stallion",
                                    "customer_count": "27"
                                },
                                {
                                    "title": "Spy Mile",
                                    "customer_count": "27"
                                },
                                {
                                    "title": "Forrester Comancheros",
                                    "customer_count": "27"
                                },
                                {
                                    "title": "Deer Virginian",
                                    "customer_count": "27"
                                },
                                {
                                    "title": "Virginian Pluto",
                                    "customer_count": "27"
                                },
                                {
                                    "title": "Roses Treasure",
                                    "customer_count": "27"
                                },
                                {
                                    "title": "Range Moonwalker",
                                    "customer_count": "27"
                                },
                                {
                                    "title": "Gangs Pride",
                                    "customer_count": "27"
                                },
                                {
                                    "title": "Videotape Arsenic",
                                    "customer_count": "27"
                                },
                                {
                                    "title": "Moon Bunch",
                                    "customer_count": "27"
                                },
                                {
                                    "title": "Dorado Notting",
                                    "customer_count": "27"
                                },
                                {
                                    "title": "Loathing Legally",
                                    "customer_count": "27"
                                },
                                {
                                    "title": "Operation Operation",
                                    "customer_count": "26"
                                },
                                {
                                    "title": "None Spiking",
                                    "customer_count": "26"
                                },
                                {
                                    "title": "Coma Head",
                                    "customer_count": "26"
                                },
                                {
                                    "title": "Goldmine Tycoon",
                                    "customer_count": "26"
                                },
                                {
                                    "title": "Blackout Private",
                                    "customer_count": "26"
                                },
                                {
                                    "title": "Princess Giant",
                                    "customer_count": "26"
                                },
                                {
                                    "title": "Velvet Terminator",
                                    "customer_count": "26"
                                },
                                {
                                    "title": "Lies Treatment",
                                    "customer_count": "26"
                                },
                                {
                                    "title": "Curtain Videotape",
                                    "customer_count": "26"
                                },
                                {
                                    "title": "Metropolis Coma",
                                    "customer_count": "26"
                                },
                                {
                                    "title": "Dancing Fever",
                                    "customer_count": "26"
                                },
                                {
                                    "title": "Brotherhood Blanket",
                                    "customer_count": "26"
                                },
                                {
                                    "title": "Disturbing Scarface",
                                    "customer_count": "26"
                                },
                                {
                                    "title": "Hanky October",
                                    "customer_count": "26"
                                },
                                {
                                    "title": "Horror Reign",
                                    "customer_count": "26"
                                },
                                {
                                    "title": "Half Outfield",
                                    "customer_count": "26"
                                },
                                {
                                    "title": "Trip Newton",
                                    "customer_count": "26"
                                },
                                {
                                    "title": "Island Exorcist",
                                    "customer_count": "26"
                                },
                                {
                                    "title": "Tracy Cider",
                                    "customer_count": "26"
                                },
                                {
                                    "title": "Lose Inch",
                                    "customer_count": "26"
                                },
                                {
                                    "title": "Pelican Comforts",
                                    "customer_count": "26"
                                },
                                {
                                    "title": "Pity Bound",
                                    "customer_count": "26"
                                },
                                {
                                    "title": "Camelot Vacation",
                                    "customer_count": "26"
                                },
                                {
                                    "title": "Pocus Pulp",
                                    "customer_count": "26"
                                },
                                {
                                    "title": "Primary Glass",
                                    "customer_count": "26"
                                },
                                {
                                    "title": "Durham Panky",
                                    "customer_count": "25"
                                },
                                {
                                    "title": "Detective Vision",
                                    "customer_count": "25"
                                },
                                {
                                    "title": "Working Microcosmos",
                                    "customer_count": "25"
                                },
                                {
                                    "title": "Trading Pinocchio",
                                    "customer_count": "25"
                                },
                                {
                                    "title": "Tomorrow Hustler",
                                    "customer_count": "25"
                                },
                                {
                                    "title": "Tights Dawn",
                                    "customer_count": "25"
                                },
                                {
                                    "title": "Stagecoach Armageddon",
                                    "customer_count": "25"
                                },
                                {
                                    "title": "Barbarella Streetcar",
                                    "customer_count": "25"
                                },
                                {
                                    "title": "Show Lord",
                                    "customer_count": "25"
                                },
                                {
                                    "title": "Shepherd Midsummer",
                                    "customer_count": "25"
                                },
                                {
                                    "title": "Seabiscuit Punk",
                                    "customer_count": "25"
                                },
                                {
                                    "title": "Samurai Lion",
                                    "customer_count": "25"
                                },
                                {
                                    "title": "Nightmare Chill",
                                    "customer_count": "25"
                                },
                                {
                                    "title": "Movie Shakespeare",
                                    "customer_count": "25"
                                },
                                {
                                    "title": "Malkovich Pet",
                                    "customer_count": "25"
                                },
                                {
                                    "title": "Madness Attacks",
                                    "customer_count": "25"
                                },
                                {
                                    "title": "Westward Seabiscuit",
                                    "customer_count": "25"
                                },
                                {
                                    "title": "Innocent Usual",
                                    "customer_count": "25"
                                },
                                {
                                    "title": "Hyde Doctor",
                                    "customer_count": "25"
                                },
                                {
                                    "title": "Hills Neighbors",
                                    "customer_count": "25"
                                },
                                {
                                    "title": "Clash Freddy",
                                    "customer_count": "25"
                                },
                                {
                                    "title": "Clueless Bucket",
                                    "customer_count": "25"
                                },
                                {
                                    "title": "Fish Opus",
                                    "customer_count": "25"
                                },
                                {
                                    "title": "Feud Frogmen",
                                    "customer_count": "25"
                                },
                                {
                                    "title": "Contact Anonymous",
                                    "customer_count": "25"
                                },
                                {
                                    "title": "Escape Metropolis",
                                    "customer_count": "25"
                                },
                                {
                                    "title": "Dynamite Tarzan",
                                    "customer_count": "25"
                                },
                                {
                                    "title": "Downhill Enough",
                                    "customer_count": "25"
                                },
                                {
                                    "title": "Jumping Wrath",
                                    "customer_count": "24"
                                },
                                {
                                    "title": "Maiden Home",
                                    "customer_count": "24"
                                },
                                {
                                    "title": "Goldfinger Sensibility",
                                    "customer_count": "24"
                                },
                                {
                                    "title": "Sun Confessions",
                                    "customer_count": "24"
                                },
                                {
                                    "title": "Metal Armageddon",
                                    "customer_count": "24"
                                },
                                {
                                    "title": "Mockingbird Hollywood",
                                    "customer_count": "24"
                                },
                                {
                                    "title": "Color Philadelphia",
                                    "customer_count": "24"
                                },
                                {
                                    "title": "Bound Cheaper",
                                    "customer_count": "24"
                                },
                                {
                                    "title": "Orange Grapes",
                                    "customer_count": "24"
                                },
                                {
                                    "title": "Oscar Gold",
                                    "customer_count": "24"
                                },
                                {
                                    "title": "Coneheads Smoochy",
                                    "customer_count": "24"
                                },
                                {
                                    "title": "Pacific Amistad",
                                    "customer_count": "24"
                                },
                                {
                                    "title": "Seattle Expecations",
                                    "customer_count": "24"
                                },
                                {
                                    "title": "Shootist Superfly",
                                    "customer_count": "24"
                                },
                                {
                                    "title": "Sleeping Suspects",
                                    "customer_count": "24"
                                },
                                {
                                    "title": "Arachnophobia Rollercoaster",
                                    "customer_count": "24"
                                },
                                {
                                    "title": "Alaska Phantom",
                                    "customer_count": "24"
                                },
                                {
                                    "title": "Double Wrath",
                                    "customer_count": "24"
                                },
                                {
                                    "title": "Fellowship Autumn",
                                    "customer_count": "24"
                                },
                                {
                                    "title": "Slums Duck",
                                    "customer_count": "24"
                                },
                                {
                                    "title": "Fargo Gandhi",
                                    "customer_count": "24"
                                },
                                {
                                    "title": "Fantasy Troopers",
                                    "customer_count": "24"
                                },
                                {
                                    "title": "Attraction Newton",
                                    "customer_count": "24"
                                },
                                {
                                    "title": "Atlantis Cause",
                                    "customer_count": "24"
                                },
                                {
                                    "title": "Strangelove Desire",
                                    "customer_count": "24"
                                },
                                {
                                    "title": "Horn Working",
                                    "customer_count": "24"
                                },
                                {
                                    "title": "Hurricane Affair",
                                    "customer_count": "24"
                                },
                                {
                                    "title": "Gun Bonnie",
                                    "customer_count": "24"
                                },
                                {
                                    "title": "Ice Crossing",
                                    "customer_count": "24"
                                },
                                {
                                    "title": "Celebrity Horn",
                                    "customer_count": "24"
                                },
                                {
                                    "title": "Jason Trap",
                                    "customer_count": "24"
                                },
                                {
                                    "title": "Effect Gladiator",
                                    "customer_count": "24"
                                },
                                {
                                    "title": "Caper Motions",
                                    "customer_count": "24"
                                },
                                {
                                    "title": "Academy Dinosaur",
                                    "customer_count": "23"
                                },
                                {
                                    "title": "Aladdin Calendar",
                                    "customer_count": "23"
                                },
                                {
                                    "title": "Alamo Videotape",
                                    "customer_count": "23"
                                },
                                {
                                    "title": "Balloon Homeward",
                                    "customer_count": "23"
                                },
                                {
                                    "title": "Candles Grapes",
                                    "customer_count": "23"
                                },
                                {
                                    "title": "Carrie Bunch",
                                    "customer_count": "23"
                                },
                                {
                                    "title": "Crooked Frogmen",
                                    "customer_count": "23"
                                },
                                {
                                    "title": "Cupboard Sinners",
                                    "customer_count": "23"
                                },
                                {
                                    "title": "Drifter Commandments",
                                    "customer_count": "23"
                                },
                                {
                                    "title": "Earth Vision",
                                    "customer_count": "23"
                                },
                                {
                                    "title": "Flamingos Connecticut",
                                    "customer_count": "23"
                                },
                                {
                                    "title": "Fool Mockingbird",
                                    "customer_count": "23"
                                },
                                {
                                    "title": "Freddy Storm",
                                    "customer_count": "23"
                                },
                                {
                                    "title": "Heavyweights Beast",
                                    "customer_count": "23"
                                },
                                {
                                    "title": "Karate Moon",
                                    "customer_count": "23"
                                },
                                {
                                    "title": "Knock Warlock",
                                    "customer_count": "23"
                                },
                                {
                                    "title": "Lola Agent",
                                    "customer_count": "23"
                                },
                                {
                                    "title": "Mallrats United",
                                    "customer_count": "23"
                                },
                                {
                                    "title": "Murder Antitrust",
                                    "customer_count": "23"
                                },
                                {
                                    "title": "Name Detective",
                                    "customer_count": "23"
                                },
                                {
                                    "title": "Oz Liaisons",
                                    "customer_count": "23"
                                },
                                {
                                    "title": "Roman Punk",
                                    "customer_count": "23"
                                },
                                {
                                    "title": "Salute Apollo",
                                    "customer_count": "23"
                                },
                                {
                                    "title": "Scorpion Apollo",
                                    "customer_count": "23"
                                },
                                {
                                    "title": "Snowman Rollercoaster",
                                    "customer_count": "23"
                                },
                                {
                                    "title": "Streetcar Intentions",
                                    "customer_count": "23"
                                },
                                {
                                    "title": "Strictly Scarface",
                                    "customer_count": "23"
                                },
                                {
                                    "title": "Sunrise League",
                                    "customer_count": "23"
                                },
                                {
                                    "title": "Telemark Heartbreakers",
                                    "customer_count": "23"
                                },
                                {
                                    "title": "Trouble Date",
                                    "customer_count": "23"
                                },
                                {
                                    "title": "Wind Phantom",
                                    "customer_count": "23"
                                },
                                {
                                    "title": "Women Dorado",
                                    "customer_count": "23"
                                },
                                {
                                    "title": "Chicken Hellfighters",
                                    "customer_count": "22"
                                },
                                {
                                    "title": "Fight Jawbreaker",
                                    "customer_count": "22"
                                },
                                {
                                    "title": "Blade Polish",
                                    "customer_count": "22"
                                },
                                {
                                    "title": "Yentl Idaho",
                                    "customer_count": "22"
                                },
                                {
                                    "title": "Shakespeare Saddle",
                                    "customer_count": "22"
                                },
                                {
                                    "title": "Grapes Fury",
                                    "customer_count": "22"
                                },
                                {
                                    "title": "Banger Pinocchio",
                                    "customer_count": "22"
                                },
                                {
                                    "title": "Titanic Boondock",
                                    "customer_count": "22"
                                },
                                {
                                    "title": "Annie Identity",
                                    "customer_count": "22"
                                },
                                {
                                    "title": "Packer Madigan",
                                    "customer_count": "22"
                                },
                                {
                                    "title": "Steel Santa",
                                    "customer_count": "22"
                                },
                                {
                                    "title": "Dream Pickup",
                                    "customer_count": "22"
                                },
                                {
                                    "title": "Affair Prejudice",
                                    "customer_count": "22"
                                },
                                {
                                    "title": "Queen Luke",
                                    "customer_count": "22"
                                },
                                {
                                    "title": "Borrowers Bedazzled",
                                    "customer_count": "22"
                                },
                                {
                                    "title": "Falcon Volume",
                                    "customer_count": "22"
                                },
                                {
                                    "title": "Hustler Party",
                                    "customer_count": "22"
                                },
                                {
                                    "title": "Alien Center",
                                    "customer_count": "22"
                                },
                                {
                                    "title": "Bear Graceland",
                                    "customer_count": "22"
                                },
                                {
                                    "title": "Wedding Apollo",
                                    "customer_count": "22"
                                },
                                {
                                    "title": "Wash Heavenly",
                                    "customer_count": "22"
                                },
                                {
                                    "title": "Congeniality Quest",
                                    "customer_count": "22"
                                },
                                {
                                    "title": "South Wait",
                                    "customer_count": "22"
                                },
                                {
                                    "title": "High Encino",
                                    "customer_count": "22"
                                },
                                {
                                    "title": "Others Soup",
                                    "customer_count": "22"
                                },
                                {
                                    "title": "Easy Gladiator",
                                    "customer_count": "22"
                                },
                                {
                                    "title": "Maltese Hope",
                                    "customer_count": "22"
                                },
                                {
                                    "title": "House Dynamite",
                                    "customer_count": "22"
                                },
                                {
                                    "title": "Alter Victory",
                                    "customer_count": "22"
                                },
                                {
                                    "title": "Tourist Pelican",
                                    "customer_count": "22"
                                },
                                {
                                    "title": "Head Stranger",
                                    "customer_count": "22"
                                },
                                {
                                    "title": "Truman Crazy",
                                    "customer_count": "22"
                                },
                                {
                                    "title": "Patton Interview",
                                    "customer_count": "22"
                                },
                                {
                                    "title": "Sea Virgin",
                                    "customer_count": "22"
                                },
                                {
                                    "title": "Haunting Pianist",
                                    "customer_count": "22"
                                },
                                {
                                    "title": "Kwai Homeward",
                                    "customer_count": "22"
                                },
                                {
                                    "title": "Center Dinosaur",
                                    "customer_count": "22"
                                },
                                {
                                    "title": "Volcano Texas",
                                    "customer_count": "22"
                                },
                                {
                                    "title": "Beauty Grease",
                                    "customer_count": "22"
                                },
                                {
                                    "title": "Philadelphia Wife",
                                    "customer_count": "22"
                                },
                                {
                                    "title": "Gunfight Moon",
                                    "customer_count": "22"
                                },
                                {
                                    "title": "Homicide Peach",
                                    "customer_count": "22"
                                },
                                {
                                    "title": "Lebowski Soldiers",
                                    "customer_count": "21"
                                },
                                {
                                    "title": "Wonderland Christmas",
                                    "customer_count": "21"
                                },
                                {
                                    "title": "Chariots Conspiracy",
                                    "customer_count": "21"
                                },
                                {
                                    "title": "Beverly Outlaw",
                                    "customer_count": "21"
                                },
                                {
                                    "title": "Sabrina Midnight",
                                    "customer_count": "21"
                                },
                                {
                                    "title": "Cause Date",
                                    "customer_count": "21"
                                },
                                {
                                    "title": "Egg Igby",
                                    "customer_count": "21"
                                },
                                {
                                    "title": "Berets Agent",
                                    "customer_count": "21"
                                },
                                {
                                    "title": "Chainsaw Uptown",
                                    "customer_count": "21"
                                },
                                {
                                    "title": "Amistad Midsummer",
                                    "customer_count": "21"
                                },
                                {
                                    "title": "Crossroads Casualties",
                                    "customer_count": "21"
                                },
                                {
                                    "title": "Vacation Boondock",
                                    "customer_count": "21"
                                },
                                {
                                    "title": "Pirates Roxanne",
                                    "customer_count": "21"
                                },
                                {
                                    "title": "Dracula Crystal",
                                    "customer_count": "21"
                                },
                                {
                                    "title": "Undefeated Dalmations",
                                    "customer_count": "21"
                                },
                                {
                                    "title": "Sleepy Japanese",
                                    "customer_count": "21"
                                },
                                {
                                    "title": "Blues Instinct",
                                    "customer_count": "21"
                                },
                                {
                                    "title": "Pianist Outfield",
                                    "customer_count": "21"
                                },
                                {
                                    "title": "Midsummer Groundhog",
                                    "customer_count": "21"
                                },
                                {
                                    "title": "Fidelity Devil",
                                    "customer_count": "21"
                                },
                                {
                                    "title": "Anaconda Confessions",
                                    "customer_count": "21"
                                },
                                {
                                    "title": "Divide Monster",
                                    "customer_count": "21"
                                },
                                {
                                    "title": "Angels Life",
                                    "customer_count": "21"
                                },
                                {
                                    "title": "Star Operation",
                                    "customer_count": "21"
                                },
                                {
                                    "title": "Brooklyn Desert",
                                    "customer_count": "21"
                                },
                                {
                                    "title": "Snatch Slipper",
                                    "customer_count": "21"
                                },
                                {
                                    "title": "Agent Truman",
                                    "customer_count": "21"
                                },
                                {
                                    "title": "Splendor Patton",
                                    "customer_count": "21"
                                },
                                {
                                    "title": "Sinners Atlantis",
                                    "customer_count": "21"
                                },
                                {
                                    "title": "Armageddon Lost",
                                    "customer_count": "21"
                                },
                                {
                                    "title": "Amadeus Holy",
                                    "customer_count": "21"
                                },
                                {
                                    "title": "Resurrection Silverado",
                                    "customer_count": "21"
                                },
                                {
                                    "title": "Basic Easy",
                                    "customer_count": "21"
                                },
                                {
                                    "title": "Calendar Gunfight",
                                    "customer_count": "21"
                                },
                                {
                                    "title": "Gentlemen Stage",
                                    "customer_count": "21"
                                },
                                {
                                    "title": "Ghost Groundhog",
                                    "customer_count": "21"
                                },
                                {
                                    "title": "Unbreakable Karate",
                                    "customer_count": "21"
                                },
                                {
                                    "title": "Coast Rainbow",
                                    "customer_count": "21"
                                },
                                {
                                    "title": "Open African",
                                    "customer_count": "21"
                                },
                                {
                                    "title": "Grease Youth",
                                    "customer_count": "21"
                                },
                                {
                                    "title": "Deceiver Betrayed",
                                    "customer_count": "21"
                                },
                                {
                                    "title": "Eagles Panky",
                                    "customer_count": "21"
                                },
                                {
                                    "title": "Driving Polish",
                                    "customer_count": "21"
                                },
                                {
                                    "title": "Liaisons Sweet",
                                    "customer_count": "21"
                                },
                                {
                                    "title": "Arizona Bang",
                                    "customer_count": "21"
                                },
                                {
                                    "title": "Christmas Moonshine",
                                    "customer_count": "21"
                                },
                                {
                                    "title": "Wolves Desire",
                                    "customer_count": "21"
                                },
                                {
                                    "title": "Secret Groundhog",
                                    "customer_count": "21"
                                },
                                {
                                    "title": "Excitement Eve",
                                    "customer_count": "21"
                                },
                                {
                                    "title": "Chill Luck",
                                    "customer_count": "21"
                                },
                                {
                                    "title": "Kiss Glory",
                                    "customer_count": "21"
                                },
                                {
                                    "title": "Highball Potter",
                                    "customer_count": "21"
                                },
                                {
                                    "title": "Sting Personal",
                                    "customer_count": "21"
                                },
                                {
                                    "title": "Outbreak Divine",
                                    "customer_count": "21"
                                },
                                {
                                    "title": "Prejudice Oleander",
                                    "customer_count": "20"
                                },
                                {
                                    "title": "Secrets Paradise",
                                    "customer_count": "20"
                                },
                                {
                                    "title": "Hellfighters Sierra",
                                    "customer_count": "20"
                                },
                                {
                                    "title": "Moonshine Cabin",
                                    "customer_count": "20"
                                },
                                {
                                    "title": "Outfield Massacre",
                                    "customer_count": "20"
                                },
                                {
                                    "title": "Interview Liaisons",
                                    "customer_count": "20"
                                },
                                {
                                    "title": "Straight Hours",
                                    "customer_count": "20"
                                },
                                {
                                    "title": "Badman Dawn",
                                    "customer_count": "20"
                                },
                                {
                                    "title": "Million Ace",
                                    "customer_count": "20"
                                },
                                {
                                    "title": "Peak Forever",
                                    "customer_count": "20"
                                },
                                {
                                    "title": "Hunchback Impossible",
                                    "customer_count": "20"
                                },
                                {
                                    "title": "Kick Savannah",
                                    "customer_count": "20"
                                },
                                {
                                    "title": "Mourning Purple",
                                    "customer_count": "20"
                                },
                                {
                                    "title": "Chocolat Harry",
                                    "customer_count": "20"
                                },
                                {
                                    "title": "Doom Dancing",
                                    "customer_count": "20"
                                },
                                {
                                    "title": "Room Roman",
                                    "customer_count": "20"
                                },
                                {
                                    "title": "Redemption Comforts",
                                    "customer_count": "20"
                                },
                                {
                                    "title": "American Circus",
                                    "customer_count": "20"
                                },
                                {
                                    "title": "Kissing Dolls",
                                    "customer_count": "20"
                                },
                                {
                                    "title": "Harper Dying",
                                    "customer_count": "20"
                                },
                                {
                                    "title": "Garden Island",
                                    "customer_count": "20"
                                },
                                {
                                    "title": "Chasing Fight",
                                    "customer_count": "20"
                                },
                                {
                                    "title": "Wrong Behavior",
                                    "customer_count": "20"
                                },
                                {
                                    "title": "Pinocchio Simon",
                                    "customer_count": "20"
                                },
                                {
                                    "title": "Money Harold",
                                    "customer_count": "20"
                                },
                                {
                                    "title": "Reunion Witches",
                                    "customer_count": "20"
                                },
                                {
                                    "title": "Heartbreakers Bright",
                                    "customer_count": "20"
                                },
                                {
                                    "title": "Dalmations Sweden",
                                    "customer_count": "20"
                                },
                                {
                                    "title": "Spice Sorority",
                                    "customer_count": "20"
                                },
                                {
                                    "title": "Go Purple",
                                    "customer_count": "20"
                                },
                                {
                                    "title": "Whisperer Giant",
                                    "customer_count": "20"
                                },
                                {
                                    "title": "Stepmom Dream",
                                    "customer_count": "20"
                                },
                                {
                                    "title": "River Outlaw",
                                    "customer_count": "20"
                                },
                                {
                                    "title": "Bringing Hysterical",
                                    "customer_count": "20"
                                },
                                {
                                    "title": "Flatliners Killer",
                                    "customer_count": "20"
                                },
                                {
                                    "title": "Suit Walls",
                                    "customer_count": "20"
                                },
                                {
                                    "title": "Fireball Philadelphia",
                                    "customer_count": "20"
                                },
                                {
                                    "title": "Northwest Polish",
                                    "customer_count": "20"
                                },
                                {
                                    "title": "Quest Mussolini",
                                    "customer_count": "20"
                                },
                                {
                                    "title": "Jedi Beneath",
                                    "customer_count": "19"
                                },
                                {
                                    "title": "Novocaine Flight",
                                    "customer_count": "19"
                                },
                                {
                                    "title": "Sleuth Orient",
                                    "customer_count": "19"
                                },
                                {
                                    "title": "Sleepless Monsoon",
                                    "customer_count": "19"
                                },
                                {
                                    "title": "Thief Pelican",
                                    "customer_count": "19"
                                },
                                {
                                    "title": "Flying Hook",
                                    "customer_count": "19"
                                },
                                {
                                    "title": "Fury Murder",
                                    "customer_count": "19"
                                },
                                {
                                    "title": "Gables Metropolis",
                                    "customer_count": "19"
                                },
                                {
                                    "title": "Dinosaur Secretary",
                                    "customer_count": "19"
                                },
                                {
                                    "title": "Club Graffiti",
                                    "customer_count": "19"
                                },
                                {
                                    "title": "Gorgeous Bingo",
                                    "customer_count": "19"
                                },
                                {
                                    "title": "Earring Instinct",
                                    "customer_count": "19"
                                },
                                {
                                    "title": "Cider Desire",
                                    "customer_count": "19"
                                },
                                {
                                    "title": "Tramp Others",
                                    "customer_count": "19"
                                },
                                {
                                    "title": "Hanging Deep",
                                    "customer_count": "19"
                                },
                                {
                                    "title": "Trojan Tomorrow",
                                    "customer_count": "19"
                                },
                                {
                                    "title": "Details Packer",
                                    "customer_count": "19"
                                },
                                {
                                    "title": "Honey Ties",
                                    "customer_count": "19"
                                },
                                {
                                    "title": "Cheaper Clyde",
                                    "customer_count": "19"
                                },
                                {
                                    "title": "Hours Rage",
                                    "customer_count": "19"
                                },
                                {
                                    "title": "Something Duck",
                                    "customer_count": "19"
                                },
                                {
                                    "title": "Igby Maker",
                                    "customer_count": "19"
                                },
                                {
                                    "title": "Independence Hotel",
                                    "customer_count": "19"
                                },
                                {
                                    "title": "Insider Arizona",
                                    "customer_count": "19"
                                },
                                {
                                    "title": "Intrigue Worst",
                                    "customer_count": "19"
                                },
                                {
                                    "title": "Desert Poseidon",
                                    "customer_count": "19"
                                },
                                {
                                    "title": "Jerk Paycheck",
                                    "customer_count": "19"
                                },
                                {
                                    "title": "Canyon Stock",
                                    "customer_count": "19"
                                },
                                {
                                    "title": "Empire Malkovich",
                                    "customer_count": "19"
                                },
                                {
                                    "title": "Road Roxanne",
                                    "customer_count": "19"
                                },
                                {
                                    "title": "Bill Others",
                                    "customer_count": "19"
                                },
                                {
                                    "title": "Love Suicides",
                                    "customer_count": "19"
                                },
                                {
                                    "title": "Encino Elf",
                                    "customer_count": "19"
                                },
                                {
                                    "title": "Encounters Curtain",
                                    "customer_count": "19"
                                },
                                {
                                    "title": "Requiem Tycoon",
                                    "customer_count": "19"
                                },
                                {
                                    "title": "Reign Gentlemen",
                                    "customer_count": "19"
                                },
                                {
                                    "title": "Mars Roman",
                                    "customer_count": "19"
                                },
                                {
                                    "title": "Masked Bubble",
                                    "customer_count": "19"
                                },
                                {
                                    "title": "Wait Cider",
                                    "customer_count": "19"
                                },
                                {
                                    "title": "Doors President",
                                    "customer_count": "19"
                                },
                                {
                                    "title": "Minds Truman",
                                    "customer_count": "19"
                                },
                                {
                                    "title": "Mine Titans",
                                    "customer_count": "19"
                                },
                                {
                                    "title": "Voice Peach",
                                    "customer_count": "19"
                                },
                                {
                                    "title": "Rage Games",
                                    "customer_count": "19"
                                },
                                {
                                    "title": "Bride Intrigue",
                                    "customer_count": "19"
                                },
                                {
                                    "title": "Backlash Undefeated",
                                    "customer_count": "19"
                                },
                                {
                                    "title": "Sundance Invasion",
                                    "customer_count": "19"
                                },
                                {
                                    "title": "Music Boondock",
                                    "customer_count": "19"
                                },
                                {
                                    "title": "National Story",
                                    "customer_count": "19"
                                },
                                {
                                    "title": "Racer Egg",
                                    "customer_count": "18"
                                },
                                {
                                    "title": "Scarface Bang",
                                    "customer_count": "18"
                                },
                                {
                                    "title": "Heaven Freedom",
                                    "customer_count": "18"
                                },
                                {
                                    "title": "Wonka Sea",
                                    "customer_count": "18"
                                },
                                {
                                    "title": "Pond Seattle",
                                    "customer_count": "18"
                                },
                                {
                                    "title": "Groundhog Uncut",
                                    "customer_count": "18"
                                },
                                {
                                    "title": "Groove Fiction",
                                    "customer_count": "18"
                                },
                                {
                                    "title": "Lion Uncut",
                                    "customer_count": "18"
                                },
                                {
                                    "title": "Campus Remember",
                                    "customer_count": "18"
                                },
                                {
                                    "title": "Shawshank Bubble",
                                    "customer_count": "18"
                                },
                                {
                                    "title": "Cleopatra Devil",
                                    "customer_count": "18"
                                },
                                {
                                    "title": "Eyes Driving",
                                    "customer_count": "18"
                                },
                                {
                                    "title": "Clones Pinocchio",
                                    "customer_count": "18"
                                },
                                {
                                    "title": "Weekend Personal",
                                    "customer_count": "18"
                                },
                                {
                                    "title": "Neighbors Charade",
                                    "customer_count": "18"
                                },
                                {
                                    "title": "Expecations Natural",
                                    "customer_count": "18"
                                },
                                {
                                    "title": "Barefoot Manchurian",
                                    "customer_count": "18"
                                },
                                {
                                    "title": "Sweden Shining",
                                    "customer_count": "18"
                                },
                                {
                                    "title": "Remember Diary",
                                    "customer_count": "18"
                                },
                                {
                                    "title": "Galaxy Sweethearts",
                                    "customer_count": "18"
                                },
                                {
                                    "title": "Birds Perdition",
                                    "customer_count": "18"
                                },
                                {
                                    "title": "Vanishing Rocky",
                                    "customer_count": "18"
                                },
                                {
                                    "title": "Forrest Sons",
                                    "customer_count": "18"
                                },
                                {
                                    "title": "Airport Pollock",
                                    "customer_count": "18"
                                },
                                {
                                    "title": "Smoking Barbarella",
                                    "customer_count": "18"
                                },
                                {
                                    "title": "Darn Forrester",
                                    "customer_count": "18"
                                },
                                {
                                    "title": "Whale Bikini",
                                    "customer_count": "18"
                                },
                                {
                                    "title": "Boulevard Mob",
                                    "customer_count": "18"
                                },
                                {
                                    "title": "Alone Trip",
                                    "customer_count": "18"
                                },
                                {
                                    "title": "Dragonfly Strangers",
                                    "customer_count": "18"
                                },
                                {
                                    "title": "Unforgiven Zoolander",
                                    "customer_count": "18"
                                },
                                {
                                    "title": "Mission Zoolander",
                                    "customer_count": "18"
                                },
                                {
                                    "title": "Enough Raging",
                                    "customer_count": "18"
                                },
                                {
                                    "title": "Fiction Christmas",
                                    "customer_count": "18"
                                },
                                {
                                    "title": "Patient Sister",
                                    "customer_count": "18"
                                },
                                {
                                    "title": "Inch Jet",
                                    "customer_count": "18"
                                },
                                {
                                    "title": "Insects Stone",
                                    "customer_count": "18"
                                },
                                {
                                    "title": "Instinct Airport",
                                    "customer_count": "18"
                                },
                                {
                                    "title": "Roxanne Rebel",
                                    "customer_count": "18"
                                },
                                {
                                    "title": "Paradise Sabrina",
                                    "customer_count": "18"
                                },
                                {
                                    "title": "Jacket Frisco",
                                    "customer_count": "18"
                                },
                                {
                                    "title": "Jade Bunch",
                                    "customer_count": "18"
                                },
                                {
                                    "title": "Fantasia Park",
                                    "customer_count": "18"
                                },
                                {
                                    "title": "Hope Tootsie",
                                    "customer_count": "18"
                                },
                                {
                                    "title": "Core Suit",
                                    "customer_count": "18"
                                },
                                {
                                    "title": "Polish Brooklyn",
                                    "customer_count": "18"
                                },
                                {
                                    "title": "Jet Neighbors",
                                    "customer_count": "18"
                                },
                                {
                                    "title": "Carol Texas",
                                    "customer_count": "18"
                                },
                                {
                                    "title": "Secretary Rouge",
                                    "customer_count": "18"
                                },
                                {
                                    "title": "Hanover Galaxy",
                                    "customer_count": "17"
                                },
                                {
                                    "title": "Dawn Pond",
                                    "customer_count": "17"
                                },
                                {
                                    "title": "Pollock Deliverance",
                                    "customer_count": "17"
                                },
                                {
                                    "title": "Sugar Wonka",
                                    "customer_count": "17"
                                },
                                {
                                    "title": "Lady Stage",
                                    "customer_count": "17"
                                },
                                {
                                    "title": "Bikini Borrowers",
                                    "customer_count": "17"
                                },
                                {
                                    "title": "Lawless Vision",
                                    "customer_count": "17"
                                },
                                {
                                    "title": "Flintstones Happiness",
                                    "customer_count": "17"
                                },
                                {
                                    "title": "League Hellfighters",
                                    "customer_count": "17"
                                },
                                {
                                    "title": "Zoolander Fiction",
                                    "customer_count": "17"
                                },
                                {
                                    "title": "Rear Trading",
                                    "customer_count": "17"
                                },
                                {
                                    "title": "Greek Everyone",
                                    "customer_count": "17"
                                },
                                {
                                    "title": "Candidate Perdition",
                                    "customer_count": "17"
                                },
                                {
                                    "title": "Satisfaction Confidential",
                                    "customer_count": "17"
                                },
                                {
                                    "title": "Teen Apollo",
                                    "customer_count": "17"
                                },
                                {
                                    "title": "Intentions Empire",
                                    "customer_count": "17"
                                },
                                {
                                    "title": "Roots Remember",
                                    "customer_count": "17"
                                },
                                {
                                    "title": "Taxi Kick",
                                    "customer_count": "17"
                                },
                                {
                                    "title": "Joon Northwest",
                                    "customer_count": "17"
                                },
                                {
                                    "title": "Egypt Tenenbaums",
                                    "customer_count": "17"
                                },
                                {
                                    "title": "Poseidon Forever",
                                    "customer_count": "17"
                                },
                                {
                                    "title": "Dying Maker",
                                    "customer_count": "17"
                                },
                                {
                                    "title": "Louisiana Harry",
                                    "customer_count": "17"
                                },
                                {
                                    "title": "Perfect Groove",
                                    "customer_count": "17"
                                },
                                {
                                    "title": "United Pilot",
                                    "customer_count": "17"
                                },
                                {
                                    "title": "Waterfront Deliverance",
                                    "customer_count": "17"
                                },
                                {
                                    "title": "Driver Annie",
                                    "customer_count": "17"
                                },
                                {
                                    "title": "Beach Heartbreakers",
                                    "customer_count": "17"
                                },
                                {
                                    "title": "Comforts Rush",
                                    "customer_count": "17"
                                },
                                {
                                    "title": "Ferris Mother",
                                    "customer_count": "17"
                                },
                                {
                                    "title": "Gandhi Kwai",
                                    "customer_count": "17"
                                },
                                {
                                    "title": "Newton Labyrinth",
                                    "customer_count": "17"
                                },
                                {
                                    "title": "Idaho Love",
                                    "customer_count": "17"
                                },
                                {
                                    "title": "Majestic Floats",
                                    "customer_count": "17"
                                },
                                {
                                    "title": "Jericho Mulan",
                                    "customer_count": "17"
                                },
                                {
                                    "title": "Factory Dragon",
                                    "customer_count": "17"
                                },
                                {
                                    "title": "Disciple Mother",
                                    "customer_count": "17"
                                },
                                {
                                    "title": "Noon Papi",
                                    "customer_count": "17"
                                },
                                {
                                    "title": "French Holiday",
                                    "customer_count": "17"
                                },
                                {
                                    "title": "Holocaust Highball",
                                    "customer_count": "17"
                                },
                                {
                                    "title": "Freaky Pocus",
                                    "customer_count": "17"
                                },
                                {
                                    "title": "Potter Connecticut",
                                    "customer_count": "17"
                                },
                                {
                                    "title": "Confused Candles",
                                    "customer_count": "17"
                                },
                                {
                                    "title": "Conversation Downhill",
                                    "customer_count": "17"
                                },
                                {
                                    "title": "Rouge Squad",
                                    "customer_count": "17"
                                },
                                {
                                    "title": "Sagebrush Clueless",
                                    "customer_count": "16"
                                },
                                {
                                    "title": "Attacks Hate",
                                    "customer_count": "16"
                                },
                                {
                                    "title": "Artist Coldblooded",
                                    "customer_count": "16"
                                },
                                {
                                    "title": "Strangers Graffiti",
                                    "customer_count": "16"
                                },
                                {
                                    "title": "Streak Ridgemont",
                                    "customer_count": "16"
                                },
                                {
                                    "title": "Worst Banger",
                                    "customer_count": "16"
                                },
                                {
                                    "title": "Summer Scarface",
                                    "customer_count": "16"
                                },
                                {
                                    "title": "Army Flintstones",
                                    "customer_count": "16"
                                },
                                {
                                    "title": "Conquerer Nuts",
                                    "customer_count": "16"
                                },
                                {
                                    "title": "Dude Blindness",
                                    "customer_count": "16"
                                },
                                {
                                    "title": "Gaslight Crusade",
                                    "customer_count": "16"
                                },
                                {
                                    "title": "Daisy Menagerie",
                                    "customer_count": "16"
                                },
                                {
                                    "title": "Hall Cassidy",
                                    "customer_count": "16"
                                },
                                {
                                    "title": "Willow Tracy",
                                    "customer_count": "16"
                                },
                                {
                                    "title": "Homeward Cider",
                                    "customer_count": "16"
                                },
                                {
                                    "title": "Destiny Saturday",
                                    "customer_count": "16"
                                },
                                {
                                    "title": "West Lion",
                                    "customer_count": "16"
                                },
                                {
                                    "title": "Indian Love",
                                    "customer_count": "16"
                                },
                                {
                                    "title": "Casablanca Super",
                                    "customer_count": "16"
                                },
                                {
                                    "title": "Jeepers Wedding",
                                    "customer_count": "16"
                                },
                                {
                                    "title": "Jekyll Frogmen",
                                    "customer_count": "16"
                                },
                                {
                                    "title": "Lock Rear",
                                    "customer_count": "16"
                                },
                                {
                                    "title": "Watch Tracy",
                                    "customer_count": "16"
                                },
                                {
                                    "title": "Wizard Coldblooded",
                                    "customer_count": "16"
                                },
                                {
                                    "title": "Bull Shawshank",
                                    "customer_count": "16"
                                },
                                {
                                    "title": "Mask Peach",
                                    "customer_count": "16"
                                },
                                {
                                    "title": "Wanda Chamber",
                                    "customer_count": "16"
                                },
                                {
                                    "title": "Mermaid Insects",
                                    "customer_count": "16"
                                },
                                {
                                    "title": "Midnight Westward",
                                    "customer_count": "16"
                                },
                                {
                                    "title": "Motions Details",
                                    "customer_count": "16"
                                },
                                {
                                    "title": "Moulin Wake",
                                    "customer_count": "16"
                                },
                                {
                                    "title": "Mummy Creatures",
                                    "customer_count": "16"
                                },
                                {
                                    "title": "Breakfast Goldfinger",
                                    "customer_count": "16"
                                },
                                {
                                    "title": "Musketeers Wait",
                                    "customer_count": "16"
                                },
                                {
                                    "title": "Virgin Daisy",
                                    "customer_count": "16"
                                },
                                {
                                    "title": "Varsity Trip",
                                    "customer_count": "16"
                                },
                                {
                                    "title": "Orient Closer",
                                    "customer_count": "16"
                                },
                                {
                                    "title": "Bonnie Holocaust",
                                    "customer_count": "16"
                                },
                                {
                                    "title": "Patriot Roman",
                                    "customer_count": "16"
                                },
                                {
                                    "title": "Paycheck Wait",
                                    "customer_count": "16"
                                },
                                {
                                    "title": "Pickup Driving",
                                    "customer_count": "16"
                                },
                                {
                                    "title": "Pilot Hoosiers",
                                    "customer_count": "16"
                                },
                                {
                                    "title": "Pluto Oleander",
                                    "customer_count": "16"
                                },
                                {
                                    "title": "Uprising Uptown",
                                    "customer_count": "16"
                                },
                                {
                                    "title": "Pride Alamo",
                                    "customer_count": "16"
                                },
                                {
                                    "title": "Pure Runner",
                                    "customer_count": "16"
                                },
                                {
                                    "title": "Quills Bull",
                                    "customer_count": "16"
                                },
                                {
                                    "title": "Reap Unfaithful",
                                    "customer_count": "16"
                                },
                                {
                                    "title": "Creatures Shakespeare",
                                    "customer_count": "16"
                                },
                                {
                                    "title": "Rocky War",
                                    "customer_count": "16"
                                },
                                {
                                    "title": "Rules Human",
                                    "customer_count": "16"
                                },
                                {
                                    "title": "Craft Outfield",
                                    "customer_count": "16"
                                },
                                {
                                    "title": "Silence Kane",
                                    "customer_count": "16"
                                },
                                {
                                    "title": "Trap Guys",
                                    "customer_count": "16"
                                },
                                {
                                    "title": "Slacker Liaisons",
                                    "customer_count": "16"
                                },
                                {
                                    "title": "Slipper Fidelity",
                                    "customer_count": "16"
                                },
                                {
                                    "title": "Baked Cleopatra",
                                    "customer_count": "16"
                                },
                                {
                                    "title": "Submarine Bed",
                                    "customer_count": "15"
                                },
                                {
                                    "title": "Holiday Games",
                                    "customer_count": "15"
                                },
                                {
                                    "title": "Scissorhands Slums",
                                    "customer_count": "15"
                                },
                                {
                                    "title": "Worker Tarzan",
                                    "customer_count": "15"
                                },
                                {
                                    "title": "Holes Brannigan",
                                    "customer_count": "15"
                                },
                                {
                                    "title": "Chicago North",
                                    "customer_count": "15"
                                },
                                {
                                    "title": "Loser Hustler",
                                    "customer_count": "15"
                                },
                                {
                                    "title": "Airplane Sierra",
                                    "customer_count": "15"
                                },
                                {
                                    "title": "Rings Heartbreakers",
                                    "customer_count": "15"
                                },
                                {
                                    "title": "Devil Desire",
                                    "customer_count": "15"
                                },
                                {
                                    "title": "Monster Spartacus",
                                    "customer_count": "15"
                                },
                                {
                                    "title": "Circus Youth",
                                    "customer_count": "15"
                                },
                                {
                                    "title": "Lonely Elephant",
                                    "customer_count": "15"
                                },
                                {
                                    "title": "Modern Dorado",
                                    "customer_count": "15"
                                },
                                {
                                    "title": "Graduate Lord",
                                    "customer_count": "15"
                                },
                                {
                                    "title": "Nash Chocolat",
                                    "customer_count": "15"
                                },
                                {
                                    "title": "Ship Wonderland",
                                    "customer_count": "15"
                                },
                                {
                                    "title": "Coldblooded Darling",
                                    "customer_count": "15"
                                },
                                {
                                    "title": "Command Darling",
                                    "customer_count": "15"
                                },
                                {
                                    "title": "Rock Instinct",
                                    "customer_count": "15"
                                },
                                {
                                    "title": "Shrek License",
                                    "customer_count": "15"
                                },
                                {
                                    "title": "Spirit Flintstones",
                                    "customer_count": "15"
                                },
                                {
                                    "title": "Dirty Ace",
                                    "customer_count": "15"
                                },
                                {
                                    "title": "Siege Madre",
                                    "customer_count": "15"
                                },
                                {
                                    "title": "Sierra Divide",
                                    "customer_count": "15"
                                },
                                {
                                    "title": "Tootsie Pilot",
                                    "customer_count": "15"
                                },
                                {
                                    "title": "Labyrinth League",
                                    "customer_count": "15"
                                },
                                {
                                    "title": "Translation Summer",
                                    "customer_count": "15"
                                },
                                {
                                    "title": "Cyclone Family",
                                    "customer_count": "15"
                                },
                                {
                                    "title": "Wasteland Divine",
                                    "customer_count": "15"
                                },
                                {
                                    "title": "Necklace Outbreak",
                                    "customer_count": "15"
                                },
                                {
                                    "title": "Manchurian Curtain",
                                    "customer_count": "15"
                                },
                                {
                                    "title": "Betrayed Rear",
                                    "customer_count": "15"
                                },
                                {
                                    "title": "Cabin Flash",
                                    "customer_count": "15"
                                },
                                {
                                    "title": "Valley Packer",
                                    "customer_count": "15"
                                },
                                {
                                    "title": "Illusion Amelie",
                                    "customer_count": "15"
                                },
                                {
                                    "title": "Anthem Luke",
                                    "customer_count": "15"
                                },
                                {
                                    "title": "Hysterical Grail",
                                    "customer_count": "15"
                                },
                                {
                                    "title": "Panther Reds",
                                    "customer_count": "15"
                                },
                                {
                                    "title": "Panky Submarine",
                                    "customer_count": "15"
                                },
                                {
                                    "title": "Charade Duffel",
                                    "customer_count": "15"
                                },
                                {
                                    "title": "Divine Resurrection",
                                    "customer_count": "15"
                                },
                                {
                                    "title": "Sweet Brotherhood",
                                    "customer_count": "15"
                                },
                                {
                                    "title": "Odds Boogie",
                                    "customer_count": "15"
                                },
                                {
                                    "title": "Words Hunter",
                                    "customer_count": "15"
                                },
                                {
                                    "title": "Mosquito Armageddon",
                                    "customer_count": "15"
                                },
                                {
                                    "title": "Entrapment Satisfaction",
                                    "customer_count": "15"
                                },
                                {
                                    "title": "Steers Armageddon",
                                    "customer_count": "15"
                                },
                                {
                                    "title": "Hunting Musketeers",
                                    "customer_count": "15"
                                },
                                {
                                    "title": "Human Graffiti",
                                    "customer_count": "15"
                                },
                                {
                                    "title": "Edge Kissing",
                                    "customer_count": "15"
                                },
                                {
                                    "title": "Madison Trap",
                                    "customer_count": "15"
                                },
                                {
                                    "title": "Town Ark",
                                    "customer_count": "14"
                                },
                                {
                                    "title": "Nemo Campus",
                                    "customer_count": "14"
                                },
                                {
                                    "title": "Mother Oleander",
                                    "customer_count": "14"
                                },
                                {
                                    "title": "Model Fish",
                                    "customer_count": "14"
                                },
                                {
                                    "title": "Virtual Spoilers",
                                    "customer_count": "14"
                                },
                                {
                                    "title": "Uncut Suicides",
                                    "customer_count": "14"
                                },
                                {
                                    "title": "Dances None",
                                    "customer_count": "14"
                                },
                                {
                                    "title": "Madre Gables",
                                    "customer_count": "14"
                                },
                                {
                                    "title": "Lust Lock",
                                    "customer_count": "14"
                                },
                                {
                                    "title": "Werewolf Lola",
                                    "customer_count": "14"
                                },
                                {
                                    "title": "Day Unfaithful",
                                    "customer_count": "14"
                                },
                                {
                                    "title": "Wrath Mile",
                                    "customer_count": "14"
                                },
                                {
                                    "title": "Deep Crusade",
                                    "customer_count": "14"
                                },
                                {
                                    "title": "Kane Exorcist",
                                    "customer_count": "14"
                                },
                                {
                                    "title": "Elephant Trojan",
                                    "customer_count": "14"
                                },
                                {
                                    "title": "Jaws Harry",
                                    "customer_count": "14"
                                },
                                {
                                    "title": "Impossible Prejudice",
                                    "customer_count": "14"
                                },
                                {
                                    "title": "Image Princess",
                                    "customer_count": "14"
                                },
                                {
                                    "title": "Stock Glass",
                                    "customer_count": "14"
                                },
                                {
                                    "title": "Donnie Alley",
                                    "customer_count": "14"
                                },
                                {
                                    "title": "Turn Star",
                                    "customer_count": "14"
                                },
                                {
                                    "title": "Home Pity",
                                    "customer_count": "14"
                                },
                                {
                                    "title": "Troopers Metal",
                                    "customer_count": "14"
                                },
                                {
                                    "title": "Searchers Wait",
                                    "customer_count": "14"
                                },
                                {
                                    "title": "Hamlet Wisdom",
                                    "customer_count": "14"
                                },
                                {
                                    "title": "Greedy Roots",
                                    "customer_count": "14"
                                },
                                {
                                    "title": "Shane Darkness",
                                    "customer_count": "14"
                                },
                                {
                                    "title": "Shanghai Tycoon",
                                    "customer_count": "14"
                                },
                                {
                                    "title": "Gold River",
                                    "customer_count": "14"
                                },
                                {
                                    "title": "Games Bowfinger",
                                    "customer_count": "14"
                                },
                                {
                                    "title": "Shrunk Divine",
                                    "customer_count": "14"
                                },
                                {
                                    "title": "Sons Interview",
                                    "customer_count": "14"
                                },
                                {
                                    "title": "Stampede Disturbing",
                                    "customer_count": "14"
                                },
                                {
                                    "title": "Confessions Maguire",
                                    "customer_count": "14"
                                },
                                {
                                    "title": "Splash Gump",
                                    "customer_count": "14"
                                },
                                {
                                    "title": "Personal Ladybugs",
                                    "customer_count": "14"
                                },
                                {
                                    "title": "Analyze Hoosiers",
                                    "customer_count": "14"
                                },
                                {
                                    "title": "Tomatoes Hellfighters",
                                    "customer_count": "14"
                                },
                                {
                                    "title": "Peach Innocent",
                                    "customer_count": "14"
                                },
                                {
                                    "title": "Creepers Kane",
                                    "customer_count": "14"
                                },
                                {
                                    "title": "Blindness Gun",
                                    "customer_count": "14"
                                },
                                {
                                    "title": "Paris Weekend",
                                    "customer_count": "14"
                                },
                                {
                                    "title": "Pajama Jawbreaker",
                                    "customer_count": "14"
                                },
                                {
                                    "title": "Boiled Dares",
                                    "customer_count": "14"
                                },
                                {
                                    "title": "Alley Evolution",
                                    "customer_count": "14"
                                },
                                {
                                    "title": "Vietnam Smoochy",
                                    "customer_count": "14"
                                },
                                {
                                    "title": "Notorious Reunion",
                                    "customer_count": "13"
                                },
                                {
                                    "title": "Drums Dynamite",
                                    "customer_count": "13"
                                },
                                {
                                    "title": "Daddy Pittsburgh",
                                    "customer_count": "13"
                                },
                                {
                                    "title": "Everyone Craft",
                                    "customer_count": "13"
                                },
                                {
                                    "title": "Exorcist Sting",
                                    "customer_count": "13"
                                },
                                {
                                    "title": "Express Lonely",
                                    "customer_count": "13"
                                },
                                {
                                    "title": "Connecticut Tramp",
                                    "customer_count": "13"
                                },
                                {
                                    "title": "Flash Wars",
                                    "customer_count": "13"
                                },
                                {
                                    "title": "Forever Candidate",
                                    "customer_count": "13"
                                },
                                {
                                    "title": "Glass Dying",
                                    "customer_count": "13"
                                },
                                {
                                    "title": "Citizen Shrek",
                                    "customer_count": "13"
                                },
                                {
                                    "title": "Grinch Massage",
                                    "customer_count": "13"
                                },
                                {
                                    "title": "Cincinatti Whisperer",
                                    "customer_count": "13"
                                },
                                {
                                    "title": "Chisum Behavior",
                                    "customer_count": "13"
                                },
                                {
                                    "title": "Hollywood Anonymous",
                                    "customer_count": "13"
                                },
                                {
                                    "title": "Hook Chariots",
                                    "customer_count": "13"
                                },
                                {
                                    "title": "Champion Flatliners",
                                    "customer_count": "13"
                                },
                                {
                                    "title": "Identity Lover",
                                    "customer_count": "13"
                                },
                                {
                                    "title": "Chamber Italian",
                                    "customer_count": "13"
                                },
                                {
                                    "title": "Jingle Sagebrush",
                                    "customer_count": "13"
                                },
                                {
                                    "title": "Lawrence Love",
                                    "customer_count": "13"
                                },
                                {
                                    "title": "Lovely Jingle",
                                    "customer_count": "13"
                                },
                                {
                                    "title": "Lucky Flying",
                                    "customer_count": "13"
                                },
                                {
                                    "title": "Caddyshack Jedi",
                                    "customer_count": "13"
                                },
                                {
                                    "title": "Microcosmos Paradise",
                                    "customer_count": "13"
                                },
                                {
                                    "title": "Mile Mulan",
                                    "customer_count": "13"
                                },
                                {
                                    "title": "Bright Encounters",
                                    "customer_count": "13"
                                },
                                {
                                    "title": "Monterey Labyrinth",
                                    "customer_count": "13"
                                },
                                {
                                    "title": "Moonwalker Fool",
                                    "customer_count": "13"
                                },
                                {
                                    "title": "Breaking Home",
                                    "customer_count": "13"
                                },
                                {
                                    "title": "Mulan Moon",
                                    "customer_count": "13"
                                },
                                {
                                    "title": "Natural Stock",
                                    "customer_count": "13"
                                },
                                {
                                    "title": "Opposite Necklace",
                                    "customer_count": "13"
                                },
                                {
                                    "title": "Outlaw Hanky",
                                    "customer_count": "13"
                                },
                                {
                                    "title": "Party Knock",
                                    "customer_count": "13"
                                },
                                {
                                    "title": "Past Suicides",
                                    "customer_count": "13"
                                },
                                {
                                    "title": "Purple Movie",
                                    "customer_count": "13"
                                },
                                {
                                    "title": "Raging Airplane",
                                    "customer_count": "13"
                                },
                                {
                                    "title": "Bilko Anonymous",
                                    "customer_count": "13"
                                },
                                {
                                    "title": "Robbery Bright",
                                    "customer_count": "13"
                                },
                                {
                                    "title": "Saddle Antitrust",
                                    "customer_count": "13"
                                },
                                {
                                    "title": "Behavior Runaway",
                                    "customer_count": "13"
                                },
                                {
                                    "title": "Sassy Packer",
                                    "customer_count": "13"
                                },
                                {
                                    "title": "Saturn Name",
                                    "customer_count": "13"
                                },
                                {
                                    "title": "Spiking Element",
                                    "customer_count": "13"
                                },
                                {
                                    "title": "Spinal Rocky",
                                    "customer_count": "13"
                                },
                                {
                                    "title": "State Wasteland",
                                    "customer_count": "13"
                                },
                                {
                                    "title": "Super Wyoming",
                                    "customer_count": "13"
                                },
                                {
                                    "title": "Arabia Dogma",
                                    "customer_count": "13"
                                },
                                {
                                    "title": "Anonymous Human",
                                    "customer_count": "13"
                                },
                                {
                                    "title": "Wyoming Storm",
                                    "customer_count": "13"
                                },
                                {
                                    "title": "Tenenbaums Command",
                                    "customer_count": "13"
                                },
                                {
                                    "title": "Tuxedo Mile",
                                    "customer_count": "13"
                                },
                                {
                                    "title": "Date Speed",
                                    "customer_count": "13"
                                },
                                {
                                    "title": "Darkness War",
                                    "customer_count": "13"
                                },
                                {
                                    "title": "Alabama Devil",
                                    "customer_count": "12"
                                },
                                {
                                    "title": "Smoochy Control",
                                    "customer_count": "12"
                                },
                                {
                                    "title": "Memento Zoolander",
                                    "customer_count": "12"
                                },
                                {
                                    "title": "War Notting",
                                    "customer_count": "12"
                                },
                                {
                                    "title": "Meet Chocolate",
                                    "customer_count": "12"
                                },
                                {
                                    "title": "Massage Image",
                                    "customer_count": "12"
                                },
                                {
                                    "title": "Silverado Goldfinger",
                                    "customer_count": "12"
                                },
                                {
                                    "title": "Uptown Young",
                                    "customer_count": "12"
                                },
                                {
                                    "title": "Loverboy Attacks",
                                    "customer_count": "12"
                                },
                                {
                                    "title": "Lost Bird",
                                    "customer_count": "12"
                                },
                                {
                                    "title": "Usual Untouchables",
                                    "customer_count": "12"
                                },
                                {
                                    "title": "Blanket Beverly",
                                    "customer_count": "12"
                                },
                                {
                                    "title": "African Egg",
                                    "customer_count": "12"
                                },
                                {
                                    "title": "Liberty Magnificent",
                                    "customer_count": "12"
                                },
                                {
                                    "title": "Valentine Vanishing",
                                    "customer_count": "12"
                                },
                                {
                                    "title": "Window Side",
                                    "customer_count": "12"
                                },
                                {
                                    "title": "Pittsburgh Hunchback",
                                    "customer_count": "12"
                                },
                                {
                                    "title": "Hunger Roof",
                                    "customer_count": "12"
                                },
                                {
                                    "title": "Hedwig Alter",
                                    "customer_count": "12"
                                },
                                {
                                    "title": "Vampire Whale",
                                    "customer_count": "12"
                                },
                                {
                                    "title": "Gunfighter Mussolini",
                                    "customer_count": "12"
                                },
                                {
                                    "title": "Born Spinal",
                                    "customer_count": "12"
                                },
                                {
                                    "title": "Side Ark",
                                    "customer_count": "12"
                                },
                                {
                                    "title": "Tycoon Gathering",
                                    "customer_count": "12"
                                },
                                {
                                    "title": "Flight Lies",
                                    "customer_count": "12"
                                },
                                {
                                    "title": "Finding Anaconda",
                                    "customer_count": "12"
                                },
                                {
                                    "title": "Speakeasy Date",
                                    "customer_count": "12"
                                },
                                {
                                    "title": "Bedazzled Married",
                                    "customer_count": "12"
                                },
                                {
                                    "title": "Brannigan Sunrise",
                                    "customer_count": "12"
                                },
                                {
                                    "title": "Evolution Alter",
                                    "customer_count": "12"
                                },
                                {
                                    "title": "Crow Grease",
                                    "customer_count": "12"
                                },
                                {
                                    "title": "Adaptation Holes",
                                    "customer_count": "12"
                                },
                                {
                                    "title": "Savannah Town",
                                    "customer_count": "12"
                                },
                                {
                                    "title": "Mob Duffel",
                                    "customer_count": "12"
                                },
                                {
                                    "title": "Sorority Queen",
                                    "customer_count": "12"
                                },
                                {
                                    "title": "Temple Attraction",
                                    "customer_count": "12"
                                },
                                {
                                    "title": "Feathers Metal",
                                    "customer_count": "11"
                                },
                                {
                                    "title": "Darko Dorado",
                                    "customer_count": "11"
                                },
                                {
                                    "title": "Cranes Reservoir",
                                    "customer_count": "11"
                                },
                                {
                                    "title": "Dragon Squad",
                                    "customer_count": "11"
                                },
                                {
                                    "title": "Dangerous Uptown",
                                    "customer_count": "11"
                                },
                                {
                                    "title": "Ties Hunger",
                                    "customer_count": "11"
                                },
                                {
                                    "title": "Thin Sagebrush",
                                    "customer_count": "11"
                                },
                                {
                                    "title": "Theory Mermaid",
                                    "customer_count": "11"
                                },
                                {
                                    "title": "Stranger Strangers",
                                    "customer_count": "11"
                                },
                                {
                                    "title": "Autumn Crow",
                                    "customer_count": "11"
                                },
                                {
                                    "title": "Stone Fire",
                                    "customer_count": "11"
                                },
                                {
                                    "title": "Towers Hurricane",
                                    "customer_count": "11"
                                },
                                {
                                    "title": "Spirited Casualties",
                                    "customer_count": "11"
                                },
                                {
                                    "title": "Trainspotting Strangers",
                                    "customer_count": "11"
                                },
                                {
                                    "title": "Song Hedwig",
                                    "customer_count": "11"
                                },
                                {
                                    "title": "Beast Hunchback",
                                    "customer_count": "11"
                                },
                                {
                                    "title": "Beethoven Exorcist",
                                    "customer_count": "11"
                                },
                                {
                                    "title": "Santa Paris",
                                    "customer_count": "11"
                                },
                                {
                                    "title": "Ending Crowds",
                                    "customer_count": "11"
                                },
                                {
                                    "title": "Twisted Pirates",
                                    "customer_count": "11"
                                },
                                {
                                    "title": "Rider Caddyshack",
                                    "customer_count": "11"
                                },
                                {
                                    "title": "Reef Salute",
                                    "customer_count": "11"
                                },
                                {
                                    "title": "Birch Antitrust",
                                    "customer_count": "11"
                                },
                                {
                                    "title": "Bird Independence",
                                    "customer_count": "11"
                                },
                                {
                                    "title": "Prix Undefeated",
                                    "customer_count": "11"
                                },
                                {
                                    "title": "Potluck Mixed",
                                    "customer_count": "11"
                                },
                                {
                                    "title": "Opus Ice",
                                    "customer_count": "11"
                                },
                                {
                                    "title": "October Submarine",
                                    "customer_count": "11"
                                },
                                {
                                    "title": "North Tequila",
                                    "customer_count": "11"
                                },
                                {
                                    "title": "Bowfinger Gables",
                                    "customer_count": "11"
                                },
                                {
                                    "title": "Mod Secretary",
                                    "customer_count": "11"
                                },
                                {
                                    "title": "Minority Kiss",
                                    "customer_count": "11"
                                },
                                {
                                    "title": "Mighty Luck",
                                    "customer_count": "11"
                                },
                                {
                                    "title": "Bugsy Song",
                                    "customer_count": "11"
                                },
                                {
                                    "title": "Magnolia Forrester",
                                    "customer_count": "11"
                                },
                                {
                                    "title": "California Birds",
                                    "customer_count": "11"
                                },
                                {
                                    "title": "Lord Arizona",
                                    "customer_count": "11"
                                },
                                {
                                    "title": "Language Cowboy",
                                    "customer_count": "11"
                                },
                                {
                                    "title": "Iron Moon",
                                    "customer_count": "11"
                                },
                                {
                                    "title": "Drumline Cyclone",
                                    "customer_count": "11"
                                },
                                {
                                    "title": "Gathering Calendar",
                                    "customer_count": "11"
                                },
                                {
                                    "title": "Fugitive Maguire",
                                    "customer_count": "11"
                                },
                                {
                                    "title": "Frida Slipper",
                                    "customer_count": "11"
                                }
                            ]
                        },
                        "text/html": "<table><tr><th>title</th><th>customer_count</th></tr><tr><td>Bucket Brotherhood</td><td>33</td></tr><tr><td>Scalawag Duck</td><td>32</td></tr><tr><td>Forward Temple</td><td>32</td></tr><tr><td>Ridgemont Submarine</td><td>32</td></tr><tr><td>Grit Clockwork</td><td>32</td></tr><tr><td>Rocketeer Mother</td><td>31</td></tr><tr><td>Network Peak</td><td>31</td></tr><tr><td>Apache Divine</td><td>31</td></tr><tr><td>Juggler Hardly</td><td>31</td></tr><tr><td>Goodfellas Salute</td><td>31</td></tr><tr><td>Hobbit Alien</td><td>31</td></tr><tr><td>Timberland Sky</td><td>31</td></tr><tr><td>Robbers Joon</td><td>31</td></tr><tr><td>Idols Snatchers</td><td>30</td></tr><tr><td>Rugrats Shakespeare</td><td>30</td></tr><tr><td>Married Go</td><td>30</td></tr><tr><td>Pulp Beverly</td><td>30</td></tr><tr><td>Muscle Bright</td><td>30</td></tr><tr><td>Harry Idaho</td><td>30</td></tr><tr><td>Dogma Family</td><td>30</td></tr><tr><td>Graffiti Love</td><td>30</td></tr><tr><td>Zorro Ark</td><td>30</td></tr><tr><td>Shock Cabin</td><td>30</td></tr><tr><td>Storm Happiness</td><td>29</td></tr><tr><td>Rush Goodfellas</td><td>29</td></tr><tr><td>Butterfly Chocolat</td><td>29</td></tr><tr><td>Cat Coneheads</td><td>29</td></tr><tr><td>Enemy Odds</td><td>29</td></tr><tr><td>Confidential Interview</td><td>29</td></tr><tr><td>Greatest North</td><td>29</td></tr><tr><td>English Bulworth</td><td>29</td></tr><tr><td>Family Sweet</td><td>29</td></tr><tr><td>Witches Panic</td><td>28</td></tr><tr><td>Bingo Talented</td><td>28</td></tr><tr><td>Gilmore Boiled</td><td>28</td></tr><tr><td>Saturday Lambs</td><td>28</td></tr><tr><td>Massacre Usual</td><td>28</td></tr><tr><td>Titans Jerk</td><td>28</td></tr><tr><td>Handicap Boondock</td><td>28</td></tr><tr><td>Talented Homicide</td><td>28</td></tr><tr><td>Frost Head</td><td>28</td></tr><tr><td>Boogie Amelie</td><td>28</td></tr><tr><td>Sweethearts Suspects</td><td>28</td></tr><tr><td>Closer Bang</td><td>28</td></tr><tr><td>Giant Troopers</td><td>28</td></tr><tr><td>Wife Turn</td><td>28</td></tr><tr><td>Story Side</td><td>28</td></tr><tr><td>Gleaming Jawbreaker</td><td>28</td></tr><tr><td>Fatal Haunted</td><td>28</td></tr><tr><td>Telegraph Voyage</td><td>27</td></tr><tr><td>Invasion Cyclone</td><td>27</td></tr><tr><td>Torque Bound</td><td>27</td></tr><tr><td>Chance Resurrection</td><td>27</td></tr><tr><td>Voyage Legally</td><td>27</td></tr><tr><td>Swarm Gold</td><td>27</td></tr><tr><td>Suspects Quills</td><td>27</td></tr><tr><td>Wardrobe Phantom</td><td>27</td></tr><tr><td>Expendable Stallion</td><td>27</td></tr><tr><td>Spy Mile</td><td>27</td></tr><tr><td>Forrester Comancheros</td><td>27</td></tr><tr><td>Deer Virginian</td><td>27</td></tr><tr><td>Virginian Pluto</td><td>27</td></tr><tr><td>Roses Treasure</td><td>27</td></tr><tr><td>Range Moonwalker</td><td>27</td></tr><tr><td>Gangs Pride</td><td>27</td></tr><tr><td>Videotape Arsenic</td><td>27</td></tr><tr><td>Moon Bunch</td><td>27</td></tr><tr><td>Dorado Notting</td><td>27</td></tr><tr><td>Loathing Legally</td><td>27</td></tr><tr><td>Operation Operation</td><td>26</td></tr><tr><td>None Spiking</td><td>26</td></tr><tr><td>Coma Head</td><td>26</td></tr><tr><td>Goldmine Tycoon</td><td>26</td></tr><tr><td>Blackout Private</td><td>26</td></tr><tr><td>Princess Giant</td><td>26</td></tr><tr><td>Velvet Terminator</td><td>26</td></tr><tr><td>Lies Treatment</td><td>26</td></tr><tr><td>Curtain Videotape</td><td>26</td></tr><tr><td>Metropolis Coma</td><td>26</td></tr><tr><td>Dancing Fever</td><td>26</td></tr><tr><td>Brotherhood Blanket</td><td>26</td></tr><tr><td>Disturbing Scarface</td><td>26</td></tr><tr><td>Hanky October</td><td>26</td></tr><tr><td>Horror Reign</td><td>26</td></tr><tr><td>Half Outfield</td><td>26</td></tr><tr><td>Trip Newton</td><td>26</td></tr><tr><td>Island Exorcist</td><td>26</td></tr><tr><td>Tracy Cider</td><td>26</td></tr><tr><td>Lose Inch</td><td>26</td></tr><tr><td>Pelican Comforts</td><td>26</td></tr><tr><td>Pity Bound</td><td>26</td></tr><tr><td>Camelot Vacation</td><td>26</td></tr><tr><td>Pocus Pulp</td><td>26</td></tr><tr><td>Primary Glass</td><td>26</td></tr><tr><td>Durham Panky</td><td>25</td></tr><tr><td>Detective Vision</td><td>25</td></tr><tr><td>Working Microcosmos</td><td>25</td></tr><tr><td>Trading Pinocchio</td><td>25</td></tr><tr><td>Tomorrow Hustler</td><td>25</td></tr><tr><td>Tights Dawn</td><td>25</td></tr><tr><td>Stagecoach Armageddon</td><td>25</td></tr><tr><td>Barbarella Streetcar</td><td>25</td></tr><tr><td>Show Lord</td><td>25</td></tr><tr><td>Shepherd Midsummer</td><td>25</td></tr><tr><td>Seabiscuit Punk</td><td>25</td></tr><tr><td>Samurai Lion</td><td>25</td></tr><tr><td>Nightmare Chill</td><td>25</td></tr><tr><td>Movie Shakespeare</td><td>25</td></tr><tr><td>Malkovich Pet</td><td>25</td></tr><tr><td>Madness Attacks</td><td>25</td></tr><tr><td>Westward Seabiscuit</td><td>25</td></tr><tr><td>Innocent Usual</td><td>25</td></tr><tr><td>Hyde Doctor</td><td>25</td></tr><tr><td>Hills Neighbors</td><td>25</td></tr><tr><td>Clash Freddy</td><td>25</td></tr><tr><td>Clueless Bucket</td><td>25</td></tr><tr><td>Fish Opus</td><td>25</td></tr><tr><td>Feud Frogmen</td><td>25</td></tr><tr><td>Contact Anonymous</td><td>25</td></tr><tr><td>Escape Metropolis</td><td>25</td></tr><tr><td>Dynamite Tarzan</td><td>25</td></tr><tr><td>Downhill Enough</td><td>25</td></tr><tr><td>Jumping Wrath</td><td>24</td></tr><tr><td>Maiden Home</td><td>24</td></tr><tr><td>Goldfinger Sensibility</td><td>24</td></tr><tr><td>Sun Confessions</td><td>24</td></tr><tr><td>Metal Armageddon</td><td>24</td></tr><tr><td>Mockingbird Hollywood</td><td>24</td></tr><tr><td>Color Philadelphia</td><td>24</td></tr><tr><td>Bound Cheaper</td><td>24</td></tr><tr><td>Orange Grapes</td><td>24</td></tr><tr><td>Oscar Gold</td><td>24</td></tr><tr><td>Coneheads Smoochy</td><td>24</td></tr><tr><td>Pacific Amistad</td><td>24</td></tr><tr><td>Seattle Expecations</td><td>24</td></tr><tr><td>Shootist Superfly</td><td>24</td></tr><tr><td>Sleeping Suspects</td><td>24</td></tr><tr><td>Arachnophobia Rollercoaster</td><td>24</td></tr><tr><td>Alaska Phantom</td><td>24</td></tr><tr><td>Double Wrath</td><td>24</td></tr><tr><td>Fellowship Autumn</td><td>24</td></tr><tr><td>Slums Duck</td><td>24</td></tr><tr><td>Fargo Gandhi</td><td>24</td></tr><tr><td>Fantasy Troopers</td><td>24</td></tr><tr><td>Attraction Newton</td><td>24</td></tr><tr><td>Atlantis Cause</td><td>24</td></tr><tr><td>Strangelove Desire</td><td>24</td></tr><tr><td>Horn Working</td><td>24</td></tr><tr><td>Hurricane Affair</td><td>24</td></tr><tr><td>Gun Bonnie</td><td>24</td></tr><tr><td>Ice Crossing</td><td>24</td></tr><tr><td>Celebrity Horn</td><td>24</td></tr><tr><td>Jason Trap</td><td>24</td></tr><tr><td>Effect Gladiator</td><td>24</td></tr><tr><td>Caper Motions</td><td>24</td></tr><tr><td>Academy Dinosaur</td><td>23</td></tr><tr><td>Aladdin Calendar</td><td>23</td></tr><tr><td>Alamo Videotape</td><td>23</td></tr><tr><td>Balloon Homeward</td><td>23</td></tr><tr><td>Candles Grapes</td><td>23</td></tr><tr><td>Carrie Bunch</td><td>23</td></tr><tr><td>Crooked Frogmen</td><td>23</td></tr><tr><td>Cupboard Sinners</td><td>23</td></tr><tr><td>Drifter Commandments</td><td>23</td></tr><tr><td>Earth Vision</td><td>23</td></tr><tr><td>Flamingos Connecticut</td><td>23</td></tr><tr><td>Fool Mockingbird</td><td>23</td></tr><tr><td>Freddy Storm</td><td>23</td></tr><tr><td>Heavyweights Beast</td><td>23</td></tr><tr><td>Karate Moon</td><td>23</td></tr><tr><td>Knock Warlock</td><td>23</td></tr><tr><td>Lola Agent</td><td>23</td></tr><tr><td>Mallrats United</td><td>23</td></tr><tr><td>Murder Antitrust</td><td>23</td></tr><tr><td>Name Detective</td><td>23</td></tr><tr><td>Oz Liaisons</td><td>23</td></tr><tr><td>Roman Punk</td><td>23</td></tr><tr><td>Salute Apollo</td><td>23</td></tr><tr><td>Scorpion Apollo</td><td>23</td></tr><tr><td>Snowman Rollercoaster</td><td>23</td></tr><tr><td>Streetcar Intentions</td><td>23</td></tr><tr><td>Strictly Scarface</td><td>23</td></tr><tr><td>Sunrise League</td><td>23</td></tr><tr><td>Telemark Heartbreakers</td><td>23</td></tr><tr><td>Trouble Date</td><td>23</td></tr><tr><td>Wind Phantom</td><td>23</td></tr><tr><td>Women Dorado</td><td>23</td></tr><tr><td>Chicken Hellfighters</td><td>22</td></tr><tr><td>Fight Jawbreaker</td><td>22</td></tr><tr><td>Blade Polish</td><td>22</td></tr><tr><td>Yentl Idaho</td><td>22</td></tr><tr><td>Shakespeare Saddle</td><td>22</td></tr><tr><td>Grapes Fury</td><td>22</td></tr><tr><td>Banger Pinocchio</td><td>22</td></tr><tr><td>Titanic Boondock</td><td>22</td></tr><tr><td>Annie Identity</td><td>22</td></tr><tr><td>Packer Madigan</td><td>22</td></tr><tr><td>Steel Santa</td><td>22</td></tr><tr><td>Dream Pickup</td><td>22</td></tr><tr><td>Affair Prejudice</td><td>22</td></tr><tr><td>Queen Luke</td><td>22</td></tr><tr><td>Borrowers Bedazzled</td><td>22</td></tr><tr><td>Falcon Volume</td><td>22</td></tr><tr><td>Hustler Party</td><td>22</td></tr><tr><td>Alien Center</td><td>22</td></tr><tr><td>Bear Graceland</td><td>22</td></tr><tr><td>Wedding Apollo</td><td>22</td></tr><tr><td>Wash Heavenly</td><td>22</td></tr><tr><td>Congeniality Quest</td><td>22</td></tr><tr><td>South Wait</td><td>22</td></tr><tr><td>High Encino</td><td>22</td></tr><tr><td>Others Soup</td><td>22</td></tr><tr><td>Easy Gladiator</td><td>22</td></tr><tr><td>Maltese Hope</td><td>22</td></tr><tr><td>House Dynamite</td><td>22</td></tr><tr><td>Alter Victory</td><td>22</td></tr><tr><td>Tourist Pelican</td><td>22</td></tr><tr><td>Head Stranger</td><td>22</td></tr><tr><td>Truman Crazy</td><td>22</td></tr><tr><td>Patton Interview</td><td>22</td></tr><tr><td>Sea Virgin</td><td>22</td></tr><tr><td>Haunting Pianist</td><td>22</td></tr><tr><td>Kwai Homeward</td><td>22</td></tr><tr><td>Center Dinosaur</td><td>22</td></tr><tr><td>Volcano Texas</td><td>22</td></tr><tr><td>Beauty Grease</td><td>22</td></tr><tr><td>Philadelphia Wife</td><td>22</td></tr><tr><td>Gunfight Moon</td><td>22</td></tr><tr><td>Homicide Peach</td><td>22</td></tr><tr><td>Lebowski Soldiers</td><td>21</td></tr><tr><td>Wonderland Christmas</td><td>21</td></tr><tr><td>Chariots Conspiracy</td><td>21</td></tr><tr><td>Beverly Outlaw</td><td>21</td></tr><tr><td>Sabrina Midnight</td><td>21</td></tr><tr><td>Cause Date</td><td>21</td></tr><tr><td>Egg Igby</td><td>21</td></tr><tr><td>Berets Agent</td><td>21</td></tr><tr><td>Chainsaw Uptown</td><td>21</td></tr><tr><td>Amistad Midsummer</td><td>21</td></tr><tr><td>Crossroads Casualties</td><td>21</td></tr><tr><td>Vacation Boondock</td><td>21</td></tr><tr><td>Pirates Roxanne</td><td>21</td></tr><tr><td>Dracula Crystal</td><td>21</td></tr><tr><td>Undefeated Dalmations</td><td>21</td></tr><tr><td>Sleepy Japanese</td><td>21</td></tr><tr><td>Blues Instinct</td><td>21</td></tr><tr><td>Pianist Outfield</td><td>21</td></tr><tr><td>Midsummer Groundhog</td><td>21</td></tr><tr><td>Fidelity Devil</td><td>21</td></tr><tr><td>Anaconda Confessions</td><td>21</td></tr><tr><td>Divide Monster</td><td>21</td></tr><tr><td>Angels Life</td><td>21</td></tr><tr><td>Star Operation</td><td>21</td></tr><tr><td>Brooklyn Desert</td><td>21</td></tr><tr><td>Snatch Slipper</td><td>21</td></tr><tr><td>Agent Truman</td><td>21</td></tr><tr><td>Splendor Patton</td><td>21</td></tr><tr><td>Sinners Atlantis</td><td>21</td></tr><tr><td>Armageddon Lost</td><td>21</td></tr><tr><td>Amadeus Holy</td><td>21</td></tr><tr><td>Resurrection Silverado</td><td>21</td></tr><tr><td>Basic Easy</td><td>21</td></tr><tr><td>Calendar Gunfight</td><td>21</td></tr><tr><td>Gentlemen Stage</td><td>21</td></tr><tr><td>Ghost Groundhog</td><td>21</td></tr><tr><td>Unbreakable Karate</td><td>21</td></tr><tr><td>Coast Rainbow</td><td>21</td></tr><tr><td>Open African</td><td>21</td></tr><tr><td>Grease Youth</td><td>21</td></tr><tr><td>Deceiver Betrayed</td><td>21</td></tr><tr><td>Eagles Panky</td><td>21</td></tr><tr><td>Driving Polish</td><td>21</td></tr><tr><td>Liaisons Sweet</td><td>21</td></tr><tr><td>Arizona Bang</td><td>21</td></tr><tr><td>Christmas Moonshine</td><td>21</td></tr><tr><td>Wolves Desire</td><td>21</td></tr><tr><td>Secret Groundhog</td><td>21</td></tr><tr><td>Excitement Eve</td><td>21</td></tr><tr><td>Chill Luck</td><td>21</td></tr><tr><td>Kiss Glory</td><td>21</td></tr><tr><td>Highball Potter</td><td>21</td></tr><tr><td>Sting Personal</td><td>21</td></tr><tr><td>Outbreak Divine</td><td>21</td></tr><tr><td>Prejudice Oleander</td><td>20</td></tr><tr><td>Secrets Paradise</td><td>20</td></tr><tr><td>Hellfighters Sierra</td><td>20</td></tr><tr><td>Moonshine Cabin</td><td>20</td></tr><tr><td>Outfield Massacre</td><td>20</td></tr><tr><td>Interview Liaisons</td><td>20</td></tr><tr><td>Straight Hours</td><td>20</td></tr><tr><td>Badman Dawn</td><td>20</td></tr><tr><td>Million Ace</td><td>20</td></tr><tr><td>Peak Forever</td><td>20</td></tr><tr><td>Hunchback Impossible</td><td>20</td></tr><tr><td>Kick Savannah</td><td>20</td></tr><tr><td>Mourning Purple</td><td>20</td></tr><tr><td>Chocolat Harry</td><td>20</td></tr><tr><td>Doom Dancing</td><td>20</td></tr><tr><td>Room Roman</td><td>20</td></tr><tr><td>Redemption Comforts</td><td>20</td></tr><tr><td>American Circus</td><td>20</td></tr><tr><td>Kissing Dolls</td><td>20</td></tr><tr><td>Harper Dying</td><td>20</td></tr><tr><td>Garden Island</td><td>20</td></tr><tr><td>Chasing Fight</td><td>20</td></tr><tr><td>Wrong Behavior</td><td>20</td></tr><tr><td>Pinocchio Simon</td><td>20</td></tr><tr><td>Money Harold</td><td>20</td></tr><tr><td>Reunion Witches</td><td>20</td></tr><tr><td>Heartbreakers Bright</td><td>20</td></tr><tr><td>Dalmations Sweden</td><td>20</td></tr><tr><td>Spice Sorority</td><td>20</td></tr><tr><td>Go Purple</td><td>20</td></tr><tr><td>Whisperer Giant</td><td>20</td></tr><tr><td>Stepmom Dream</td><td>20</td></tr><tr><td>River Outlaw</td><td>20</td></tr><tr><td>Bringing Hysterical</td><td>20</td></tr><tr><td>Flatliners Killer</td><td>20</td></tr><tr><td>Suit Walls</td><td>20</td></tr><tr><td>Fireball Philadelphia</td><td>20</td></tr><tr><td>Northwest Polish</td><td>20</td></tr><tr><td>Quest Mussolini</td><td>20</td></tr><tr><td>Jedi Beneath</td><td>19</td></tr><tr><td>Novocaine Flight</td><td>19</td></tr><tr><td>Sleuth Orient</td><td>19</td></tr><tr><td>Sleepless Monsoon</td><td>19</td></tr><tr><td>Thief Pelican</td><td>19</td></tr><tr><td>Flying Hook</td><td>19</td></tr><tr><td>Fury Murder</td><td>19</td></tr><tr><td>Gables Metropolis</td><td>19</td></tr><tr><td>Dinosaur Secretary</td><td>19</td></tr><tr><td>Club Graffiti</td><td>19</td></tr><tr><td>Gorgeous Bingo</td><td>19</td></tr><tr><td>Earring Instinct</td><td>19</td></tr><tr><td>Cider Desire</td><td>19</td></tr><tr><td>Tramp Others</td><td>19</td></tr><tr><td>Hanging Deep</td><td>19</td></tr><tr><td>Trojan Tomorrow</td><td>19</td></tr><tr><td>Details Packer</td><td>19</td></tr><tr><td>Honey Ties</td><td>19</td></tr><tr><td>Cheaper Clyde</td><td>19</td></tr><tr><td>Hours Rage</td><td>19</td></tr><tr><td>Something Duck</td><td>19</td></tr><tr><td>Igby Maker</td><td>19</td></tr><tr><td>Independence Hotel</td><td>19</td></tr><tr><td>Insider Arizona</td><td>19</td></tr><tr><td>Intrigue Worst</td><td>19</td></tr><tr><td>Desert Poseidon</td><td>19</td></tr><tr><td>Jerk Paycheck</td><td>19</td></tr><tr><td>Canyon Stock</td><td>19</td></tr><tr><td>Empire Malkovich</td><td>19</td></tr><tr><td>Road Roxanne</td><td>19</td></tr><tr><td>Bill Others</td><td>19</td></tr><tr><td>Love Suicides</td><td>19</td></tr><tr><td>Encino Elf</td><td>19</td></tr><tr><td>Encounters Curtain</td><td>19</td></tr><tr><td>Requiem Tycoon</td><td>19</td></tr><tr><td>Reign Gentlemen</td><td>19</td></tr><tr><td>Mars Roman</td><td>19</td></tr><tr><td>Masked Bubble</td><td>19</td></tr><tr><td>Wait Cider</td><td>19</td></tr><tr><td>Doors President</td><td>19</td></tr><tr><td>Minds Truman</td><td>19</td></tr><tr><td>Mine Titans</td><td>19</td></tr><tr><td>Voice Peach</td><td>19</td></tr><tr><td>Rage Games</td><td>19</td></tr><tr><td>Bride Intrigue</td><td>19</td></tr><tr><td>Backlash Undefeated</td><td>19</td></tr><tr><td>Sundance Invasion</td><td>19</td></tr><tr><td>Music Boondock</td><td>19</td></tr><tr><td>National Story</td><td>19</td></tr><tr><td>Racer Egg</td><td>18</td></tr><tr><td>Scarface Bang</td><td>18</td></tr><tr><td>Heaven Freedom</td><td>18</td></tr><tr><td>Wonka Sea</td><td>18</td></tr><tr><td>Pond Seattle</td><td>18</td></tr><tr><td>Groundhog Uncut</td><td>18</td></tr><tr><td>Groove Fiction</td><td>18</td></tr><tr><td>Lion Uncut</td><td>18</td></tr><tr><td>Campus Remember</td><td>18</td></tr><tr><td>Shawshank Bubble</td><td>18</td></tr><tr><td>Cleopatra Devil</td><td>18</td></tr><tr><td>Eyes Driving</td><td>18</td></tr><tr><td>Clones Pinocchio</td><td>18</td></tr><tr><td>Weekend Personal</td><td>18</td></tr><tr><td>Neighbors Charade</td><td>18</td></tr><tr><td>Expecations Natural</td><td>18</td></tr><tr><td>Barefoot Manchurian</td><td>18</td></tr><tr><td>Sweden Shining</td><td>18</td></tr><tr><td>Remember Diary</td><td>18</td></tr><tr><td>Galaxy Sweethearts</td><td>18</td></tr><tr><td>Birds Perdition</td><td>18</td></tr><tr><td>Vanishing Rocky</td><td>18</td></tr><tr><td>Forrest Sons</td><td>18</td></tr><tr><td>Airport Pollock</td><td>18</td></tr><tr><td>Smoking Barbarella</td><td>18</td></tr><tr><td>Darn Forrester</td><td>18</td></tr><tr><td>Whale Bikini</td><td>18</td></tr><tr><td>Boulevard Mob</td><td>18</td></tr><tr><td>Alone Trip</td><td>18</td></tr><tr><td>Dragonfly Strangers</td><td>18</td></tr><tr><td>Unforgiven Zoolander</td><td>18</td></tr><tr><td>Mission Zoolander</td><td>18</td></tr><tr><td>Enough Raging</td><td>18</td></tr><tr><td>Fiction Christmas</td><td>18</td></tr><tr><td>Patient Sister</td><td>18</td></tr><tr><td>Inch Jet</td><td>18</td></tr><tr><td>Insects Stone</td><td>18</td></tr><tr><td>Instinct Airport</td><td>18</td></tr><tr><td>Roxanne Rebel</td><td>18</td></tr><tr><td>Paradise Sabrina</td><td>18</td></tr><tr><td>Jacket Frisco</td><td>18</td></tr><tr><td>Jade Bunch</td><td>18</td></tr><tr><td>Fantasia Park</td><td>18</td></tr><tr><td>Hope Tootsie</td><td>18</td></tr><tr><td>Core Suit</td><td>18</td></tr><tr><td>Polish Brooklyn</td><td>18</td></tr><tr><td>Jet Neighbors</td><td>18</td></tr><tr><td>Carol Texas</td><td>18</td></tr><tr><td>Secretary Rouge</td><td>18</td></tr><tr><td>Hanover Galaxy</td><td>17</td></tr><tr><td>Dawn Pond</td><td>17</td></tr><tr><td>Pollock Deliverance</td><td>17</td></tr><tr><td>Sugar Wonka</td><td>17</td></tr><tr><td>Lady Stage</td><td>17</td></tr><tr><td>Bikini Borrowers</td><td>17</td></tr><tr><td>Lawless Vision</td><td>17</td></tr><tr><td>Flintstones Happiness</td><td>17</td></tr><tr><td>League Hellfighters</td><td>17</td></tr><tr><td>Zoolander Fiction</td><td>17</td></tr><tr><td>Rear Trading</td><td>17</td></tr><tr><td>Greek Everyone</td><td>17</td></tr><tr><td>Candidate Perdition</td><td>17</td></tr><tr><td>Satisfaction Confidential</td><td>17</td></tr><tr><td>Teen Apollo</td><td>17</td></tr><tr><td>Intentions Empire</td><td>17</td></tr><tr><td>Roots Remember</td><td>17</td></tr><tr><td>Taxi Kick</td><td>17</td></tr><tr><td>Joon Northwest</td><td>17</td></tr><tr><td>Egypt Tenenbaums</td><td>17</td></tr><tr><td>Poseidon Forever</td><td>17</td></tr><tr><td>Dying Maker</td><td>17</td></tr><tr><td>Louisiana Harry</td><td>17</td></tr><tr><td>Perfect Groove</td><td>17</td></tr><tr><td>United Pilot</td><td>17</td></tr><tr><td>Waterfront Deliverance</td><td>17</td></tr><tr><td>Driver Annie</td><td>17</td></tr><tr><td>Beach Heartbreakers</td><td>17</td></tr><tr><td>Comforts Rush</td><td>17</td></tr><tr><td>Ferris Mother</td><td>17</td></tr><tr><td>Gandhi Kwai</td><td>17</td></tr><tr><td>Newton Labyrinth</td><td>17</td></tr><tr><td>Idaho Love</td><td>17</td></tr><tr><td>Majestic Floats</td><td>17</td></tr><tr><td>Jericho Mulan</td><td>17</td></tr><tr><td>Factory Dragon</td><td>17</td></tr><tr><td>Disciple Mother</td><td>17</td></tr><tr><td>Noon Papi</td><td>17</td></tr><tr><td>French Holiday</td><td>17</td></tr><tr><td>Holocaust Highball</td><td>17</td></tr><tr><td>Freaky Pocus</td><td>17</td></tr><tr><td>Potter Connecticut</td><td>17</td></tr><tr><td>Confused Candles</td><td>17</td></tr><tr><td>Conversation Downhill</td><td>17</td></tr><tr><td>Rouge Squad</td><td>17</td></tr><tr><td>Sagebrush Clueless</td><td>16</td></tr><tr><td>Attacks Hate</td><td>16</td></tr><tr><td>Artist Coldblooded</td><td>16</td></tr><tr><td>Strangers Graffiti</td><td>16</td></tr><tr><td>Streak Ridgemont</td><td>16</td></tr><tr><td>Worst Banger</td><td>16</td></tr><tr><td>Summer Scarface</td><td>16</td></tr><tr><td>Army Flintstones</td><td>16</td></tr><tr><td>Conquerer Nuts</td><td>16</td></tr><tr><td>Dude Blindness</td><td>16</td></tr><tr><td>Gaslight Crusade</td><td>16</td></tr><tr><td>Daisy Menagerie</td><td>16</td></tr><tr><td>Hall Cassidy</td><td>16</td></tr><tr><td>Willow Tracy</td><td>16</td></tr><tr><td>Homeward Cider</td><td>16</td></tr><tr><td>Destiny Saturday</td><td>16</td></tr><tr><td>West Lion</td><td>16</td></tr><tr><td>Indian Love</td><td>16</td></tr><tr><td>Casablanca Super</td><td>16</td></tr><tr><td>Jeepers Wedding</td><td>16</td></tr><tr><td>Jekyll Frogmen</td><td>16</td></tr><tr><td>Lock Rear</td><td>16</td></tr><tr><td>Watch Tracy</td><td>16</td></tr><tr><td>Wizard Coldblooded</td><td>16</td></tr><tr><td>Bull Shawshank</td><td>16</td></tr><tr><td>Mask Peach</td><td>16</td></tr><tr><td>Wanda Chamber</td><td>16</td></tr><tr><td>Mermaid Insects</td><td>16</td></tr><tr><td>Midnight Westward</td><td>16</td></tr><tr><td>Motions Details</td><td>16</td></tr><tr><td>Moulin Wake</td><td>16</td></tr><tr><td>Mummy Creatures</td><td>16</td></tr><tr><td>Breakfast Goldfinger</td><td>16</td></tr><tr><td>Musketeers Wait</td><td>16</td></tr><tr><td>Virgin Daisy</td><td>16</td></tr><tr><td>Varsity Trip</td><td>16</td></tr><tr><td>Orient Closer</td><td>16</td></tr><tr><td>Bonnie Holocaust</td><td>16</td></tr><tr><td>Patriot Roman</td><td>16</td></tr><tr><td>Paycheck Wait</td><td>16</td></tr><tr><td>Pickup Driving</td><td>16</td></tr><tr><td>Pilot Hoosiers</td><td>16</td></tr><tr><td>Pluto Oleander</td><td>16</td></tr><tr><td>Uprising Uptown</td><td>16</td></tr><tr><td>Pride Alamo</td><td>16</td></tr><tr><td>Pure Runner</td><td>16</td></tr><tr><td>Quills Bull</td><td>16</td></tr><tr><td>Reap Unfaithful</td><td>16</td></tr><tr><td>Creatures Shakespeare</td><td>16</td></tr><tr><td>Rocky War</td><td>16</td></tr><tr><td>Rules Human</td><td>16</td></tr><tr><td>Craft Outfield</td><td>16</td></tr><tr><td>Silence Kane</td><td>16</td></tr><tr><td>Trap Guys</td><td>16</td></tr><tr><td>Slacker Liaisons</td><td>16</td></tr><tr><td>Slipper Fidelity</td><td>16</td></tr><tr><td>Baked Cleopatra</td><td>16</td></tr><tr><td>Submarine Bed</td><td>15</td></tr><tr><td>Holiday Games</td><td>15</td></tr><tr><td>Scissorhands Slums</td><td>15</td></tr><tr><td>Worker Tarzan</td><td>15</td></tr><tr><td>Holes Brannigan</td><td>15</td></tr><tr><td>Chicago North</td><td>15</td></tr><tr><td>Loser Hustler</td><td>15</td></tr><tr><td>Airplane Sierra</td><td>15</td></tr><tr><td>Rings Heartbreakers</td><td>15</td></tr><tr><td>Devil Desire</td><td>15</td></tr><tr><td>Monster Spartacus</td><td>15</td></tr><tr><td>Circus Youth</td><td>15</td></tr><tr><td>Lonely Elephant</td><td>15</td></tr><tr><td>Modern Dorado</td><td>15</td></tr><tr><td>Graduate Lord</td><td>15</td></tr><tr><td>Nash Chocolat</td><td>15</td></tr><tr><td>Ship Wonderland</td><td>15</td></tr><tr><td>Coldblooded Darling</td><td>15</td></tr><tr><td>Command Darling</td><td>15</td></tr><tr><td>Rock Instinct</td><td>15</td></tr><tr><td>Shrek License</td><td>15</td></tr><tr><td>Spirit Flintstones</td><td>15</td></tr><tr><td>Dirty Ace</td><td>15</td></tr><tr><td>Siege Madre</td><td>15</td></tr><tr><td>Sierra Divide</td><td>15</td></tr><tr><td>Tootsie Pilot</td><td>15</td></tr><tr><td>Labyrinth League</td><td>15</td></tr><tr><td>Translation Summer</td><td>15</td></tr><tr><td>Cyclone Family</td><td>15</td></tr><tr><td>Wasteland Divine</td><td>15</td></tr><tr><td>Necklace Outbreak</td><td>15</td></tr><tr><td>Manchurian Curtain</td><td>15</td></tr><tr><td>Betrayed Rear</td><td>15</td></tr><tr><td>Cabin Flash</td><td>15</td></tr><tr><td>Valley Packer</td><td>15</td></tr><tr><td>Illusion Amelie</td><td>15</td></tr><tr><td>Anthem Luke</td><td>15</td></tr><tr><td>Hysterical Grail</td><td>15</td></tr><tr><td>Panther Reds</td><td>15</td></tr><tr><td>Panky Submarine</td><td>15</td></tr><tr><td>Charade Duffel</td><td>15</td></tr><tr><td>Divine Resurrection</td><td>15</td></tr><tr><td>Sweet Brotherhood</td><td>15</td></tr><tr><td>Odds Boogie</td><td>15</td></tr><tr><td>Words Hunter</td><td>15</td></tr><tr><td>Mosquito Armageddon</td><td>15</td></tr><tr><td>Entrapment Satisfaction</td><td>15</td></tr><tr><td>Steers Armageddon</td><td>15</td></tr><tr><td>Hunting Musketeers</td><td>15</td></tr><tr><td>Human Graffiti</td><td>15</td></tr><tr><td>Edge Kissing</td><td>15</td></tr><tr><td>Madison Trap</td><td>15</td></tr><tr><td>Town Ark</td><td>14</td></tr><tr><td>Nemo Campus</td><td>14</td></tr><tr><td>Mother Oleander</td><td>14</td></tr><tr><td>Model Fish</td><td>14</td></tr><tr><td>Virtual Spoilers</td><td>14</td></tr><tr><td>Uncut Suicides</td><td>14</td></tr><tr><td>Dances None</td><td>14</td></tr><tr><td>Madre Gables</td><td>14</td></tr><tr><td>Lust Lock</td><td>14</td></tr><tr><td>Werewolf Lola</td><td>14</td></tr><tr><td>Day Unfaithful</td><td>14</td></tr><tr><td>Wrath Mile</td><td>14</td></tr><tr><td>Deep Crusade</td><td>14</td></tr><tr><td>Kane Exorcist</td><td>14</td></tr><tr><td>Elephant Trojan</td><td>14</td></tr><tr><td>Jaws Harry</td><td>14</td></tr><tr><td>Impossible Prejudice</td><td>14</td></tr><tr><td>Image Princess</td><td>14</td></tr><tr><td>Stock Glass</td><td>14</td></tr><tr><td>Donnie Alley</td><td>14</td></tr><tr><td>Turn Star</td><td>14</td></tr><tr><td>Home Pity</td><td>14</td></tr><tr><td>Troopers Metal</td><td>14</td></tr><tr><td>Searchers Wait</td><td>14</td></tr><tr><td>Hamlet Wisdom</td><td>14</td></tr><tr><td>Greedy Roots</td><td>14</td></tr><tr><td>Shane Darkness</td><td>14</td></tr><tr><td>Shanghai Tycoon</td><td>14</td></tr><tr><td>Gold River</td><td>14</td></tr><tr><td>Games Bowfinger</td><td>14</td></tr><tr><td>Shrunk Divine</td><td>14</td></tr><tr><td>Sons Interview</td><td>14</td></tr><tr><td>Stampede Disturbing</td><td>14</td></tr><tr><td>Confessions Maguire</td><td>14</td></tr><tr><td>Splash Gump</td><td>14</td></tr><tr><td>Personal Ladybugs</td><td>14</td></tr><tr><td>Analyze Hoosiers</td><td>14</td></tr><tr><td>Tomatoes Hellfighters</td><td>14</td></tr><tr><td>Peach Innocent</td><td>14</td></tr><tr><td>Creepers Kane</td><td>14</td></tr><tr><td>Blindness Gun</td><td>14</td></tr><tr><td>Paris Weekend</td><td>14</td></tr><tr><td>Pajama Jawbreaker</td><td>14</td></tr><tr><td>Boiled Dares</td><td>14</td></tr><tr><td>Alley Evolution</td><td>14</td></tr><tr><td>Vietnam Smoochy</td><td>14</td></tr><tr><td>Notorious Reunion</td><td>13</td></tr><tr><td>Drums Dynamite</td><td>13</td></tr><tr><td>Daddy Pittsburgh</td><td>13</td></tr><tr><td>Everyone Craft</td><td>13</td></tr><tr><td>Exorcist Sting</td><td>13</td></tr><tr><td>Express Lonely</td><td>13</td></tr><tr><td>Connecticut Tramp</td><td>13</td></tr><tr><td>Flash Wars</td><td>13</td></tr><tr><td>Forever Candidate</td><td>13</td></tr><tr><td>Glass Dying</td><td>13</td></tr><tr><td>Citizen Shrek</td><td>13</td></tr><tr><td>Grinch Massage</td><td>13</td></tr><tr><td>Cincinatti Whisperer</td><td>13</td></tr><tr><td>Chisum Behavior</td><td>13</td></tr><tr><td>Hollywood Anonymous</td><td>13</td></tr><tr><td>Hook Chariots</td><td>13</td></tr><tr><td>Champion Flatliners</td><td>13</td></tr><tr><td>Identity Lover</td><td>13</td></tr><tr><td>Chamber Italian</td><td>13</td></tr><tr><td>Jingle Sagebrush</td><td>13</td></tr><tr><td>Lawrence Love</td><td>13</td></tr><tr><td>Lovely Jingle</td><td>13</td></tr><tr><td>Lucky Flying</td><td>13</td></tr><tr><td>Caddyshack Jedi</td><td>13</td></tr><tr><td>Microcosmos Paradise</td><td>13</td></tr><tr><td>Mile Mulan</td><td>13</td></tr><tr><td>Bright Encounters</td><td>13</td></tr><tr><td>Monterey Labyrinth</td><td>13</td></tr><tr><td>Moonwalker Fool</td><td>13</td></tr><tr><td>Breaking Home</td><td>13</td></tr><tr><td>Mulan Moon</td><td>13</td></tr><tr><td>Natural Stock</td><td>13</td></tr><tr><td>Opposite Necklace</td><td>13</td></tr><tr><td>Outlaw Hanky</td><td>13</td></tr><tr><td>Party Knock</td><td>13</td></tr><tr><td>Past Suicides</td><td>13</td></tr><tr><td>Purple Movie</td><td>13</td></tr><tr><td>Raging Airplane</td><td>13</td></tr><tr><td>Bilko Anonymous</td><td>13</td></tr><tr><td>Robbery Bright</td><td>13</td></tr><tr><td>Saddle Antitrust</td><td>13</td></tr><tr><td>Behavior Runaway</td><td>13</td></tr><tr><td>Sassy Packer</td><td>13</td></tr><tr><td>Saturn Name</td><td>13</td></tr><tr><td>Spiking Element</td><td>13</td></tr><tr><td>Spinal Rocky</td><td>13</td></tr><tr><td>State Wasteland</td><td>13</td></tr><tr><td>Super Wyoming</td><td>13</td></tr><tr><td>Arabia Dogma</td><td>13</td></tr><tr><td>Anonymous Human</td><td>13</td></tr><tr><td>Wyoming Storm</td><td>13</td></tr><tr><td>Tenenbaums Command</td><td>13</td></tr><tr><td>Tuxedo Mile</td><td>13</td></tr><tr><td>Date Speed</td><td>13</td></tr><tr><td>Darkness War</td><td>13</td></tr><tr><td>Alabama Devil</td><td>12</td></tr><tr><td>Smoochy Control</td><td>12</td></tr><tr><td>Memento Zoolander</td><td>12</td></tr><tr><td>War Notting</td><td>12</td></tr><tr><td>Meet Chocolate</td><td>12</td></tr><tr><td>Massage Image</td><td>12</td></tr><tr><td>Silverado Goldfinger</td><td>12</td></tr><tr><td>Uptown Young</td><td>12</td></tr><tr><td>Loverboy Attacks</td><td>12</td></tr><tr><td>Lost Bird</td><td>12</td></tr><tr><td>Usual Untouchables</td><td>12</td></tr><tr><td>Blanket Beverly</td><td>12</td></tr><tr><td>African Egg</td><td>12</td></tr><tr><td>Liberty Magnificent</td><td>12</td></tr><tr><td>Valentine Vanishing</td><td>12</td></tr><tr><td>Window Side</td><td>12</td></tr><tr><td>Pittsburgh Hunchback</td><td>12</td></tr><tr><td>Hunger Roof</td><td>12</td></tr><tr><td>Hedwig Alter</td><td>12</td></tr><tr><td>Vampire Whale</td><td>12</td></tr><tr><td>Gunfighter Mussolini</td><td>12</td></tr><tr><td>Born Spinal</td><td>12</td></tr><tr><td>Side Ark</td><td>12</td></tr><tr><td>Tycoon Gathering</td><td>12</td></tr><tr><td>Flight Lies</td><td>12</td></tr><tr><td>Finding Anaconda</td><td>12</td></tr><tr><td>Speakeasy Date</td><td>12</td></tr><tr><td>Bedazzled Married</td><td>12</td></tr><tr><td>Brannigan Sunrise</td><td>12</td></tr><tr><td>Evolution Alter</td><td>12</td></tr><tr><td>Crow Grease</td><td>12</td></tr><tr><td>Adaptation Holes</td><td>12</td></tr><tr><td>Savannah Town</td><td>12</td></tr><tr><td>Mob Duffel</td><td>12</td></tr><tr><td>Sorority Queen</td><td>12</td></tr><tr><td>Temple Attraction</td><td>12</td></tr><tr><td>Feathers Metal</td><td>11</td></tr><tr><td>Darko Dorado</td><td>11</td></tr><tr><td>Cranes Reservoir</td><td>11</td></tr><tr><td>Dragon Squad</td><td>11</td></tr><tr><td>Dangerous Uptown</td><td>11</td></tr><tr><td>Ties Hunger</td><td>11</td></tr><tr><td>Thin Sagebrush</td><td>11</td></tr><tr><td>Theory Mermaid</td><td>11</td></tr><tr><td>Stranger Strangers</td><td>11</td></tr><tr><td>Autumn Crow</td><td>11</td></tr><tr><td>Stone Fire</td><td>11</td></tr><tr><td>Towers Hurricane</td><td>11</td></tr><tr><td>Spirited Casualties</td><td>11</td></tr><tr><td>Trainspotting Strangers</td><td>11</td></tr><tr><td>Song Hedwig</td><td>11</td></tr><tr><td>Beast Hunchback</td><td>11</td></tr><tr><td>Beethoven Exorcist</td><td>11</td></tr><tr><td>Santa Paris</td><td>11</td></tr><tr><td>Ending Crowds</td><td>11</td></tr><tr><td>Twisted Pirates</td><td>11</td></tr><tr><td>Rider Caddyshack</td><td>11</td></tr><tr><td>Reef Salute</td><td>11</td></tr><tr><td>Birch Antitrust</td><td>11</td></tr><tr><td>Bird Independence</td><td>11</td></tr><tr><td>Prix Undefeated</td><td>11</td></tr><tr><td>Potluck Mixed</td><td>11</td></tr><tr><td>Opus Ice</td><td>11</td></tr><tr><td>October Submarine</td><td>11</td></tr><tr><td>North Tequila</td><td>11</td></tr><tr><td>Bowfinger Gables</td><td>11</td></tr><tr><td>Mod Secretary</td><td>11</td></tr><tr><td>Minority Kiss</td><td>11</td></tr><tr><td>Mighty Luck</td><td>11</td></tr><tr><td>Bugsy Song</td><td>11</td></tr><tr><td>Magnolia Forrester</td><td>11</td></tr><tr><td>California Birds</td><td>11</td></tr><tr><td>Lord Arizona</td><td>11</td></tr><tr><td>Language Cowboy</td><td>11</td></tr><tr><td>Iron Moon</td><td>11</td></tr><tr><td>Drumline Cyclone</td><td>11</td></tr><tr><td>Gathering Calendar</td><td>11</td></tr><tr><td>Fugitive Maguire</td><td>11</td></tr><tr><td>Frida Slipper</td><td>11</td></tr></table>"
                    },
                    "metadata": {}
                }
            ],
            "execution_count": 28
        },
        {
            "cell_type": "markdown",
            "source": [
                "## **Q4. Identify customers who made their first rental after a specific date.**\n",
                "\n",
                "- Find the earliest rental date for each customer and compare it to the given date.\n",
                "\n",
                "### ChatGPT result :"
            ],
            "metadata": {
                "azdata_cell_guid": "db8d45ab-32ec-4a5d-a72b-d7ac2fea6588"
            },
            "attachments": {}
        },
        {
            "cell_type": "code",
            "source": [
                "SELECT \r\n",
                "    c.customer_id,\r\n",
                "    c.first_name,\r\n",
                "    c.last_name,\r\n",
                "    MIN(r.rental_date) AS first_rental_date\r\n",
                "FROM \r\n",
                "    customer c\r\n",
                "    INNER JOIN rental r ON c.customer_id = r.customer_id\r\n",
                "GROUP BY \r\n",
                "    c.customer_id, c.first_name, c.last_name\r\n",
                "HAVING \r\n",
                "    MIN(r.rental_date) > '2005-07-01'\r\n",
                "ORDER BY \r\n",
                "    first_rental_date;\r\n",
                ""
            ],
            "metadata": {
                "azdata_cell_guid": "5b279842-fc52-47d0-964c-5e3e7c241600",
                "language": "sql"
            },
            "outputs": [
                {
                    "output_type": "display_data",
                    "data": {
                        "text/html": "(1 row(s) affected)"
                    },
                    "metadata": {}
                },
                {
                    "output_type": "display_data",
                    "data": {
                        "text/html": "Total execution time: 00:00:00.007"
                    },
                    "metadata": {}
                },
                {
                    "output_type": "execute_result",
                    "execution_count": 41,
                    "data": {
                        "application/vnd.dataresource+json": {
                            "schema": {
                                "fields": [
                                    {
                                        "name": "customer_id"
                                    },
                                    {
                                        "name": "first_name"
                                    },
                                    {
                                        "name": "last_name"
                                    },
                                    {
                                        "name": "first_rental_date"
                                    }
                                ]
                            },
                            "data": [
                                {
                                    "customer_id": "195",
                                    "first_name": "Vanessa",
                                    "last_name": "Sims",
                                    "first_rental_date": "2005-07-07 13:01:35"
                                }
                            ]
                        },
                        "text/html": "<table><tr><th>customer_id</th><th>first_name</th><th>last_name</th><th>first_rental_date</th></tr><tr><td>195</td><td>Vanessa</td><td>Sims</td><td>2005-07-07 13:01:35</td></tr></table>"
                    },
                    "metadata": {}
                }
            ],
            "execution_count": 41
        },
        {
            "cell_type": "markdown",
            "source": [
                "### My Code :"
            ],
            "metadata": {
                "language": "sql",
                "azdata_cell_guid": "896705bd-5dbb-4a42-96bb-cb130eba0b6f"
            },
            "attachments": {}
        },
        {
            "cell_type": "code",
            "source": [
                "SELECT r.customer_id,\r\n",
                "    r.rental_date,\r\n",
                "    c.first_name,\r\n",
                "    c.last_name\r\n",
                "FROM rental r \r\n",
                "    INNER JOIN customer c ON r.customer_id = c.customer_id\r\n",
                "    WHERE r.rental_date > '2005-07-01'\r\n",
                "ORDER BY r.rental_date ASC\r\n",
                "LIMIT 1"
            ],
            "metadata": {
                "language": "sql",
                "azdata_cell_guid": "20e5fc5e-04d9-4125-9f8c-9a1e1f442b82"
            },
            "outputs": [
                {
                    "output_type": "display_data",
                    "data": {
                        "text/html": "(1 row(s) affected)"
                    },
                    "metadata": {}
                },
                {
                    "output_type": "display_data",
                    "data": {
                        "text/html": "Total execution time: 00:00:00.002"
                    },
                    "metadata": {}
                },
                {
                    "output_type": "execute_result",
                    "execution_count": 39,
                    "data": {
                        "application/vnd.dataresource+json": {
                            "schema": {
                                "fields": [
                                    {
                                        "name": "customer_id"
                                    },
                                    {
                                        "name": "rental_date"
                                    },
                                    {
                                        "name": "first_name"
                                    },
                                    {
                                        "name": "last_name"
                                    }
                                ]
                            },
                            "data": [
                                {
                                    "customer_id": "565",
                                    "rental_date": "2005-07-05 22:49:24",
                                    "first_name": "Jaime",
                                    "last_name": "Nettles"
                                }
                            ]
                        },
                        "text/html": "<table><tr><th>customer_id</th><th>rental_date</th><th>first_name</th><th>last_name</th></tr><tr><td>565</td><td>2005-07-05 22:49:24</td><td>Jaime</td><td>Nettles</td></tr></table>"
                    },
                    "metadata": {}
                }
            ],
            "execution_count": 39
        },
        {
            "cell_type": "markdown",
            "source": [
                "# Explaination"
            ],
            "metadata": {
                "language": "sql",
                "azdata_cell_guid": "5f5c6573-659b-4d8d-ac17-131a8674b0e5"
            },
            "attachments": {}
        },
        {
            "cell_type": "markdown",
            "source": [
                "The discrepancy between the two results you’re seeing stems from the difference in how each query is structured and the logic it uses to identify the customers and their rental dates. Let’s break down both queries to understand why they produce different outputs.\n",
                "\n",
                "### Query 1: My CODE\n",
                "\n",
                "```\n",
                "SELECT r.customer_id,    r.rental_date,\n",
                "    c.first_name,\n",
                "    c.last_name\n",
                "FROM rental r \n",
                "    INNER JOIN customer c ON r.customer_id = c.customer_id\n",
                "WHERE r.rental_date > '2005-07-01'\n",
                "ORDER BY r.rental_date ASC\n",
                "LIMIT 1;\n",
                "\n",
                "```\n",
                "\n",
                "#### Breakdown\n",
                "\n",
                "1. **Join**: The query joins the `rental` table with the `customer` table to get customer details along with rental information.\n",
                "2. **Filter**: The `WHERE` clause filters out all rentals that occurred before `'2005-07-01'`.\n",
                "3. **Order**: The `ORDER BY` clause sorts the resulting records by the `rental_date` in ascending order.\n",
                "4. **Limit**: The `LIMIT 1` clause then returns the first row from the sorted results.\n",
                "\n",
                "#### Result Explanation\n",
                "\n",
                "- This query will find the earliest rental that occurred after `'2005-07-01'`. The result you got is:\n",
                "    \n",
                "    ```\n",
                "    customer_id  rental_date          first_name  last_name565          2005-07-05 22:49:24  Jaime       Nettles\n",
                "    \n",
                "    ```\n",
                "    \n",
                "- **Why this Result?**: This result represents the very first rental (earliest `rental_date`) in the database that happened after the specified date (`'2005-07-01'`). It does not specifically look for a customer’s **first-ever rental date** but rather the first rental record that meets the filter criteria.\n",
                "    \n",
                "\n",
                "### Query 2: ChatGPT\n",
                "\n",
                "```\n",
                "SELECT     c.customer_id,\n",
                "    c.first_name,\n",
                "    c.last_name,\n",
                "    MIN(r.rental_date) AS first_rental_date\n",
                "FROM \n",
                "    customer c\n",
                "    INNER JOIN rental r ON c.customer_id = r.customer_id\n",
                "GROUP BY \n",
                "    c.customer_id, c.first_name, c.last_name\n",
                "HAVING \n",
                "    MIN(r.rental_date) > '2005-07-01'\n",
                "ORDER BY \n",
                "    first_rental_date\n",
                "LIMIT 1;\n",
                "\n",
                "```\n",
                "\n",
                "#### Breakdown\n",
                "\n",
                "1. **Join**: The query joins the `customer` table with the `rental` table.\n",
                "2. **Grouping**: It groups the data by `customer_id`, `first_name`, and `last_name`, ensuring each customer is treated as a unique entity.\n",
                "3. **Aggregate Function (`MIN`)**: The `MIN(r.rental_date)` function calculates the earliest rental date (`first_rental_date`) for each customer.\n",
                "4. **Filter with `HAVING`**: The `HAVING` clause filters out customers whose earliest rental date (`first_rental_date`) is not after `'2005-07-01'`.\n",
                "5. **Order and Limit**: The results are then ordered by the `first_rental_date`, and the first row is returned using `LIMIT 1`.\n",
                "\n",
                "#### Result Explanation\n",
                "\n",
                "- This query specifically finds the customer whose **first-ever rental** was after `'2005-07-01'`. The result you got is:\n",
                "    \n",
                "    ```\n",
                "    customer_id  first_name  last_name  first_rental_date195          Vanessa     Sims       2005-07-07 13:01:35\n",
                "    \n",
                "    ```\n",
                "    \n",
                "- **Why this Result?**: This result is looking at the first rental each customer ever made and checks if that date is after `'2005-07-01'`. It then picks the customer whose first rental date is the earliest among all customers who meet this criterion.\n",
                "    \n",
                "\n",
                "### Summary of Differences\n",
                "\n",
                "- **Your Query**: Finds the earliest rental overall after a specific date, regardless of whether it’s the customer’s first rental.\n",
                "- **My Query**: Finds the customer whose first rental occurred after the specific date.\n",
                "\n",
                "### Choosing the Right Query\n",
                "\n",
                "- **If you want the earliest rental after a specific date, regardless of customer**: Use your query.\n",
                "- **If you want to find customers who made their first rental after a specific date**: Use my query.\n",
                "\n",
                "This distinction is crucial for understanding the output and ensuring that the query aligns with the intended question."
            ],
            "metadata": {
                "language": "sql",
                "azdata_cell_guid": "9bf69277-5ca3-41cc-9e68-7886be8b59de"
            },
            "attachments": {}
        },
        {
            "cell_type": "markdown",
            "source": [
                "## **Q5. Calculate the percentage of total revenue generated by each film category.**\n",
                "\n",
                "- Calculate total revenue for each category and total overall revenue, then calculate the percentage."
            ],
            "metadata": {
                "language": "sql",
                "azdata_cell_guid": "4ee7229d-04ad-41d6-9733-503e6a1f135d"
            },
            "attachments": {}
        },
        {
            "cell_type": "code",
            "source": [
                "WITH percentage_film_category AS (\r\n",
                "    SELECT \r\n",
                "        c.name AS film_category,\r\n",
                "        SUM(p.amount) AS revenue\r\n",
                "    FROM \r\n",
                "        film f\r\n",
                "        INNER JOIN film_category fc ON f.film_id = fc.film_id\r\n",
                "        INNER JOIN category c ON fc.category_id = c.category_id\r\n",
                "        INNER JOIN inventory i ON f.film_id = i.film_id\r\n",
                "        INNER JOIN rental r ON i.inventory_id = r.inventory_id\r\n",
                "        INNER JOIN payment p ON r.rental_id = p.rental_id\r\n",
                "    GROUP BY film_category\r\n",
                "    ORDER BY revenue DESC\r\n",
                "),\r\n",
                "total_revenue AS (\r\n",
                "    SELECT SUM(revenue) AS total\r\n",
                "    FROM percentage_film_category\r\n",
                ")\r\n",
                "SELECT \r\n",
                "    pfc.film_category,\r\n",
                "    pfc.revenue,\r\n",
                "    (pfc.revenue / tr.total) * 100 AS percentage_of_total_revenue\r\n",
                "FROM \r\n",
                "    percentage_film_category pfc, total_revenue tr\r\n",
                "ORDER BY \r\n",
                "    percentage_of_total_revenue DESC;"
            ],
            "metadata": {
                "azdata_cell_guid": "f22e25c1-f858-4474-a589-03c9062bbde2",
                "language": "sql"
            },
            "outputs": [
                {
                    "output_type": "display_data",
                    "data": {
                        "text/html": "(16 row(s) affected)"
                    },
                    "metadata": {}
                },
                {
                    "output_type": "display_data",
                    "data": {
                        "text/html": "Total execution time: 00:00:00.030"
                    },
                    "metadata": {}
                },
                {
                    "output_type": "execute_result",
                    "execution_count": 61,
                    "data": {
                        "application/vnd.dataresource+json": {
                            "schema": {
                                "fields": [
                                    {
                                        "name": "film_category"
                                    },
                                    {
                                        "name": "revenue"
                                    },
                                    {
                                        "name": "percentage_of_total_revenue"
                                    }
                                ]
                            },
                            "data": [
                                {
                                    "film_category": "Sports",
                                    "revenue": "4892.19",
                                    "percentage_of_total_revenue": "7.97916689772514501200"
                                },
                                {
                                    "film_category": "Sci-Fi",
                                    "revenue": "4336.01",
                                    "percentage_of_total_revenue": "7.07203674841026330200"
                                },
                                {
                                    "film_category": "Animation",
                                    "revenue": "4245.31",
                                    "percentage_of_total_revenue": "6.92410495556827011500"
                                },
                                {
                                    "film_category": "Drama",
                                    "revenue": "4118.46",
                                    "percentage_of_total_revenue": "6.71721247572254976300"
                                },
                                {
                                    "film_category": "Comedy",
                                    "revenue": "4002.48",
                                    "percentage_of_total_revenue": "6.52804897700353796700"
                                },
                                {
                                    "film_category": "New",
                                    "revenue": "3966.38",
                                    "percentage_of_total_revenue": "6.46916984005099161600"
                                },
                                {
                                    "film_category": "Action",
                                    "revenue": "3951.84",
                                    "percentage_of_total_revenue": "6.44545508516761145100"
                                },
                                {
                                    "film_category": "Foreign",
                                    "revenue": "3934.47",
                                    "percentage_of_total_revenue": "6.41712459738739732000"
                                },
                                {
                                    "film_category": "Games",
                                    "revenue": "3922.18",
                                    "percentage_of_total_revenue": "6.39707959480715370100"
                                },
                                {
                                    "film_category": "Family",
                                    "revenue": "3830.15",
                                    "percentage_of_total_revenue": "6.24697857060375091100"
                                },
                                {
                                    "film_category": "Documentary",
                                    "revenue": "3749.65",
                                    "percentage_of_total_revenue": "6.11568298820264339600"
                                },
                                {
                                    "film_category": "Horror",
                                    "revenue": "3401.27",
                                    "percentage_of_total_revenue": "5.54747485159521686100"
                                },
                                {
                                    "film_category": "Classics",
                                    "revenue": "3353.38",
                                    "percentage_of_total_revenue": "5.46936621257423501200"
                                },
                                {
                                    "film_category": "Children",
                                    "revenue": "3309.39",
                                    "percentage_of_total_revenue": "5.39761847754535650700"
                                },
                                {
                                    "film_category": "Travel",
                                    "revenue": "3227.36",
                                    "percentage_of_total_revenue": "5.26382746357811614200"
                                },
                                {
                                    "film_category": "Music",
                                    "revenue": "3071.52",
                                    "percentage_of_total_revenue": "5.00965226405776092300"
                                }
                            ]
                        },
                        "text/html": "<table><tr><th>film_category</th><th>revenue</th><th>percentage_of_total_revenue</th></tr><tr><td>Sports</td><td>4892.19</td><td>7.97916689772514501200</td></tr><tr><td>Sci-Fi</td><td>4336.01</td><td>7.07203674841026330200</td></tr><tr><td>Animation</td><td>4245.31</td><td>6.92410495556827011500</td></tr><tr><td>Drama</td><td>4118.46</td><td>6.71721247572254976300</td></tr><tr><td>Comedy</td><td>4002.48</td><td>6.52804897700353796700</td></tr><tr><td>New</td><td>3966.38</td><td>6.46916984005099161600</td></tr><tr><td>Action</td><td>3951.84</td><td>6.44545508516761145100</td></tr><tr><td>Foreign</td><td>3934.47</td><td>6.41712459738739732000</td></tr><tr><td>Games</td><td>3922.18</td><td>6.39707959480715370100</td></tr><tr><td>Family</td><td>3830.15</td><td>6.24697857060375091100</td></tr><tr><td>Documentary</td><td>3749.65</td><td>6.11568298820264339600</td></tr><tr><td>Horror</td><td>3401.27</td><td>5.54747485159521686100</td></tr><tr><td>Classics</td><td>3353.38</td><td>5.46936621257423501200</td></tr><tr><td>Children</td><td>3309.39</td><td>5.39761847754535650700</td></tr><tr><td>Travel</td><td>3227.36</td><td>5.26382746357811614200</td></tr><tr><td>Music</td><td>3071.52</td><td>5.00965226405776092300</td></tr></table>"
                    },
                    "metadata": {}
                }
            ],
            "execution_count": 61
        }
    ]
}