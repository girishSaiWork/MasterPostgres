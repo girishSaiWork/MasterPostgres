{
    "metadata": {
        "kernelspec": {
            "name": "SQL",
            "display_name": "SQL",
            "language": "sql"
        },
        "language_info": {
            "name": "sql",
            "version": ""
        }
    },
    "nbformat_minor": 2,
    "nbformat": 4,
    "cells": [
        {
            "cell_type": "markdown",
            "source": [
                "# AGGREGATE functions in PostgresSQL\n",
                "\n",
                "## What are Aggregate Functions in SQL?\n",
                "\n",
                "**Aggregate functions** in SQL are special functions that perform a calculation on a set of values and return a single value. These functions are commonly used in conjunction with the `GROUP BY` clause to group rows that share a common attribute and to calculate a summary statistic for each group. Aggregate functions can also be used without `GROUP BY` to calculate a summary statistic for the entire result set.\n",
                "\n",
                "## Common Aggregate Functions\n",
                "\n",
                "Here are the most commonly used aggregate functions in SQL:\n",
                "\n",
                "1. **`COUNT()`**: Returns the number of rows in a group.\n",
                "2. **`SUM()`**: Returns the sum of all values in a group.\n",
                "3. **`AVG()`**: Returns the average of all values in a group.\n",
                "4. **`MIN()`**: Returns the smallest value in a group.\n",
                "5. **`MAX()`**: Returns the largest value in a group.\n",
                "6. **`VARIANCE()`**: Returns the variance of the values in a group.\n",
                "7. **`STDDEV()`**: Returns the standard deviation of the values in a group.\n",
                "\n",
                "## Why are Aggregate Functions Used?\n",
                "\n",
                "### 1\\. Data Summarization\n",
                "\n",
                "- **Summary Statistics**: Aggregate functions allow you to compute summary statistics such as totals, averages, minimums, and maximums, providing insights into the data.\n",
                "- **Reporting**: They are essential for creating reports that require summarized data, such as monthly sales totals, average customer satisfaction scores, and more.\n",
                "\n",
                "### 2\\. Data Analysis\n",
                "\n",
                "- **Trends and Patterns**: Aggregate functions help identify trends and patterns in data by summarizing it across different dimensions.\n",
                "- **Comparative Analysis**: They allow for comparative analysis by summarizing data for different groups or time periods.\n",
                "\n",
                "### 3\\. Data Filtering and Segmentation\n",
                "\n",
                "- **Filtering**: Aggregate functions can be used with the `HAVING` clause to filter groups based on the results of aggregate calculations.\n",
                "- **Segmentation**: They help in segmenting data into different categories based on aggregate values, such as high, medium, and low performers.\n",
                "\n",
                "### 4\\. Performance Optimization\n",
                "\n",
                "- **Efficiency**: Aggregate functions enable you to perform complex calculations within the database, reducing the amount of data transferred to the application and improving performance.\n",
                "- **Data Reduction**: They reduce the amount of data returned by a query, making it easier to manage and analyze large datasets.\n",
                "\n",
                "## How to Use Aggregate Functions in SQL\n",
                "\n",
                "### Example 1: Using `COUNT()`\n",
                "\n",
                "To count the number of orders placed by each customer:\n",
                "\n",
                "```\n",
                "SELECT customer_id, COUNT(order_id) AS order_countFROM orders\n",
                "GROUP BY customer_id;\n",
                "\n",
                "```\n",
                "\n",
                "### Example 2: Using `SUM()`\n",
                "\n",
                "To calculate the total sales for each product:\n",
                "\n",
                "```\n",
                "SELECT product_id, SUM(quantity * price) AS total_salesFROM sales\n",
                "GROUP BY product_id;\n",
                "\n",
                "```\n",
                "\n",
                "### Example 3: Using `AVG()`\n",
                "\n",
                "To find the average salary of employees in each department:\n",
                "\n",
                "```\n",
                "SELECT department_id, AVG(salary) AS average_salaryFROM employees\n",
                "GROUP BY department_id;\n",
                "\n",
                "```\n",
                "\n",
                "### Example 4: Using `MIN()` and `MAX()`\n",
                "\n",
                "To find the minimum and maximum order amounts:\n",
                "\n",
                "```\n",
                "SELECT MIN(order_amount) AS min_order, MAX(order_amount) AS max_orderFROM orders;\n",
                "\n",
                "```\n",
                "\n",
                "### Example 5: Using `HAVING` with Aggregate Functions\n",
                "\n",
                "To find departments with an average salary greater than $50,000:\n",
                "\n",
                "```\n",
                "SELECT department_id, AVG(salary) AS average_salaryFROM employees\n",
                "GROUP BY department_id\n",
                "HAVING AVG(salary) > 50000;\n",
                "\n",
                "```\n",
                "\n",
                "## Best Practices for Using Aggregate Functions\n",
                "\n",
                "1. **Use with `GROUP BY`**: When using aggregate functions, always include the `GROUP BY` clause if you want to group rows based on specific columns.\n",
                "2. **Filter with `HAVING`**: Use the `HAVING` clause to filter groups based on aggregate values.\n",
                "3. **Optimize with Indexes**: Consider indexing the columns used in `GROUP BY` to improve query performance.\n",
                "4. **Avoid Nested Aggregates**: Avoid nesting aggregate functions as it can make queries complex and slow.\n",
                "\n",
                "## Summary\n",
                "\n",
                "Aggregate functions in SQL are powerful tools for summarizing and analyzing data. They allow you to compute summary statistics, perform data segmentation, and optimize query performance. By using aggregate functions effectively, you can gain valuable insights into your data and create meaningful reports and analyses."
            ],
            "metadata": {
                "azdata_cell_guid": "a23ff586-f99b-44dc-84cf-f5124bf5d157"
            },
            "attachments": {}
        },
        {
            "cell_type": "markdown",
            "source": [
                "Using the above knowledge let us practice the AGGREGATE operations on DVD Rental database for the following questions:\n",
                "\n",
                "**Aggregate Functions:**\n",
                "\n",
                "- Calculate total revenue generated by each category.\n",
                "- Determine the average rental duration for different customer segments.\n",
                "- Find the most rented film.\n",
                "\n",
                "## <span style=\"color: var(--vscode-foreground);\">Calculate total revenue generated by each category.</span>"
            ],
            "metadata": {
                "azdata_cell_guid": "20755f2f-57dc-4635-aa69-96535740a504"
            },
            "attachments": {}
        },
        {
            "cell_type": "code",
            "source": [
                "WITH RevenueByCategory AS (\r\n",
                "    SELECT \r\n",
                "        c.name,\r\n",
                "        c.category_id,\r\n",
                "        SUM(p.amount) AS total_revenue\r\n",
                "    FROM \r\n",
                "        film f \r\n",
                "        INNER JOIN inventory i ON f.film_id = i.film_id\r\n",
                "        INNER JOIN rental r ON r.inventory_id = i.inventory_id\r\n",
                "        INNER JOIN payment p ON p.rental_id = r.rental_id\r\n",
                "        INNER JOIN film_category fc ON fc.film_id = f.film_id\r\n",
                "        INNER JOIN category c ON c.category_id = fc.category_id\r\n",
                "    GROUP BY c.category_id\r\n",
                ")\r\n",
                "SELECT rbc.name,\r\n",
                "    rbc.total_revenue\r\n",
                "FROM \r\n",
                "    RevenueByCategory rbc\r\n",
                "ORDER BY \r\n",
                "    rbc.total_revenue DESC;"
            ],
            "metadata": {
                "azdata_cell_guid": "f098fb5a-f700-4068-88f2-7f3c4b51503b",
                "language": "sql"
            },
            "outputs": [
                {
                    "output_type": "display_data",
                    "data": {
                        "text/html": "(16 row(s) affected)"
                    },
                    "metadata": {}
                },
                {
                    "output_type": "display_data",
                    "data": {
                        "text/html": "Total execution time: 00:00:00.168"
                    },
                    "metadata": {}
                },
                {
                    "output_type": "execute_result",
                    "metadata": {},
                    "execution_count": 1,
                    "data": {
                        "application/vnd.dataresource+json": {
                            "schema": {
                                "fields": [
                                    {
                                        "name": "name"
                                    },
                                    {
                                        "name": "total_revenue"
                                    }
                                ]
                            },
                            "data": [
                                {
                                    "name": "Sports",
                                    "total_revenue": "4892.19"
                                },
                                {
                                    "name": "Sci-Fi",
                                    "total_revenue": "4336.01"
                                },
                                {
                                    "name": "Animation",
                                    "total_revenue": "4245.31"
                                },
                                {
                                    "name": "Drama",
                                    "total_revenue": "4118.46"
                                },
                                {
                                    "name": "Comedy",
                                    "total_revenue": "4002.48"
                                },
                                {
                                    "name": "New",
                                    "total_revenue": "3966.38"
                                },
                                {
                                    "name": "Action",
                                    "total_revenue": "3951.84"
                                },
                                {
                                    "name": "Foreign",
                                    "total_revenue": "3934.47"
                                },
                                {
                                    "name": "Games",
                                    "total_revenue": "3922.18"
                                },
                                {
                                    "name": "Family",
                                    "total_revenue": "3830.15"
                                },
                                {
                                    "name": "Documentary",
                                    "total_revenue": "3749.65"
                                },
                                {
                                    "name": "Horror",
                                    "total_revenue": "3401.27"
                                },
                                {
                                    "name": "Classics",
                                    "total_revenue": "3353.38"
                                },
                                {
                                    "name": "Children",
                                    "total_revenue": "3309.39"
                                },
                                {
                                    "name": "Travel",
                                    "total_revenue": "3227.36"
                                },
                                {
                                    "name": "Music",
                                    "total_revenue": "3071.52"
                                }
                            ]
                        },
                        "text/html": [
                            "<table>",
                            "<tr><th>name</th><th>total_revenue</th></tr>",
                            "<tr><td>Sports</td><td>4892.19</td></tr>",
                            "<tr><td>Sci-Fi</td><td>4336.01</td></tr>",
                            "<tr><td>Animation</td><td>4245.31</td></tr>",
                            "<tr><td>Drama</td><td>4118.46</td></tr>",
                            "<tr><td>Comedy</td><td>4002.48</td></tr>",
                            "<tr><td>New</td><td>3966.38</td></tr>",
                            "<tr><td>Action</td><td>3951.84</td></tr>",
                            "<tr><td>Foreign</td><td>3934.47</td></tr>",
                            "<tr><td>Games</td><td>3922.18</td></tr>",
                            "<tr><td>Family</td><td>3830.15</td></tr>",
                            "<tr><td>Documentary</td><td>3749.65</td></tr>",
                            "<tr><td>Horror</td><td>3401.27</td></tr>",
                            "<tr><td>Classics</td><td>3353.38</td></tr>",
                            "<tr><td>Children</td><td>3309.39</td></tr>",
                            "<tr><td>Travel</td><td>3227.36</td></tr>",
                            "<tr><td>Music</td><td>3071.52</td></tr>",
                            "</table>"
                        ]
                    }
                }
            ],
            "execution_count": 1
        },
        {
            "cell_type": "markdown",
            "source": [
                "## Determine the average rental duration for different customer segments."
            ],
            "metadata": {
                "azdata_cell_guid": "095a515c-d0e8-4e13-9e7e-827adaeee0e9"
            },
            "attachments": {}
        },
        {
            "cell_type": "code",
            "source": [
                "WITH RentalDurationByStore AS (\r\n",
                "    SELECT (r.return_date - r.rental_date) AS rental_duration,\r\n",
                "        c.store_id\r\n",
                "    FROM rental r \r\n",
                "        INNER JOIN customer c ON r.customer_id = c.customer_id\r\n",
                ")\r\n",
                "SELECT AVG(rdc.rental_duration) as avg_rental_duration,\r\n",
                "    rdc.store_id as customer_segment\r\n",
                "FROM RentalDurationByStore as rdc\r\n",
                "GROUP BY 2\r\n",
                "ORDER BY 1 DESC;"
            ],
            "metadata": {
                "azdata_cell_guid": "1b762a57-babc-4929-b222-39debdc38a26",
                "language": "sql"
            },
            "outputs": [
                {
                    "output_type": "display_data",
                    "data": {
                        "text/html": "(2 row(s) affected)"
                    },
                    "metadata": {}
                },
                {
                    "output_type": "display_data",
                    "data": {
                        "text/html": "Total execution time: 00:00:00.050"
                    },
                    "metadata": {}
                },
                {
                    "output_type": "execute_result",
                    "metadata": {},
                    "execution_count": 2,
                    "data": {
                        "application/vnd.dataresource+json": {
                            "schema": {
                                "fields": [
                                    {
                                        "name": "avg_rental_duration"
                                    },
                                    {
                                        "name": "customer_segment"
                                    }
                                ]
                            },
                            "data": [
                                {
                                    "avg_rental_duration": "4 days 25:25:30.659112",
                                    "customer_segment": "1"
                                },
                                {
                                    "avg_rental_duration": "4 days 23:37:41.10079",
                                    "customer_segment": "2"
                                }
                            ]
                        },
                        "text/html": [
                            "<table>",
                            "<tr><th>avg_rental_duration</th><th>customer_segment</th></tr>",
                            "<tr><td>4 days 25:25:30.659112</td><td>1</td></tr>",
                            "<tr><td>4 days 23:37:41.10079</td><td>2</td></tr>",
                            "</table>"
                        ]
                    }
                }
            ],
            "execution_count": 2
        },
        {
            "cell_type": "markdown",
            "source": [
                "## Find the most rented film."
            ],
            "metadata": {
                "language": "sql",
                "azdata_cell_guid": "006847b0-be1f-49ab-9ec5-60c7478c2e96"
            },
            "attachments": {}
        },
        {
            "cell_type": "code",
            "source": [
                "SELECT f.title,\r\n",
                "    COUNT(r.rental_id) AS rental_count\r\n",
                "FROM rental r \r\n",
                "    INNER JOIN inventory i ON i.inventory_id = r.inventory_id\r\n",
                "    INNER JOIN film f ON i.film_id = f.film_id\r\n",
                "GROUP BY 1\r\n",
                "ORDER BY 2 DESC\r\n",
                "LIMIT 1;"
            ],
            "metadata": {
                "language": "sql",
                "azdata_cell_guid": "6f6d0acc-98e9-43dc-b6b5-0771f67c030b"
            },
            "outputs": [
                {
                    "output_type": "display_data",
                    "data": {
                        "text/html": "(1 row(s) affected)"
                    },
                    "metadata": {}
                },
                {
                    "output_type": "display_data",
                    "data": {
                        "text/html": "Total execution time: 00:00:00.118"
                    },
                    "metadata": {}
                },
                {
                    "output_type": "execute_result",
                    "metadata": {},
                    "execution_count": 3,
                    "data": {
                        "application/vnd.dataresource+json": {
                            "schema": {
                                "fields": [
                                    {
                                        "name": "title"
                                    },
                                    {
                                        "name": "rental_count"
                                    }
                                ]
                            },
                            "data": [
                                {
                                    "title": "Bucket Brotherhood",
                                    "rental_count": "34"
                                }
                            ]
                        },
                        "text/html": [
                            "<table>",
                            "<tr><th>title</th><th>rental_count</th></tr>",
                            "<tr><td>Bucket Brotherhood</td><td>34</td></tr>",
                            "</table>"
                        ]
                    }
                }
            ],
            "execution_count": 3
        }
    ]
}