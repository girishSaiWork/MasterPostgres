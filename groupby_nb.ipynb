{
    "metadata": {
        "kernelspec": {
            "name": "SQL",
            "display_name": "SQL",
            "language": "sql"
        },
        "language_info": {
            "name": "sql",
            "version": ""
        }
    },
    "nbformat_minor": 2,
    "nbformat": 4,
    "cells": [
        {
            "cell_type": "markdown",
            "source": [
                "# GROUP BY in PostgresSQL\n",
                "\n",
                "## What is Grouping in SQL?\n",
                "\n",
                "**Grouping** in SQL refers to the process of combining rows with similar values into a single group. This is done using the `GROUP BY` clause in a SQL query. When you group rows, you can perform aggregate calculations on the grouped data, such as calculating the sum, average, count, minimum, or maximum of a specific column.\n",
                "\n",
                "### How Grouping Works\n",
                "\n",
                "- **Group by Columns**: The columns specified in the `GROUP BY` clause are used to determine how the rows are grouped. Rows that have the same values in these columns are placed in the same group.\n",
                "- **Aggregate Functions**: Once the data is grouped, aggregate functions can be applied to the grouped data to perform calculations and return a single value for each group.\n",
                "\n",
                "### Example of Grouping\n",
                "\n",
                "Suppose you have a table named `sales` with the following columns: `product_id`, `quantity`, and `price`. To calculate the total sales for each product, you can use the `GROUP BY` clause as follows:\n",
                "\n",
                "```\n",
                "SELECT product_id, SUM(quantity * price) AS total_salesFROM sales\n",
                "GROUP BY product_id;\n",
                "\n",
                "```\n",
                "\n",
                "In this example, the rows in the `sales` table are grouped by the `product_id` column. The `SUM()` function is then used to calculate the total sales for each group.\n",
                "\n",
                "## Why Do We Need Grouping in SQL?\n",
                "\n",
                "Grouping in SQL is essential for several reasons:\n",
                "\n",
                "### 1\\. Data Summarization\n",
                "\n",
                "- **Aggregate Information**: Grouping allows you to aggregate information from multiple rows into a single result, making it easier to analyze and understand the data.\n",
                "- **Summarized Reports**: It is used to create summarized reports, such as total sales by product, average salary by department, or count of orders by customer.\n",
                "\n",
                "### 2\\. Data Analysis\n",
                "\n",
                "- **Identify Patterns and Trends**: Grouping helps in identifying patterns and trends in the data by summarizing it across different dimensions.\n",
                "- **Comparative Analysis**: It enables comparative analysis by summarizing data for different groups or categories.\n",
                "\n",
                "### 3\\. Data Segmentation\n",
                "\n",
                "- **Segment Data**: Grouping allows you to segment data into different categories based on specific criteria, such as customer segments, product categories, or geographic regions.\n",
                "- **Targeted Insights**: It helps in deriving targeted insights for each segment, which can be used for decision-making and strategy formulation.\n",
                "\n",
                "### 4\\. Performance Optimization\n",
                "\n",
                "- **Efficient Data Retrieval**: Grouping helps in retrieving only the relevant aggregated data, reducing the amount of data processed and transferred to the application.\n",
                "- **Reduced Data Volume**: By summarizing data, grouping reduces the volume of data returned by a query, making it easier to manage and analyze large datasets.\n",
                "\n",
                "### 5\\. Data Filtering\n",
                "\n",
                "- **Filter Groups**: Grouping can be combined with the `HAVING` clause to filter groups based on specific conditions. This allows you to focus on groups that meet certain criteria.\n",
                "\n",
                "## How to Use Grouping in SQL?\n",
                "\n",
                "### Example 1: Grouping by a Single Column\n",
                "\n",
                "To count the number of orders placed by each customer:\n",
                "\n",
                "```\n",
                "SELECT customer_id, COUNT(order_id) AS order_countFROM orders\n",
                "GROUP BY customer_id;\n",
                "\n",
                "```\n",
                "\n",
                "### Example 2: Grouping by Multiple Columns\n",
                "\n",
                "To calculate the total sales for each product in each region:\n",
                "\n",
                "```\n",
                "SELECT product_id, region, SUM(quantity * price) AS total_salesFROM sales\n",
                "GROUP BY product_id, region;\n",
                "\n",
                "```\n",
                "\n",
                "### Example 3: Grouping with the `HAVING` Clause\n",
                "\n",
                "To find products with total sales greater than $10,000:\n",
                "\n",
                "```\n",
                "SELECT product_id, SUM(quantity * price) AS total_salesFROM sales\n",
                "GROUP BY product_id\n",
                "HAVING SUM(quantity * price) > 10000;\n",
                "\n",
                "```\n",
                "\n",
                "### Example 4: Grouping and Sorting\n",
                "\n",
                "To find the average salary of employees in each department, sorted by the average salary in descending order:\n",
                "\n",
                "```\n",
                "SELECT department_id, AVG(salary) AS average_salaryFROM employees\n",
                "GROUP BY department_id\n",
                "ORDER BY average_salary DESC;\n",
                "\n",
                "```\n",
                "\n",
                "## Best Practices for Using Grouping in SQL\n",
                "\n",
                "1. **Select Columns**: Only include columns in the `SELECT` clause that are used in the `GROUP BY` clause or are aggregated.\n",
                "2. **Use with Aggregates**: Always use aggregate functions in conjunction with grouping to perform meaningful calculations.\n",
                "3. **Optimize with Indexes**: Consider indexing the columns used in the `GROUP BY` clause to improve query performance.\n",
                "4. **Filter with `HAVING`**: Use the `HAVING` clause to filter groups based on aggregate values.\n",
                "\n",
                "## Summary\n",
                "\n",
                "Grouping in SQL is a powerful feature that allows you to organize and summarize data based on specific criteria. It is essential for data summarization, analysis, segmentation, and performance optimization. By using the `GROUP BY` clause effectively, you can gain valuable insights from your data and create meaningful reports and analyses."
            ],
            "metadata": {
                "azdata_cell_guid": "6809a205-54ef-4acd-8a0c-e9365ceecc57"
            },
            "attachments": {}
        },
        {
            "cell_type": "markdown",
            "source": [
                "Lets do some questions on GROUPING in SQL on DVD Rental Database on the following questions:\n",
                "\n",
                "  \n",
                "\n",
                "**Grouping Data:**\n",
                "\n",
                "- Group customers by city and count the number of customers in each city.\n",
                "- Calculate total sales for each film category.\n",
                "- Find the top 3 rental stores by total revenue.\n",
                "\n",
                "## <span style=\"color: var(--vscode-foreground);\">Group customers by city and count the number of customers in each city.</span>"
            ],
            "metadata": {
                "azdata_cell_guid": "acf12237-8ecc-4708-9eb5-a2f9f8cb6d7a"
            },
            "attachments": {}
        },
        {
            "cell_type": "code",
            "source": [
                "SELECT c.city,\r\n",
                "    COUNT(cu.customer_id) AS cusotmer_count\r\n",
                "FROM \r\n",
                "    city c\r\n",
                "    INNER JOIN address a ON c.city_id = a.city_id\r\n",
                "    INNER JOIN customer cu ON cu.address_id = a.address_id\r\n",
                "GROUP BY 1\r\n",
                "ORDER BY 2 DESC;"
            ],
            "metadata": {
                "azdata_cell_guid": "17789e94-34a9-4b7b-b55b-f36b2e8d0dd2",
                "language": "sql"
            },
            "outputs": [
                {
                    "output_type": "display_data",
                    "data": {
                        "text/html": "(597 row(s) affected)"
                    },
                    "metadata": {}
                },
                {
                    "output_type": "display_data",
                    "data": {
                        "text/html": "Total execution time: 00:00:00.080"
                    },
                    "metadata": {}
                },
                {
                    "output_type": "execute_result",
                    "metadata": {},
                    "execution_count": 1,
                    "data": {
                        "application/vnd.dataresource+json": {
                            "schema": {
                                "fields": [
                                    {
                                        "name": "city"
                                    },
                                    {
                                        "name": "cusotmer_count"
                                    }
                                ]
                            },
                            "data": [
                                {
                                    "city": "London",
                                    "cusotmer_count": "2"
                                },
                                {
                                    "city": "Aurora",
                                    "cusotmer_count": "2"
                                },
                                {
                                    "city": "Tokat",
                                    "cusotmer_count": "1"
                                },
                                {
                                    "city": "Atlixco",
                                    "cusotmer_count": "1"
                                },
                                {
                                    "city": "Mukateve",
                                    "cusotmer_count": "1"
                                },
                                {
                                    "city": "Pontianak",
                                    "cusotmer_count": "1"
                                },
                                {
                                    "city": "Gatineau",
                                    "cusotmer_count": "1"
                                },
                                {
                                    "city": "Saint-Denis",
                                    "cusotmer_count": "1"
                                },
                                {
                                    "city": "Molodetno",
                                    "cusotmer_count": "1"
                                },
                                {
                                    "city": "Yingkou",
                                    "cusotmer_count": "1"
                                },
                                {
                                    "city": "Changhwa",
                                    "cusotmer_count": "1"
                                },
                                {
                                    "city": "Rampur",
                                    "cusotmer_count": "1"
                                },
                                {
                                    "city": "Caracas",
                                    "cusotmer_count": "1"
                                },
                                {
                                    "city": "Apeldoorn",
                                    "cusotmer_count": "1"
                                },
                                {
                                    "city": "Omdurman",
                                    "cusotmer_count": "1"
                                },
                                {
                                    "city": "Mwanza",
                                    "cusotmer_count": "1"
                                },
                                {
                                    "city": "Satna",
                                    "cusotmer_count": "1"
                                },
                                {
                                    "city": "Hanoi",
                                    "cusotmer_count": "1"
                                },
                                {
                                    "city": "San Bernardino",
                                    "cusotmer_count": "1"
                                },
                                {
                                    "city": "Battambang",
                                    "cusotmer_count": "1"
                                },
                                {
                                    "city": "Boksburg",
                                    "cusotmer_count": "1"
                                },
                                {
                                    "city": "Ogbomosho",
                                    "cusotmer_count": "1"
                                },
                                {
                                    "city": "Idfu",
                                    "cusotmer_count": "1"
                                },
                                {
                                    "city": "Bradford",
                                    "cusotmer_count": "1"
                                },
                                {
                                    "city": "Gorontalo",
                                    "cusotmer_count": "1"
                                },
                                {
                                    "city": "Ilorin",
                                    "cusotmer_count": "1"
                                },
                                {
                                    "city": "Grand Prairie",
                                    "cusotmer_count": "1"
                                },
                                {
                                    "city": "Leshan",
                                    "cusotmer_count": "1"
                                },
                                {
                                    "city": "Arecibo",
                                    "cusotmer_count": "1"
                                },
                                {
                                    "city": "Syrakusa",
                                    "cusotmer_count": "1"
                                },
                                {
                                    "city": "Salinas",
                                    "cusotmer_count": "1"
                                },
                                {
                                    "city": "Toulouse",
                                    "cusotmer_count": "1"
                                },
                                {
                                    "city": "NDjamna",
                                    "cusotmer_count": "1"
                                },
                                {
                                    "city": "Berhampore (Baharampur)",
                                    "cusotmer_count": "1"
                                },
                                {
                                    "city": "Almirante Brown",
                                    "cusotmer_count": "1"
                                },
                                {
                                    "city": "Tafuna",
                                    "cusotmer_count": "1"
                                },
                                {
                                    "city": "Najafabad",
                                    "cusotmer_count": "1"
                                },
                                {
                                    "city": "Jhansi",
                                    "cusotmer_count": "1"
                                },
                                {
                                    "city": "Maracabo",
                                    "cusotmer_count": "1"
                                },
                                {
                                    "city": "Touliu",
                                    "cusotmer_count": "1"
                                },
                                {
                                    "city": "Karnal",
                                    "cusotmer_count": "1"
                                },
                                {
                                    "city": "Shahr-e Kord",
                                    "cusotmer_count": "1"
                                },
                                {
                                    "city": "Nador",
                                    "cusotmer_count": "1"
                                },
                                {
                                    "city": "Zhezqazghan",
                                    "cusotmer_count": "1"
                                },
                                {
                                    "city": "Udaipur",
                                    "cusotmer_count": "1"
                                },
                                {
                                    "city": "Zaoyang",
                                    "cusotmer_count": "1"
                                },
                                {
                                    "city": "Portoviejo",
                                    "cusotmer_count": "1"
                                },
                                {
                                    "city": "Yantai",
                                    "cusotmer_count": "1"
                                },
                                {
                                    "city": "Moscow",
                                    "cusotmer_count": "1"
                                },
                                {
                                    "city": "Zapopan",
                                    "cusotmer_count": "1"
                                },
                                {
                                    "city": "Allappuzha (Alleppey)",
                                    "cusotmer_count": "1"
                                },
                                {
                                    "city": "Smolensk",
                                    "cusotmer_count": "1"
                                },
                                {
                                    "city": "Iwatsuki",
                                    "cusotmer_count": "1"
                                },
                                {
                                    "city": "Etawah",
                                    "cusotmer_count": "1"
                                },
                                {
                                    "city": "al-Qadarif",
                                    "cusotmer_count": "1"
                                },
                                {
                                    "city": "Oyo",
                                    "cusotmer_count": "1"
                                },
                                {
                                    "city": "Tabora",
                                    "cusotmer_count": "1"
                                },
                                {
                                    "city": "Lungtan",
                                    "cusotmer_count": "1"
                                },
                                {
                                    "city": "Oshawa",
                                    "cusotmer_count": "1"
                                },
                                {
                                    "city": "Omiya",
                                    "cusotmer_count": "1"
                                },
                                {
                                    "city": "Jastrzebie-Zdrj",
                                    "cusotmer_count": "1"
                                },
                                {
                                    "city": "Lilongwe",
                                    "cusotmer_count": "1"
                                },
                                {
                                    "city": "Hamilton",
                                    "cusotmer_count": "1"
                                },
                                {
                                    "city": "Ashdod",
                                    "cusotmer_count": "1"
                                },
                                {
                                    "city": "Lubumbashi",
                                    "cusotmer_count": "1"
                                },
                                {
                                    "city": "Pathankot",
                                    "cusotmer_count": "1"
                                },
                                {
                                    "city": "Chisinau",
                                    "cusotmer_count": "1"
                                },
                                {
                                    "city": "Bayugan",
                                    "cusotmer_count": "1"
                                },
                                {
                                    "city": "Weifang",
                                    "cusotmer_count": "1"
                                },
                                {
                                    "city": "Roanoke",
                                    "cusotmer_count": "1"
                                },
                                {
                                    "city": "Korla",
                                    "cusotmer_count": "1"
                                },
                                {
                                    "city": "Santa Brbara dOeste",
                                    "cusotmer_count": "1"
                                },
                                {
                                    "city": "Angra dos Reis",
                                    "cusotmer_count": "1"
                                },
                                {
                                    "city": "Tychy",
                                    "cusotmer_count": "1"
                                },
                                {
                                    "city": "al-Hawiya",
                                    "cusotmer_count": "1"
                                },
                                {
                                    "city": "Bhilwara",
                                    "cusotmer_count": "1"
                                },
                                {
                                    "city": "Serpuhov",
                                    "cusotmer_count": "1"
                                },
                                {
                                    "city": "Bern",
                                    "cusotmer_count": "1"
                                },
                                {
                                    "city": "Araatuba",
                                    "cusotmer_count": "1"
                                },
                                {
                                    "city": "Salamanca",
                                    "cusotmer_count": "1"
                                },
                                {
                                    "city": "Balikesir",
                                    "cusotmer_count": "1"
                                },
                                {
                                    "city": "Chapra",
                                    "cusotmer_count": "1"
                                },
                                {
                                    "city": "Carmen",
                                    "cusotmer_count": "1"
                                },
                                {
                                    "city": "Lublin",
                                    "cusotmer_count": "1"
                                },
                                {
                                    "city": "Florencia",
                                    "cusotmer_count": "1"
                                },
                                {
                                    "city": "Sogamoso",
                                    "cusotmer_count": "1"
                                },
                                {
                                    "city": "Tieli",
                                    "cusotmer_count": "1"
                                },
                                {
                                    "city": "Jinchang",
                                    "cusotmer_count": "1"
                                },
                                {
                                    "city": "Salzburg",
                                    "cusotmer_count": "1"
                                },
                                {
                                    "city": "Kaduna",
                                    "cusotmer_count": "1"
                                },
                                {
                                    "city": "Jinzhou",
                                    "cusotmer_count": "1"
                                },
                                {
                                    "city": "Hodeida",
                                    "cusotmer_count": "1"
                                },
                                {
                                    "city": "Peoria",
                                    "cusotmer_count": "1"
                                },
                                {
                                    "city": "Osmaniye",
                                    "cusotmer_count": "1"
                                },
                                {
                                    "city": "Asuncin",
                                    "cusotmer_count": "1"
                                },
                                {
                                    "city": "Batna",
                                    "cusotmer_count": "1"
                                },
                                {
                                    "city": "Ponce",
                                    "cusotmer_count": "1"
                                },
                                {
                                    "city": "Augusta-Richmond County",
                                    "cusotmer_count": "1"
                                },
                                {
                                    "city": "Tuguegarao",
                                    "cusotmer_count": "1"
                                },
                                {
                                    "city": "Amroha",
                                    "cusotmer_count": "1"
                                },
                                {
                                    "city": "Oulu",
                                    "cusotmer_count": "1"
                                },
                                {
                                    "city": "Bilbays",
                                    "cusotmer_count": "1"
                                },
                                {
                                    "city": "El Monte",
                                    "cusotmer_count": "1"
                                },
                                {
                                    "city": "guas Lindas de Gois",
                                    "cusotmer_count": "1"
                                },
                                {
                                    "city": "Juiz de Fora",
                                    "cusotmer_count": "1"
                                },
                                {
                                    "city": "Sanaa",
                                    "cusotmer_count": "1"
                                },
                                {
                                    "city": "al-Ayn",
                                    "cusotmer_count": "1"
                                },
                                {
                                    "city": "Tete",
                                    "cusotmer_count": "1"
                                },
                                {
                                    "city": "Vicente Lpez",
                                    "cusotmer_count": "1"
                                },
                                {
                                    "city": "Citt del Vaticano",
                                    "cusotmer_count": "1"
                                },
                                {
                                    "city": "Skikda",
                                    "cusotmer_count": "1"
                                },
                                {
                                    "city": "Jamalpur",
                                    "cusotmer_count": "1"
                                },
                                {
                                    "city": "Shaoguan",
                                    "cusotmer_count": "1"
                                },
                                {
                                    "city": "Ipoh",
                                    "cusotmer_count": "1"
                                },
                                {
                                    "city": "Ueda",
                                    "cusotmer_count": "1"
                                },
                                {
                                    "city": "Changzhou",
                                    "cusotmer_count": "1"
                                },
                                {
                                    "city": "Compton",
                                    "cusotmer_count": "1"
                                },
                                {
                                    "city": "Baiyin",
                                    "cusotmer_count": "1"
                                },
                                {
                                    "city": "Brescia",
                                    "cusotmer_count": "1"
                                },
                                {
                                    "city": "Sal",
                                    "cusotmer_count": "1"
                                },
                                {
                                    "city": "Usolje-Sibirskoje",
                                    "cusotmer_count": "1"
                                },
                                {
                                    "city": "Bucuresti",
                                    "cusotmer_count": "1"
                                },
                                {
                                    "city": "South Hill",
                                    "cusotmer_count": "1"
                                },
                                {
                                    "city": "Shenzhen",
                                    "cusotmer_count": "1"
                                },
                                {
                                    "city": "Adoni",
                                    "cusotmer_count": "1"
                                },
                                {
                                    "city": "Cuernavaca",
                                    "cusotmer_count": "1"
                                },
                                {
                                    "city": "Bandar Seri Begawan",
                                    "cusotmer_count": "1"
                                },
                                {
                                    "city": "Miyakonojo",
                                    "cusotmer_count": "1"
                                },
                                {
                                    "city": "Haiphong",
                                    "cusotmer_count": "1"
                                },
                                {
                                    "city": "Cheju",
                                    "cusotmer_count": "1"
                                },
                                {
                                    "city": "Ede",
                                    "cusotmer_count": "1"
                                },
                                {
                                    "city": "Uttarpara-Kotrung",
                                    "cusotmer_count": "1"
                                },
                                {
                                    "city": "s-Hertogenbosch",
                                    "cusotmer_count": "1"
                                },
                                {
                                    "city": "Chiayi",
                                    "cusotmer_count": "1"
                                },
                                {
                                    "city": "Athenai",
                                    "cusotmer_count": "1"
                                },
                                {
                                    "city": "Dayton",
                                    "cusotmer_count": "1"
                                },
                                {
                                    "city": "Kanchrapara",
                                    "cusotmer_count": "1"
                                },
                                {
                                    "city": "Poos de Caldas",
                                    "cusotmer_count": "1"
                                },
                                {
                                    "city": "Maikop",
                                    "cusotmer_count": "1"
                                },
                                {
                                    "city": "Xintai",
                                    "cusotmer_count": "1"
                                },
                                {
                                    "city": "Kowloon and New Kowloon",
                                    "cusotmer_count": "1"
                                },
                                {
                                    "city": "Cuauhtmoc",
                                    "cusotmer_count": "1"
                                },
                                {
                                    "city": "Uijongbu",
                                    "cusotmer_count": "1"
                                },
                                {
                                    "city": "Springs",
                                    "cusotmer_count": "1"
                                },
                                {
                                    "city": "Rae Bareli",
                                    "cusotmer_count": "1"
                                },
                                {
                                    "city": "San Felipe de Puerto Plata",
                                    "cusotmer_count": "1"
                                },
                                {
                                    "city": "Benin City",
                                    "cusotmer_count": "1"
                                },
                                {
                                    "city": "Arlington",
                                    "cusotmer_count": "1"
                                },
                                {
                                    "city": "Huixquilucan",
                                    "cusotmer_count": "1"
                                },
                                {
                                    "city": "Garden Grove",
                                    "cusotmer_count": "1"
                                },
                                {
                                    "city": "Inegl",
                                    "cusotmer_count": "1"
                                },
                                {
                                    "city": "Quilmes",
                                    "cusotmer_count": "1"
                                },
                                {
                                    "city": "Baku",
                                    "cusotmer_count": "1"
                                },
                                {
                                    "city": "Meixian",
                                    "cusotmer_count": "1"
                                },
                                {
                                    "city": "Ozamis",
                                    "cusotmer_count": "1"
                                },
                                {
                                    "city": "Botshabelo",
                                    "cusotmer_count": "1"
                                },
                                {
                                    "city": "Ourense (Orense)",
                                    "cusotmer_count": "1"
                                },
                                {
                                    "city": "Tama",
                                    "cusotmer_count": "1"
                                },
                                {
                                    "city": "Sasebo",
                                    "cusotmer_count": "1"
                                },
                                {
                                    "city": "Gingoog",
                                    "cusotmer_count": "1"
                                },
                                {
                                    "city": "Namibe",
                                    "cusotmer_count": "1"
                                },
                                {
                                    "city": "Halisahar",
                                    "cusotmer_count": "1"
                                },
                                {
                                    "city": "Bydgoszcz",
                                    "cusotmer_count": "1"
                                },
                                {
                                    "city": "Ljubertsy",
                                    "cusotmer_count": "1"
                                },
                                {
                                    "city": "Qalyub",
                                    "cusotmer_count": "1"
                                },
                                {
                                    "city": "Gijn",
                                    "cusotmer_count": "1"
                                },
                                {
                                    "city": "Ondo",
                                    "cusotmer_count": "1"
                                },
                                {
                                    "city": "Bislig",
                                    "cusotmer_count": "1"
                                },
                                {
                                    "city": "Tonghae",
                                    "cusotmer_count": "1"
                                },
                                {
                                    "city": "Bamenda",
                                    "cusotmer_count": "1"
                                },
                                {
                                    "city": "Abha",
                                    "cusotmer_count": "1"
                                },
                                {
                                    "city": "Davao",
                                    "cusotmer_count": "1"
                                },
                                {
                                    "city": "Tel Aviv-Jaffa",
                                    "cusotmer_count": "1"
                                },
                                {
                                    "city": "Tangail",
                                    "cusotmer_count": "1"
                                },
                                {
                                    "city": "San Felipe del Progreso",
                                    "cusotmer_count": "1"
                                },
                                {
                                    "city": "Vitria de Santo Anto",
                                    "cusotmer_count": "1"
                                },
                                {
                                    "city": "Sousse",
                                    "cusotmer_count": "1"
                                },
                                {
                                    "city": "Bhusawal",
                                    "cusotmer_count": "1"
                                },
                                {
                                    "city": "Robamba",
                                    "cusotmer_count": "1"
                                },
                                {
                                    "city": "Sagamihara",
                                    "cusotmer_count": "1"
                                },
                                {
                                    "city": "Boa Vista",
                                    "cusotmer_count": "1"
                                },
                                {
                                    "city": "Jalib al-Shuyukh",
                                    "cusotmer_count": "1"
                                },
                                {
                                    "city": "Yinchuan",
                                    "cusotmer_count": "1"
                                },
                                {
                                    "city": "Lincoln",
                                    "cusotmer_count": "1"
                                },
                                {
                                    "city": "Abu Dhabi",
                                    "cusotmer_count": "1"
                                },
                                {
                                    "city": "Bchar",
                                    "cusotmer_count": "1"
                                },
                                {
                                    "city": "Eskisehir",
                                    "cusotmer_count": "1"
                                },
                                {
                                    "city": "Nezahualcyotl",
                                    "cusotmer_count": "1"
                                },
                                {
                                    "city": "Enshi",
                                    "cusotmer_count": "1"
                                },
                                {
                                    "city": "Dadu",
                                    "cusotmer_count": "1"
                                },
                                {
                                    "city": "Antofagasta",
                                    "cusotmer_count": "1"
                                },
                                {
                                    "city": "Madiun",
                                    "cusotmer_count": "1"
                                },
                                {
                                    "city": "Kurashiki",
                                    "cusotmer_count": "1"
                                },
                                {
                                    "city": "Merlo",
                                    "cusotmer_count": "1"
                                },
                                {
                                    "city": "Katihar",
                                    "cusotmer_count": "1"
                                },
                                {
                                    "city": "Iwaki",
                                    "cusotmer_count": "1"
                                },
                                {
                                    "city": "Tiefa",
                                    "cusotmer_count": "1"
                                },
                                {
                                    "city": "Usak",
                                    "cusotmer_count": "1"
                                },
                                {
                                    "city": "Yamuna Nagar",
                                    "cusotmer_count": "1"
                                },
                                {
                                    "city": "Deba Habe",
                                    "cusotmer_count": "1"
                                },
                                {
                                    "city": "Owo",
                                    "cusotmer_count": "1"
                                },
                                {
                                    "city": "Alvorada",
                                    "cusotmer_count": "1"
                                },
                                {
                                    "city": "Benguela",
                                    "cusotmer_count": "1"
                                },
                                {
                                    "city": "Laiwu",
                                    "cusotmer_count": "1"
                                },
                                {
                                    "city": "Kilis",
                                    "cusotmer_count": "1"
                                },
                                {
                                    "city": "Bhavnagar",
                                    "cusotmer_count": "1"
                                },
                                {
                                    "city": "Lhokseumawe",
                                    "cusotmer_count": "1"
                                },
                                {
                                    "city": "Bijapur",
                                    "cusotmer_count": "1"
                                },
                                {
                                    "city": "Dhaka",
                                    "cusotmer_count": "1"
                                },
                                {
                                    "city": "Pyongyang",
                                    "cusotmer_count": "1"
                                },
                                {
                                    "city": "San Lorenzo",
                                    "cusotmer_count": "1"
                                },
                                {
                                    "city": "Ezeiza",
                                    "cusotmer_count": "1"
                                },
                                {
                                    "city": "Isesaki",
                                    "cusotmer_count": "1"
                                },
                                {
                                    "city": "Ibirit",
                                    "cusotmer_count": "1"
                                },
                                {
                                    "city": "Sincelejo",
                                    "cusotmer_count": "1"
                                },
                                {
                                    "city": "La Paz",
                                    "cusotmer_count": "1"
                                },
                                {
                                    "city": "Hunuco",
                                    "cusotmer_count": "1"
                                },
                                {
                                    "city": "Beira",
                                    "cusotmer_count": "1"
                                },
                                {
                                    "city": "Johannesburg",
                                    "cusotmer_count": "1"
                                },
                                {
                                    "city": "Dongying",
                                    "cusotmer_count": "1"
                                },
                                {
                                    "city": "Hiroshima",
                                    "cusotmer_count": "1"
                                },
                                {
                                    "city": "Tabuk",
                                    "cusotmer_count": "1"
                                },
                                {
                                    "city": "Surakarta",
                                    "cusotmer_count": "1"
                                },
                                {
                                    "city": "Sharja",
                                    "cusotmer_count": "1"
                                },
                                {
                                    "city": "Bratislava",
                                    "cusotmer_count": "1"
                                },
                                {
                                    "city": "Cayenne",
                                    "cusotmer_count": "1"
                                },
                                {
                                    "city": "Songkhla",
                                    "cusotmer_count": "1"
                                },
                                {
                                    "city": "Tarlac",
                                    "cusotmer_count": "1"
                                },
                                {
                                    "city": "Toulon",
                                    "cusotmer_count": "1"
                                },
                                {
                                    "city": "York",
                                    "cusotmer_count": "1"
                                },
                                {
                                    "city": "Tegal",
                                    "cusotmer_count": "1"
                                },
                                {
                                    "city": "Taizz",
                                    "cusotmer_count": "1"
                                },
                                {
                                    "city": "Ahmadnagar",
                                    "cusotmer_count": "1"
                                },
                                {
                                    "city": "Pereira",
                                    "cusotmer_count": "1"
                                },
                                {
                                    "city": "Sultanbeyli",
                                    "cusotmer_count": "1"
                                },
                                {
                                    "city": "Tsaotun",
                                    "cusotmer_count": "1"
                                },
                                {
                                    "city": "Belm",
                                    "cusotmer_count": "1"
                                },
                                {
                                    "city": "So Bernardo do Campo",
                                    "cusotmer_count": "1"
                                },
                                {
                                    "city": "Okara",
                                    "cusotmer_count": "1"
                                },
                                {
                                    "city": "Cabuyao",
                                    "cusotmer_count": "1"
                                },
                                {
                                    "city": "Vila Velha",
                                    "cusotmer_count": "1"
                                },
                                {
                                    "city": "Purnea (Purnia)",
                                    "cusotmer_count": "1"
                                },
                                {
                                    "city": "Halle/Saale",
                                    "cusotmer_count": "1"
                                },
                                {
                                    "city": "Luzinia",
                                    "cusotmer_count": "1"
                                },
                                {
                                    "city": "Mandaluyong",
                                    "cusotmer_count": "1"
                                },
                                {
                                    "city": "Celaya",
                                    "cusotmer_count": "1"
                                },
                                {
                                    "city": "Fuzhou",
                                    "cusotmer_count": "1"
                                },
                                {
                                    "city": "Ivanovo",
                                    "cusotmer_count": "1"
                                },
                                {
                                    "city": "Fengshan",
                                    "cusotmer_count": "1"
                                },
                                {
                                    "city": "Manchester",
                                    "cusotmer_count": "1"
                                },
                                {
                                    "city": "Ezhou",
                                    "cusotmer_count": "1"
                                },
                                {
                                    "city": "Brockton",
                                    "cusotmer_count": "1"
                                },
                                {
                                    "city": "Tartu",
                                    "cusotmer_count": "1"
                                },
                                {
                                    "city": "Kamarhati",
                                    "cusotmer_count": "1"
                                },
                                {
                                    "city": "Udine",
                                    "cusotmer_count": "1"
                                },
                                {
                                    "city": "Chatsworth",
                                    "cusotmer_count": "1"
                                },
                                {
                                    "city": "Sunnyvale",
                                    "cusotmer_count": "1"
                                },
                                {
                                    "city": "Mogiljov",
                                    "cusotmer_count": "1"
                                },
                                {
                                    "city": "Kermanshah",
                                    "cusotmer_count": "1"
                                },
                                {
                                    "city": "Nha Trang",
                                    "cusotmer_count": "1"
                                },
                                {
                                    "city": "Korolev",
                                    "cusotmer_count": "1"
                                },
                                {
                                    "city": "Jos Azueta",
                                    "cusotmer_count": "1"
                                },
                                {
                                    "city": "Allende",
                                    "cusotmer_count": "1"
                                },
                                {
                                    "city": "Papeete",
                                    "cusotmer_count": "1"
                                },
                                {
                                    "city": "Goinia",
                                    "cusotmer_count": "1"
                                },
                                {
                                    "city": "Kamakura",
                                    "cusotmer_count": "1"
                                },
                                {
                                    "city": "Daxian",
                                    "cusotmer_count": "1"
                                },
                                {
                                    "city": "Sambhal",
                                    "cusotmer_count": "1"
                                },
                                {
                                    "city": "Akron",
                                    "cusotmer_count": "1"
                                },
                                {
                                    "city": "Kamyin",
                                    "cusotmer_count": "1"
                                },
                                {
                                    "city": "Jining",
                                    "cusotmer_count": "1"
                                },
                                {
                                    "city": "Banjul",
                                    "cusotmer_count": "1"
                                },
                                {
                                    "city": "Lengshuijiang",
                                    "cusotmer_count": "1"
                                },
                                {
                                    "city": "Pak Kret",
                                    "cusotmer_count": "1"
                                },
                                {
                                    "city": "Ciudad del Este",
                                    "cusotmer_count": "1"
                                },
                                {
                                    "city": "Valle de Santiago",
                                    "cusotmer_count": "1"
                                },
                                {
                                    "city": "Crdoba",
                                    "cusotmer_count": "1"
                                },
                                {
                                    "city": "Haldia",
                                    "cusotmer_count": "1"
                                },
                                {
                                    "city": "Acua",
                                    "cusotmer_count": "1"
                                },
                                {
                                    "city": "Ambattur",
                                    "cusotmer_count": "1"
                                },
                                {
                                    "city": "Baicheng",
                                    "cusotmer_count": "1"
                                },
                                {
                                    "city": "Binzhou",
                                    "cusotmer_count": "1"
                                },
                                {
                                    "city": "Qomsheh",
                                    "cusotmer_count": "1"
                                },
                                {
                                    "city": "Gulbarga",
                                    "cusotmer_count": "1"
                                },
                                {
                                    "city": "Kanazawa",
                                    "cusotmer_count": "1"
                                },
                                {
                                    "city": "Jurez",
                                    "cusotmer_count": "1"
                                },
                                {
                                    "city": "Chandrapur",
                                    "cusotmer_count": "1"
                                },
                                {
                                    "city": "Shanwei",
                                    "cusotmer_count": "1"
                                },
                                {
                                    "city": "Braslia",
                                    "cusotmer_count": "1"
                                },
                                {
                                    "city": "Sawhaj",
                                    "cusotmer_count": "1"
                                },
                                {
                                    "city": "Sucre",
                                    "cusotmer_count": "1"
                                },
                                {
                                    "city": "Huejutla de Reyes",
                                    "cusotmer_count": "1"
                                },
                                {
                                    "city": "Cuman",
                                    "cusotmer_count": "1"
                                },
                                {
                                    "city": "Mardan",
                                    "cusotmer_count": "1"
                                },
                                {
                                    "city": "Koriyama",
                                    "cusotmer_count": "1"
                                },
                                {
                                    "city": "Cape Coral",
                                    "cusotmer_count": "1"
                                },
                                {
                                    "city": "Czestochowa",
                                    "cusotmer_count": "1"
                                },
                                {
                                    "city": "Kitwe",
                                    "cusotmer_count": "1"
                                },
                                {
                                    "city": "Sungai Petani",
                                    "cusotmer_count": "1"
                                },
                                {
                                    "city": "Chungho",
                                    "cusotmer_count": "1"
                                },
                                {
                                    "city": "Monclova",
                                    "cusotmer_count": "1"
                                },
                                {
                                    "city": "A Corua (La Corua)",
                                    "cusotmer_count": "1"
                                },
                                {
                                    "city": "Anpolis",
                                    "cusotmer_count": "1"
                                },
                                {
                                    "city": "Otsu",
                                    "cusotmer_count": "1"
                                },
                                {
                                    "city": "Citrus Heights",
                                    "cusotmer_count": "1"
                                },
                                {
                                    "city": "Daugavpils",
                                    "cusotmer_count": "1"
                                },
                                {
                                    "city": "Junan",
                                    "cusotmer_count": "1"
                                },
                                {
                                    "city": "Jaffna",
                                    "cusotmer_count": "1"
                                },
                                {
                                    "city": "Sorocaba",
                                    "cusotmer_count": "1"
                                },
                                {
                                    "city": "Santiago de los Caballeros",
                                    "cusotmer_count": "1"
                                },
                                {
                                    "city": "Liaocheng",
                                    "cusotmer_count": "1"
                                },
                                {
                                    "city": "Ktahya",
                                    "cusotmer_count": "1"
                                },
                                {
                                    "city": "Fuyu",
                                    "cusotmer_count": "1"
                                },
                                {
                                    "city": "Hohhot",
                                    "cusotmer_count": "1"
                                },
                                {
                                    "city": "Paarl",
                                    "cusotmer_count": "1"
                                },
                                {
                                    "city": "Zeleznogorsk",
                                    "cusotmer_count": "1"
                                },
                                {
                                    "city": "Aden",
                                    "cusotmer_count": "1"
                                },
                                {
                                    "city": "Donostia-San Sebastin",
                                    "cusotmer_count": "1"
                                },
                                {
                                    "city": "Vaduz",
                                    "cusotmer_count": "1"
                                },
                                {
                                    "city": "Shimoga",
                                    "cusotmer_count": "1"
                                },
                                {
                                    "city": "Emeishan",
                                    "cusotmer_count": "1"
                                },
                                {
                                    "city": "Tarsus",
                                    "cusotmer_count": "1"
                                },
                                {
                                    "city": "Aparecida de Goinia",
                                    "cusotmer_count": "1"
                                },
                                {
                                    "city": "Zalantun",
                                    "cusotmer_count": "1"
                                },
                                {
                                    "city": "Mandi Bahauddin",
                                    "cusotmer_count": "1"
                                },
                                {
                                    "city": "Rio Claro",
                                    "cusotmer_count": "1"
                                },
                                {
                                    "city": "Plock",
                                    "cusotmer_count": "1"
                                },
                                {
                                    "city": "Zhoushan",
                                    "cusotmer_count": "1"
                                },
                                {
                                    "city": "Santa F",
                                    "cusotmer_count": "1"
                                },
                                {
                                    "city": "Denizli",
                                    "cusotmer_count": "1"
                                },
                                {
                                    "city": "Stockport",
                                    "cusotmer_count": "1"
                                },
                                {
                                    "city": "Cavite",
                                    "cusotmer_count": "1"
                                },
                                {
                                    "city": "Konotop",
                                    "cusotmer_count": "1"
                                },
                                {
                                    "city": "Batman",
                                    "cusotmer_count": "1"
                                },
                                {
                                    "city": "Po",
                                    "cusotmer_count": "1"
                                },
                                {
                                    "city": "Szkesfehrvr",
                                    "cusotmer_count": "1"
                                },
                                {
                                    "city": "Bhopal",
                                    "cusotmer_count": "1"
                                },
                                {
                                    "city": "Siegen",
                                    "cusotmer_count": "1"
                                },
                                {
                                    "city": "Alessandria",
                                    "cusotmer_count": "1"
                                },
                                {
                                    "city": "So Leopoldo",
                                    "cusotmer_count": "1"
                                },
                                {
                                    "city": "Adana",
                                    "cusotmer_count": "1"
                                },
                                {
                                    "city": "Wroclaw",
                                    "cusotmer_count": "1"
                                },
                                {
                                    "city": "Hagonoy",
                                    "cusotmer_count": "1"
                                },
                                {
                                    "city": "Guadalajara",
                                    "cusotmer_count": "1"
                                },
                                {
                                    "city": "Kragujevac",
                                    "cusotmer_count": "1"
                                },
                                {
                                    "city": "Valle de la Pascua",
                                    "cusotmer_count": "1"
                                },
                                {
                                    "city": "El Fuerte",
                                    "cusotmer_count": "1"
                                },
                                {
                                    "city": "Iligan",
                                    "cusotmer_count": "1"
                                },
                                {
                                    "city": "Avellaneda",
                                    "cusotmer_count": "1"
                                },
                                {
                                    "city": "Novi Sad",
                                    "cusotmer_count": "1"
                                },
                                {
                                    "city": "Cam Ranh",
                                    "cusotmer_count": "1"
                                },
                                {
                                    "city": "Gandhinagar",
                                    "cusotmer_count": "1"
                                },
                                {
                                    "city": "Yaound",
                                    "cusotmer_count": "1"
                                },
                                {
                                    "city": "Naju",
                                    "cusotmer_count": "1"
                                },
                                {
                                    "city": "Malm",
                                    "cusotmer_count": "1"
                                },
                                {
                                    "city": "Kamjanets-Podilskyi",
                                    "cusotmer_count": "1"
                                },
                                {
                                    "city": "Valparai",
                                    "cusotmer_count": "1"
                                },
                                {
                                    "city": "Richmond Hill",
                                    "cusotmer_count": "1"
                                },
                                {
                                    "city": "Tallahassee",
                                    "cusotmer_count": "1"
                                },
                                {
                                    "city": "Mit Ghamr",
                                    "cusotmer_count": "1"
                                },
                                {
                                    "city": "Garland",
                                    "cusotmer_count": "1"
                                },
                                {
                                    "city": "Clarksville",
                                    "cusotmer_count": "1"
                                },
                                {
                                    "city": "Nanyang",
                                    "cusotmer_count": "1"
                                },
                                {
                                    "city": "Kimchon",
                                    "cusotmer_count": "1"
                                },
                                {
                                    "city": "Stara Zagora",
                                    "cusotmer_count": "1"
                                },
                                {
                                    "city": "Urawa",
                                    "cusotmer_count": "1"
                                },
                                {
                                    "city": "al-Manama",
                                    "cusotmer_count": "1"
                                },
                                {
                                    "city": "Teboksary",
                                    "cusotmer_count": "1"
                                },
                                {
                                    "city": "Pjatigorsk",
                                    "cusotmer_count": "1"
                                },
                                {
                                    "city": "Nabereznyje Telny",
                                    "cusotmer_count": "1"
                                },
                                {
                                    "city": "Pune",
                                    "cusotmer_count": "1"
                                },
                                {
                                    "city": "Matsue",
                                    "cusotmer_count": "1"
                                },
                                {
                                    "city": "Funafuti",
                                    "cusotmer_count": "1"
                                },
                                {
                                    "city": "Southend-on-Sea",
                                    "cusotmer_count": "1"
                                },
                                {
                                    "city": "Trshavn",
                                    "cusotmer_count": "1"
                                },
                                {
                                    "city": "San Juan Bautista Tuxtepec",
                                    "cusotmer_count": "1"
                                },
                                {
                                    "city": "Balurghat",
                                    "cusotmer_count": "1"
                                },
                                {
                                    "city": "Naala-Porto",
                                    "cusotmer_count": "1"
                                },
                                {
                                    "city": "Fontana",
                                    "cusotmer_count": "1"
                                },
                                {
                                    "city": "Tsuyama",
                                    "cusotmer_count": "1"
                                },
                                {
                                    "city": "Olomouc",
                                    "cusotmer_count": "1"
                                },
                                {
                                    "city": "Jelets",
                                    "cusotmer_count": "1"
                                },
                                {
                                    "city": "Vancouver",
                                    "cusotmer_count": "1"
                                },
                                {
                                    "city": "Datong",
                                    "cusotmer_count": "1"
                                },
                                {
                                    "city": "Atinsk",
                                    "cusotmer_count": "1"
                                },
                                {
                                    "city": "Mosul",
                                    "cusotmer_count": "1"
                                },
                                {
                                    "city": "Rancagua",
                                    "cusotmer_count": "1"
                                },
                                {
                                    "city": "Shivapuri",
                                    "cusotmer_count": "1"
                                },
                                {
                                    "city": "Siliguri (Shiliguri)",
                                    "cusotmer_count": "1"
                                },
                                {
                                    "city": "Saarbrcken",
                                    "cusotmer_count": "1"
                                },
                                {
                                    "city": "Nantou",
                                    "cusotmer_count": "1"
                                },
                                {
                                    "city": "Tandil",
                                    "cusotmer_count": "1"
                                },
                                {
                                    "city": "Jodhpur",
                                    "cusotmer_count": "1"
                                },
                                {
                                    "city": "Laredo",
                                    "cusotmer_count": "1"
                                },
                                {
                                    "city": "Jaipur",
                                    "cusotmer_count": "1"
                                },
                                {
                                    "city": "Santa Rosa",
                                    "cusotmer_count": "1"
                                },
                                {
                                    "city": "Botosani",
                                    "cusotmer_count": "1"
                                },
                                {
                                    "city": "Haining",
                                    "cusotmer_count": "1"
                                },
                                {
                                    "city": "Amersfoort",
                                    "cusotmer_count": "1"
                                },
                                {
                                    "city": "Dhule (Dhulia)",
                                    "cusotmer_count": "1"
                                },
                                {
                                    "city": "Memphis",
                                    "cusotmer_count": "1"
                                },
                                {
                                    "city": "Saint Louis",
                                    "cusotmer_count": "1"
                                },
                                {
                                    "city": "Dallas",
                                    "cusotmer_count": "1"
                                },
                                {
                                    "city": "Kurgan",
                                    "cusotmer_count": "1"
                                },
                                {
                                    "city": "Witten",
                                    "cusotmer_count": "1"
                                },
                                {
                                    "city": "Livorno",
                                    "cusotmer_count": "1"
                                },
                                {
                                    "city": "Kursk",
                                    "cusotmer_count": "1"
                                },
                                {
                                    "city": "Uluberia",
                                    "cusotmer_count": "1"
                                },
                                {
                                    "city": "Vijayawada",
                                    "cusotmer_count": "1"
                                },
                                {
                                    "city": "Tongliao",
                                    "cusotmer_count": "1"
                                },
                                {
                                    "city": "Kuching",
                                    "cusotmer_count": "1"
                                },
                                {
                                    "city": "Newcastle",
                                    "cusotmer_count": "1"
                                },
                                {
                                    "city": "Uruapan",
                                    "cusotmer_count": "1"
                                },
                                {
                                    "city": "Santo Andr",
                                    "cusotmer_count": "1"
                                },
                                {
                                    "city": "Cianjur",
                                    "cusotmer_count": "1"
                                },
                                {
                                    "city": "Simferopol",
                                    "cusotmer_count": "1"
                                },
                                {
                                    "city": "Iwakuni",
                                    "cusotmer_count": "1"
                                },
                                {
                                    "city": "Cuautla",
                                    "cusotmer_count": "1"
                                },
                                {
                                    "city": "Rustenburg",
                                    "cusotmer_count": "1"
                                },
                                {
                                    "city": "Patras",
                                    "cusotmer_count": "1"
                                },
                                {
                                    "city": "Izumisano",
                                    "cusotmer_count": "1"
                                },
                                {
                                    "city": "Barcelona",
                                    "cusotmer_count": "1"
                                },
                                {
                                    "city": "Xinxiang",
                                    "cusotmer_count": "1"
                                },
                                {
                                    "city": "Suihua",
                                    "cusotmer_count": "1"
                                },
                                {
                                    "city": "Nakhon Sawan",
                                    "cusotmer_count": "1"
                                },
                                {
                                    "city": "Jakarta",
                                    "cusotmer_count": "1"
                                },
                                {
                                    "city": "Sullana",
                                    "cusotmer_count": "1"
                                },
                                {
                                    "city": "Ranchi",
                                    "cusotmer_count": "1"
                                },
                                {
                                    "city": "Monywa",
                                    "cusotmer_count": "1"
                                },
                                {
                                    "city": "Santiago de Compostela",
                                    "cusotmer_count": "1"
                                },
                                {
                                    "city": "Klerksdorp",
                                    "cusotmer_count": "1"
                                },
                                {
                                    "city": "Shikarpur",
                                    "cusotmer_count": "1"
                                },
                                {
                                    "city": "Shimonoseki",
                                    "cusotmer_count": "1"
                                },
                                {
                                    "city": "Varanasi (Benares)",
                                    "cusotmer_count": "1"
                                },
                                {
                                    "city": "Zanzibar",
                                    "cusotmer_count": "1"
                                },
                                {
                                    "city": "Sumqayit",
                                    "cusotmer_count": "1"
                                },
                                {
                                    "city": "Gaziantep",
                                    "cusotmer_count": "1"
                                },
                                {
                                    "city": "Sumy",
                                    "cusotmer_count": "1"
                                },
                                {
                                    "city": "Ashqelon",
                                    "cusotmer_count": "1"
                                },
                                {
                                    "city": "Halifax",
                                    "cusotmer_count": "1"
                                },
                                {
                                    "city": "Graz",
                                    "cusotmer_count": "1"
                                },
                                {
                                    "city": "Pudukkottai",
                                    "cusotmer_count": "1"
                                },
                                {
                                    "city": "Nam Dinh",
                                    "cusotmer_count": "1"
                                },
                                {
                                    "city": "Bat Yam",
                                    "cusotmer_count": "1"
                                },
                                {
                                    "city": "Valencia",
                                    "cusotmer_count": "1"
                                },
                                {
                                    "city": "Brindisi",
                                    "cusotmer_count": "1"
                                },
                                {
                                    "city": "Zaria",
                                    "cusotmer_count": "1"
                                },
                                {
                                    "city": "Lausanne",
                                    "cusotmer_count": "1"
                                },
                                {
                                    "city": "Sanya",
                                    "cusotmer_count": "1"
                                },
                                {
                                    "city": "Coatzacoalcos",
                                    "cusotmer_count": "1"
                                },
                                {
                                    "city": "Probolinggo",
                                    "cusotmer_count": "1"
                                },
                                {
                                    "city": "Elista",
                                    "cusotmer_count": "1"
                                },
                                {
                                    "city": "Kabul",
                                    "cusotmer_count": "1"
                                },
                                {
                                    "city": "Dos Quebradas",
                                    "cusotmer_count": "1"
                                },
                                {
                                    "city": "Tanshui",
                                    "cusotmer_count": "1"
                                },
                                {
                                    "city": "Vilnius",
                                    "cusotmer_count": "1"
                                },
                                {
                                    "city": "Hino",
                                    "cusotmer_count": "1"
                                },
                                {
                                    "city": "Juazeiro do Norte",
                                    "cusotmer_count": "1"
                                },
                                {
                                    "city": "Duisburg",
                                    "cusotmer_count": "1"
                                },
                                {
                                    "city": "Effon-Alaiye",
                                    "cusotmer_count": "1"
                                },
                                {
                                    "city": "Dzerzinsk",
                                    "cusotmer_count": "1"
                                },
                                {
                                    "city": "Sirjan",
                                    "cusotmer_count": "1"
                                },
                                {
                                    "city": "Okinawa",
                                    "cusotmer_count": "1"
                                },
                                {
                                    "city": "Maring",
                                    "cusotmer_count": "1"
                                },
                                {
                                    "city": "Guaruj",
                                    "cusotmer_count": "1"
                                },
                                {
                                    "city": "Xiangfan",
                                    "cusotmer_count": "1"
                                },
                                {
                                    "city": "Linz",
                                    "cusotmer_count": "1"
                                },
                                {
                                    "city": "Sokoto",
                                    "cusotmer_count": "1"
                                },
                                {
                                    "city": "Hubli-Dharwad",
                                    "cusotmer_count": "1"
                                },
                                {
                                    "city": "Kisumu",
                                    "cusotmer_count": "1"
                                },
                                {
                                    "city": "Ikerre",
                                    "cusotmer_count": "1"
                                },
                                {
                                    "city": "Rockford",
                                    "cusotmer_count": "1"
                                },
                                {
                                    "city": "Akishima",
                                    "cusotmer_count": "1"
                                },
                                {
                                    "city": "Qinhuangdao",
                                    "cusotmer_count": "1"
                                },
                                {
                                    "city": "Palghat (Palakkad)",
                                    "cusotmer_count": "1"
                                },
                                {
                                    "city": "Vinh",
                                    "cusotmer_count": "1"
                                },
                                {
                                    "city": "Addis Abeba",
                                    "cusotmer_count": "1"
                                },
                                {
                                    "city": "Miraj",
                                    "cusotmer_count": "1"
                                },
                                {
                                    "city": "Mahajanga",
                                    "cusotmer_count": "1"
                                },
                                {
                                    "city": "Rajkot",
                                    "cusotmer_count": "1"
                                },
                                {
                                    "city": "Yuzhou",
                                    "cusotmer_count": "1"
                                },
                                {
                                    "city": "Kirovo-Tepetsk",
                                    "cusotmer_count": "1"
                                },
                                {
                                    "city": "Mysore",
                                    "cusotmer_count": "1"
                                },
                                {
                                    "city": "Emmen",
                                    "cusotmer_count": "1"
                                },
                                {
                                    "city": "Bergamo",
                                    "cusotmer_count": "1"
                                },
                                {
                                    "city": "Kaliningrad",
                                    "cusotmer_count": "1"
                                },
                                {
                                    "city": "Tambaram",
                                    "cusotmer_count": "1"
                                },
                                {
                                    "city": "Mannheim",
                                    "cusotmer_count": "1"
                                },
                                {
                                    "city": "Masqat",
                                    "cusotmer_count": "1"
                                },
                                {
                                    "city": "Erlangen",
                                    "cusotmer_count": "1"
                                },
                                {
                                    "city": "Torren",
                                    "cusotmer_count": "1"
                                },
                                {
                                    "city": "Balaiha",
                                    "cusotmer_count": "1"
                                },
                                {
                                    "city": "Callao",
                                    "cusotmer_count": "1"
                                },
                                {
                                    "city": "Kolpino",
                                    "cusotmer_count": "1"
                                },
                                {
                                    "city": "Basel",
                                    "cusotmer_count": "1"
                                },
                                {
                                    "city": "Nukualofa",
                                    "cusotmer_count": "1"
                                },
                                {
                                    "city": "Escobar",
                                    "cusotmer_count": "1"
                                },
                                {
                                    "city": "Salala",
                                    "cusotmer_count": "1"
                                },
                                {
                                    "city": "Tanauan",
                                    "cusotmer_count": "1"
                                },
                                {
                                    "city": "Higashiosaka",
                                    "cusotmer_count": "1"
                                },
                                {
                                    "city": "Ciparay",
                                    "cusotmer_count": "1"
                                },
                                {
                                    "city": "Syktyvkar",
                                    "cusotmer_count": "1"
                                },
                                {
                                    "city": "ostka",
                                    "cusotmer_count": "1"
                                },
                                {
                                    "city": "Kakamigahara",
                                    "cusotmer_count": "1"
                                },
                                {
                                    "city": "Patiala",
                                    "cusotmer_count": "1"
                                },
                                {
                                    "city": "Sivas",
                                    "cusotmer_count": "1"
                                },
                                {
                                    "city": "Pangkal Pinang",
                                    "cusotmer_count": "1"
                                },
                                {
                                    "city": "La Romana",
                                    "cusotmer_count": "1"
                                },
                                {
                                    "city": "Firozabad",
                                    "cusotmer_count": "1"
                                },
                                {
                                    "city": "Hami",
                                    "cusotmer_count": "1"
                                },
                                {
                                    "city": "Ziguinchor",
                                    "cusotmer_count": "1"
                                },
                                {
                                    "city": "Brest",
                                    "cusotmer_count": "1"
                                },
                                {
                                    "city": "San Miguel de Tucumn",
                                    "cusotmer_count": "1"
                                },
                                {
                                    "city": "Yerevan",
                                    "cusotmer_count": "1"
                                },
                                {
                                    "city": "Okayama",
                                    "cusotmer_count": "1"
                                },
                                {
                                    "city": "Nyeri",
                                    "cusotmer_count": "1"
                                },
                                {
                                    "city": "Buenaventura",
                                    "cusotmer_count": "1"
                                },
                                {
                                    "city": "Lapu-Lapu",
                                    "cusotmer_count": "1"
                                },
                                {
                                    "city": "Fukuyama",
                                    "cusotmer_count": "1"
                                },
                                {
                                    "city": "Matamoros",
                                    "cusotmer_count": "1"
                                },
                                {
                                    "city": "Tanza",
                                    "cusotmer_count": "1"
                                },
                                {
                                    "city": "Birgunj",
                                    "cusotmer_count": "1"
                                },
                                {
                                    "city": "Hidalgo",
                                    "cusotmer_count": "1"
                                },
                                {
                                    "city": "Mwene-Ditu",
                                    "cusotmer_count": "1"
                                },
                                {
                                    "city": "Coacalco de Berriozbal",
                                    "cusotmer_count": "1"
                                },
                                {
                                    "city": "Mexicali",
                                    "cusotmer_count": "1"
                                },
                                {
                                    "city": "Parbhani",
                                    "cusotmer_count": "1"
                                },
                                {
                                    "city": "Jedda",
                                    "cusotmer_count": "1"
                                },
                                {
                                    "city": "Blumenau",
                                    "cusotmer_count": "1"
                                },
                                {
                                    "city": "al-Qatif",
                                    "cusotmer_count": "1"
                                },
                                {
                                    "city": "Baha Blanca",
                                    "cusotmer_count": "1"
                                },
                                {
                                    "city": "Myingyan",
                                    "cusotmer_count": "1"
                                },
                                {
                                    "city": "Loja",
                                    "cusotmer_count": "1"
                                },
                                {
                                    "city": "Bag",
                                    "cusotmer_count": "1"
                                },
                                {
                                    "city": "Purwakarta",
                                    "cusotmer_count": "1"
                                },
                                {
                                    "city": "Tabriz",
                                    "cusotmer_count": "1"
                                },
                                {
                                    "city": "Faaa",
                                    "cusotmer_count": "1"
                                },
                                {
                                    "city": "Liepaja",
                                    "cusotmer_count": "1"
                                },
                                {
                                    "city": "Yuncheng",
                                    "cusotmer_count": "1"
                                },
                                {
                                    "city": "Soshanguve",
                                    "cusotmer_count": "1"
                                },
                                {
                                    "city": "Coquimbo",
                                    "cusotmer_count": "1"
                                },
                                {
                                    "city": "Tianjin",
                                    "cusotmer_count": "1"
                                },
                                {
                                    "city": "Lancaster",
                                    "cusotmer_count": "1"
                                },
                                {
                                    "city": "Kimberley",
                                    "cusotmer_count": "1"
                                },
                                {
                                    "city": "Rizhao",
                                    "cusotmer_count": "1"
                                },
                                {
                                    "city": "Kumbakonam",
                                    "cusotmer_count": "1"
                                },
                                {
                                    "city": "Kuwana",
                                    "cusotmer_count": "1"
                                },
                                {
                                    "city": "Arak",
                                    "cusotmer_count": "1"
                                },
                                {
                                    "city": "Talavera",
                                    "cusotmer_count": "1"
                                },
                                {
                                    "city": "Novoterkassk",
                                    "cusotmer_count": "1"
                                },
                                {
                                    "city": "Dundee",
                                    "cusotmer_count": "1"
                                },
                                {
                                    "city": "Ruse",
                                    "cusotmer_count": "1"
                                },
                                {
                                    "city": "Kansas City",
                                    "cusotmer_count": "1"
                                },
                                {
                                    "city": "Southampton",
                                    "cusotmer_count": "1"
                                },
                                {
                                    "city": "Ashgabat",
                                    "cusotmer_count": "1"
                                },
                                {
                                    "city": "Nagareyama",
                                    "cusotmer_count": "1"
                                },
                                {
                                    "city": "Le Mans",
                                    "cusotmer_count": "1"
                                },
                                {
                                    "city": "Niznekamsk",
                                    "cusotmer_count": "1"
                                },
                                {
                                    "city": "Kalisz",
                                    "cusotmer_count": "1"
                                },
                                {
                                    "city": "Lima",
                                    "cusotmer_count": "1"
                                },
                                {
                                    "city": "Bhimavaram",
                                    "cusotmer_count": "1"
                                },
                                {
                                    "city": "Pavlodar",
                                    "cusotmer_count": "1"
                                },
                                {
                                    "city": "Lipetsk",
                                    "cusotmer_count": "1"
                                },
                                {
                                    "city": "Baybay",
                                    "cusotmer_count": "1"
                                },
                                {
                                    "city": "Hsichuh",
                                    "cusotmer_count": "1"
                                },
                                {
                                    "city": "Jaroslavl",
                                    "cusotmer_count": "1"
                                },
                                {
                                    "city": "La Plata",
                                    "cusotmer_count": "1"
                                },
                                {
                                    "city": "Laohekou",
                                    "cusotmer_count": "1"
                                },
                                {
                                    "city": "Xiangtan",
                                    "cusotmer_count": "1"
                                },
                                {
                                    "city": "Joliet",
                                    "cusotmer_count": "1"
                                },
                                {
                                    "city": "Shubra al-Khayma",
                                    "cusotmer_count": "1"
                                },
                                {
                                    "city": "Onomichi",
                                    "cusotmer_count": "1"
                                },
                                {
                                    "city": "Ife",
                                    "cusotmer_count": "1"
                                },
                                {
                                    "city": "Charlotte Amalie",
                                    "cusotmer_count": "1"
                                },
                                {
                                    "city": "Nagaon",
                                    "cusotmer_count": "1"
                                },
                                {
                                    "city": "Kingstown",
                                    "cusotmer_count": "1"
                                },
                                {
                                    "city": "Munger (Monghyr)",
                                    "cusotmer_count": "1"
                                },
                                {
                                    "city": "Phnom Penh",
                                    "cusotmer_count": "1"
                                },
                                {
                                    "city": "El Alto",
                                    "cusotmer_count": "1"
                                },
                                {
                                    "city": "Ciomas",
                                    "cusotmer_count": "1"
                                },
                                {
                                    "city": "Yangor",
                                    "cusotmer_count": "1"
                                },
                                {
                                    "city": "Pachuca de Soto",
                                    "cusotmer_count": "1"
                                },
                                {
                                    "city": "Nuuk",
                                    "cusotmer_count": "1"
                                },
                                {
                                    "city": "Esfahan",
                                    "cusotmer_count": "1"
                                },
                                {
                                    "city": "Sterling Heights",
                                    "cusotmer_count": "1"
                                },
                                {
                                    "city": "Beni-Mellal",
                                    "cusotmer_count": "1"
                                },
                                {
                                    "city": "Hoshiarpur",
                                    "cusotmer_count": "1"
                                },
                                {
                                    "city": "Bellevue",
                                    "cusotmer_count": "1"
                                },
                                {
                                    "city": "Huaian",
                                    "cusotmer_count": "1"
                                },
                                {
                                    "city": "Imus",
                                    "cusotmer_count": "1"
                                },
                                {
                                    "city": "Warren",
                                    "cusotmer_count": "1"
                                },
                                {
                                    "city": "Pingxiang",
                                    "cusotmer_count": "1"
                                },
                                {
                                    "city": "Greensboro",
                                    "cusotmer_count": "1"
                                },
                                {
                                    "city": "Ocumare del Tuy",
                                    "cusotmer_count": "1"
                                },
                                {
                                    "city": "Southport",
                                    "cusotmer_count": "1"
                                },
                                {
                                    "city": "Pemalang",
                                    "cusotmer_count": "1"
                                },
                                {
                                    "city": "Taguig",
                                    "cusotmer_count": "1"
                                }
                            ]
                        },
                        "text/html": [
                            "<table>",
                            "<tr><th>city</th><th>cusotmer_count</th></tr>",
                            "<tr><td>London</td><td>2</td></tr>",
                            "<tr><td>Aurora</td><td>2</td></tr>",
                            "<tr><td>Tokat</td><td>1</td></tr>",
                            "<tr><td>Atlixco</td><td>1</td></tr>",
                            "<tr><td>Mukateve</td><td>1</td></tr>",
                            "<tr><td>Pontianak</td><td>1</td></tr>",
                            "<tr><td>Gatineau</td><td>1</td></tr>",
                            "<tr><td>Saint-Denis</td><td>1</td></tr>",
                            "<tr><td>Molodetno</td><td>1</td></tr>",
                            "<tr><td>Yingkou</td><td>1</td></tr>",
                            "<tr><td>Changhwa</td><td>1</td></tr>",
                            "<tr><td>Rampur</td><td>1</td></tr>",
                            "<tr><td>Caracas</td><td>1</td></tr>",
                            "<tr><td>Apeldoorn</td><td>1</td></tr>",
                            "<tr><td>Omdurman</td><td>1</td></tr>",
                            "<tr><td>Mwanza</td><td>1</td></tr>",
                            "<tr><td>Satna</td><td>1</td></tr>",
                            "<tr><td>Hanoi</td><td>1</td></tr>",
                            "<tr><td>San Bernardino</td><td>1</td></tr>",
                            "<tr><td>Battambang</td><td>1</td></tr>",
                            "<tr><td>Boksburg</td><td>1</td></tr>",
                            "<tr><td>Ogbomosho</td><td>1</td></tr>",
                            "<tr><td>Idfu</td><td>1</td></tr>",
                            "<tr><td>Bradford</td><td>1</td></tr>",
                            "<tr><td>Gorontalo</td><td>1</td></tr>",
                            "<tr><td>Ilorin</td><td>1</td></tr>",
                            "<tr><td>Grand Prairie</td><td>1</td></tr>",
                            "<tr><td>Leshan</td><td>1</td></tr>",
                            "<tr><td>Arecibo</td><td>1</td></tr>",
                            "<tr><td>Syrakusa</td><td>1</td></tr>",
                            "<tr><td>Salinas</td><td>1</td></tr>",
                            "<tr><td>Toulouse</td><td>1</td></tr>",
                            "<tr><td>NDjamna</td><td>1</td></tr>",
                            "<tr><td>Berhampore (Baharampur)</td><td>1</td></tr>",
                            "<tr><td>Almirante Brown</td><td>1</td></tr>",
                            "<tr><td>Tafuna</td><td>1</td></tr>",
                            "<tr><td>Najafabad</td><td>1</td></tr>",
                            "<tr><td>Jhansi</td><td>1</td></tr>",
                            "<tr><td>Maracabo</td><td>1</td></tr>",
                            "<tr><td>Touliu</td><td>1</td></tr>",
                            "<tr><td>Karnal</td><td>1</td></tr>",
                            "<tr><td>Shahr-e Kord</td><td>1</td></tr>",
                            "<tr><td>Nador</td><td>1</td></tr>",
                            "<tr><td>Zhezqazghan</td><td>1</td></tr>",
                            "<tr><td>Udaipur</td><td>1</td></tr>",
                            "<tr><td>Zaoyang</td><td>1</td></tr>",
                            "<tr><td>Portoviejo</td><td>1</td></tr>",
                            "<tr><td>Yantai</td><td>1</td></tr>",
                            "<tr><td>Moscow</td><td>1</td></tr>",
                            "<tr><td>Zapopan</td><td>1</td></tr>",
                            "<tr><td>Allappuzha (Alleppey)</td><td>1</td></tr>",
                            "<tr><td>Smolensk</td><td>1</td></tr>",
                            "<tr><td>Iwatsuki</td><td>1</td></tr>",
                            "<tr><td>Etawah</td><td>1</td></tr>",
                            "<tr><td>al-Qadarif</td><td>1</td></tr>",
                            "<tr><td>Oyo</td><td>1</td></tr>",
                            "<tr><td>Tabora</td><td>1</td></tr>",
                            "<tr><td>Lungtan</td><td>1</td></tr>",
                            "<tr><td>Oshawa</td><td>1</td></tr>",
                            "<tr><td>Omiya</td><td>1</td></tr>",
                            "<tr><td>Jastrzebie-Zdrj</td><td>1</td></tr>",
                            "<tr><td>Lilongwe</td><td>1</td></tr>",
                            "<tr><td>Hamilton</td><td>1</td></tr>",
                            "<tr><td>Ashdod</td><td>1</td></tr>",
                            "<tr><td>Lubumbashi</td><td>1</td></tr>",
                            "<tr><td>Pathankot</td><td>1</td></tr>",
                            "<tr><td>Chisinau</td><td>1</td></tr>",
                            "<tr><td>Bayugan</td><td>1</td></tr>",
                            "<tr><td>Weifang</td><td>1</td></tr>",
                            "<tr><td>Roanoke</td><td>1</td></tr>",
                            "<tr><td>Korla</td><td>1</td></tr>",
                            "<tr><td>Santa Brbara dOeste</td><td>1</td></tr>",
                            "<tr><td>Angra dos Reis</td><td>1</td></tr>",
                            "<tr><td>Tychy</td><td>1</td></tr>",
                            "<tr><td>al-Hawiya</td><td>1</td></tr>",
                            "<tr><td>Bhilwara</td><td>1</td></tr>",
                            "<tr><td>Serpuhov</td><td>1</td></tr>",
                            "<tr><td>Bern</td><td>1</td></tr>",
                            "<tr><td>Araatuba</td><td>1</td></tr>",
                            "<tr><td>Salamanca</td><td>1</td></tr>",
                            "<tr><td>Balikesir</td><td>1</td></tr>",
                            "<tr><td>Chapra</td><td>1</td></tr>",
                            "<tr><td>Carmen</td><td>1</td></tr>",
                            "<tr><td>Lublin</td><td>1</td></tr>",
                            "<tr><td>Florencia</td><td>1</td></tr>",
                            "<tr><td>Sogamoso</td><td>1</td></tr>",
                            "<tr><td>Tieli</td><td>1</td></tr>",
                            "<tr><td>Jinchang</td><td>1</td></tr>",
                            "<tr><td>Salzburg</td><td>1</td></tr>",
                            "<tr><td>Kaduna</td><td>1</td></tr>",
                            "<tr><td>Jinzhou</td><td>1</td></tr>",
                            "<tr><td>Hodeida</td><td>1</td></tr>",
                            "<tr><td>Peoria</td><td>1</td></tr>",
                            "<tr><td>Osmaniye</td><td>1</td></tr>",
                            "<tr><td>Asuncin</td><td>1</td></tr>",
                            "<tr><td>Batna</td><td>1</td></tr>",
                            "<tr><td>Ponce</td><td>1</td></tr>",
                            "<tr><td>Augusta-Richmond County</td><td>1</td></tr>",
                            "<tr><td>Tuguegarao</td><td>1</td></tr>",
                            "<tr><td>Amroha</td><td>1</td></tr>",
                            "<tr><td>Oulu</td><td>1</td></tr>",
                            "<tr><td>Bilbays</td><td>1</td></tr>",
                            "<tr><td>El Monte</td><td>1</td></tr>",
                            "<tr><td>guas Lindas de Gois</td><td>1</td></tr>",
                            "<tr><td>Juiz de Fora</td><td>1</td></tr>",
                            "<tr><td>Sanaa</td><td>1</td></tr>",
                            "<tr><td>al-Ayn</td><td>1</td></tr>",
                            "<tr><td>Tete</td><td>1</td></tr>",
                            "<tr><td>Vicente Lpez</td><td>1</td></tr>",
                            "<tr><td>Citt del Vaticano</td><td>1</td></tr>",
                            "<tr><td>Skikda</td><td>1</td></tr>",
                            "<tr><td>Jamalpur</td><td>1</td></tr>",
                            "<tr><td>Shaoguan</td><td>1</td></tr>",
                            "<tr><td>Ipoh</td><td>1</td></tr>",
                            "<tr><td>Ueda</td><td>1</td></tr>",
                            "<tr><td>Changzhou</td><td>1</td></tr>",
                            "<tr><td>Compton</td><td>1</td></tr>",
                            "<tr><td>Baiyin</td><td>1</td></tr>",
                            "<tr><td>Brescia</td><td>1</td></tr>",
                            "<tr><td>Sal</td><td>1</td></tr>",
                            "<tr><td>Usolje-Sibirskoje</td><td>1</td></tr>",
                            "<tr><td>Bucuresti</td><td>1</td></tr>",
                            "<tr><td>South Hill</td><td>1</td></tr>",
                            "<tr><td>Shenzhen</td><td>1</td></tr>",
                            "<tr><td>Adoni</td><td>1</td></tr>",
                            "<tr><td>Cuernavaca</td><td>1</td></tr>",
                            "<tr><td>Bandar Seri Begawan</td><td>1</td></tr>",
                            "<tr><td>Miyakonojo</td><td>1</td></tr>",
                            "<tr><td>Haiphong</td><td>1</td></tr>",
                            "<tr><td>Cheju</td><td>1</td></tr>",
                            "<tr><td>Ede</td><td>1</td></tr>",
                            "<tr><td>Uttarpara-Kotrung</td><td>1</td></tr>",
                            "<tr><td>s-Hertogenbosch</td><td>1</td></tr>",
                            "<tr><td>Chiayi</td><td>1</td></tr>",
                            "<tr><td>Athenai</td><td>1</td></tr>",
                            "<tr><td>Dayton</td><td>1</td></tr>",
                            "<tr><td>Kanchrapara</td><td>1</td></tr>",
                            "<tr><td>Poos de Caldas</td><td>1</td></tr>",
                            "<tr><td>Maikop</td><td>1</td></tr>",
                            "<tr><td>Xintai</td><td>1</td></tr>",
                            "<tr><td>Kowloon and New Kowloon</td><td>1</td></tr>",
                            "<tr><td>Cuauhtmoc</td><td>1</td></tr>",
                            "<tr><td>Uijongbu</td><td>1</td></tr>",
                            "<tr><td>Springs</td><td>1</td></tr>",
                            "<tr><td>Rae Bareli</td><td>1</td></tr>",
                            "<tr><td>San Felipe de Puerto Plata</td><td>1</td></tr>",
                            "<tr><td>Benin City</td><td>1</td></tr>",
                            "<tr><td>Arlington</td><td>1</td></tr>",
                            "<tr><td>Huixquilucan</td><td>1</td></tr>",
                            "<tr><td>Garden Grove</td><td>1</td></tr>",
                            "<tr><td>Inegl</td><td>1</td></tr>",
                            "<tr><td>Quilmes</td><td>1</td></tr>",
                            "<tr><td>Baku</td><td>1</td></tr>",
                            "<tr><td>Meixian</td><td>1</td></tr>",
                            "<tr><td>Ozamis</td><td>1</td></tr>",
                            "<tr><td>Botshabelo</td><td>1</td></tr>",
                            "<tr><td>Ourense (Orense)</td><td>1</td></tr>",
                            "<tr><td>Tama</td><td>1</td></tr>",
                            "<tr><td>Sasebo</td><td>1</td></tr>",
                            "<tr><td>Gingoog</td><td>1</td></tr>",
                            "<tr><td>Namibe</td><td>1</td></tr>",
                            "<tr><td>Halisahar</td><td>1</td></tr>",
                            "<tr><td>Bydgoszcz</td><td>1</td></tr>",
                            "<tr><td>Ljubertsy</td><td>1</td></tr>",
                            "<tr><td>Qalyub</td><td>1</td></tr>",
                            "<tr><td>Gijn</td><td>1</td></tr>",
                            "<tr><td>Ondo</td><td>1</td></tr>",
                            "<tr><td>Bislig</td><td>1</td></tr>",
                            "<tr><td>Tonghae</td><td>1</td></tr>",
                            "<tr><td>Bamenda</td><td>1</td></tr>",
                            "<tr><td>Abha</td><td>1</td></tr>",
                            "<tr><td>Davao</td><td>1</td></tr>",
                            "<tr><td>Tel Aviv-Jaffa</td><td>1</td></tr>",
                            "<tr><td>Tangail</td><td>1</td></tr>",
                            "<tr><td>San Felipe del Progreso</td><td>1</td></tr>",
                            "<tr><td>Vitria de Santo Anto</td><td>1</td></tr>",
                            "<tr><td>Sousse</td><td>1</td></tr>",
                            "<tr><td>Bhusawal</td><td>1</td></tr>",
                            "<tr><td>Robamba</td><td>1</td></tr>",
                            "<tr><td>Sagamihara</td><td>1</td></tr>",
                            "<tr><td>Boa Vista</td><td>1</td></tr>",
                            "<tr><td>Jalib al-Shuyukh</td><td>1</td></tr>",
                            "<tr><td>Yinchuan</td><td>1</td></tr>",
                            "<tr><td>Lincoln</td><td>1</td></tr>",
                            "<tr><td>Abu Dhabi</td><td>1</td></tr>",
                            "<tr><td>Bchar</td><td>1</td></tr>",
                            "<tr><td>Eskisehir</td><td>1</td></tr>",
                            "<tr><td>Nezahualcyotl</td><td>1</td></tr>",
                            "<tr><td>Enshi</td><td>1</td></tr>",
                            "<tr><td>Dadu</td><td>1</td></tr>",
                            "<tr><td>Antofagasta</td><td>1</td></tr>",
                            "<tr><td>Madiun</td><td>1</td></tr>",
                            "<tr><td>Kurashiki</td><td>1</td></tr>",
                            "<tr><td>Merlo</td><td>1</td></tr>",
                            "<tr><td>Katihar</td><td>1</td></tr>",
                            "<tr><td>Iwaki</td><td>1</td></tr>",
                            "<tr><td>Tiefa</td><td>1</td></tr>",
                            "<tr><td>Usak</td><td>1</td></tr>",
                            "<tr><td>Yamuna Nagar</td><td>1</td></tr>",
                            "<tr><td>Deba Habe</td><td>1</td></tr>",
                            "<tr><td>Owo</td><td>1</td></tr>",
                            "<tr><td>Alvorada</td><td>1</td></tr>",
                            "<tr><td>Benguela</td><td>1</td></tr>",
                            "<tr><td>Laiwu</td><td>1</td></tr>",
                            "<tr><td>Kilis</td><td>1</td></tr>",
                            "<tr><td>Bhavnagar</td><td>1</td></tr>",
                            "<tr><td>Lhokseumawe</td><td>1</td></tr>",
                            "<tr><td>Bijapur</td><td>1</td></tr>",
                            "<tr><td>Dhaka</td><td>1</td></tr>",
                            "<tr><td>Pyongyang</td><td>1</td></tr>",
                            "<tr><td>San Lorenzo</td><td>1</td></tr>",
                            "<tr><td>Ezeiza</td><td>1</td></tr>",
                            "<tr><td>Isesaki</td><td>1</td></tr>",
                            "<tr><td>Ibirit</td><td>1</td></tr>",
                            "<tr><td>Sincelejo</td><td>1</td></tr>",
                            "<tr><td>La Paz</td><td>1</td></tr>",
                            "<tr><td>Hunuco</td><td>1</td></tr>",
                            "<tr><td>Beira</td><td>1</td></tr>",
                            "<tr><td>Johannesburg</td><td>1</td></tr>",
                            "<tr><td>Dongying</td><td>1</td></tr>",
                            "<tr><td>Hiroshima</td><td>1</td></tr>",
                            "<tr><td>Tabuk</td><td>1</td></tr>",
                            "<tr><td>Surakarta</td><td>1</td></tr>",
                            "<tr><td>Sharja</td><td>1</td></tr>",
                            "<tr><td>Bratislava</td><td>1</td></tr>",
                            "<tr><td>Cayenne</td><td>1</td></tr>",
                            "<tr><td>Songkhla</td><td>1</td></tr>",
                            "<tr><td>Tarlac</td><td>1</td></tr>",
                            "<tr><td>Toulon</td><td>1</td></tr>",
                            "<tr><td>York</td><td>1</td></tr>",
                            "<tr><td>Tegal</td><td>1</td></tr>",
                            "<tr><td>Taizz</td><td>1</td></tr>",
                            "<tr><td>Ahmadnagar</td><td>1</td></tr>",
                            "<tr><td>Pereira</td><td>1</td></tr>",
                            "<tr><td>Sultanbeyli</td><td>1</td></tr>",
                            "<tr><td>Tsaotun</td><td>1</td></tr>",
                            "<tr><td>Belm</td><td>1</td></tr>",
                            "<tr><td>So Bernardo do Campo</td><td>1</td></tr>",
                            "<tr><td>Okara</td><td>1</td></tr>",
                            "<tr><td>Cabuyao</td><td>1</td></tr>",
                            "<tr><td>Vila Velha</td><td>1</td></tr>",
                            "<tr><td>Purnea (Purnia)</td><td>1</td></tr>",
                            "<tr><td>Halle/Saale</td><td>1</td></tr>",
                            "<tr><td>Luzinia</td><td>1</td></tr>",
                            "<tr><td>Mandaluyong</td><td>1</td></tr>",
                            "<tr><td>Celaya</td><td>1</td></tr>",
                            "<tr><td>Fuzhou</td><td>1</td></tr>",
                            "<tr><td>Ivanovo</td><td>1</td></tr>",
                            "<tr><td>Fengshan</td><td>1</td></tr>",
                            "<tr><td>Manchester</td><td>1</td></tr>",
                            "<tr><td>Ezhou</td><td>1</td></tr>",
                            "<tr><td>Brockton</td><td>1</td></tr>",
                            "<tr><td>Tartu</td><td>1</td></tr>",
                            "<tr><td>Kamarhati</td><td>1</td></tr>",
                            "<tr><td>Udine</td><td>1</td></tr>",
                            "<tr><td>Chatsworth</td><td>1</td></tr>",
                            "<tr><td>Sunnyvale</td><td>1</td></tr>",
                            "<tr><td>Mogiljov</td><td>1</td></tr>",
                            "<tr><td>Kermanshah</td><td>1</td></tr>",
                            "<tr><td>Nha Trang</td><td>1</td></tr>",
                            "<tr><td>Korolev</td><td>1</td></tr>",
                            "<tr><td>Jos Azueta</td><td>1</td></tr>",
                            "<tr><td>Allende</td><td>1</td></tr>",
                            "<tr><td>Papeete</td><td>1</td></tr>",
                            "<tr><td>Goinia</td><td>1</td></tr>",
                            "<tr><td>Kamakura</td><td>1</td></tr>",
                            "<tr><td>Daxian</td><td>1</td></tr>",
                            "<tr><td>Sambhal</td><td>1</td></tr>",
                            "<tr><td>Akron</td><td>1</td></tr>",
                            "<tr><td>Kamyin</td><td>1</td></tr>",
                            "<tr><td>Jining</td><td>1</td></tr>",
                            "<tr><td>Banjul</td><td>1</td></tr>",
                            "<tr><td>Lengshuijiang</td><td>1</td></tr>",
                            "<tr><td>Pak Kret</td><td>1</td></tr>",
                            "<tr><td>Ciudad del Este</td><td>1</td></tr>",
                            "<tr><td>Valle de Santiago</td><td>1</td></tr>",
                            "<tr><td>Crdoba</td><td>1</td></tr>",
                            "<tr><td>Haldia</td><td>1</td></tr>",
                            "<tr><td>Acua</td><td>1</td></tr>",
                            "<tr><td>Ambattur</td><td>1</td></tr>",
                            "<tr><td>Baicheng</td><td>1</td></tr>",
                            "<tr><td>Binzhou</td><td>1</td></tr>",
                            "<tr><td>Qomsheh</td><td>1</td></tr>",
                            "<tr><td>Gulbarga</td><td>1</td></tr>",
                            "<tr><td>Kanazawa</td><td>1</td></tr>",
                            "<tr><td>Jurez</td><td>1</td></tr>",
                            "<tr><td>Chandrapur</td><td>1</td></tr>",
                            "<tr><td>Shanwei</td><td>1</td></tr>",
                            "<tr><td>Braslia</td><td>1</td></tr>",
                            "<tr><td>Sawhaj</td><td>1</td></tr>",
                            "<tr><td>Sucre</td><td>1</td></tr>",
                            "<tr><td>Huejutla de Reyes</td><td>1</td></tr>",
                            "<tr><td>Cuman</td><td>1</td></tr>",
                            "<tr><td>Mardan</td><td>1</td></tr>",
                            "<tr><td>Koriyama</td><td>1</td></tr>",
                            "<tr><td>Cape Coral</td><td>1</td></tr>",
                            "<tr><td>Czestochowa</td><td>1</td></tr>",
                            "<tr><td>Kitwe</td><td>1</td></tr>",
                            "<tr><td>Sungai Petani</td><td>1</td></tr>",
                            "<tr><td>Chungho</td><td>1</td></tr>",
                            "<tr><td>Monclova</td><td>1</td></tr>",
                            "<tr><td>A Corua (La Corua)</td><td>1</td></tr>",
                            "<tr><td>Anpolis</td><td>1</td></tr>",
                            "<tr><td>Otsu</td><td>1</td></tr>",
                            "<tr><td>Citrus Heights</td><td>1</td></tr>",
                            "<tr><td>Daugavpils</td><td>1</td></tr>",
                            "<tr><td>Junan</td><td>1</td></tr>",
                            "<tr><td>Jaffna</td><td>1</td></tr>",
                            "<tr><td>Sorocaba</td><td>1</td></tr>",
                            "<tr><td>Santiago de los Caballeros</td><td>1</td></tr>",
                            "<tr><td>Liaocheng</td><td>1</td></tr>",
                            "<tr><td>Ktahya</td><td>1</td></tr>",
                            "<tr><td>Fuyu</td><td>1</td></tr>",
                            "<tr><td>Hohhot</td><td>1</td></tr>",
                            "<tr><td>Paarl</td><td>1</td></tr>",
                            "<tr><td>Zeleznogorsk</td><td>1</td></tr>",
                            "<tr><td>Aden</td><td>1</td></tr>",
                            "<tr><td>Donostia-San Sebastin</td><td>1</td></tr>",
                            "<tr><td>Vaduz</td><td>1</td></tr>",
                            "<tr><td>Shimoga</td><td>1</td></tr>",
                            "<tr><td>Emeishan</td><td>1</td></tr>",
                            "<tr><td>Tarsus</td><td>1</td></tr>",
                            "<tr><td>Aparecida de Goinia</td><td>1</td></tr>",
                            "<tr><td>Zalantun</td><td>1</td></tr>",
                            "<tr><td>Mandi Bahauddin</td><td>1</td></tr>",
                            "<tr><td>Rio Claro</td><td>1</td></tr>",
                            "<tr><td>Plock</td><td>1</td></tr>",
                            "<tr><td>Zhoushan</td><td>1</td></tr>",
                            "<tr><td>Santa F</td><td>1</td></tr>",
                            "<tr><td>Denizli</td><td>1</td></tr>",
                            "<tr><td>Stockport</td><td>1</td></tr>",
                            "<tr><td>Cavite</td><td>1</td></tr>",
                            "<tr><td>Konotop</td><td>1</td></tr>",
                            "<tr><td>Batman</td><td>1</td></tr>",
                            "<tr><td>Po</td><td>1</td></tr>",
                            "<tr><td>Szkesfehrvr</td><td>1</td></tr>",
                            "<tr><td>Bhopal</td><td>1</td></tr>",
                            "<tr><td>Siegen</td><td>1</td></tr>",
                            "<tr><td>Alessandria</td><td>1</td></tr>",
                            "<tr><td>So Leopoldo</td><td>1</td></tr>",
                            "<tr><td>Adana</td><td>1</td></tr>",
                            "<tr><td>Wroclaw</td><td>1</td></tr>",
                            "<tr><td>Hagonoy</td><td>1</td></tr>",
                            "<tr><td>Guadalajara</td><td>1</td></tr>",
                            "<tr><td>Kragujevac</td><td>1</td></tr>",
                            "<tr><td>Valle de la Pascua</td><td>1</td></tr>",
                            "<tr><td>El Fuerte</td><td>1</td></tr>",
                            "<tr><td>Iligan</td><td>1</td></tr>",
                            "<tr><td>Avellaneda</td><td>1</td></tr>",
                            "<tr><td>Novi Sad</td><td>1</td></tr>",
                            "<tr><td>Cam Ranh</td><td>1</td></tr>",
                            "<tr><td>Gandhinagar</td><td>1</td></tr>",
                            "<tr><td>Yaound</td><td>1</td></tr>",
                            "<tr><td>Naju</td><td>1</td></tr>",
                            "<tr><td>Malm</td><td>1</td></tr>",
                            "<tr><td>Kamjanets-Podilskyi</td><td>1</td></tr>",
                            "<tr><td>Valparai</td><td>1</td></tr>",
                            "<tr><td>Richmond Hill</td><td>1</td></tr>",
                            "<tr><td>Tallahassee</td><td>1</td></tr>",
                            "<tr><td>Mit Ghamr</td><td>1</td></tr>",
                            "<tr><td>Garland</td><td>1</td></tr>",
                            "<tr><td>Clarksville</td><td>1</td></tr>",
                            "<tr><td>Nanyang</td><td>1</td></tr>",
                            "<tr><td>Kimchon</td><td>1</td></tr>",
                            "<tr><td>Stara Zagora</td><td>1</td></tr>",
                            "<tr><td>Urawa</td><td>1</td></tr>",
                            "<tr><td>al-Manama</td><td>1</td></tr>",
                            "<tr><td>Teboksary</td><td>1</td></tr>",
                            "<tr><td>Pjatigorsk</td><td>1</td></tr>",
                            "<tr><td>Nabereznyje Telny</td><td>1</td></tr>",
                            "<tr><td>Pune</td><td>1</td></tr>",
                            "<tr><td>Matsue</td><td>1</td></tr>",
                            "<tr><td>Funafuti</td><td>1</td></tr>",
                            "<tr><td>Southend-on-Sea</td><td>1</td></tr>",
                            "<tr><td>Trshavn</td><td>1</td></tr>",
                            "<tr><td>San Juan Bautista Tuxtepec</td><td>1</td></tr>",
                            "<tr><td>Balurghat</td><td>1</td></tr>",
                            "<tr><td>Naala-Porto</td><td>1</td></tr>",
                            "<tr><td>Fontana</td><td>1</td></tr>",
                            "<tr><td>Tsuyama</td><td>1</td></tr>",
                            "<tr><td>Olomouc</td><td>1</td></tr>",
                            "<tr><td>Jelets</td><td>1</td></tr>",
                            "<tr><td>Vancouver</td><td>1</td></tr>",
                            "<tr><td>Datong</td><td>1</td></tr>",
                            "<tr><td>Atinsk</td><td>1</td></tr>",
                            "<tr><td>Mosul</td><td>1</td></tr>",
                            "<tr><td>Rancagua</td><td>1</td></tr>",
                            "<tr><td>Shivapuri</td><td>1</td></tr>",
                            "<tr><td>Siliguri (Shiliguri)</td><td>1</td></tr>",
                            "<tr><td>Saarbrcken</td><td>1</td></tr>",
                            "<tr><td>Nantou</td><td>1</td></tr>",
                            "<tr><td>Tandil</td><td>1</td></tr>",
                            "<tr><td>Jodhpur</td><td>1</td></tr>",
                            "<tr><td>Laredo</td><td>1</td></tr>",
                            "<tr><td>Jaipur</td><td>1</td></tr>",
                            "<tr><td>Santa Rosa</td><td>1</td></tr>",
                            "<tr><td>Botosani</td><td>1</td></tr>",
                            "<tr><td>Haining</td><td>1</td></tr>",
                            "<tr><td>Amersfoort</td><td>1</td></tr>",
                            "<tr><td>Dhule (Dhulia)</td><td>1</td></tr>",
                            "<tr><td>Memphis</td><td>1</td></tr>",
                            "<tr><td>Saint Louis</td><td>1</td></tr>",
                            "<tr><td>Dallas</td><td>1</td></tr>",
                            "<tr><td>Kurgan</td><td>1</td></tr>",
                            "<tr><td>Witten</td><td>1</td></tr>",
                            "<tr><td>Livorno</td><td>1</td></tr>",
                            "<tr><td>Kursk</td><td>1</td></tr>",
                            "<tr><td>Uluberia</td><td>1</td></tr>",
                            "<tr><td>Vijayawada</td><td>1</td></tr>",
                            "<tr><td>Tongliao</td><td>1</td></tr>",
                            "<tr><td>Kuching</td><td>1</td></tr>",
                            "<tr><td>Newcastle</td><td>1</td></tr>",
                            "<tr><td>Uruapan</td><td>1</td></tr>",
                            "<tr><td>Santo Andr</td><td>1</td></tr>",
                            "<tr><td>Cianjur</td><td>1</td></tr>",
                            "<tr><td>Simferopol</td><td>1</td></tr>",
                            "<tr><td>Iwakuni</td><td>1</td></tr>",
                            "<tr><td>Cuautla</td><td>1</td></tr>",
                            "<tr><td>Rustenburg</td><td>1</td></tr>",
                            "<tr><td>Patras</td><td>1</td></tr>",
                            "<tr><td>Izumisano</td><td>1</td></tr>",
                            "<tr><td>Barcelona</td><td>1</td></tr>",
                            "<tr><td>Xinxiang</td><td>1</td></tr>",
                            "<tr><td>Suihua</td><td>1</td></tr>",
                            "<tr><td>Nakhon Sawan</td><td>1</td></tr>",
                            "<tr><td>Jakarta</td><td>1</td></tr>",
                            "<tr><td>Sullana</td><td>1</td></tr>",
                            "<tr><td>Ranchi</td><td>1</td></tr>",
                            "<tr><td>Monywa</td><td>1</td></tr>",
                            "<tr><td>Santiago de Compostela</td><td>1</td></tr>",
                            "<tr><td>Klerksdorp</td><td>1</td></tr>",
                            "<tr><td>Shikarpur</td><td>1</td></tr>",
                            "<tr><td>Shimonoseki</td><td>1</td></tr>",
                            "<tr><td>Varanasi (Benares)</td><td>1</td></tr>",
                            "<tr><td>Zanzibar</td><td>1</td></tr>",
                            "<tr><td>Sumqayit</td><td>1</td></tr>",
                            "<tr><td>Gaziantep</td><td>1</td></tr>",
                            "<tr><td>Sumy</td><td>1</td></tr>",
                            "<tr><td>Ashqelon</td><td>1</td></tr>",
                            "<tr><td>Halifax</td><td>1</td></tr>",
                            "<tr><td>Graz</td><td>1</td></tr>",
                            "<tr><td>Pudukkottai</td><td>1</td></tr>",
                            "<tr><td>Nam Dinh</td><td>1</td></tr>",
                            "<tr><td>Bat Yam</td><td>1</td></tr>",
                            "<tr><td>Valencia</td><td>1</td></tr>",
                            "<tr><td>Brindisi</td><td>1</td></tr>",
                            "<tr><td>Zaria</td><td>1</td></tr>",
                            "<tr><td>Lausanne</td><td>1</td></tr>",
                            "<tr><td>Sanya</td><td>1</td></tr>",
                            "<tr><td>Coatzacoalcos</td><td>1</td></tr>",
                            "<tr><td>Probolinggo</td><td>1</td></tr>",
                            "<tr><td>Elista</td><td>1</td></tr>",
                            "<tr><td>Kabul</td><td>1</td></tr>",
                            "<tr><td>Dos Quebradas</td><td>1</td></tr>",
                            "<tr><td>Tanshui</td><td>1</td></tr>",
                            "<tr><td>Vilnius</td><td>1</td></tr>",
                            "<tr><td>Hino</td><td>1</td></tr>",
                            "<tr><td>Juazeiro do Norte</td><td>1</td></tr>",
                            "<tr><td>Duisburg</td><td>1</td></tr>",
                            "<tr><td>Effon-Alaiye</td><td>1</td></tr>",
                            "<tr><td>Dzerzinsk</td><td>1</td></tr>",
                            "<tr><td>Sirjan</td><td>1</td></tr>",
                            "<tr><td>Okinawa</td><td>1</td></tr>",
                            "<tr><td>Maring</td><td>1</td></tr>",
                            "<tr><td>Guaruj</td><td>1</td></tr>",
                            "<tr><td>Xiangfan</td><td>1</td></tr>",
                            "<tr><td>Linz</td><td>1</td></tr>",
                            "<tr><td>Sokoto</td><td>1</td></tr>",
                            "<tr><td>Hubli-Dharwad</td><td>1</td></tr>",
                            "<tr><td>Kisumu</td><td>1</td></tr>",
                            "<tr><td>Ikerre</td><td>1</td></tr>",
                            "<tr><td>Rockford</td><td>1</td></tr>",
                            "<tr><td>Akishima</td><td>1</td></tr>",
                            "<tr><td>Qinhuangdao</td><td>1</td></tr>",
                            "<tr><td>Palghat (Palakkad)</td><td>1</td></tr>",
                            "<tr><td>Vinh</td><td>1</td></tr>",
                            "<tr><td>Addis Abeba</td><td>1</td></tr>",
                            "<tr><td>Miraj</td><td>1</td></tr>",
                            "<tr><td>Mahajanga</td><td>1</td></tr>",
                            "<tr><td>Rajkot</td><td>1</td></tr>",
                            "<tr><td>Yuzhou</td><td>1</td></tr>",
                            "<tr><td>Kirovo-Tepetsk</td><td>1</td></tr>",
                            "<tr><td>Mysore</td><td>1</td></tr>",
                            "<tr><td>Emmen</td><td>1</td></tr>",
                            "<tr><td>Bergamo</td><td>1</td></tr>",
                            "<tr><td>Kaliningrad</td><td>1</td></tr>",
                            "<tr><td>Tambaram</td><td>1</td></tr>",
                            "<tr><td>Mannheim</td><td>1</td></tr>",
                            "<tr><td>Masqat</td><td>1</td></tr>",
                            "<tr><td>Erlangen</td><td>1</td></tr>",
                            "<tr><td>Torren</td><td>1</td></tr>",
                            "<tr><td>Balaiha</td><td>1</td></tr>",
                            "<tr><td>Callao</td><td>1</td></tr>",
                            "<tr><td>Kolpino</td><td>1</td></tr>",
                            "<tr><td>Basel</td><td>1</td></tr>",
                            "<tr><td>Nukualofa</td><td>1</td></tr>",
                            "<tr><td>Escobar</td><td>1</td></tr>",
                            "<tr><td>Salala</td><td>1</td></tr>",
                            "<tr><td>Tanauan</td><td>1</td></tr>",
                            "<tr><td>Higashiosaka</td><td>1</td></tr>",
                            "<tr><td>Ciparay</td><td>1</td></tr>",
                            "<tr><td>Syktyvkar</td><td>1</td></tr>",
                            "<tr><td>ostka</td><td>1</td></tr>",
                            "<tr><td>Kakamigahara</td><td>1</td></tr>",
                            "<tr><td>Patiala</td><td>1</td></tr>",
                            "<tr><td>Sivas</td><td>1</td></tr>",
                            "<tr><td>Pangkal Pinang</td><td>1</td></tr>",
                            "<tr><td>La Romana</td><td>1</td></tr>",
                            "<tr><td>Firozabad</td><td>1</td></tr>",
                            "<tr><td>Hami</td><td>1</td></tr>",
                            "<tr><td>Ziguinchor</td><td>1</td></tr>",
                            "<tr><td>Brest</td><td>1</td></tr>",
                            "<tr><td>San Miguel de Tucumn</td><td>1</td></tr>",
                            "<tr><td>Yerevan</td><td>1</td></tr>",
                            "<tr><td>Okayama</td><td>1</td></tr>",
                            "<tr><td>Nyeri</td><td>1</td></tr>",
                            "<tr><td>Buenaventura</td><td>1</td></tr>",
                            "<tr><td>Lapu-Lapu</td><td>1</td></tr>",
                            "<tr><td>Fukuyama</td><td>1</td></tr>",
                            "<tr><td>Matamoros</td><td>1</td></tr>",
                            "<tr><td>Tanza</td><td>1</td></tr>",
                            "<tr><td>Birgunj</td><td>1</td></tr>",
                            "<tr><td>Hidalgo</td><td>1</td></tr>",
                            "<tr><td>Mwene-Ditu</td><td>1</td></tr>",
                            "<tr><td>Coacalco de Berriozbal</td><td>1</td></tr>",
                            "<tr><td>Mexicali</td><td>1</td></tr>",
                            "<tr><td>Parbhani</td><td>1</td></tr>",
                            "<tr><td>Jedda</td><td>1</td></tr>",
                            "<tr><td>Blumenau</td><td>1</td></tr>",
                            "<tr><td>al-Qatif</td><td>1</td></tr>",
                            "<tr><td>Baha Blanca</td><td>1</td></tr>",
                            "<tr><td>Myingyan</td><td>1</td></tr>",
                            "<tr><td>Loja</td><td>1</td></tr>",
                            "<tr><td>Bag</td><td>1</td></tr>",
                            "<tr><td>Purwakarta</td><td>1</td></tr>",
                            "<tr><td>Tabriz</td><td>1</td></tr>",
                            "<tr><td>Faaa</td><td>1</td></tr>",
                            "<tr><td>Liepaja</td><td>1</td></tr>",
                            "<tr><td>Yuncheng</td><td>1</td></tr>",
                            "<tr><td>Soshanguve</td><td>1</td></tr>",
                            "<tr><td>Coquimbo</td><td>1</td></tr>",
                            "<tr><td>Tianjin</td><td>1</td></tr>",
                            "<tr><td>Lancaster</td><td>1</td></tr>",
                            "<tr><td>Kimberley</td><td>1</td></tr>",
                            "<tr><td>Rizhao</td><td>1</td></tr>",
                            "<tr><td>Kumbakonam</td><td>1</td></tr>",
                            "<tr><td>Kuwana</td><td>1</td></tr>",
                            "<tr><td>Arak</td><td>1</td></tr>",
                            "<tr><td>Talavera</td><td>1</td></tr>",
                            "<tr><td>Novoterkassk</td><td>1</td></tr>",
                            "<tr><td>Dundee</td><td>1</td></tr>",
                            "<tr><td>Ruse</td><td>1</td></tr>",
                            "<tr><td>Kansas City</td><td>1</td></tr>",
                            "<tr><td>Southampton</td><td>1</td></tr>",
                            "<tr><td>Ashgabat</td><td>1</td></tr>",
                            "<tr><td>Nagareyama</td><td>1</td></tr>",
                            "<tr><td>Le Mans</td><td>1</td></tr>",
                            "<tr><td>Niznekamsk</td><td>1</td></tr>",
                            "<tr><td>Kalisz</td><td>1</td></tr>",
                            "<tr><td>Lima</td><td>1</td></tr>",
                            "<tr><td>Bhimavaram</td><td>1</td></tr>",
                            "<tr><td>Pavlodar</td><td>1</td></tr>",
                            "<tr><td>Lipetsk</td><td>1</td></tr>",
                            "<tr><td>Baybay</td><td>1</td></tr>",
                            "<tr><td>Hsichuh</td><td>1</td></tr>",
                            "<tr><td>Jaroslavl</td><td>1</td></tr>",
                            "<tr><td>La Plata</td><td>1</td></tr>",
                            "<tr><td>Laohekou</td><td>1</td></tr>",
                            "<tr><td>Xiangtan</td><td>1</td></tr>",
                            "<tr><td>Joliet</td><td>1</td></tr>",
                            "<tr><td>Shubra al-Khayma</td><td>1</td></tr>",
                            "<tr><td>Onomichi</td><td>1</td></tr>",
                            "<tr><td>Ife</td><td>1</td></tr>",
                            "<tr><td>Charlotte Amalie</td><td>1</td></tr>",
                            "<tr><td>Nagaon</td><td>1</td></tr>",
                            "<tr><td>Kingstown</td><td>1</td></tr>",
                            "<tr><td>Munger (Monghyr)</td><td>1</td></tr>",
                            "<tr><td>Phnom Penh</td><td>1</td></tr>",
                            "<tr><td>El Alto</td><td>1</td></tr>",
                            "<tr><td>Ciomas</td><td>1</td></tr>",
                            "<tr><td>Yangor</td><td>1</td></tr>",
                            "<tr><td>Pachuca de Soto</td><td>1</td></tr>",
                            "<tr><td>Nuuk</td><td>1</td></tr>",
                            "<tr><td>Esfahan</td><td>1</td></tr>",
                            "<tr><td>Sterling Heights</td><td>1</td></tr>",
                            "<tr><td>Beni-Mellal</td><td>1</td></tr>",
                            "<tr><td>Hoshiarpur</td><td>1</td></tr>",
                            "<tr><td>Bellevue</td><td>1</td></tr>",
                            "<tr><td>Huaian</td><td>1</td></tr>",
                            "<tr><td>Imus</td><td>1</td></tr>",
                            "<tr><td>Warren</td><td>1</td></tr>",
                            "<tr><td>Pingxiang</td><td>1</td></tr>",
                            "<tr><td>Greensboro</td><td>1</td></tr>",
                            "<tr><td>Ocumare del Tuy</td><td>1</td></tr>",
                            "<tr><td>Southport</td><td>1</td></tr>",
                            "<tr><td>Pemalang</td><td>1</td></tr>",
                            "<tr><td>Taguig</td><td>1</td></tr>",
                            "</table>"
                        ]
                    }
                }
            ],
            "execution_count": 1
        },
        {
            "cell_type": "markdown",
            "source": [
                "## Calculate total sales for each film category."
            ],
            "metadata": {
                "azdata_cell_guid": "c67f31f3-c2d8-4997-89e9-bb136e17e301"
            },
            "attachments": {}
        },
        {
            "cell_type": "code",
            "source": [
                "SELECT \r\n",
                "    c.name AS category_name,\r\n",
                "    SUM(p.amount) AS total_sales\r\n",
                "FROM \r\n",
                "    payment p\r\n",
                "    INNER JOIN rental r ON p.rental_id = r.rental_id\r\n",
                "    INNER JOIN inventory i ON r.inventory_id = i.inventory_id\r\n",
                "    INNER JOIN film f ON i.film_id = f.film_id\r\n",
                "    INNER JOIN film_category fc ON f.film_id = fc.film_id\r\n",
                "    INNER JOIN category c ON fc.category_id = c.category_id\r\n",
                "GROUP BY \r\n",
                "    c.name\r\n",
                "ORDER BY \r\n",
                "    total_sales DESC;"
            ],
            "metadata": {
                "azdata_cell_guid": "c33249ea-47ad-4c9a-b445-2434ff84c554",
                "language": "sql"
            },
            "outputs": [
                {
                    "output_type": "display_data",
                    "data": {
                        "text/html": "(16 row(s) affected)"
                    },
                    "metadata": {}
                },
                {
                    "output_type": "display_data",
                    "data": {
                        "text/html": "Total execution time: 00:00:00.171"
                    },
                    "metadata": {}
                },
                {
                    "output_type": "execute_result",
                    "metadata": {},
                    "execution_count": 2,
                    "data": {
                        "application/vnd.dataresource+json": {
                            "schema": {
                                "fields": [
                                    {
                                        "name": "category_name"
                                    },
                                    {
                                        "name": "total_sales"
                                    }
                                ]
                            },
                            "data": [
                                {
                                    "category_name": "Sports",
                                    "total_sales": "4892.19"
                                },
                                {
                                    "category_name": "Sci-Fi",
                                    "total_sales": "4336.01"
                                },
                                {
                                    "category_name": "Animation",
                                    "total_sales": "4245.31"
                                },
                                {
                                    "category_name": "Drama",
                                    "total_sales": "4118.46"
                                },
                                {
                                    "category_name": "Comedy",
                                    "total_sales": "4002.48"
                                },
                                {
                                    "category_name": "New",
                                    "total_sales": "3966.38"
                                },
                                {
                                    "category_name": "Action",
                                    "total_sales": "3951.84"
                                },
                                {
                                    "category_name": "Foreign",
                                    "total_sales": "3934.47"
                                },
                                {
                                    "category_name": "Games",
                                    "total_sales": "3922.18"
                                },
                                {
                                    "category_name": "Family",
                                    "total_sales": "3830.15"
                                },
                                {
                                    "category_name": "Documentary",
                                    "total_sales": "3749.65"
                                },
                                {
                                    "category_name": "Horror",
                                    "total_sales": "3401.27"
                                },
                                {
                                    "category_name": "Classics",
                                    "total_sales": "3353.38"
                                },
                                {
                                    "category_name": "Children",
                                    "total_sales": "3309.39"
                                },
                                {
                                    "category_name": "Travel",
                                    "total_sales": "3227.36"
                                },
                                {
                                    "category_name": "Music",
                                    "total_sales": "3071.52"
                                }
                            ]
                        },
                        "text/html": [
                            "<table>",
                            "<tr><th>category_name</th><th>total_sales</th></tr>",
                            "<tr><td>Sports</td><td>4892.19</td></tr>",
                            "<tr><td>Sci-Fi</td><td>4336.01</td></tr>",
                            "<tr><td>Animation</td><td>4245.31</td></tr>",
                            "<tr><td>Drama</td><td>4118.46</td></tr>",
                            "<tr><td>Comedy</td><td>4002.48</td></tr>",
                            "<tr><td>New</td><td>3966.38</td></tr>",
                            "<tr><td>Action</td><td>3951.84</td></tr>",
                            "<tr><td>Foreign</td><td>3934.47</td></tr>",
                            "<tr><td>Games</td><td>3922.18</td></tr>",
                            "<tr><td>Family</td><td>3830.15</td></tr>",
                            "<tr><td>Documentary</td><td>3749.65</td></tr>",
                            "<tr><td>Horror</td><td>3401.27</td></tr>",
                            "<tr><td>Classics</td><td>3353.38</td></tr>",
                            "<tr><td>Children</td><td>3309.39</td></tr>",
                            "<tr><td>Travel</td><td>3227.36</td></tr>",
                            "<tr><td>Music</td><td>3071.52</td></tr>",
                            "</table>"
                        ]
                    }
                }
            ],
            "execution_count": 2
        },
        {
            "cell_type": "markdown",
            "source": [
                "## Find the top 3 rental stores by total revenue."
            ],
            "metadata": {
                "azdata_cell_guid": "0cae6596-8f38-42fe-8376-343d5791d3e6"
            },
            "attachments": {}
        },
        {
            "cell_type": "code",
            "source": [
                "SELECT \r\n",
                "    s.store_id,\r\n",
                "    SUM(p.amount) AS total_revenue\r\n",
                "FROM \r\n",
                "    payment p\r\n",
                "    INNER JOIN rental r ON p.rental_id = r.rental_id\r\n",
                "    INNER JOIN customer c ON r.customer_id = c.customer_id\r\n",
                "    INNER JOIN store s ON c.store_id = s.store_id\r\n",
                "GROUP BY \r\n",
                "    s.store_id\r\n",
                "ORDER BY \r\n",
                "    total_revenue DESC\r\n",
                "LIMIT 3;"
            ],
            "metadata": {
                "azdata_cell_guid": "d7ce0f65-d15d-4340-b2b8-18f5733a080c",
                "language": "sql"
            },
            "outputs": [
                {
                    "output_type": "display_data",
                    "data": {
                        "text/html": "(2 row(s) affected)"
                    },
                    "metadata": {}
                },
                {
                    "output_type": "display_data",
                    "data": {
                        "text/html": "Total execution time: 00:00:00.086"
                    },
                    "metadata": {}
                },
                {
                    "output_type": "execute_result",
                    "metadata": {},
                    "execution_count": 3,
                    "data": {
                        "application/vnd.dataresource+json": {
                            "schema": {
                                "fields": [
                                    {
                                        "name": "store_id"
                                    },
                                    {
                                        "name": "total_revenue"
                                    }
                                ]
                            },
                            "data": [
                                {
                                    "store_id": "1",
                                    "total_revenue": "33626.39"
                                },
                                {
                                    "store_id": "2",
                                    "total_revenue": "27685.65"
                                }
                            ]
                        },
                        "text/html": [
                            "<table>",
                            "<tr><th>store_id</th><th>total_revenue</th></tr>",
                            "<tr><td>1</td><td>33626.39</td></tr>",
                            "<tr><td>2</td><td>27685.65</td></tr>",
                            "</table>"
                        ]
                    }
                }
            ],
            "execution_count": 3
        }
    ]
}